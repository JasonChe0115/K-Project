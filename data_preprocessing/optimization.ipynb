{
  "nbformat": 4,
  "nbformat_minor": 0,
  "metadata": {
    "colab": {
      "name": "GDC1.ipynb",
      "provenance": [],
      "collapsed_sections": [],
      "include_colab_link": true
    },
    "kernelspec": {
      "name": "python3",
      "display_name": "Python 3"
    },
    "language_info": {
      "name": "python"
    }
  },
  "cells": [
    {
      "cell_type": "markdown",
      "metadata": {
        "id": "view-in-github",
        "colab_type": "text"
      },
      "source": [
        "<a href=\"https://colab.research.google.com/github/baeksumin/k-project/blob/main/data_preprocessing/optimization.ipynb\" target=\"_parent\"><img src=\"https://colab.research.google.com/assets/colab-badge.svg\" alt=\"Open In Colab\"/></a>"
      ]
    },
    {
      "cell_type": "markdown",
      "metadata": {
        "id": "MH5K1tR1KXm5"
      },
      "source": [
        "# GDC(Golden Dead Cross)"
      ]
    },
    {
      "cell_type": "code",
      "metadata": {
        "colab": {
          "base_uri": "https://localhost:8080/"
        },
        "id": "AwRgIzP5NoiZ",
        "outputId": "974b222d-1e47-4d5c-e30c-5a7abe520a49"
      },
      "source": [
        "!pip install backtrader"
      ],
      "execution_count": null,
      "outputs": [
        {
          "output_type": "stream",
          "name": "stdout",
          "text": [
            "Collecting backtrader\n",
            "  Downloading backtrader-1.9.76.123-py2.py3-none-any.whl (410 kB)\n",
            "\u001b[?25l\r\u001b[K     |▉                               | 10 kB 24.4 MB/s eta 0:00:01\r\u001b[K     |█▋                              | 20 kB 25.6 MB/s eta 0:00:01\r\u001b[K     |██▍                             | 30 kB 28.5 MB/s eta 0:00:01\r\u001b[K     |███▏                            | 40 kB 31.6 MB/s eta 0:00:01\r\u001b[K     |████                            | 51 kB 33.5 MB/s eta 0:00:01\r\u001b[K     |████▉                           | 61 kB 35.1 MB/s eta 0:00:01\r\u001b[K     |█████▋                          | 71 kB 36.9 MB/s eta 0:00:01\r\u001b[K     |██████▍                         | 81 kB 36.7 MB/s eta 0:00:01\r\u001b[K     |███████▏                        | 92 kB 38.4 MB/s eta 0:00:01\r\u001b[K     |████████                        | 102 kB 37.2 MB/s eta 0:00:01\r\u001b[K     |████████▉                       | 112 kB 37.2 MB/s eta 0:00:01\r\u001b[K     |█████████▋                      | 122 kB 37.2 MB/s eta 0:00:01\r\u001b[K     |██████████▍                     | 133 kB 37.2 MB/s eta 0:00:01\r\u001b[K     |███████████▏                    | 143 kB 37.2 MB/s eta 0:00:01\r\u001b[K     |████████████                    | 153 kB 37.2 MB/s eta 0:00:01\r\u001b[K     |████████████▉                   | 163 kB 37.2 MB/s eta 0:00:01\r\u001b[K     |█████████████▋                  | 174 kB 37.2 MB/s eta 0:00:01\r\u001b[K     |██████████████▍                 | 184 kB 37.2 MB/s eta 0:00:01\r\u001b[K     |███████████████▏                | 194 kB 37.2 MB/s eta 0:00:01\r\u001b[K     |████████████████                | 204 kB 37.2 MB/s eta 0:00:01\r\u001b[K     |████████████████▉               | 215 kB 37.2 MB/s eta 0:00:01\r\u001b[K     |█████████████████▋              | 225 kB 37.2 MB/s eta 0:00:01\r\u001b[K     |██████████████████▍             | 235 kB 37.2 MB/s eta 0:00:01\r\u001b[K     |███████████████████▏            | 245 kB 37.2 MB/s eta 0:00:01\r\u001b[K     |████████████████████            | 256 kB 37.2 MB/s eta 0:00:01\r\u001b[K     |████████████████████▊           | 266 kB 37.2 MB/s eta 0:00:01\r\u001b[K     |█████████████████████▋          | 276 kB 37.2 MB/s eta 0:00:01\r\u001b[K     |██████████████████████▍         | 286 kB 37.2 MB/s eta 0:00:01\r\u001b[K     |███████████████████████▏        | 296 kB 37.2 MB/s eta 0:00:01\r\u001b[K     |████████████████████████        | 307 kB 37.2 MB/s eta 0:00:01\r\u001b[K     |████████████████████████▊       | 317 kB 37.2 MB/s eta 0:00:01\r\u001b[K     |█████████████████████████▋      | 327 kB 37.2 MB/s eta 0:00:01\r\u001b[K     |██████████████████████████▍     | 337 kB 37.2 MB/s eta 0:00:01\r\u001b[K     |███████████████████████████▏    | 348 kB 37.2 MB/s eta 0:00:01\r\u001b[K     |████████████████████████████    | 358 kB 37.2 MB/s eta 0:00:01\r\u001b[K     |████████████████████████████▊   | 368 kB 37.2 MB/s eta 0:00:01\r\u001b[K     |█████████████████████████████▋  | 378 kB 37.2 MB/s eta 0:00:01\r\u001b[K     |██████████████████████████████▍ | 389 kB 37.2 MB/s eta 0:00:01\r\u001b[K     |███████████████████████████████▏| 399 kB 37.2 MB/s eta 0:00:01\r\u001b[K     |████████████████████████████████| 409 kB 37.2 MB/s eta 0:00:01\r\u001b[K     |████████████████████████████████| 410 kB 37.2 MB/s \n",
            "\u001b[?25hInstalling collected packages: backtrader\n",
            "Successfully installed backtrader-1.9.76.123\n"
          ]
        }
      ]
    },
    {
      "cell_type": "code",
      "metadata": {
        "colab": {
          "base_uri": "https://localhost:8080/"
        },
        "id": "3sXbV4Q8rrN4",
        "outputId": "76cbee18-b6a1-4e1c-b8d0-bcec0af4cbae"
      },
      "source": [
        "pip install finance-datareader"
      ],
      "execution_count": null,
      "outputs": [
        {
          "output_type": "stream",
          "name": "stdout",
          "text": [
            "Collecting finance-datareader\n",
            "  Downloading finance_datareader-0.9.31-py3-none-any.whl (17 kB)\n",
            "Requirement already satisfied: tqdm in /usr/local/lib/python3.7/dist-packages (from finance-datareader) (4.62.3)\n",
            "Collecting requests-file\n",
            "  Downloading requests_file-1.5.1-py2.py3-none-any.whl (3.7 kB)\n",
            "Requirement already satisfied: pandas>=0.19.2 in /usr/local/lib/python3.7/dist-packages (from finance-datareader) (1.1.5)\n",
            "Requirement already satisfied: lxml in /usr/local/lib/python3.7/dist-packages (from finance-datareader) (4.2.6)\n",
            "Requirement already satisfied: requests>=2.3.0 in /usr/local/lib/python3.7/dist-packages (from finance-datareader) (2.23.0)\n",
            "Requirement already satisfied: pytz>=2017.2 in /usr/local/lib/python3.7/dist-packages (from pandas>=0.19.2->finance-datareader) (2018.9)\n",
            "Requirement already satisfied: python-dateutil>=2.7.3 in /usr/local/lib/python3.7/dist-packages (from pandas>=0.19.2->finance-datareader) (2.8.2)\n",
            "Requirement already satisfied: numpy>=1.15.4 in /usr/local/lib/python3.7/dist-packages (from pandas>=0.19.2->finance-datareader) (1.19.5)\n",
            "Requirement already satisfied: six>=1.5 in /usr/local/lib/python3.7/dist-packages (from python-dateutil>=2.7.3->pandas>=0.19.2->finance-datareader) (1.15.0)\n",
            "Requirement already satisfied: chardet<4,>=3.0.2 in /usr/local/lib/python3.7/dist-packages (from requests>=2.3.0->finance-datareader) (3.0.4)\n",
            "Requirement already satisfied: idna<3,>=2.5 in /usr/local/lib/python3.7/dist-packages (from requests>=2.3.0->finance-datareader) (2.10)\n",
            "Requirement already satisfied: urllib3!=1.25.0,!=1.25.1,<1.26,>=1.21.1 in /usr/local/lib/python3.7/dist-packages (from requests>=2.3.0->finance-datareader) (1.24.3)\n",
            "Requirement already satisfied: certifi>=2017.4.17 in /usr/local/lib/python3.7/dist-packages (from requests>=2.3.0->finance-datareader) (2021.10.8)\n",
            "Installing collected packages: requests-file, finance-datareader\n",
            "Successfully installed finance-datareader-0.9.31 requests-file-1.5.1\n"
          ]
        }
      ]
    },
    {
      "cell_type": "code",
      "metadata": {
        "colab": {
          "base_uri": "https://localhost:8080/"
        },
        "id": "DJTXPc3Alj65",
        "outputId": "195e2fe3-ff18-4ba1-c473-e378aabd0a99"
      },
      "source": [
        "pip install backtesting"
      ],
      "execution_count": null,
      "outputs": [
        {
          "output_type": "stream",
          "name": "stdout",
          "text": [
            "Collecting backtesting\n",
            "  Downloading Backtesting-0.3.3.tar.gz (175 kB)\n",
            "\u001b[?25l\r\u001b[K     |█▉                              | 10 kB 23.5 MB/s eta 0:00:01\r\u001b[K     |███▊                            | 20 kB 26.9 MB/s eta 0:00:01\r\u001b[K     |█████▋                          | 30 kB 29.8 MB/s eta 0:00:01\r\u001b[K     |███████▌                        | 40 kB 31.8 MB/s eta 0:00:01\r\u001b[K     |█████████▍                      | 51 kB 33.6 MB/s eta 0:00:01\r\u001b[K     |███████████▏                    | 61 kB 36.3 MB/s eta 0:00:01\r\u001b[K     |█████████████                   | 71 kB 34.9 MB/s eta 0:00:01\r\u001b[K     |███████████████                 | 81 kB 35.9 MB/s eta 0:00:01\r\u001b[K     |████████████████▉               | 92 kB 36.6 MB/s eta 0:00:01\r\u001b[K     |██████████████████▊             | 102 kB 32.6 MB/s eta 0:00:01\r\u001b[K     |████████████████████▌           | 112 kB 32.6 MB/s eta 0:00:01\r\u001b[K     |██████████████████████▍         | 122 kB 32.6 MB/s eta 0:00:01\r\u001b[K     |████████████████████████▎       | 133 kB 32.6 MB/s eta 0:00:01\r\u001b[K     |██████████████████████████▏     | 143 kB 32.6 MB/s eta 0:00:01\r\u001b[K     |████████████████████████████    | 153 kB 32.6 MB/s eta 0:00:01\r\u001b[K     |█████████████████████████████▉  | 163 kB 32.6 MB/s eta 0:00:01\r\u001b[K     |███████████████████████████████▊| 174 kB 32.6 MB/s eta 0:00:01\r\u001b[K     |████████████████████████████████| 175 kB 32.6 MB/s \n",
            "\u001b[?25hRequirement already satisfied: numpy>=1.17.0 in /usr/local/lib/python3.7/dist-packages (from backtesting) (1.19.5)\n",
            "Requirement already satisfied: pandas!=0.25.0,>=0.25.0 in /usr/local/lib/python3.7/dist-packages (from backtesting) (1.1.5)\n",
            "Requirement already satisfied: bokeh>=1.4.0 in /usr/local/lib/python3.7/dist-packages (from backtesting) (2.3.3)\n",
            "Requirement already satisfied: tornado>=5.1 in /usr/local/lib/python3.7/dist-packages (from bokeh>=1.4.0->backtesting) (5.1.1)\n",
            "Requirement already satisfied: python-dateutil>=2.1 in /usr/local/lib/python3.7/dist-packages (from bokeh>=1.4.0->backtesting) (2.8.2)\n",
            "Requirement already satisfied: typing-extensions>=3.7.4 in /usr/local/lib/python3.7/dist-packages (from bokeh>=1.4.0->backtesting) (3.10.0.2)\n",
            "Requirement already satisfied: Jinja2>=2.9 in /usr/local/lib/python3.7/dist-packages (from bokeh>=1.4.0->backtesting) (2.11.3)\n",
            "Requirement already satisfied: PyYAML>=3.10 in /usr/local/lib/python3.7/dist-packages (from bokeh>=1.4.0->backtesting) (3.13)\n",
            "Requirement already satisfied: packaging>=16.8 in /usr/local/lib/python3.7/dist-packages (from bokeh>=1.4.0->backtesting) (21.3)\n",
            "Requirement already satisfied: pillow>=7.1.0 in /usr/local/lib/python3.7/dist-packages (from bokeh>=1.4.0->backtesting) (7.1.2)\n",
            "Requirement already satisfied: MarkupSafe>=0.23 in /usr/local/lib/python3.7/dist-packages (from Jinja2>=2.9->bokeh>=1.4.0->backtesting) (2.0.1)\n",
            "Requirement already satisfied: pyparsing!=3.0.5,>=2.0.2 in /usr/local/lib/python3.7/dist-packages (from packaging>=16.8->bokeh>=1.4.0->backtesting) (3.0.6)\n",
            "Requirement already satisfied: pytz>=2017.2 in /usr/local/lib/python3.7/dist-packages (from pandas!=0.25.0,>=0.25.0->backtesting) (2018.9)\n",
            "Requirement already satisfied: six>=1.5 in /usr/local/lib/python3.7/dist-packages (from python-dateutil>=2.1->bokeh>=1.4.0->backtesting) (1.15.0)\n",
            "Building wheels for collected packages: backtesting\n",
            "  Building wheel for backtesting (setup.py) ... \u001b[?25l\u001b[?25hdone\n",
            "  Created wheel for backtesting: filename=Backtesting-0.3.3-py3-none-any.whl size=173823 sha256=7709d918275fc337fadd830fe5cb13f868794dd550dcb11354494bdcdcb981be\n",
            "  Stored in directory: /root/.cache/pip/wheels/48/1d/ea/65dacebc37da7655d8a1fd0f315ac39d102e31d6545237a1c6\n",
            "Successfully built backtesting\n",
            "Installing collected packages: backtesting\n",
            "Successfully installed backtesting-0.3.3\n"
          ]
        }
      ]
    },
    {
      "cell_type": "code",
      "metadata": {
        "colab": {
          "base_uri": "https://localhost:8080/"
        },
        "id": "GKsaERNSJ2ey",
        "outputId": "8369c153-ff0e-43e9-a80a-746b92669fe5"
      },
      "source": [
        "pip install deap"
      ],
      "execution_count": null,
      "outputs": [
        {
          "output_type": "stream",
          "name": "stdout",
          "text": [
            "Collecting deap\n",
            "  Downloading deap-1.3.1-cp37-cp37m-manylinux_2_5_x86_64.manylinux1_x86_64.manylinux_2_12_x86_64.manylinux2010_x86_64.whl (160 kB)\n",
            "\u001b[?25l\r\u001b[K     |██                              | 10 kB 12.0 MB/s eta 0:00:01\r\u001b[K     |████                            | 20 kB 15.7 MB/s eta 0:00:01\r\u001b[K     |██████                          | 30 kB 20.0 MB/s eta 0:00:01\r\u001b[K     |████████▏                       | 40 kB 23.1 MB/s eta 0:00:01\r\u001b[K     |██████████▏                     | 51 kB 25.7 MB/s eta 0:00:01\r\u001b[K     |████████████▏                   | 61 kB 28.0 MB/s eta 0:00:01\r\u001b[K     |██████████████▎                 | 71 kB 24.2 MB/s eta 0:00:01\r\u001b[K     |████████████████▎               | 81 kB 23.5 MB/s eta 0:00:01\r\u001b[K     |██████████████████▎             | 92 kB 25.1 MB/s eta 0:00:01\r\u001b[K     |████████████████████▍           | 102 kB 25.7 MB/s eta 0:00:01\r\u001b[K     |██████████████████████▍         | 112 kB 25.7 MB/s eta 0:00:01\r\u001b[K     |████████████████████████▍       | 122 kB 25.7 MB/s eta 0:00:01\r\u001b[K     |██████████████████████████▌     | 133 kB 25.7 MB/s eta 0:00:01\r\u001b[K     |████████████████████████████▌   | 143 kB 25.7 MB/s eta 0:00:01\r\u001b[K     |██████████████████████████████▌ | 153 kB 25.7 MB/s eta 0:00:01\r\u001b[K     |████████████████████████████████| 160 kB 25.7 MB/s \n",
            "\u001b[?25hRequirement already satisfied: numpy in /usr/local/lib/python3.7/dist-packages (from deap) (1.19.5)\n",
            "Installing collected packages: deap\n",
            "Successfully installed deap-1.3.1\n"
          ]
        }
      ]
    },
    {
      "cell_type": "code",
      "source": [
        "#talib 설치\n",
        "!wget -q http://prdownloads.sourceforge.net/ta-lib/ta-lib-0.4.0-src.tar.gz 2>&1 > /dev/null\n",
        "!tar xvzf ta-lib-0.4.0-src.tar.gz 2>&1 > /dev/null\n",
        "\n",
        "import os\n",
        "\n",
        "os.chdir('ta-lib')  \n",
        "\n",
        "!./configure --prefix=/usr 2>&1 > /dev/null\n",
        "!make 2>&1 > /dev/null\n",
        "!make install 2>&1 > /dev/null\n",
        "\n",
        "os.chdir('../')\n",
        "\n",
        "!pip install TA-Lib 2>&1 > /dev/null"
      ],
      "metadata": {
        "colab": {
          "base_uri": "https://localhost:8080/"
        },
        "id": "h99VB0_fydhG",
        "outputId": "6c74d1d1-354f-4647-afee-cd3c1fb0ed0b"
      },
      "execution_count": null,
      "outputs": [
        {
          "output_type": "stream",
          "name": "stdout",
          "text": [
            "./configure: line 4354: /usr/bin/file: No such file or directory\n",
            "libtool: link: warning: `-version-info/-version-number' is ignored for convenience libraries\n",
            "ar: `u' modifier ignored since `D' is the default (see `U')\n",
            "libtool: link: warning: `-version-info/-version-number' is ignored for convenience libraries\n",
            "ar: `u' modifier ignored since `D' is the default (see `U')\n",
            "libtool: link: warning: `-version-info/-version-number' is ignored for convenience libraries\n",
            "ar: `u' modifier ignored since `D' is the default (see `U')\n",
            "libtool: link: warning: `-version-info/-version-number' is ignored for convenience libraries\n",
            "ar: `u' modifier ignored since `D' is the default (see `U')\n",
            "ar: `u' modifier ignored since `D' is the default (see `U')\n",
            "\u001b[01m\u001b[Kgen_code.c:\u001b[m\u001b[K In function ‘\u001b[01m\u001b[KprintFuncHeaderDoc\u001b[m\u001b[K’:\n",
            "\u001b[01m\u001b[Kgen_code.c:3456:4:\u001b[m\u001b[K \u001b[01;35m\u001b[Kwarning: \u001b[m\u001b[Kformat not a string literal and no format arguments [\u001b[01;35m\u001b[K-Wformat-security\u001b[m\u001b[K]\n",
            "    \u001b[01;35m\u001b[Kfprintf\u001b[m\u001b[K( out, prefix );\n",
            "    \u001b[01;35m\u001b[K^~~~~~~\u001b[m\u001b[K\n"
          ]
        }
      ]
    },
    {
      "cell_type": "code",
      "metadata": {
        "id": "hLPspbq2E05H",
        "colab": {
          "base_uri": "https://localhost:8080/"
        },
        "outputId": "a38c1cc1-7f62-4c29-9f5b-af0137971382"
      },
      "source": [
        "import re\n",
        "import json\n",
        "import talib\n",
        "import pickle\n",
        "import pandas as pd\n",
        "import matplotlib.pyplot as plt\n",
        "import numpy as np\n",
        "from datetime import datetime, date, timedelta\n",
        "from google.colab import drive\n",
        "import backtrader as bt\n",
        "from IPython.display import display, Image\n",
        "import backtrader.feeds as btfeeds\n",
        "from backtesting import Strategy\n",
        "from backtesting import Backtest\n",
        "from deap import base, creator, tools, algorithms\n",
        "import random\n",
        "import seaborn as sns\n",
        "from tqdm import trange\n",
        "import time\n",
        "\n",
        "pd.options.mode.chained_assignment = None  # default='warn'"
      ],
      "execution_count": null,
      "outputs": [
        {
          "output_type": "stream",
          "name": "stderr",
          "text": [
            "/usr/local/lib/python3.7/dist-packages/backtesting/_plotting.py:50: UserWarning: Jupyter Notebook detected. Setting Bokeh output to notebook. This may not work in Jupyter clients without JavaScript support (e.g. PyCharm, Spyder IDE). Reset with `backtesting.set_bokeh_output(notebook=False)`.\n",
            "  warnings.warn('Jupyter Notebook detected. '\n"
          ]
        }
      ]
    },
    {
      "cell_type": "code",
      "metadata": {
        "colab": {
          "base_uri": "https://localhost:8080/"
        },
        "id": "swbgtar7FN54",
        "outputId": "07b241b3-e938-45f2-8896-7d2515fc8e55"
      },
      "source": [
        "drive.mount('/content/drive')\n",
        "data_path = '/content/drive/MyDrive/[Shared]K-Project/data/'"
      ],
      "execution_count": null,
      "outputs": [
        {
          "output_type": "stream",
          "name": "stdout",
          "text": [
            "Mounted at /content/drive\n"
          ]
        }
      ]
    },
    {
      "cell_type": "code",
      "metadata": {
        "colab": {
          "base_uri": "https://localhost:8080/"
        },
        "id": "i_uIi9Dp256N",
        "outputId": "87f8af8e-8fb4-4259-948e-77fb279df31b"
      },
      "source": [
        "## Load pickle - fullcode 목록\n",
        "with open(data_path + 'full_code.pkl',\"rb\") as f: \n",
        "    fullcode = pickle.load(f)\n",
        "    \n",
        "# 상장폐지 상태 제외시키기\n",
        "fullcode_filter = fullcode[fullcode['status'] != '상장폐지']\n",
        "\n",
        "# fullcode열을 list로 변경\n",
        "fullcode_list = list(fullcode_filter['full_code'])\n",
        "fullcode_list0 = fullcode_list[:2]\n",
        "# fullcode_list0 = fullcode_list[260:520]\n",
        "# fullcode_list0 = fullcode_list[520:780]\n",
        "# fullcode_list0 = fullcode_list[780:1040]\n",
        "# fullcode_list0 = fullcode_list[1040:1300]\n",
        "# fullcode_list0 = fullcode_list[1300:1560]\n",
        "# fullcode_list0 = fullcode_list[1560:1820]\n",
        "# fullcode_list0 = fullcode_list[1820:2080]\n",
        "# fullcode_list0 = fullcode_list[2080:2340]\n",
        "# fullcode_list0 = fullcode_list[2340:]\n",
        "print(len(fullcode_list0))"
      ],
      "execution_count": null,
      "outputs": [
        {
          "output_type": "stream",
          "name": "stdout",
          "text": [
            "2\n"
          ]
        }
      ]
    },
    {
      "cell_type": "code",
      "metadata": {
        "id": "QstDkFwz0K8O"
      },
      "source": [
        "with open(data_path + 'initial_data1.json',\"r\") as json_file:\n",
        "    json_data = json.load(json_file) "
      ],
      "execution_count": null,
      "outputs": []
    },
    {
      "cell_type": "code",
      "metadata": {
        "colab": {
          "base_uri": "https://localhost:8080/"
        },
        "id": "ogL3SqyM2BEP",
        "outputId": "b2fe2b49-cc37-472c-e9f0-984764ead0aa"
      },
      "source": [
        "result_dict = {}\n",
        "\n",
        "for j in range(len(fullcode_list0)): \n",
        "\n",
        "  print(j)\n",
        "  print(fullcode_list0[j])\n",
        "  \n",
        "  # try:\n",
        "  # backtest 데이터 가공\n",
        "\n",
        "  df = pd.read_json(json_data[fullcode_list0[j]], orient ='index') # 첫번째 키값으로 데이터프레임 변환\n",
        "  df = df.transpose()\n",
        "\n",
        "  #시간순 재정렬\n",
        "  df = df.sort_values(by=['TRD_DD'])\n",
        "  df.reset_index(drop=True,inplace=True)\n",
        "  df['TRD_DD'] = pd.to_datetime(df['TRD_DD']) #datetime변환\n",
        "\n",
        "  #인풋 데이터 모양 맞춰주기(backtest에 들어갈 데이터 모양)\n",
        "  df_bt = df[['TRD_DD','TDD_OPNPRC','TDD_HGPRC','TDD_LWPRC','TDD_CLSPRC', 'ACC_TRDVOL']]\n",
        "  df_bt['TRD_DD'] = pd.to_datetime(df_bt['TRD_DD'])\n",
        "  df_bt.rename(columns={'TRD_DD':'Date', 'TDD_OPNPRC':'Open', 'TDD_HGPRC':'High','TDD_LWPRC':'Low','TDD_CLSPRC':'Close', 'ACC_TRDVOL':'Volume'}, inplace=True)\n",
        "  df_bt.set_index('Date',drop=True,inplace=True)\n",
        "\n",
        "  #데이터프레임 콤마(,) 제거 그리고 타입 소수로 변환\n",
        "  df_bt['Open'] = df_bt['Open'].str.replace(',','').astype('float')\n",
        "  df_bt['High'] = df_bt['High'].str.replace(',','').astype('float')\n",
        "  df_bt['Low'] = df_bt['Low'].str.replace(',','').astype('float')\n",
        "  df_bt['Close'] = df_bt['Close'].str.replace(',','').astype('float')\n",
        "  df_bt['Volume'] = df_bt['Volume'].str.replace(',','').astype('float')\n",
        "\n",
        "  class SmaCross1(bt.Strategy):\n",
        "    params = dict(\n",
        "      pfast=50, # period for the fast moving average\n",
        "      pslow=200 # period for the slow moving average \n",
        "      ) \n",
        "    \n",
        "    def __init__(self):\n",
        "      sma1 = bt.ind.SMA(period = self.p.pfast) # fast moving average \n",
        "      sma2 = bt.ind.SMA(period = self.p.pslow) # slow moving average \n",
        "      self.crossover = bt.ind.CrossOver(sma1, sma2) # crossover signal \n",
        "\n",
        "    def next(self): \n",
        "      if not self.position: # not in the market \n",
        "        if self.crossover > 0: # if fast crosses slow to the upside \n",
        "          close = self.data.close[0] # 종가 값 \n",
        "            \n",
        "          size = int(self.broker.getcash() / close) # 최대 구매 가능 개수 \n",
        "          self.buy(size=size) # 매수 size = 구매 개수 설정 \n",
        "      elif self.crossover < 0: # in the market & cross to the downside \n",
        "          self.close() # 매도\n",
        "\n",
        "  random.seed(3)\n",
        "\n",
        "  PARAM_NAMES = [\"pfast\", \"pslow\"]\n",
        "\n",
        "  NGEN = 5  # 알고리즘 5번 반복.\n",
        "  NPOP = 100 #인구 초기\n",
        "  CXPB = 0.5  #교차 전략 \n",
        "  MUTPB = 0.3  #돌연변이 전략.\n",
        "\n",
        "\n",
        "  #최소fintness 설정 (fitness값이 작을수록 좋도록 설정)\n",
        "  creator.create(\"FitnessMin\", base.Fitness, weights=(-1.0,))\n",
        "  creator.create('Individual', list, fitness=creator.FitnessMin)\n",
        "\n",
        "  # creator.create(\"FitnessMax\", base.Fitness, weights=(1.0,))\n",
        "  # creator.create(\"Individual\", list, fitness=creator.FitnessMax)\n",
        "\n",
        "  def evaluate(individual, plot=False, log=False):\n",
        "\n",
        "    strategy_params = {k: v for k, v in zip(PARAM_NAMES, individual)}\n",
        "\n",
        "    cerebro = bt.Cerebro(stdstats=False)\n",
        "\n",
        "    data = bt.feeds.PandasData(dataname = df_bt, name = i)\n",
        "\n",
        "    cerebro.adddata(data)\n",
        "\n",
        "    initial_capital = 1000000\n",
        "    cerebro.broker.setcash(initial_capital)\n",
        "\n",
        "    cerebro.addstrategy(SmaCross1, **strategy_params)\n",
        "\n",
        "    cerebro.addanalyzer(bt.analyzers.DrawDown)\n",
        "\n",
        "    cerebro.broker.setcommission(commission=0.0025, margin=False)  #수수료 설정\n",
        "\n",
        "    strats = cerebro.run()\n",
        "\n",
        "    profit = cerebro.broker.getvalue() - initial_capital\n",
        "    \n",
        "    if profit == 0:\n",
        "      return [np.inf]\n",
        "\n",
        "    # max_dd = strats[0].analyzers.drawdown.get_analysis()[\"max\"][\"moneydown\"] # max.moneydown - max drawdown value in monetary units\n",
        "    # fitness = profit / (max_dd if max_dd > 0 else 1)\n",
        "    fitness = round(1 / profit, 15)\n",
        "\n",
        "    if log:\n",
        "      print(f\"Starting Portfolio Value: {initial_capital:,.2f}\")\n",
        "      print(f\"Final Portfolio Value:  {cerebro.broker.getvalue():,.2f}\")\n",
        "      print(f\"Total Profit:       {profit:,.2f}\")\n",
        "      print(f\"Maximum Drawdown:     {max_dd:,.2f}\")\n",
        "      print(f\"Profit / Max DD:     {fitness}\")\n",
        "\n",
        "    # if plot:\n",
        "      # cerebro.plot()\n",
        "\n",
        "    return [fitness]\n",
        "\n",
        "  toolbox = base.Toolbox()\n",
        "  toolbox.register(\"indices\", random.sample, range(NPOP), NPOP)\n",
        "\n",
        "  # crossover strategy\n",
        "  toolbox.register(\"mate\", tools.cxUniform, indpb=CXPB)\n",
        "  # mutation strategy\n",
        "  toolbox.register(\"mutate\", tools.mutUniformInt, low=1, up=151, indpb=0.2)\n",
        "  # selection strategy\n",
        "  toolbox.register(\"select\", tools.selTournament, tournsize=3)\n",
        "  # fitness function\n",
        "  toolbox.register(\"evaluate\", evaluate)\n",
        "\n",
        "\n",
        "  # definition of an individual & a population\n",
        "  toolbox.register(\"attr_sma1\", random.randint, 1, 100)\n",
        "  toolbox.register(\"attr_sma2\", random.randint, 151, 251) \n",
        "  toolbox.register(\n",
        "    \"individual\",\n",
        "    tools.initCycle,\n",
        "    creator.Individual,\n",
        "    (\n",
        "      toolbox.attr_sma1,\n",
        "      toolbox.attr_sma2,\n",
        "\n",
        "    ),\n",
        "  )\n",
        "\n",
        "  toolbox.register(\"population\", tools.initRepeat, list, toolbox.individual)\n",
        "\n",
        "  mean = np.ndarray(NGEN)\n",
        "  best = np.ndarray(NGEN)\n",
        "  hall_of_fame = tools.HallOfFame(maxsize=3)\n",
        "\n",
        "  t = time.perf_counter()\n",
        "  pop = toolbox.population(n=NPOP)\n",
        "  for g in trange(NGEN):\n",
        "    # Select the next generation individuals\n",
        "    offspring = toolbox.select(pop, len(pop))\n",
        "    # Clone the selected individuals\n",
        "    offspring = list(map(toolbox.clone, offspring))\n",
        "\n",
        "    # Apply crossover on the offspring\n",
        "    for child1, child2 in zip(offspring[::2], offspring[1::2]):\n",
        "      if random.random() < CXPB:\n",
        "        toolbox.mate(child1, child2)\n",
        "        del child1.fitness.values\n",
        "        del child2.fitness.values\n",
        "\n",
        "    # Apply mutation on the offspring\n",
        "    for mutant in offspring:\n",
        "      if random.random() < MUTPB:\n",
        "        toolbox.mutate(mutant)\n",
        "        del mutant.fitness.values\n",
        "\n",
        "    # Evaluate the individuals with an invalid fitness\n",
        "    invalid_ind = [ind for ind in offspring if not ind.fitness.valid]\n",
        "    fitnesses = toolbox.map(toolbox.evaluate, invalid_ind)\n",
        "    for ind, fit in zip(invalid_ind, fitnesses):\n",
        "      ind.fitness.values = fit\n",
        "\n",
        "    # The population is entirely replaced by the offspring\n",
        "    pop[:] = offspring\n",
        "    hall_of_fame.update(pop)\n",
        "    print(\n",
        "      \"HALL OF FAME:\\n\"\n",
        "      + \"\\n\".join(\n",
        "        [\n",
        "          f\"  {_}: {ind}, Fitness: {ind.fitness.values[0]}\"\n",
        "          for _, ind in enumerate(hall_of_fame)\n",
        "        ]\n",
        "      )\n",
        "    )\n",
        "\n",
        "    fitnesses = [\n",
        "      ind.fitness.values[0] for ind in pop if not np.isinf(ind.fitness.values[0])\n",
        "    ]\n",
        "    mean[g] = np.mean(fitnesses)\n",
        "    best[g] = np.max(fitnesses)\n",
        "\n",
        "  end_t = time.perf_counter()\n",
        "  print(f\"Time Elapsed: {end_t - t:,.2f}\")\n",
        "\n",
        "  # fig, ax = plt.subplots(sharex=True, figsize=(16, 9))\n",
        "\n",
        "  # sns.lineplot(x=range(NGEN), y=mean, ax=ax, label=\"Average Fitness Score\")\n",
        "  # sns.lineplot(x=range(NGEN), y=best, ax=ax, label=\"Best Fitness Score\")\n",
        "  # ax.set_title(\"Fitness Score\")\n",
        "  # ax.set_xticks(range(NGEN))\n",
        "  # ax.set_xlabel(\"Iteration\")\n",
        "\n",
        "  # plt.tight_layout()\n",
        "  # plt.show()\n",
        "  \n",
        "  # 최적의 파라미터 값 출력\n",
        "  OPTIMISED_STRATEGY_PARAMS = {\n",
        "    k: v for k, v in zip(PARAM_NAMES, hall_of_fame[0])}\n",
        "  op_params = list(OPTIMISED_STRATEGY_PARAMS.values())\n",
        "  print('**파라미터 값 (try): ', op_params)\n",
        "  \n",
        "  # except:\n",
        "  #   op_params = [50, 200]\n",
        "  #   print('**파라미터 값 (except): ', op_params)\n",
        "\n",
        "\n",
        "  # 데이터 불러와서 가공\n",
        "  df = pd.read_json(json_data[fullcode_list0[j]], orient ='index') \n",
        "  read_df = df.transpose()\n",
        "  read_df['TDD_CLSPRC'] = read_df['TDD_CLSPRC'].str.replace(',','').astype('float')\n",
        "  read_df['pfast'] = talib.MA(read_df['TDD_CLSPRC'], timeperiod = op_params[0], matype=0)\n",
        "  read_df['pslow'] = talib.MA(read_df['TDD_CLSPRC'], timeperiod = op_params[1], matype=0)\n",
        "  read_df[\"GDC_sig\"] = \"\"\n",
        "  \n",
        "  # 매도, 매수 전략 설정 후 GDC_sig 열 추가\n",
        "  first_cross = 0 \n",
        "  for i in range(0, len(read_df)):\n",
        "    if read_df['pfast'][i] < read_df['pslow'][i] and first_cross == 0:\n",
        "      # print('Death cross on day', df['TRD_DD'][i], ':expect the price to continue to fall (매도)')\n",
        "      read_df['GDC_sig'][i] = -1\n",
        "      first_cross=1\n",
        "    elif read_df['pfast'][i] > read_df['pslow'][i] and first_cross ==1:\n",
        "      # print('Golden cross on day', df['TRD_DD'][i], ':expect the price to continue to rise (매수)')\n",
        "      first_cross=0\n",
        "      read_df['GDC_sig'][i] = 1\n",
        "    else:\n",
        "      read_df['GDC_sig'][i] = 0\n",
        "  \n",
        "  result = read_df.drop(['pfast', 'pslow'], axis='columns')\n",
        "  # print(result)\n",
        "\n",
        "  result_js = result.to_json(orient = 'columns') # 데이터프레임을 json 형태로 변환\n",
        "  result_dict[fullcode_list0[j]] = result_js # fullcode가 key값이 되고 json이 value값이 됨\n",
        "\n",
        "with open('/content/drive/MyDrive/[Shared]K-Project/data/test1.json', 'w') as f:\n",
        "    json.dump(result_dict, f)\n"
      ],
      "execution_count": null,
      "outputs": [
        {
          "output_type": "stream",
          "name": "stdout",
          "text": [
            "0\n",
            "KR7060310000\n"
          ]
        },
        {
          "output_type": "stream",
          "name": "stderr",
          "text": [
            "/usr/local/lib/python3.7/dist-packages/deap/creator.py:141: RuntimeWarning: A class named 'FitnessMin' has already been created and it will be overwritten. Consider deleting previous creation of that class or rename it.\n",
            "  RuntimeWarning)\n",
            "/usr/local/lib/python3.7/dist-packages/deap/creator.py:141: RuntimeWarning: A class named 'Individual' has already been created and it will be overwritten. Consider deleting previous creation of that class or rename it.\n",
            "  RuntimeWarning)\n",
            " 20%|██        | 1/5 [03:06<12:27, 186.82s/it]"
          ]
        },
        {
          "output_type": "stream",
          "name": "stdout",
          "text": [
            "HALL OF FAME:\n",
            "  0: [3, 193], Fitness: -3.1397568572e-05\n",
            "  1: [67, 200], Fitness: -1.7942111571e-05\n",
            "  2: [47, 233], Fitness: -1.7858653667e-05\n"
          ]
        },
        {
          "output_type": "stream",
          "name": "stderr",
          "text": [
            "\r 40%|████      | 2/5 [05:04<07:18, 146.32s/it]"
          ]
        },
        {
          "output_type": "stream",
          "name": "stdout",
          "text": [
            "HALL OF FAME:\n",
            "  0: [3, 193], Fitness: -3.1397568572e-05\n",
            "  1: [67, 200], Fitness: -1.7942111571e-05\n",
            "  2: [47, 233], Fitness: -1.7858653667e-05\n"
          ]
        },
        {
          "output_type": "stream",
          "name": "stderr",
          "text": [
            "\r 60%|██████    | 3/5 [06:58<04:23, 131.52s/it]"
          ]
        },
        {
          "output_type": "stream",
          "name": "stdout",
          "text": [
            "HALL OF FAME:\n",
            "  0: [3, 193], Fitness: -3.1397568572e-05\n",
            "  1: [67, 200], Fitness: -1.7942111571e-05\n",
            "  2: [47, 233], Fitness: -1.7858653667e-05\n"
          ]
        },
        {
          "output_type": "stream",
          "name": "stderr",
          "text": [
            "\r 80%|████████  | 4/5 [09:08<02:10, 130.75s/it]"
          ]
        },
        {
          "output_type": "stream",
          "name": "stdout",
          "text": [
            "HALL OF FAME:\n",
            "  0: [8, 166], Fitness: -4.0458905131e-05\n",
            "  1: [3, 193], Fitness: -3.1397568572e-05\n",
            "  2: [67, 200], Fitness: -1.7942111571e-05\n"
          ]
        },
        {
          "output_type": "stream",
          "name": "stderr",
          "text": [
            "100%|██████████| 5/5 [11:00<00:00, 132.06s/it]"
          ]
        },
        {
          "output_type": "stream",
          "name": "stdout",
          "text": [
            "HALL OF FAME:\n",
            "  0: [8, 166], Fitness: -4.0458905131e-05\n",
            "  1: [3, 193], Fitness: -3.1397568572e-05\n",
            "  2: [67, 200], Fitness: -1.7942111571e-05\n",
            "Time Elapsed: 660.31\n",
            "**파라미터 값 (try):  [8, 166]\n"
          ]
        },
        {
          "output_type": "stream",
          "name": "stderr",
          "text": [
            "\n"
          ]
        },
        {
          "output_type": "stream",
          "name": "stdout",
          "text": [
            "1\n",
            "KR7095570008\n"
          ]
        },
        {
          "output_type": "stream",
          "name": "stderr",
          "text": [
            "/usr/local/lib/python3.7/dist-packages/deap/creator.py:141: RuntimeWarning: A class named 'FitnessMin' has already been created and it will be overwritten. Consider deleting previous creation of that class or rename it.\n",
            "  RuntimeWarning)\n",
            "/usr/local/lib/python3.7/dist-packages/deap/creator.py:141: RuntimeWarning: A class named 'Individual' has already been created and it will be overwritten. Consider deleting previous creation of that class or rename it.\n",
            "  RuntimeWarning)\n",
            " 20%|██        | 1/5 [00:59<03:56, 59.19s/it]"
          ]
        },
        {
          "output_type": "stream",
          "name": "stdout",
          "text": [
            "HALL OF FAME:\n",
            "  0: [142, 181], Fitness: -0.000108868421626\n",
            "  1: [90, 192], Fitness: -3.3453822852e-05\n",
            "  2: [20, 180], Fitness: -2.8184038956e-05\n"
          ]
        },
        {
          "output_type": "stream",
          "name": "stderr",
          "text": [
            "\r 40%|████      | 2/5 [01:36<02:19, 46.36s/it]"
          ]
        },
        {
          "output_type": "stream",
          "name": "stdout",
          "text": [
            "HALL OF FAME:\n",
            "  0: [142, 181], Fitness: -0.000108868421626\n",
            "  1: [90, 192], Fitness: -3.3453822852e-05\n",
            "  2: [20, 180], Fitness: -2.8184038956e-05\n"
          ]
        },
        {
          "output_type": "stream",
          "name": "stderr",
          "text": [
            "\r 60%|██████    | 3/5 [02:13<01:23, 41.87s/it]"
          ]
        },
        {
          "output_type": "stream",
          "name": "stdout",
          "text": [
            "HALL OF FAME:\n",
            "  0: [34, 129], Fitness: -0.00013092432574\n",
            "  1: [142, 181], Fitness: -0.000108868421626\n",
            "  2: [26, 232], Fitness: -9.130981649e-05\n"
          ]
        },
        {
          "output_type": "stream",
          "name": "stderr",
          "text": [
            "\r 80%|████████  | 4/5 [02:55<00:41, 41.91s/it]"
          ]
        },
        {
          "output_type": "stream",
          "name": "stdout",
          "text": [
            "HALL OF FAME:\n",
            "  0: [34, 129], Fitness: -0.00013092432574\n",
            "  1: [78, 192], Fitness: -0.000109961705836\n",
            "  2: [142, 181], Fitness: -0.000108868421626\n"
          ]
        },
        {
          "output_type": "stream",
          "name": "stderr",
          "text": [
            "100%|██████████| 5/5 [03:30<00:00, 42.16s/it]"
          ]
        },
        {
          "output_type": "stream",
          "name": "stdout",
          "text": [
            "HALL OF FAME:\n",
            "  0: [34, 192], Fitness: -0.000281850914959\n",
            "  1: [34, 129], Fitness: -0.00013092432574\n",
            "  2: [78, 192], Fitness: -0.000109961705836\n",
            "Time Elapsed: 210.79\n",
            "**파라미터 값 (try):  [34, 192]\n"
          ]
        },
        {
          "output_type": "stream",
          "name": "stderr",
          "text": [
            "\n"
          ]
        }
      ]
    },
    {
      "cell_type": "code",
      "source": [
        "# 제대로 저장되었는지 테스트\n",
        "with open('/content/drive/MyDrive/[Shared]K-Project/data/test1.json',\"r\") as json_file:\n",
        "    json_data = json.load(json_file) # json file open\n",
        "\n",
        "df = pd.read_json(json_data['KR7060310000'], orient ='index') # 첫번째 키값으로 데이터프레임 변환\n",
        "json_df = df.transpose()\n",
        "print(json_df)"
      ],
      "metadata": {
        "id": "-PqWqn_8xJHZ",
        "colab": {
          "base_uri": "https://localhost:8080/"
        },
        "outputId": "b4cd50f6-25c6-4c85-e19b-3cba2bb2365d"
      },
      "execution_count": null,
      "outputs": [
        {
          "output_type": "stream",
          "name": "stdout",
          "text": [
            "          TRD_DD  ISU_CD  ISU_NM TDD_CLSPRC  ...   PBR DPS DVD_YLD GDC_sig\n",
            "0     2021/12/13  060310      3S       3405  ...  4.30   0    0.00       0\n",
            "1     2021/12/10  060310      3S       3430  ...  4.33   0    0.00       0\n",
            "2     2021/12/09  060310      3S       3490  ...  4.41   0    0.00       0\n",
            "3     2021/12/08  060310      3S       3465  ...  4.38   0    0.00       0\n",
            "4     2021/12/07  060310      3S       3465  ...  4.38   0    0.00       0\n",
            "...          ...     ...     ...        ...  ...   ...  ..     ...     ...\n",
            "4853  2002/04/29  060310  삼에스코리아       6780  ...     -   -       -       0\n",
            "4854  2002/04/26  060310  삼에스코리아       7700  ...     -   -       -       0\n",
            "4855  2002/04/25  060310  삼에스코리아       8750  ...     -   -       -       0\n",
            "4856  2002/04/24  060310  삼에스코리아       8510  ...     -   -       -       0\n",
            "4857  2002/04/23  060310  삼에스코리아       7600  ...     -   -       -       0\n",
            "\n",
            "[4858 rows x 16 columns]\n"
          ]
        }
      ]
    },
    {
      "cell_type": "code",
      "source": [
        "# json 파일 합치는 방법\n",
        "# https://great-woman-hoseung.tistory.com/6"
      ],
      "metadata": {
        "id": "gjMBDiiZ1FnA"
      },
      "execution_count": null,
      "outputs": []
    }
  ]
}