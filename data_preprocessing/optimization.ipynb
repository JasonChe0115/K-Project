{
  "nbformat": 4,
  "nbformat_minor": 0,
  "metadata": {
    "colab": {
      "name": "GDC.ipynb",
      "provenance": [],
      "collapsed_sections": [],
      "include_colab_link": true
    },
    "kernelspec": {
      "name": "python3",
      "display_name": "Python 3"
    },
    "language_info": {
      "name": "python"
    }
  },
  "cells": [
    {
      "cell_type": "markdown",
      "metadata": {
        "id": "view-in-github",
        "colab_type": "text"
      },
      "source": [
        "<a href=\"https://colab.research.google.com/github/baeksumin/k-project/blob/main/data_preprocessing/optimization.ipynb\" target=\"_parent\"><img src=\"https://colab.research.google.com/assets/colab-badge.svg\" alt=\"Open In Colab\"/></a>"
      ]
    },
    {
      "cell_type": "markdown",
      "metadata": {
        "id": "MH5K1tR1KXm5"
      },
      "source": [
        "# GDC(Golden Dead Cross)"
      ]
    },
    {
      "cell_type": "code",
      "metadata": {
        "colab": {
          "base_uri": "https://localhost:8080/"
        },
        "id": "AwRgIzP5NoiZ",
        "outputId": "6378a769-d063-49c7-8341-59718136b7a4"
      },
      "source": [
        "!pip install backtrader"
      ],
      "execution_count": 1,
      "outputs": [
        {
          "output_type": "stream",
          "name": "stdout",
          "text": [
            "Collecting backtrader\n",
            "  Downloading backtrader-1.9.76.123-py2.py3-none-any.whl (410 kB)\n",
            "\u001b[?25l\r\u001b[K     |▉                               | 10 kB 26.7 MB/s eta 0:00:01\r\u001b[K     |█▋                              | 20 kB 31.0 MB/s eta 0:00:01\r\u001b[K     |██▍                             | 30 kB 33.8 MB/s eta 0:00:01\r\u001b[K     |███▏                            | 40 kB 35.2 MB/s eta 0:00:01\r\u001b[K     |████                            | 51 kB 35.5 MB/s eta 0:00:01\r\u001b[K     |████▉                           | 61 kB 36.5 MB/s eta 0:00:01\r\u001b[K     |█████▋                          | 71 kB 36.3 MB/s eta 0:00:01\r\u001b[K     |██████▍                         | 81 kB 35.5 MB/s eta 0:00:01\r\u001b[K     |███████▏                        | 92 kB 36.4 MB/s eta 0:00:01\r\u001b[K     |████████                        | 102 kB 38.7 MB/s eta 0:00:01\r\u001b[K     |████████▉                       | 112 kB 38.7 MB/s eta 0:00:01\r\u001b[K     |█████████▋                      | 122 kB 38.7 MB/s eta 0:00:01\r\u001b[K     |██████████▍                     | 133 kB 38.7 MB/s eta 0:00:01\r\u001b[K     |███████████▏                    | 143 kB 38.7 MB/s eta 0:00:01\r\u001b[K     |████████████                    | 153 kB 38.7 MB/s eta 0:00:01\r\u001b[K     |████████████▉                   | 163 kB 38.7 MB/s eta 0:00:01\r\u001b[K     |█████████████▋                  | 174 kB 38.7 MB/s eta 0:00:01\r\u001b[K     |██████████████▍                 | 184 kB 38.7 MB/s eta 0:00:01\r\u001b[K     |███████████████▏                | 194 kB 38.7 MB/s eta 0:00:01\r\u001b[K     |████████████████                | 204 kB 38.7 MB/s eta 0:00:01\r\u001b[K     |████████████████▉               | 215 kB 38.7 MB/s eta 0:00:01\r\u001b[K     |█████████████████▋              | 225 kB 38.7 MB/s eta 0:00:01\r\u001b[K     |██████████████████▍             | 235 kB 38.7 MB/s eta 0:00:01\r\u001b[K     |███████████████████▏            | 245 kB 38.7 MB/s eta 0:00:01\r\u001b[K     |████████████████████            | 256 kB 38.7 MB/s eta 0:00:01\r\u001b[K     |████████████████████▊           | 266 kB 38.7 MB/s eta 0:00:01\r\u001b[K     |█████████████████████▋          | 276 kB 38.7 MB/s eta 0:00:01\r\u001b[K     |██████████████████████▍         | 286 kB 38.7 MB/s eta 0:00:01\r\u001b[K     |███████████████████████▏        | 296 kB 38.7 MB/s eta 0:00:01\r\u001b[K     |████████████████████████        | 307 kB 38.7 MB/s eta 0:00:01\r\u001b[K     |████████████████████████▊       | 317 kB 38.7 MB/s eta 0:00:01\r\u001b[K     |█████████████████████████▋      | 327 kB 38.7 MB/s eta 0:00:01\r\u001b[K     |██████████████████████████▍     | 337 kB 38.7 MB/s eta 0:00:01\r\u001b[K     |███████████████████████████▏    | 348 kB 38.7 MB/s eta 0:00:01\r\u001b[K     |████████████████████████████    | 358 kB 38.7 MB/s eta 0:00:01\r\u001b[K     |████████████████████████████▊   | 368 kB 38.7 MB/s eta 0:00:01\r\u001b[K     |█████████████████████████████▋  | 378 kB 38.7 MB/s eta 0:00:01\r\u001b[K     |██████████████████████████████▍ | 389 kB 38.7 MB/s eta 0:00:01\r\u001b[K     |███████████████████████████████▏| 399 kB 38.7 MB/s eta 0:00:01\r\u001b[K     |████████████████████████████████| 409 kB 38.7 MB/s eta 0:00:01\r\u001b[K     |████████████████████████████████| 410 kB 38.7 MB/s \n",
            "\u001b[?25hInstalling collected packages: backtrader\n",
            "Successfully installed backtrader-1.9.76.123\n"
          ]
        }
      ]
    },
    {
      "cell_type": "code",
      "metadata": {
        "colab": {
          "base_uri": "https://localhost:8080/"
        },
        "id": "3sXbV4Q8rrN4",
        "outputId": "1ad47226-fe51-4c76-bbeb-16346643ea55"
      },
      "source": [
        "pip install finance-datareader"
      ],
      "execution_count": 2,
      "outputs": [
        {
          "output_type": "stream",
          "name": "stdout",
          "text": [
            "Collecting finance-datareader\n",
            "  Downloading finance_datareader-0.9.31-py3-none-any.whl (17 kB)\n",
            "Requirement already satisfied: lxml in /usr/local/lib/python3.7/dist-packages (from finance-datareader) (4.2.6)\n",
            "Requirement already satisfied: requests>=2.3.0 in /usr/local/lib/python3.7/dist-packages (from finance-datareader) (2.23.0)\n",
            "Requirement already satisfied: tqdm in /usr/local/lib/python3.7/dist-packages (from finance-datareader) (4.62.3)\n",
            "Requirement already satisfied: pandas>=0.19.2 in /usr/local/lib/python3.7/dist-packages (from finance-datareader) (1.1.5)\n",
            "Collecting requests-file\n",
            "  Downloading requests_file-1.5.1-py2.py3-none-any.whl (3.7 kB)\n",
            "Requirement already satisfied: python-dateutil>=2.7.3 in /usr/local/lib/python3.7/dist-packages (from pandas>=0.19.2->finance-datareader) (2.8.2)\n",
            "Requirement already satisfied: numpy>=1.15.4 in /usr/local/lib/python3.7/dist-packages (from pandas>=0.19.2->finance-datareader) (1.19.5)\n",
            "Requirement already satisfied: pytz>=2017.2 in /usr/local/lib/python3.7/dist-packages (from pandas>=0.19.2->finance-datareader) (2018.9)\n",
            "Requirement already satisfied: six>=1.5 in /usr/local/lib/python3.7/dist-packages (from python-dateutil>=2.7.3->pandas>=0.19.2->finance-datareader) (1.15.0)\n",
            "Requirement already satisfied: certifi>=2017.4.17 in /usr/local/lib/python3.7/dist-packages (from requests>=2.3.0->finance-datareader) (2021.10.8)\n",
            "Requirement already satisfied: chardet<4,>=3.0.2 in /usr/local/lib/python3.7/dist-packages (from requests>=2.3.0->finance-datareader) (3.0.4)\n",
            "Requirement already satisfied: urllib3!=1.25.0,!=1.25.1,<1.26,>=1.21.1 in /usr/local/lib/python3.7/dist-packages (from requests>=2.3.0->finance-datareader) (1.24.3)\n",
            "Requirement already satisfied: idna<3,>=2.5 in /usr/local/lib/python3.7/dist-packages (from requests>=2.3.0->finance-datareader) (2.10)\n",
            "Installing collected packages: requests-file, finance-datareader\n",
            "Successfully installed finance-datareader-0.9.31 requests-file-1.5.1\n"
          ]
        }
      ]
    },
    {
      "cell_type": "code",
      "metadata": {
        "colab": {
          "base_uri": "https://localhost:8080/"
        },
        "id": "DJTXPc3Alj65",
        "outputId": "a9294d1c-a09a-4dd6-befb-61fc024f2052"
      },
      "source": [
        "pip install backtesting"
      ],
      "execution_count": 3,
      "outputs": [
        {
          "output_type": "stream",
          "name": "stdout",
          "text": [
            "Collecting backtesting\n",
            "  Downloading Backtesting-0.3.2.tar.gz (174 kB)\n",
            "\u001b[?25l\r\u001b[K     |█▉                              | 10 kB 23.5 MB/s eta 0:00:01\r\u001b[K     |███▊                            | 20 kB 29.3 MB/s eta 0:00:01\r\u001b[K     |█████▋                          | 30 kB 34.4 MB/s eta 0:00:01\r\u001b[K     |███████▌                        | 40 kB 35.3 MB/s eta 0:00:01\r\u001b[K     |█████████▍                      | 51 kB 36.1 MB/s eta 0:00:01\r\u001b[K     |███████████▎                    | 61 kB 31.1 MB/s eta 0:00:01\r\u001b[K     |█████████████▏                  | 71 kB 25.5 MB/s eta 0:00:01\r\u001b[K     |███████████████                 | 81 kB 25.4 MB/s eta 0:00:01\r\u001b[K     |█████████████████               | 92 kB 27.1 MB/s eta 0:00:01\r\u001b[K     |██████████████████▊             | 102 kB 28.6 MB/s eta 0:00:01\r\u001b[K     |████████████████████▋           | 112 kB 28.6 MB/s eta 0:00:01\r\u001b[K     |██████████████████████▌         | 122 kB 28.6 MB/s eta 0:00:01\r\u001b[K     |████████████████████████▍       | 133 kB 28.6 MB/s eta 0:00:01\r\u001b[K     |██████████████████████████▎     | 143 kB 28.6 MB/s eta 0:00:01\r\u001b[K     |████████████████████████████▏   | 153 kB 28.6 MB/s eta 0:00:01\r\u001b[K     |██████████████████████████████  | 163 kB 28.6 MB/s eta 0:00:01\r\u001b[K     |████████████████████████████████| 174 kB 28.6 MB/s eta 0:00:01\r\u001b[K     |████████████████████████████████| 174 kB 28.6 MB/s \n",
            "\u001b[?25hRequirement already satisfied: numpy in /usr/local/lib/python3.7/dist-packages (from backtesting) (1.19.5)\n",
            "Requirement already satisfied: pandas!=0.25.0,>=0.25.0 in /usr/local/lib/python3.7/dist-packages (from backtesting) (1.1.5)\n",
            "Requirement already satisfied: bokeh>=1.4.0 in /usr/local/lib/python3.7/dist-packages (from backtesting) (2.3.3)\n",
            "Requirement already satisfied: PyYAML>=3.10 in /usr/local/lib/python3.7/dist-packages (from bokeh>=1.4.0->backtesting) (3.13)\n",
            "Requirement already satisfied: python-dateutil>=2.1 in /usr/local/lib/python3.7/dist-packages (from bokeh>=1.4.0->backtesting) (2.8.2)\n",
            "Requirement already satisfied: Jinja2>=2.9 in /usr/local/lib/python3.7/dist-packages (from bokeh>=1.4.0->backtesting) (2.11.3)\n",
            "Requirement already satisfied: typing-extensions>=3.7.4 in /usr/local/lib/python3.7/dist-packages (from bokeh>=1.4.0->backtesting) (3.10.0.2)\n",
            "Requirement already satisfied: tornado>=5.1 in /usr/local/lib/python3.7/dist-packages (from bokeh>=1.4.0->backtesting) (5.1.1)\n",
            "Requirement already satisfied: packaging>=16.8 in /usr/local/lib/python3.7/dist-packages (from bokeh>=1.4.0->backtesting) (21.3)\n",
            "Requirement already satisfied: pillow>=7.1.0 in /usr/local/lib/python3.7/dist-packages (from bokeh>=1.4.0->backtesting) (7.1.2)\n",
            "Requirement already satisfied: MarkupSafe>=0.23 in /usr/local/lib/python3.7/dist-packages (from Jinja2>=2.9->bokeh>=1.4.0->backtesting) (2.0.1)\n",
            "Requirement already satisfied: pyparsing!=3.0.5,>=2.0.2 in /usr/local/lib/python3.7/dist-packages (from packaging>=16.8->bokeh>=1.4.0->backtesting) (3.0.6)\n",
            "Requirement already satisfied: pytz>=2017.2 in /usr/local/lib/python3.7/dist-packages (from pandas!=0.25.0,>=0.25.0->backtesting) (2018.9)\n",
            "Requirement already satisfied: six>=1.5 in /usr/local/lib/python3.7/dist-packages (from python-dateutil>=2.1->bokeh>=1.4.0->backtesting) (1.15.0)\n",
            "Building wheels for collected packages: backtesting\n",
            "  Building wheel for backtesting (setup.py) ... \u001b[?25l\u001b[?25hdone\n",
            "  Created wheel for backtesting: filename=Backtesting-0.3.2-py3-none-any.whl size=173671 sha256=eb4faa547104e00d377d8cfad3d38a929e8136cd0c1f5244a16efb762db440fe\n",
            "  Stored in directory: /root/.cache/pip/wheels/22/0e/30/e458272563bdbea1905391b5bb5702e2001a769544d9cb2df3\n",
            "Successfully built backtesting\n",
            "Installing collected packages: backtesting\n",
            "Successfully installed backtesting-0.3.2\n"
          ]
        }
      ]
    },
    {
      "cell_type": "code",
      "metadata": {
        "colab": {
          "base_uri": "https://localhost:8080/"
        },
        "id": "GKsaERNSJ2ey",
        "outputId": "99734ba4-f146-426b-bbf0-1d5e776c6d85"
      },
      "source": [
        "pip install deap"
      ],
      "execution_count": 4,
      "outputs": [
        {
          "output_type": "stream",
          "name": "stdout",
          "text": [
            "Collecting deap\n",
            "  Downloading deap-1.3.1-cp37-cp37m-manylinux_2_5_x86_64.manylinux1_x86_64.manylinux_2_12_x86_64.manylinux2010_x86_64.whl (160 kB)\n",
            "\u001b[?25l\r\u001b[K     |██                              | 10 kB 22.1 MB/s eta 0:00:01\r\u001b[K     |████                            | 20 kB 27.5 MB/s eta 0:00:01\r\u001b[K     |██████                          | 30 kB 32.6 MB/s eta 0:00:01\r\u001b[K     |████████▏                       | 40 kB 33.2 MB/s eta 0:00:01\r\u001b[K     |██████████▏                     | 51 kB 34.2 MB/s eta 0:00:01\r\u001b[K     |████████████▏                   | 61 kB 33.3 MB/s eta 0:00:01\r\u001b[K     |██████████████▎                 | 71 kB 31.8 MB/s eta 0:00:01\r\u001b[K     |████████████████▎               | 81 kB 31.3 MB/s eta 0:00:01\r\u001b[K     |██████████████████▎             | 92 kB 31.4 MB/s eta 0:00:01\r\u001b[K     |████████████████████▍           | 102 kB 32.6 MB/s eta 0:00:01\r\u001b[K     |██████████████████████▍         | 112 kB 32.6 MB/s eta 0:00:01\r\u001b[K     |████████████████████████▍       | 122 kB 32.6 MB/s eta 0:00:01\r\u001b[K     |██████████████████████████▌     | 133 kB 32.6 MB/s eta 0:00:01\r\u001b[K     |████████████████████████████▌   | 143 kB 32.6 MB/s eta 0:00:01\r\u001b[K     |██████████████████████████████▌ | 153 kB 32.6 MB/s eta 0:00:01\r\u001b[K     |████████████████████████████████| 160 kB 32.6 MB/s \n",
            "\u001b[?25hRequirement already satisfied: numpy in /usr/local/lib/python3.7/dist-packages (from deap) (1.19.5)\n",
            "Installing collected packages: deap\n",
            "Successfully installed deap-1.3.1\n"
          ]
        }
      ]
    },
    {
      "cell_type": "code",
      "source": [
        "#talib 설치\n",
        "!wget -q http://prdownloads.sourceforge.net/ta-lib/ta-lib-0.4.0-src.tar.gz 2>&1 > /dev/null\n",
        "!tar xvzf ta-lib-0.4.0-src.tar.gz 2>&1 > /dev/null\n",
        "\n",
        "import os\n",
        "\n",
        "os.chdir('ta-lib')  \n",
        "\n",
        "!./configure --prefix=/usr 2>&1 > /dev/null\n",
        "!make 2>&1 > /dev/null\n",
        "!make install 2>&1 > /dev/null\n",
        "\n",
        "os.chdir('../')\n",
        "\n",
        "!pip install TA-Lib 2>&1 > /dev/null"
      ],
      "metadata": {
        "colab": {
          "base_uri": "https://localhost:8080/"
        },
        "id": "h99VB0_fydhG",
        "outputId": "2c0c76e9-3cd4-4a8c-cfaa-7df19efd4665"
      },
      "execution_count": 30,
      "outputs": [
        {
          "output_type": "stream",
          "name": "stdout",
          "text": [
            "./configure: line 4354: /usr/bin/file: No such file or directory\n",
            "libtool: link: warning: `-version-info/-version-number' is ignored for convenience libraries\n",
            "ar: `u' modifier ignored since `D' is the default (see `U')\n",
            "libtool: link: warning: `-version-info/-version-number' is ignored for convenience libraries\n",
            "ar: `u' modifier ignored since `D' is the default (see `U')\n",
            "libtool: link: warning: `-version-info/-version-number' is ignored for convenience libraries\n",
            "ar: `u' modifier ignored since `D' is the default (see `U')\n",
            "libtool: link: warning: `-version-info/-version-number' is ignored for convenience libraries\n",
            "ar: `u' modifier ignored since `D' is the default (see `U')\n",
            "ar: `u' modifier ignored since `D' is the default (see `U')\n",
            "\u001b[01m\u001b[Kgen_code.c:\u001b[m\u001b[K In function ‘\u001b[01m\u001b[KprintFuncHeaderDoc\u001b[m\u001b[K’:\n",
            "\u001b[01m\u001b[Kgen_code.c:3456:4:\u001b[m\u001b[K \u001b[01;35m\u001b[Kwarning: \u001b[m\u001b[Kformat not a string literal and no format arguments [\u001b[01;35m\u001b[K-Wformat-security\u001b[m\u001b[K]\n",
            "    \u001b[01;35m\u001b[Kfprintf\u001b[m\u001b[K( out, prefix );\n",
            "    \u001b[01;35m\u001b[K^~~~~~~\u001b[m\u001b[K\n"
          ]
        }
      ]
    },
    {
      "cell_type": "code",
      "metadata": {
        "id": "hLPspbq2E05H"
      },
      "source": [
        "import re\n",
        "import json\n",
        "import talib\n",
        "import pickle\n",
        "import pandas as pd\n",
        "import matplotlib.pyplot as plt\n",
        "import numpy as np\n",
        "from datetime import datetime, date, timedelta\n",
        "from google.colab import drive\n",
        "import backtrader as bt\n",
        "from IPython.display import display, Image\n",
        "import backtrader.feeds as btfeeds\n",
        "from backtesting import Strategy\n",
        "from backtesting import Backtest\n",
        "from deap import base, creator, tools, algorithms\n",
        "import random\n",
        "import seaborn as sns\n",
        "from tqdm import trange\n",
        "import time"
      ],
      "execution_count": 31,
      "outputs": []
    },
    {
      "cell_type": "code",
      "metadata": {
        "id": "PHwovPccmO7k"
      },
      "source": [
        "import pandas as pd\n",
        "pd.options.mode.chained_assignment = None  # default='warn'\n"
      ],
      "execution_count": 6,
      "outputs": []
    },
    {
      "cell_type": "code",
      "metadata": {
        "colab": {
          "base_uri": "https://localhost:8080/"
        },
        "id": "swbgtar7FN54",
        "outputId": "5bac0d6d-3fc7-4584-e6e6-4e9d5b734fa4"
      },
      "source": [
        "drive.mount('/content/drive')\n",
        "data_path = '/content/drive/MyDrive/[Shared]K-Project/data/'"
      ],
      "execution_count": 7,
      "outputs": [
        {
          "output_type": "stream",
          "name": "stdout",
          "text": [
            "Mounted at /content/drive\n"
          ]
        }
      ]
    },
    {
      "cell_type": "code",
      "metadata": {
        "colab": {
          "base_uri": "https://localhost:8080/"
        },
        "id": "i_uIi9Dp256N",
        "outputId": "d91c84ef-dafd-416e-8d1d-4801a3442fdd"
      },
      "source": [
        "## Load pickle - fullcode 목록\n",
        "with open(data_path + 'full_code.pkl',\"rb\") as f: \n",
        "    fullcode = pickle.load(f)\n",
        "    \n",
        "# 상장폐지 상태 제외시키기\n",
        "fullcode_filter = fullcode[fullcode['status'] != '상장폐지']\n",
        "\n",
        "# fullcode열을 list로 변경\n",
        "fullcode_list = list(fullcode_filter['full_code'])\n",
        "print(fullcode_list[:10])\n",
        "print(len(fullcode_list))"
      ],
      "execution_count": 8,
      "outputs": [
        {
          "output_type": "stream",
          "name": "stdout",
          "text": [
            "['KR7060310000', 'KR7095570008', 'KR7006840003', 'KR7054620000', 'KR7265520007', 'KR7211270004', 'KR7027410000', 'KR7282330000', 'KR7138930003', 'KR7001460005']\n",
            "2603\n"
          ]
        }
      ]
    },
    {
      "cell_type": "code",
      "metadata": {
        "id": "QstDkFwz0K8O"
      },
      "source": [
        "with open(data_path + 'initial_data1.json',\"r\") as json_file:\n",
        "    json_data = json.load(json_file) "
      ],
      "execution_count": 9,
      "outputs": []
    },
    {
      "cell_type": "code",
      "metadata": {
        "colab": {
          "base_uri": "https://localhost:8080/"
        },
        "id": "3RIPCQMat1Qt",
        "outputId": "553fbdad-7ad4-4a5a-8759-fb54ca9d5a95"
      },
      "source": [
        "# 시가총액 상위 종목\n",
        "mktcap_code = ['KR7005930003', 'KR7000660001', 'KR7035420009']#, 'KR7207940008', 'KR7005931001', 'KR7035720002', 'KR7051910008', 'KR7006400006', 'KR7005380001', 'KR7000270009']\n",
        "mktcap_code"
      ],
      "execution_count": 35,
      "outputs": [
        {
          "output_type": "execute_result",
          "data": {
            "text/plain": [
              "['KR7005930003', 'KR7000660001', 'KR7035420009']"
            ]
          },
          "metadata": {},
          "execution_count": 35
        }
      ]
    },
    {
      "cell_type": "code",
      "metadata": {
        "colab": {
          "base_uri": "https://localhost:8080/"
        },
        "id": "VZFFNTexkpkq",
        "outputId": "eb7838cc-2f0a-4f04-e18c-76990beea61e"
      },
      "source": [
        "for i in mktcap_code:  \n",
        "  \n",
        "  # backtest 데이터 가공\n",
        "\n",
        "  data = pd.read_json(json_data[i], orient ='index') \n",
        "  df = data.transpose()\n",
        "\n",
        "  #시간순 재정렬\n",
        "  df = df.sort_values(by=['TRD_DD'])\n",
        "  df.reset_index(drop=True,inplace=True)\n",
        "  df['TRD_DD'] = pd.to_datetime(df['TRD_DD']) #datetime변환\n",
        "\n",
        "  #인풋 데이터 모양 맞춰주기(backtest에 들어갈 데이터 모양)\n",
        "  df_bt = df[['TRD_DD','TDD_OPNPRC','TDD_HGPRC','TDD_LWPRC','TDD_CLSPRC', 'ACC_TRDVOL']]\n",
        "  df_bt['TRD_DD'] = pd.to_datetime(df_bt['TRD_DD'])\n",
        "  df_bt.rename(columns={'TRD_DD':'Date', 'TDD_OPNPRC':'Open', 'TDD_HGPRC':'High','TDD_LWPRC':'Low','TDD_CLSPRC':'Close', 'ACC_TRDVOL':'Volume'}, inplace=True)\n",
        "  df_bt.set_index('Date',drop=True,inplace=True)\n",
        "\n",
        "  #데이터프레임 콤마(,) 제거 그리고 타입 소수로 변환\n",
        "  df_bt['Open'] = df_bt['Open'].str.replace(',','').astype('float')\n",
        "  df_bt['High'] = df_bt['High'].str.replace(',','').astype('float')\n",
        "  df_bt['Low'] = df_bt['Low'].str.replace(',','').astype('float')\n",
        "  df_bt['Close'] = df_bt['Close'].str.replace(',','').astype('float')\n",
        "  df_bt['Volume'] = df_bt['Volume'].str.replace(',','').astype('float')\n",
        "\n",
        "  class SmaCross1(bt.Strategy):\n",
        "    params = dict(\n",
        "      pfast=50, # period for the fast moving average\n",
        "      pslow=200 # period for the slow moving average \n",
        "      ) \n",
        "    \n",
        "    def __init__(self):\n",
        "      sma1 = bt.ind.SMA(period = self.p.pfast) # fast moving average \n",
        "      sma2 = bt.ind.SMA(period = self.p.pslow) # slow moving average \n",
        "      self.crossover = bt.ind.CrossOver(sma1, sma2) # crossover signal \n",
        "\n",
        "    def next(self): \n",
        "      if not self.position: # not in the market \n",
        "        if self.crossover > 0: # if fast crosses slow to the upside \n",
        "          close = self.data.close[0] # 종가 값 \n",
        "            \n",
        "          size = int(self.broker.getcash() / close) # 최대 구매 가능 개수 \n",
        "          self.buy(size=size) # 매수 size = 구매 개수 설정 \n",
        "      elif self.crossover < 0: # in the market & cross to the downside \n",
        "          self.close() # 매도\n",
        "          \n",
        "  # 세레브로 (벡트레이더 엔진) 설정\n",
        "\n",
        "  # 세레브로 가져오기\n",
        "  cerebro = bt.Cerebro()\n",
        "\n",
        "  # 데이터 가져오기\n",
        "  data = bt.feeds.PandasData(dataname=df_bt,name=\"SAMSUNG\")\n",
        "\n",
        "\n",
        "  # 데이터 추가하기\n",
        "  cerebro.adddata(data)\n",
        "\n",
        "  # 전략 추가하기\n",
        "  cerebro.addstrategy(SmaCross1)\n",
        "\n",
        "  # 브로커 설정\n",
        "  cerebro.broker.setcash (1000000)\n",
        "\n",
        "  # 매매 단위 설정\n",
        "  cerebro.addsizer(bt.sizers.SizerFix, stake = 30) #한번에 30주 설정.\n",
        "\n",
        "  # 3. 세레브로 실행하기\n",
        "\n",
        "  # 초기 투자금 가져오기\n",
        "  init_cash = cerebro.broker.getvalue()\n",
        "\n",
        "  # 세레브로 실행하기\n",
        "  cerebro.run()\n",
        "\n",
        "  # 최종 금액 가져오기\n",
        "  final_cash = cerebro.broker.getvalue()\n",
        "\n",
        "  print(i)\n",
        "  print(\"최종금액 : \", final_cash, \"원\")\n",
        "  print(\"수익률 : \", float(final_cash - init_cash)/float(init_cash) * 100., \"%\")\n",
        "  print(\"\\n\")"
      ],
      "execution_count": 12,
      "outputs": [
        {
          "output_type": "stream",
          "name": "stdout",
          "text": [
            "KR7005930003\n",
            "최종금액 :  1369350.0 원\n",
            "수익률 :  36.935 %\n",
            "\n",
            "\n",
            "KR7000660001\n",
            "최종금액 :  1452130.0 원\n",
            "수익률 :  45.213 %\n",
            "\n",
            "\n",
            "KR7035420009\n",
            "최종금액 :  15679500.0 원\n",
            "수익률 :  1467.95 %\n",
            "\n",
            "\n",
            "KR7207940008\n",
            "최종금액 :  55000.0 원\n",
            "수익률 :  -94.5 %\n",
            "\n",
            "\n",
            "KR7005931001\n",
            "최종금액 :  37760850.0 원\n",
            "수익률 :  3676.0849999999996 %\n",
            "\n",
            "\n",
            "KR7035720002\n",
            "최종금액 :  1524800.0 원\n",
            "수익률 :  52.480000000000004 %\n",
            "\n",
            "\n",
            "KR7051910008\n",
            "최종금액 :  2786300.0 원\n",
            "수익률 :  178.63 %\n",
            "\n",
            "\n",
            "KR7006400006\n",
            "최종금액 :  2155400.0 원\n",
            "수익률 :  115.53999999999999 %\n",
            "\n",
            "\n",
            "KR7005380001\n",
            "최종금액 :  1592450.0 원\n",
            "수익률 :  59.245000000000005 %\n",
            "\n",
            "\n",
            "KR7000270009\n",
            "최종금액 :  95581050.0 원\n",
            "수익률 :  9458.105 %\n",
            "\n",
            "\n"
          ]
        }
      ]
    },
    {
      "cell_type": "code",
      "metadata": {
        "colab": {
          "base_uri": "https://localhost:8080/"
        },
        "id": "ogL3SqyM2BEP",
        "outputId": "e96ad631-cbea-4133-8ba9-79e5df846b4c"
      },
      "source": [
        "for i in mktcap_code:  \n",
        "\n",
        "  print(i)\n",
        "  \n",
        "  # backtest 데이터 가공\n",
        "\n",
        "  data = pd.read_json(json_data[i], orient ='index') \n",
        "  df = data.transpose()\n",
        "\n",
        "  #시간순 재정렬\n",
        "  df = df.sort_values(by=['TRD_DD'])\n",
        "  df.reset_index(drop=True,inplace=True)\n",
        "  df['TRD_DD'] = pd.to_datetime(df['TRD_DD']) #datetime변환\n",
        "\n",
        "  #인풋 데이터 모양 맞춰주기(backtest에 들어갈 데이터 모양)\n",
        "  df_bt = df[['TRD_DD','TDD_OPNPRC','TDD_HGPRC','TDD_LWPRC','TDD_CLSPRC', 'ACC_TRDVOL']]\n",
        "  df_bt['TRD_DD'] = pd.to_datetime(df_bt['TRD_DD'])\n",
        "  df_bt.rename(columns={'TRD_DD':'Date', 'TDD_OPNPRC':'Open', 'TDD_HGPRC':'High','TDD_LWPRC':'Low','TDD_CLSPRC':'Close', 'ACC_TRDVOL':'Volume'}, inplace=True)\n",
        "  df_bt.set_index('Date',drop=True,inplace=True)\n",
        "\n",
        "  #데이터프레임 콤마(,) 제거 그리고 타입 소수로 변환\n",
        "  df_bt['Open'] = df_bt['Open'].str.replace(',','').astype('float')\n",
        "  df_bt['High'] = df_bt['High'].str.replace(',','').astype('float')\n",
        "  df_bt['Low'] = df_bt['Low'].str.replace(',','').astype('float')\n",
        "  df_bt['Close'] = df_bt['Close'].str.replace(',','').astype('float')\n",
        "  df_bt['Volume'] = df_bt['Volume'].str.replace(',','').astype('float')\n",
        "\n",
        "  class SmaCross1(bt.Strategy):\n",
        "    params = dict(\n",
        "      pfast=50, # period for the fast moving average\n",
        "      pslow=200 # period for the slow moving average \n",
        "      ) \n",
        "    \n",
        "    def __init__(self):\n",
        "      sma1 = bt.ind.SMA(period = self.p.pfast) # fast moving average \n",
        "      sma2 = bt.ind.SMA(period = self.p.pslow) # slow moving average \n",
        "      self.crossover = bt.ind.CrossOver(sma1, sma2) # crossover signal \n",
        "\n",
        "    def next(self): \n",
        "      if not self.position: # not in the market \n",
        "        if self.crossover > 0: # if fast crosses slow to the upside \n",
        "          close = self.data.close[0] # 종가 값 \n",
        "            \n",
        "          size = int(self.broker.getcash() / close) # 최대 구매 가능 개수 \n",
        "          self.buy(size=size) # 매수 size = 구매 개수 설정 \n",
        "      elif self.crossover < 0: # in the market & cross to the downside \n",
        "          self.close() # 매도\n",
        "\n",
        "  random.seed(3)\n",
        "\n",
        "  PARAM_NAMES = [\"pfast\", \"pslow\"]\n",
        "\n",
        "  NGEN = 5  # 알고리즘 5번 반복.\n",
        "  NPOP = 100 #인구 초기\n",
        "  CXPB = 0.5  #교차 전략 \n",
        "  MUTPB = 0.3  #돌연변이 전략.\n",
        "\n",
        "\n",
        "  #최소fintness 설정 (fitness값이 작을수록 좋도록 설정)\n",
        "  creator.create(\"FitnessMin\", base.Fitness, weights=(-1.0,))\n",
        "  creator.create('Individual', list, fitness=creator.FitnessMin)\n",
        "\n",
        "  # creator.create(\"FitnessMax\", base.Fitness, weights=(1.0,))\n",
        "  # creator.create(\"Individual\", list, fitness=creator.FitnessMax)\n",
        "\n",
        "  def evaluate(individual, plot=False, log=False):\n",
        "\n",
        "    strategy_params = {k: v for k, v in zip(PARAM_NAMES, individual)}\n",
        "\n",
        "    # 빠른 이동 평균은 느린 평균보다 느릴 수 없다\n",
        "    # if strategy_params[\"pfast\"] >= strategy_params[\"pslow\"]:\n",
        "    #     return [-np.inf]\n",
        "\n",
        "    cerebro = bt.Cerebro(stdstats=False)\n",
        "\n",
        "    data = bt.feeds.PandasData(dataname = df_bt, name = i)\n",
        "\n",
        "    cerebro.adddata(data)\n",
        "\n",
        "    initial_capital = 1000000\n",
        "    cerebro.broker.setcash(initial_capital)\n",
        "\n",
        "    cerebro.addstrategy(SmaCross1, **strategy_params)\n",
        "\n",
        "    cerebro.addanalyzer(bt.analyzers.DrawDown)\n",
        "\n",
        "    cerebro.broker.setcommission(commission=0.0025, margin=False)  #수수료 설정\n",
        "\n",
        "    strats = cerebro.run()\n",
        "\n",
        "    profit = cerebro.broker.getvalue() - initial_capital\n",
        "\n",
        "    # max_dd = strats[0].analyzers.drawdown.get_analysis()[\"max\"][\"moneydown\"] # max.moneydown - max drawdown value in monetary units\n",
        "    # fitness = profit / (max_dd if max_dd > 0 else 1)\n",
        "    fitness = round(1 / profit, 15)\n",
        "\n",
        "    if log:\n",
        "      print(f\"Starting Portfolio Value: {initial_capital:,.2f}\")\n",
        "      print(f\"Final Portfolio Value:  {cerebro.broker.getvalue():,.2f}\")\n",
        "      print(f\"Total Profit:       {profit:,.2f}\")\n",
        "      print(f\"Maximum Drawdown:     {max_dd:,.2f}\")\n",
        "      print(f\"Profit / Max DD:     {fitness}\")\n",
        "\n",
        "    # if plot:\n",
        "      # cerebro.plot()\n",
        "\n",
        "    return [fitness]\n",
        "\n",
        "  toolbox = base.Toolbox()\n",
        "  toolbox.register(\"indices\", random.sample, range(NPOP), NPOP)\n",
        "\n",
        "  # crossover strategy\n",
        "  toolbox.register(\"mate\", tools.cxUniform, indpb=CXPB)\n",
        "  # mutation strategy\n",
        "  toolbox.register(\"mutate\", tools.mutUniformInt, low=1, up=151, indpb=0.2)\n",
        "  # selection strategy\n",
        "  toolbox.register(\"select\", tools.selTournament, tournsize=3)\n",
        "  # fitness function\n",
        "  toolbox.register(\"evaluate\", evaluate)\n",
        "\n",
        "\n",
        "  # definition of an individual & a population\n",
        "  toolbox.register(\"attr_sma1\", random.randint, 1, 100)\n",
        "  toolbox.register(\"attr_sma2\", random.randint, 151, 251) \n",
        "  toolbox.register(\n",
        "    \"individual\",\n",
        "    tools.initCycle,\n",
        "    creator.Individual,\n",
        "    (\n",
        "      toolbox.attr_sma1,\n",
        "      toolbox.attr_sma2,\n",
        "\n",
        "    ),\n",
        "  )\n",
        "\n",
        "  toolbox.register(\"population\", tools.initRepeat, list, toolbox.individual)\n",
        "\n",
        "  mean = np.ndarray(NGEN)\n",
        "  best = np.ndarray(NGEN)\n",
        "  hall_of_fame = tools.HallOfFame(maxsize=3)\n",
        "\n",
        "  t = time.perf_counter()\n",
        "  pop = toolbox.population(n=NPOP)\n",
        "  for g in trange(NGEN):\n",
        "    # Select the next generation individuals\n",
        "    offspring = toolbox.select(pop, len(pop))\n",
        "    # Clone the selected individuals\n",
        "    offspring = list(map(toolbox.clone, offspring))\n",
        "\n",
        "    # Apply crossover on the offspring\n",
        "    for child1, child2 in zip(offspring[::2], offspring[1::2]):\n",
        "      if random.random() < CXPB:\n",
        "        toolbox.mate(child1, child2)\n",
        "        del child1.fitness.values\n",
        "        del child2.fitness.values\n",
        "\n",
        "    # Apply mutation on the offspring\n",
        "    for mutant in offspring:\n",
        "      if random.random() < MUTPB:\n",
        "        toolbox.mutate(mutant)\n",
        "        del mutant.fitness.values\n",
        "\n",
        "    # Evaluate the individuals with an invalid fitness\n",
        "    invalid_ind = [ind for ind in offspring if not ind.fitness.valid]\n",
        "    fitnesses = toolbox.map(toolbox.evaluate, invalid_ind)\n",
        "    for ind, fit in zip(invalid_ind, fitnesses):\n",
        "      ind.fitness.values = fit\n",
        "\n",
        "    # The population is entirely replaced by the offspring\n",
        "    pop[:] = offspring\n",
        "    hall_of_fame.update(pop)\n",
        "    print(\n",
        "      \"HALL OF FAME:\\n\"\n",
        "      + \"\\n\".join(\n",
        "        [\n",
        "          f\"  {_}: {ind}, Fitness: {ind.fitness.values[0]}\"\n",
        "          for _, ind in enumerate(hall_of_fame)\n",
        "        ]\n",
        "      )\n",
        "    )\n",
        "\n",
        "    fitnesses = [\n",
        "      ind.fitness.values[0] for ind in pop if not np.isinf(ind.fitness.values[0])\n",
        "    ]\n",
        "    mean[g] = np.mean(fitnesses)\n",
        "    best[g] = np.max(fitnesses)\n",
        "\n",
        "  end_t = time.perf_counter()\n",
        "  print(f\"Time Elapsed: {end_t - t:,.2f}\")\n",
        "\n",
        "  # fig, ax = plt.subplots(sharex=True, figsize=(16, 9))\n",
        "\n",
        "  # sns.lineplot(x=range(NGEN), y=mean, ax=ax, label=\"Average Fitness Score\")\n",
        "  # sns.lineplot(x=range(NGEN), y=best, ax=ax, label=\"Best Fitness Score\")\n",
        "  # ax.set_title(\"Fitness Score\")\n",
        "  # ax.set_xticks(range(NGEN))\n",
        "  # ax.set_xlabel(\"Iteration\")\n",
        "\n",
        "  # plt.tight_layout()\n",
        "  # plt.show()\n",
        "  \n",
        "  # 최적의 파라미터 값 출력\n",
        "  OPTIMISED_STRATEGY_PARAMS = {\n",
        "    k: v for k, v in zip(PARAM_NAMES, hall_of_fame[0])}\n",
        "  op_params = list(OPTIMISED_STRATEGY_PARAMS.values())\n",
        "  print('**파라미터 값: ', op_params)\n",
        "  \n",
        "\n",
        "  # 데이터 불러와서 가공\n",
        "  df = pd.read_json(json_data[i], orient ='index') \n",
        "  read_df = df.transpose()\n",
        "  read_df['TDD_CLSPRC'] = read_df['TDD_CLSPRC'].str.replace(',','').astype('float')\n",
        "  read_df['pfast'] = talib.MA(read_df['TDD_CLSPRC'], timeperiod = op_params[0], matype=0)\n",
        "  read_df['pslow'] = talib.MA(read_df['TDD_CLSPRC'], timeperiod = op_params[1], matype=0)\n",
        "  read_df[\"GDC_sig\"] = \"\"\n",
        "  \n",
        "  # 매도 매수 전략 설정 후 GDC_sig 열 추가\n",
        "  first_cross = 0 \n",
        "  for i in range(0, len(read_df)):\n",
        "    if read_df['pfast'][i] < read_df['pslow'][i] and first_cross == 0:\n",
        "      # print('Death cross on day', df['TRD_DD'][i], ':expect the price to continue to fall (매도)')\n",
        "      read_df['GDC_sig'][i] = -1\n",
        "      first_cross=1\n",
        "    elif read_df['pfast'][i] > read_df['pslow'][i] and first_cross ==1:\n",
        "      # print('Golden cross on day', df['TRD_DD'][i], ':expect the price to continue to rise (매수)')\n",
        "      first_cross=0\n",
        "      read_df['GDC_sig'][i] = 1\n",
        "    else:\n",
        "      read_df['GDC_sig'][i] = 0\n",
        "  \n",
        "  result = read_df.drop(['pfast', 'pslow'], axis='columns')\n",
        "  print(result)\n"
      ],
      "execution_count": 38,
      "outputs": [
        {
          "output_type": "stream",
          "name": "stdout",
          "text": [
            "KR7005930003\n"
          ]
        },
        {
          "output_type": "stream",
          "name": "stderr",
          "text": [
            "/usr/local/lib/python3.7/dist-packages/deap/creator.py:141: RuntimeWarning: A class named 'FitnessMin' has already been created and it will be overwritten. Consider deleting previous creation of that class or rename it.\n",
            "  RuntimeWarning)\n",
            "/usr/local/lib/python3.7/dist-packages/deap/creator.py:141: RuntimeWarning: A class named 'Individual' has already been created and it will be overwritten. Consider deleting previous creation of that class or rename it.\n",
            "  RuntimeWarning)\n",
            " 20%|██        | 1/5 [03:57<15:49, 237.33s/it]"
          ]
        },
        {
          "output_type": "stream",
          "name": "stdout",
          "text": [
            "HALL OF FAME:\n",
            "  0: [12, 195], Fitness: -0.00011447377835\n",
            "  1: [95, 85], Fitness: -9.870292025e-06\n",
            "  2: [71, 152], Fitness: -9.49954046e-06\n"
          ]
        },
        {
          "output_type": "stream",
          "name": "stderr",
          "text": [
            "\r 40%|████      | 2/5 [06:27<09:17, 185.79s/it]"
          ]
        },
        {
          "output_type": "stream",
          "name": "stdout",
          "text": [
            "HALL OF FAME:\n",
            "  0: [12, 195], Fitness: -0.00011447377835\n",
            "  1: [99, 224], Fitness: -1.26413061e-05\n",
            "  2: [95, 85], Fitness: -9.870292025e-06\n"
          ]
        },
        {
          "output_type": "stream",
          "name": "stderr",
          "text": [
            "\r 60%|██████    | 3/5 [08:54<05:36, 168.39s/it]"
          ]
        },
        {
          "output_type": "stream",
          "name": "stdout",
          "text": [
            "HALL OF FAME:\n",
            "  0: [12, 195], Fitness: -0.00011447377835\n",
            "  1: [86, 243], Fitness: -1.8645323986e-05\n",
            "  2: [76, 217], Fitness: -1.4619241846e-05\n"
          ]
        },
        {
          "output_type": "stream",
          "name": "stderr",
          "text": [
            "\r 80%|████████  | 4/5 [11:43<02:48, 168.72s/it]"
          ]
        },
        {
          "output_type": "stream",
          "name": "stdout",
          "text": [
            "HALL OF FAME:\n",
            "  0: [12, 195], Fitness: -0.00011447377835\n",
            "  1: [86, 243], Fitness: -1.8645323986e-05\n",
            "  2: [76, 217], Fitness: -1.4619241846e-05\n"
          ]
        },
        {
          "output_type": "stream",
          "name": "stderr",
          "text": [
            "100%|██████████| 5/5 [14:09<00:00, 169.98s/it]"
          ]
        },
        {
          "output_type": "stream",
          "name": "stdout",
          "text": [
            "HALL OF FAME:\n",
            "  0: [12, 195], Fitness: -0.00011447377835\n",
            "  1: [78, 203], Fitness: -4.5288060369e-05\n",
            "  2: [113, 203], Fitness: -2.0696327954e-05\n",
            "Time Elapsed: 849.91\n",
            "**파라미터 값:  [12, 195]\n"
          ]
        },
        {
          "output_type": "stream",
          "name": "stderr",
          "text": [
            "\n"
          ]
        },
        {
          "output_type": "stream",
          "name": "stdout",
          "text": [
            "          TRD_DD  ISU_CD ISU_NM  TDD_CLSPRC  ...   PBR    DPS DVD_YLD GDC_sig\n",
            "0     2021/12/09  005930   삼성전자     78200.0  ...  1.98  2,994    3.83       0\n",
            "1     2021/12/08  005930   삼성전자     77400.0  ...  1.96  2,994    3.87       0\n",
            "2     2021/12/07  005930   삼성전자     77400.0  ...  1.96  2,994    3.87       0\n",
            "3     2021/12/06  005930   삼성전자     76300.0  ...  1.94  2,994    3.92       0\n",
            "4     2021/12/03  005930   삼성전자     75600.0  ...  1.92  2,994    3.96       0\n",
            "...          ...     ...    ...         ...  ...   ...    ...     ...     ...\n",
            "6735  1995/05/08  005930   삼성전자    121000.0  ...     -      -       -       0\n",
            "6736  1995/05/06  005930   삼성전자    122000.0  ...     -      -       -       0\n",
            "6737  1995/05/04  005930   삼성전자    122500.0  ...     -      -       -       0\n",
            "6738  1995/05/03  005930   삼성전자    123500.0  ...     -      -       -       0\n",
            "6739  1995/05/02  005930   삼성전자    119500.0  ...     -      -       -       0\n",
            "\n",
            "[6740 rows x 16 columns]\n",
            "KR7000660001\n"
          ]
        },
        {
          "output_type": "stream",
          "name": "stderr",
          "text": [
            "/usr/local/lib/python3.7/dist-packages/deap/creator.py:141: RuntimeWarning: A class named 'FitnessMin' has already been created and it will be overwritten. Consider deleting previous creation of that class or rename it.\n",
            "  RuntimeWarning)\n",
            "/usr/local/lib/python3.7/dist-packages/deap/creator.py:141: RuntimeWarning: A class named 'Individual' has already been created and it will be overwritten. Consider deleting previous creation of that class or rename it.\n",
            "  RuntimeWarning)\n",
            " 20%|██        | 1/5 [03:42<14:49, 222.29s/it]"
          ]
        },
        {
          "output_type": "stream",
          "name": "stdout",
          "text": [
            "HALL OF FAME:\n",
            "  0: [78, 242], Fitness: -3.1453711931e-05\n",
            "  1: [12, 195], Fitness: -1.9298601961e-05\n",
            "  2: [82, 242], Fitness: -1.7999856001e-05\n"
          ]
        },
        {
          "output_type": "stream",
          "name": "stderr",
          "text": [
            "\r 40%|████      | 2/5 [06:02<08:42, 174.29s/it]"
          ]
        },
        {
          "output_type": "stream",
          "name": "stdout",
          "text": [
            "HALL OF FAME:\n",
            "  0: [78, 242], Fitness: -3.1453711931e-05\n",
            "  1: [12, 195], Fitness: -1.9298601961e-05\n",
            "  2: [82, 242], Fitness: -1.7999856001e-05\n"
          ]
        },
        {
          "output_type": "stream",
          "name": "stderr",
          "text": [
            "\r 60%|██████    | 3/5 [08:21<05:15, 157.97s/it]"
          ]
        },
        {
          "output_type": "stream",
          "name": "stdout",
          "text": [
            "HALL OF FAME:\n",
            "  0: [78, 242], Fitness: -3.1453711931e-05\n",
            "  1: [71, 250], Fitness: -2.9986019019e-05\n",
            "  2: [12, 195], Fitness: -1.9298601961e-05\n"
          ]
        },
        {
          "output_type": "stream",
          "name": "stderr",
          "text": [
            "\r 80%|████████  | 4/5 [10:58<02:37, 157.76s/it]"
          ]
        },
        {
          "output_type": "stream",
          "name": "stdout",
          "text": [
            "HALL OF FAME:\n",
            "  0: [94, 243], Fitness: -0.001487265290946\n",
            "  1: [45, 242], Fitness: -4.0080361124e-05\n",
            "  2: [78, 242], Fitness: -3.1453711931e-05\n"
          ]
        },
        {
          "output_type": "stream",
          "name": "stderr",
          "text": [
            "100%|██████████| 5/5 [13:14<00:00, 158.93s/it]"
          ]
        },
        {
          "output_type": "stream",
          "name": "stdout",
          "text": [
            "HALL OF FAME:\n",
            "  0: [94, 243], Fitness: -0.001487265290946\n",
            "  1: [24, 242], Fitness: -4.7345962869e-05\n",
            "  2: [45, 242], Fitness: -4.0080361124e-05\n",
            "Time Elapsed: 794.66\n",
            "**파라미터 값:  [94, 243]\n"
          ]
        },
        {
          "output_type": "stream",
          "name": "stderr",
          "text": [
            "\n"
          ]
        },
        {
          "output_type": "stream",
          "name": "stdout",
          "text": [
            "          TRD_DD  ISU_CD  ISU_NM  TDD_CLSPRC  ...   PBR    DPS DVD_YLD GDC_sig\n",
            "0     2021/12/09  000660  SK하이닉스    123500.0  ...  1.73  1,170    0.95       0\n",
            "1     2021/12/08  000660  SK하이닉스    120000.0  ...  1.68  1,170    0.98       0\n",
            "2     2021/12/07  000660  SK하이닉스    121500.0  ...  1.70  1,170    0.96       0\n",
            "3     2021/12/06  000660  SK하이닉스    118500.0  ...  1.66  1,170    0.99       0\n",
            "4     2021/12/03  000660  SK하이닉스    118000.0  ...  1.66  1,170    0.99       0\n",
            "...          ...     ...     ...         ...  ...   ...    ...     ...     ...\n",
            "6247  1997/01/06  000660    현대전자     20000.0  ...     -      -       -       0\n",
            "6248  1997/01/04  000660    현대전자     20000.0  ...     -      -       -       0\n",
            "6249  1997/01/03  000660    현대전자     20000.0  ...     -      -       -       0\n",
            "6250  1996/12/27  000660    현대전자     23000.0  ...     -      -       -       0\n",
            "6251  1996/12/26  000660    현대전자     23000.0  ...     -      -       -       0\n",
            "\n",
            "[6252 rows x 16 columns]\n",
            "KR7035420009\n"
          ]
        },
        {
          "output_type": "stream",
          "name": "stderr",
          "text": [
            "/usr/local/lib/python3.7/dist-packages/deap/creator.py:141: RuntimeWarning: A class named 'FitnessMin' has already been created and it will be overwritten. Consider deleting previous creation of that class or rename it.\n",
            "  RuntimeWarning)\n",
            "/usr/local/lib/python3.7/dist-packages/deap/creator.py:141: RuntimeWarning: A class named 'Individual' has already been created and it will be overwritten. Consider deleting previous creation of that class or rename it.\n",
            "  RuntimeWarning)\n",
            " 20%|██        | 1/5 [02:51<11:25, 171.49s/it]"
          ]
        },
        {
          "output_type": "stream",
          "name": "stdout",
          "text": [
            "HALL OF FAME:\n",
            "  0: [1, 60], Fitness: -1.727125411e-06\n",
            "  1: [71, 13], Fitness: -1.117835825e-06\n",
            "  2: [44, 191], Fitness: 6.8563387e-08\n"
          ]
        },
        {
          "output_type": "stream",
          "name": "stderr",
          "text": [
            "\r 40%|████      | 2/5 [04:39<06:42, 134.19s/it]"
          ]
        },
        {
          "output_type": "stream",
          "name": "stdout",
          "text": [
            "HALL OF FAME:\n",
            "  0: [95, 82], Fitness: -1.1890677115e-05\n",
            "  1: [150, 125], Fitness: -1.737883692e-06\n",
            "  2: [1, 60], Fitness: -1.727125411e-06\n"
          ]
        },
        {
          "output_type": "stream",
          "name": "stderr",
          "text": [
            "\r 60%|██████    | 3/5 [06:26<04:03, 121.52s/it]"
          ]
        },
        {
          "output_type": "stream",
          "name": "stdout",
          "text": [
            "HALL OF FAME:\n",
            "  0: [95, 82], Fitness: -1.1890677115e-05\n",
            "  1: [142, 129], Fitness: -5.021031847e-06\n",
            "  2: [150, 125], Fitness: -1.737883692e-06\n"
          ]
        },
        {
          "output_type": "stream",
          "name": "stderr",
          "text": [
            "\r 80%|████████  | 4/5 [08:27<02:01, 121.58s/it]"
          ]
        },
        {
          "output_type": "stream",
          "name": "stdout",
          "text": [
            "HALL OF FAME:\n",
            "  0: [95, 82], Fitness: -1.1890677115e-05\n",
            "  1: [142, 129], Fitness: -5.021031847e-06\n",
            "  2: [150, 125], Fitness: -1.737883692e-06\n"
          ]
        },
        {
          "output_type": "stream",
          "name": "stderr",
          "text": [
            "100%|██████████| 5/5 [10:12<00:00, 122.44s/it]"
          ]
        },
        {
          "output_type": "stream",
          "name": "stdout",
          "text": [
            "HALL OF FAME:\n",
            "  0: [95, 82], Fitness: -1.1890677115e-05\n",
            "  1: [150, 71], Fitness: -7.236845676e-06\n",
            "  2: [150, 136], Fitness: -5.128001323e-06\n",
            "Time Elapsed: 612.19\n",
            "**파라미터 값:  [95, 82]\n"
          ]
        },
        {
          "output_type": "stream",
          "name": "stderr",
          "text": [
            "\n"
          ]
        },
        {
          "output_type": "stream",
          "name": "stdout",
          "text": [
            "          TRD_DD  ISU_CD ISU_NM  TDD_CLSPRC  ...   PBR  DPS DVD_YLD GDC_sig\n",
            "0     2021/12/09  035420  NAVER    399500.0  ...  8.91  402    0.10       0\n",
            "1     2021/12/08  035420  NAVER    395000.0  ...  8.81  402    0.10       0\n",
            "2     2021/12/07  035420  NAVER    391000.0  ...  8.72  402    0.10       0\n",
            "3     2021/12/06  035420  NAVER    392000.0  ...  8.74  402    0.10       0\n",
            "4     2021/12/03  035420  NAVER    402000.0  ...  8.96  402    0.10       0\n",
            "...          ...     ...    ...         ...  ...   ...  ...     ...     ...\n",
            "4724  2002/11/04  035420  엔에이치엔     41700.0  ...     -    -       -       0\n",
            "4725  2002/11/01  035420  엔에이치엔     43900.0  ...     -    -       -       0\n",
            "4726  2002/10/31  035420  엔에이치엔     46800.0  ...     -    -       -       0\n",
            "4727  2002/10/30  035420  엔에이치엔     49250.0  ...     -    -       -       0\n",
            "4728  2002/10/29  035420  엔에이치엔     44000.0  ...     -    -       -       0\n",
            "\n",
            "[4729 rows x 16 columns]\n"
          ]
        }
      ]
    },
    {
      "cell_type": "code",
      "source": [
        "# json 파일 합치는 방법\n",
        "# https://great-woman-hoseung.tistory.com/6"
      ],
      "metadata": {
        "id": "gjMBDiiZ1FnA"
      },
      "execution_count": null,
      "outputs": []
    }
  ]
}