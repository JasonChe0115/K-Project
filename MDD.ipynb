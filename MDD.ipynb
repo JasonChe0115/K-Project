{
  "nbformat": 4,
  "nbformat_minor": 0,
  "metadata": {
    "colab": {
      "name": "MDD.ipynb",
      "private_outputs": true,
      "provenance": [],
      "collapsed_sections": [],
      "authorship_tag": "ABX9TyOn+IJt24AFct1vPNOFLJ4L",
      "include_colab_link": true
    },
    "kernelspec": {
      "name": "python3",
      "display_name": "Python 3"
    },
    "language_info": {
      "name": "python"
    }
  },
  "cells": [
    {
      "cell_type": "markdown",
      "metadata": {
        "id": "view-in-github",
        "colab_type": "text"
      },
      "source": [
        "<a href=\"https://colab.research.google.com/github/baeksumin/k-project/blob/main/MDD.ipynb\" target=\"_parent\"><img src=\"https://colab.research.google.com/assets/colab-badge.svg\" alt=\"Open In Colab\"/></a>"
      ]
    },
    {
      "cell_type": "code",
      "metadata": {
        "id": "HU1_xrY-VYXi"
      },
      "source": [
        "import json\n",
        "import requests\n",
        "import pandas as pd\n",
        "from io import BytesIO\n",
        "from datetime import datetime \n",
        "from datetime import timedelta\n",
        "import pickle\n",
        "from google.colab import drive\n",
        "\n",
        "drive.mount('/content/drive')\n",
        "output_path = '/content/drive/MyDrive/K-project/output/'\n",
        "data_path = '/content/drive/MyDrive/K-project/'\n",
        "# pickle 경로를 설정하기 위해"
      ],
      "execution_count": null,
      "outputs": []
    },
    {
      "cell_type": "code",
      "metadata": {
        "id": "XyNAMJQ64HXx"
      },
      "source": [
        "# 한국시간 설정\n",
        "import pytz\n",
        "\n",
        "KST = pytz.timezone('Asia/Seoul')\n",
        "today = str(datetime.now(KST).strftime(\"%Y%m%d\"))\n",
        "print(today)"
      ],
      "execution_count": null,
      "outputs": []
    },
    {
      "cell_type": "code",
      "metadata": {
        "id": "oFb1Yx3w4K2X"
      },
      "source": [
        "## Load pickle - fullcode 목록\n",
        "with open(data_path + 'full_code.pkl',\"rb\") as f: \n",
        "    fullcode = pickle.load(f)\n",
        "fullcode"
      ],
      "execution_count": null,
      "outputs": []
    },
    {
      "cell_type": "code",
      "metadata": {
        "id": "W8MRhuHu4NhV"
      },
      "source": [
        "#상장폐지 상태 제외시키기.\n",
        "fullcode_filter = fullcode[fullcode['status'] != '상장폐지']\n",
        "fullcode_filter"
      ],
      "execution_count": null,
      "outputs": []
    },
    {
      "cell_type": "code",
      "metadata": {
        "id": "FtPn7Ild4PRk"
      },
      "source": [
        "fullcode_list = list(fullcode_filter['full_code'])\n",
        "print(fullcode_list[:10])\n",
        "# fullcode열을 list로 변경 후 확인"
      ],
      "execution_count": null,
      "outputs": []
    },
    {
      "cell_type": "code",
      "metadata": {
        "id": "ny_dCjRj4R10"
      },
      "source": [
        "url2 = 'http://data.krx.co.kr/comm/bldAttendant/getJsonData.cmd'\n",
        "headers = {'User-Agent': 'Chrome/78.0.3904.87 Safari/537.36',}\n",
        "\n",
        "strtDd = '19000101'\n",
        "endDd = today\n",
        "\n",
        "for i in fullcode_list[:2]: # 테스트를 위해 2개만 실행 (두 종목만 출력됨)\n",
        "    data2 = { 'bld': 'dbms/MDC/STAT/issue/MDCSTAT23902',\n",
        "    'isuCd': i,\n",
        "    'isuCd2': '',\n",
        "    'strtDd': strtDd,\n",
        "    'endDd': endDd,\n",
        "    'share': '1',\n",
        "    'money': '1',\n",
        "    'csvxls_isNo': 'false',}\n",
        "\n",
        "    r2 = requests.post(url2, data2, headers)\n",
        "    j2 = json.loads(r2.text)\n",
        "    df2=pd.DataFrame(j2['output'])\n",
        "    # print(df2)\n",
        "    # print('------------------------------------------------')\n",
        "\n",
        "    data3 = { 'bld': 'dbms/MDC/STAT/standard/MDCSTAT03502',\n",
        "    'isuCd': i,\n",
        "    'isuCd2': i,\n",
        "    'strtDd': strtDd,\n",
        "    'endDd': endDd,\n",
        "    'searchType': '2',\n",
        "    'mktId': 'ALL',\n",
        "    'csvxls_isNo': 'false',}\n",
        "\n",
        "    r2 = requests.post(url2, data3, headers)\n",
        "    j2 = json.loads(r2.text)\n",
        "    df3=pd.DataFrame(j2['output'])\n",
        "    # print(df3)\n",
        "    # print('------------------------------------------------')\n",
        "\n",
        "    df2_ = df2[['TRD_DD', 'ISU_CD', 'ISU_NM', 'TDD_CLSPRC', 'TDD_OPNPRC', 'TDD_HGPRC', 'TDD_LWPRC', 'MKTCAP']]\n",
        "    df3_ = df3[['TRD_DD', 'EPS', 'PER', 'BPS', 'PBR', 'DPS', 'DVD_YLD']]\n",
        "\n",
        "    result = pd.merge(df2_, df3_)\n",
        "    print(result)\n",
        "    print('------------------------------------------------')"
      ],
      "execution_count": null,
      "outputs": []
    },
    {
      "cell_type": "code",
      "metadata": {
        "id": "UMz4-iB6zehn"
      },
      "source": [
        "!wget -q http://prdownloads.sourceforge.net/ta-lib/ta-lib-0.4.0-src.tar.gz 2>&1 > /dev/null\n",
        "!tar xvzf ta-lib-0.4.0-src.tar.gz 2>&1 > /dev/null\n",
        "\n",
        "import os\n",
        "\n",
        "os.chdir('ta-lib')  \n",
        "\n",
        "!./configure --prefix=/usr 2>&1 > /dev/null\n",
        "!make 2>&1 > /dev/null\n",
        "!make install 2>&1 > /dev/null\n",
        "\n",
        "os.chdir('../')\n",
        "\n",
        "!pip install TA-Lib 2>&1 > /dev/null"
      ],
      "execution_count": null,
      "outputs": []
    },
    {
      "cell_type": "code",
      "metadata": {
        "id": "sTXB85CtCYBO"
      },
      "source": [
        "result"
      ],
      "execution_count": null,
      "outputs": []
    },
    {
      "cell_type": "code",
      "metadata": {
        "id": "XMnSdJZz11oT"
      },
      "source": [
        "result = result.sort_values(by=['TRD_DD'])\n",
        "result.set_index('TRD_DD',drop=True,inplace=True)\n",
        "result.reset_index('TRD_DD',drop=False,inplace=True)\n",
        "result"
      ],
      "execution_count": null,
      "outputs": []
    },
    {
      "cell_type": "code",
      "metadata": {
        "id": "0ObQhhRB15Sk"
      },
      "source": [
        "result['TDD_CLSPRC'] = result['TDD_CLSPRC'].str.replace(',','').astype('float')\n",
        "result['TDD_OPNPRC'] = result['TDD_OPNPRC'].str.replace(',','').astype('float')\n",
        "result['TDD_HGPRC'] = result['TDD_HGPRC'].str.replace(',','').astype('float')\n",
        "result['TDD_LWPRC'] = result['TDD_LWPRC'].str.replace(',','').astype('float')\n",
        "result['MKTCAP'] = result['MKTCAP'].str.replace(',','').astype('float')\n",
        "result['BPS'] = result['BPS'].str.replace(',','').astype('float')\n",
        "result"
      ],
      "execution_count": null,
      "outputs": []
    },
    {
      "cell_type": "code",
      "metadata": {
        "id": "i1qkivOJ362O"
      },
      "source": [
        "result = pd.DataFrame({tic: result['TDD_CLSPRC'] for tic, data in result.items()})\n",
        "result = result.fillna(method='ffill')"
      ],
      "execution_count": null,
      "outputs": []
    },
    {
      "cell_type": "code",
      "metadata": {
        "id": "pjtmhRe04nBU"
      },
      "source": [
        "result"
      ],
      "execution_count": null,
      "outputs": []
    },
    {
      "cell_type": "code",
      "metadata": {
        "id": "cnAs-a8rVF-S"
      },
      "source": [
        "#MDD구하기\n",
        "import matplotlib.pyplot as plt\n",
        "\n",
        "def MDD(data) :\n",
        "    mdd = 0\n",
        "    for i in range(1,len(data)-1):\n",
        "        maxv = max(data[:i])\n",
        "        calcMdd = (maxv - min(data[i:])) / maxv\n",
        "        if calcMdd > mdd:\n",
        "            mdd = calcMdd\n",
        "    return mdd\n",
        "\n",
        "if __name__ == \"__main__\" :\n",
        "    sample = result['TDD_CLSPRC']\n",
        "\n",
        "    # 그래프\n",
        "    plt.plot(sample)\n",
        "    plt.grid()\n",
        "    plt.show()\n",
        "\n",
        "    # MDD 구하기\n",
        "    print(MDD(sample))"
      ],
      "execution_count": null,
      "outputs": []
    }
  ]
}