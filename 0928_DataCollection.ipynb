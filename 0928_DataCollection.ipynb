{
  "nbformat": 4,
  "nbformat_minor": 0,
  "metadata": {
    "colab": {
      "name": "0928_DataCollection.ipynb",
      "provenance": [],
      "collapsed_sections": [],
      "authorship_tag": "ABX9TyNYyTluMPBt8ttlkgsufY6A",
      "include_colab_link": true
    },
    "kernelspec": {
      "name": "python3",
      "display_name": "Python 3"
    },
    "language_info": {
      "name": "python"
    }
  },
  "cells": [
    {
      "cell_type": "markdown",
      "metadata": {
        "id": "view-in-github",
        "colab_type": "text"
      },
      "source": [
        "<a href=\"https://colab.research.google.com/github/baeksumin/k-project/blob/main/0928_DataCollection.ipynb\" target=\"_parent\"><img src=\"https://colab.research.google.com/assets/colab-badge.svg\" alt=\"Open In Colab\"/></a>"
      ]
    },
    {
      "cell_type": "code",
      "metadata": {
        "id": "3DjVH_ebGu67"
      },
      "source": [
        "'''\n",
        "1. 웹이서 불러온 데이터로 df 생성\n",
        "2. pickle 저장\n",
        "'''"
      ],
      "execution_count": null,
      "outputs": []
    },
    {
      "cell_type": "code",
      "metadata": {
        "id": "8WBXRjRJGuVk"
      },
      "source": [
        "'''\n",
        "1. pickle 로드\n",
        "2. 로드된 df에서 마지막 수집날짜 확인\n",
        "3. (마지막 수집날짜+1 ~ 오늘) 데이터 수집 (웹에서 불러옴)\n",
        "4. 기존 df와 3.의 df 병합 (concat)\n",
        "5. 새로운 df 다시 pickle 저장\n",
        "'''"
      ],
      "execution_count": null,
      "outputs": []
    },
    {
      "cell_type": "code",
      "metadata": {
        "id": "K4n9dcih5AXq",
        "colab": {
          "base_uri": "https://localhost:8080/"
        },
        "outputId": "4505dd59-3a60-4bfe-8a18-cdd039c2b902"
      },
      "source": [
        "import json\n",
        "import requests\n",
        "import pandas as pd\n",
        "from io import BytesIO\n",
        "from datetime import datetime\n",
        "import pickle\n",
        "from google.colab import drive\n",
        "\n",
        "drive.mount('/content/drive')\n",
        "res_path = '/content/drive/MyDrive/k-project/output/'\n",
        "# pickle 경로를 설정하기 위해"
      ],
      "execution_count": null,
      "outputs": [
        {
          "output_type": "stream",
          "name": "stdout",
          "text": [
            "Mounted at /content/drive\n"
          ]
        }
      ]
    },
    {
      "cell_type": "code",
      "metadata": {
        "id": "erbjUC2KR-EC",
        "colab": {
          "base_uri": "https://localhost:8080/",
          "height": 436
        },
        "outputId": "2cc14375-3ae8-4e4c-86bc-132a3ef349ad"
      },
      "source": [
        "headers = {'User-Agent': 'Chrome/93.0.4577.63'}\n",
        "\n",
        "data = {\n",
        "    'mktsel': 'ALL',\n",
        "    'typeNo': '0',\n",
        "    'searchText':'',\n",
        "    'bld': 'dbms/comm/finder/finder_stkisu'\n",
        "}\n",
        "\n",
        "url = 'http://data.krx.co.kr/comm/bldAttendant/getJsonData.cmd'\n",
        "\n",
        "r = requests.post(url, data, headers = headers)\n",
        "j = json.loads(r.text)\n",
        "\n",
        "df = pd.json_normalize(j['block1'])\n",
        "print(len(df))\n",
        "# print(df.info())\n",
        "# print(df.iloc[1]['full_code'])\n",
        "df"
      ],
      "execution_count": null,
      "outputs": [
        {
          "output_type": "stream",
          "name": "stdout",
          "text": [
            "2584\n"
          ]
        },
        {
          "output_type": "execute_result",
          "data": {
            "text/html": [
              "<div>\n",
              "<style scoped>\n",
              "    .dataframe tbody tr th:only-of-type {\n",
              "        vertical-align: middle;\n",
              "    }\n",
              "\n",
              "    .dataframe tbody tr th {\n",
              "        vertical-align: top;\n",
              "    }\n",
              "\n",
              "    .dataframe thead th {\n",
              "        text-align: right;\n",
              "    }\n",
              "</style>\n",
              "<table border=\"1\" class=\"dataframe\">\n",
              "  <thead>\n",
              "    <tr style=\"text-align: right;\">\n",
              "      <th></th>\n",
              "      <th>full_code</th>\n",
              "      <th>short_code</th>\n",
              "      <th>codeName</th>\n",
              "      <th>marketCode</th>\n",
              "      <th>marketName</th>\n",
              "      <th>marketEngName</th>\n",
              "      <th>ord1</th>\n",
              "      <th>ord2</th>\n",
              "    </tr>\n",
              "  </thead>\n",
              "  <tbody>\n",
              "    <tr>\n",
              "      <th>0</th>\n",
              "      <td>KR7060310000</td>\n",
              "      <td>060310</td>\n",
              "      <td>3S</td>\n",
              "      <td>KSQ</td>\n",
              "      <td>코스닥</td>\n",
              "      <td>KOSDAQ</td>\n",
              "      <td></td>\n",
              "      <td>16</td>\n",
              "    </tr>\n",
              "    <tr>\n",
              "      <th>1</th>\n",
              "      <td>KR7095570008</td>\n",
              "      <td>095570</td>\n",
              "      <td>AJ네트웍스</td>\n",
              "      <td>STK</td>\n",
              "      <td>유가증권</td>\n",
              "      <td>KOSPI</td>\n",
              "      <td></td>\n",
              "      <td>16</td>\n",
              "    </tr>\n",
              "    <tr>\n",
              "      <th>2</th>\n",
              "      <td>KR7006840003</td>\n",
              "      <td>006840</td>\n",
              "      <td>AK홀딩스</td>\n",
              "      <td>STK</td>\n",
              "      <td>유가증권</td>\n",
              "      <td>KOSPI</td>\n",
              "      <td></td>\n",
              "      <td>16</td>\n",
              "    </tr>\n",
              "    <tr>\n",
              "      <th>3</th>\n",
              "      <td>KR7054620000</td>\n",
              "      <td>054620</td>\n",
              "      <td>APS홀딩스</td>\n",
              "      <td>KSQ</td>\n",
              "      <td>코스닥</td>\n",
              "      <td>KOSDAQ</td>\n",
              "      <td></td>\n",
              "      <td>16</td>\n",
              "    </tr>\n",
              "    <tr>\n",
              "      <th>4</th>\n",
              "      <td>KR7265520007</td>\n",
              "      <td>265520</td>\n",
              "      <td>AP시스템</td>\n",
              "      <td>KSQ</td>\n",
              "      <td>코스닥</td>\n",
              "      <td>KOSDAQ</td>\n",
              "      <td></td>\n",
              "      <td>16</td>\n",
              "    </tr>\n",
              "    <tr>\n",
              "      <th>...</th>\n",
              "      <td>...</td>\n",
              "      <td>...</td>\n",
              "      <td>...</td>\n",
              "      <td>...</td>\n",
              "      <td>...</td>\n",
              "      <td>...</td>\n",
              "      <td>...</td>\n",
              "      <td>...</td>\n",
              "    </tr>\n",
              "    <tr>\n",
              "      <th>2579</th>\n",
              "      <td>KR7000542001</td>\n",
              "      <td>000547</td>\n",
              "      <td>흥국화재2우B</td>\n",
              "      <td>STK</td>\n",
              "      <td>유가증권</td>\n",
              "      <td>KOSPI</td>\n",
              "      <td></td>\n",
              "      <td>16</td>\n",
              "    </tr>\n",
              "    <tr>\n",
              "      <th>2580</th>\n",
              "      <td>KR7000541003</td>\n",
              "      <td>000545</td>\n",
              "      <td>흥국화재우</td>\n",
              "      <td>STK</td>\n",
              "      <td>유가증권</td>\n",
              "      <td>KOSPI</td>\n",
              "      <td></td>\n",
              "      <td>16</td>\n",
              "    </tr>\n",
              "    <tr>\n",
              "      <th>2581</th>\n",
              "      <td>KR7003280005</td>\n",
              "      <td>003280</td>\n",
              "      <td>흥아해운</td>\n",
              "      <td>STK</td>\n",
              "      <td>유가증권</td>\n",
              "      <td>KOSPI</td>\n",
              "      <td></td>\n",
              "      <td>16</td>\n",
              "    </tr>\n",
              "    <tr>\n",
              "      <th>2582</th>\n",
              "      <td>KR7037440005</td>\n",
              "      <td>037440</td>\n",
              "      <td>희림</td>\n",
              "      <td>KSQ</td>\n",
              "      <td>코스닥</td>\n",
              "      <td>KOSDAQ</td>\n",
              "      <td></td>\n",
              "      <td>16</td>\n",
              "    </tr>\n",
              "    <tr>\n",
              "      <th>2583</th>\n",
              "      <td>KR7238490007</td>\n",
              "      <td>238490</td>\n",
              "      <td>힘스</td>\n",
              "      <td>KSQ</td>\n",
              "      <td>코스닥</td>\n",
              "      <td>KOSDAQ</td>\n",
              "      <td></td>\n",
              "      <td>16</td>\n",
              "    </tr>\n",
              "  </tbody>\n",
              "</table>\n",
              "<p>2584 rows × 8 columns</p>\n",
              "</div>"
            ],
            "text/plain": [
              "         full_code short_code codeName  ... marketEngName ord1 ord2\n",
              "0     KR7060310000     060310       3S  ...        KOSDAQ        16\n",
              "1     KR7095570008     095570   AJ네트웍스  ...         KOSPI        16\n",
              "2     KR7006840003     006840    AK홀딩스  ...         KOSPI        16\n",
              "3     KR7054620000     054620   APS홀딩스  ...        KOSDAQ        16\n",
              "4     KR7265520007     265520    AP시스템  ...        KOSDAQ        16\n",
              "...            ...        ...      ...  ...           ...  ...  ...\n",
              "2579  KR7000542001     000547  흥국화재2우B  ...         KOSPI        16\n",
              "2580  KR7000541003     000545    흥국화재우  ...         KOSPI        16\n",
              "2581  KR7003280005     003280     흥아해운  ...         KOSPI        16\n",
              "2582  KR7037440005     037440       희림  ...        KOSDAQ        16\n",
              "2583  KR7238490007     238490       힘스  ...        KOSDAQ        16\n",
              "\n",
              "[2584 rows x 8 columns]"
            ]
          },
          "metadata": {},
          "execution_count": 6
        }
      ]
    },
    {
      "cell_type": "code",
      "metadata": {
        "colab": {
          "base_uri": "https://localhost:8080/"
        },
        "id": "BQOjhTNpXrMY",
        "outputId": "6ee664ba-0ceb-4d1c-a970-ad67d7285aee"
      },
      "source": [
        "# 한국시간 설정\n",
        "import pytz\n",
        "\n",
        "KST = pytz.timezone('Asia/Seoul')\n",
        "today = int(datetime.now(KST).strftime(\"%Y%m%d\"))\n",
        "print(today)"
      ],
      "execution_count": null,
      "outputs": [
        {
          "output_type": "stream",
          "name": "stdout",
          "text": [
            "20210928\n"
          ]
        }
      ]
    },
    {
      "cell_type": "code",
      "metadata": {
        "id": "sEoS7feDNYOI"
      },
      "source": [
        "df = df.set_index('short_code')\n",
        "full_code = df.loc['005930']['full_code']\n",
        "# full_code = 'KR7005930003'"
      ],
      "execution_count": null,
      "outputs": []
    },
    {
      "cell_type": "code",
      "metadata": {
        "id": "ACE6qgGBQGVO"
      },
      "source": [
        "# 실행 안함\n",
        "# 웹에서 불러오는게 아니라 pickle로 저장한 데이터를 사용하기 위해\n",
        "\n",
        "\n",
        "strtDd = '19000101'\n",
        "endDd = today\n",
        "\n",
        "data2 = { 'bld': 'dbms/MDC/STAT/issue/MDCSTAT23902',\n",
        "  'isuCd': full_code,\n",
        "  'isuCd2': '',\n",
        "  'strtDd': strtDd,\n",
        "  'endDd': endDd,\n",
        "  'share': '1',\n",
        "  'money': '1',\n",
        "  'csvxls_isNo': 'false',}\n",
        "\n",
        "url2 = 'http://data.krx.co.kr/comm/bldAttendant/getJsonData.cmd'\n",
        "\n",
        "r2 = requests.post(url2, data2, headers)\n",
        "# print(r2)\n",
        "j2 = json.loads(r2.text)\n",
        "df2 = pd.DataFrame(j2['output'])\n",
        "df2"
      ],
      "execution_count": null,
      "outputs": []
    },
    {
      "cell_type": "code",
      "metadata": {
        "id": "by-XNclvFz-L"
      },
      "source": [
        "# 데이터프레임 전체 열 출력\n",
        "pd.set_option('display.max_columns', None)\n",
        "\n",
        "## Save pickle\n",
        "with open(res_path + \"df2.pickle\",\"wb\") as fw:\n",
        "    pickle.dump(df2, fw)"
      ],
      "execution_count": null,
      "outputs": []
    },
    {
      "cell_type": "code",
      "metadata": {
        "colab": {
          "base_uri": "https://localhost:8080/"
        },
        "id": "a-nu1mpTUrcJ",
        "outputId": "a6dca80c-86cf-43ff-ce07-8ed86634c699"
      },
      "source": [
        "## Load pickle\n",
        "# pickle로 저장되었던 데이터 출력 (어제까지의 데이터)\n",
        "with open(res_path + \"df2.pickle\",\"rb\") as fr:\n",
        "    df2 = pickle.load(fr)\n",
        "print(df2)"
      ],
      "execution_count": null,
      "outputs": [
        {
          "output_type": "stream",
          "name": "stdout",
          "text": [
            "          TRD_DD  ISU_CD  ...         ACC_TRDVAL               MKTCAP\n",
            "0     2021/09/24  005930  ...    947,054,144,957  461,464,191,115,000\n",
            "1     2021/09/23  005930  ...  1,318,209,157,168  462,061,169,370,000\n",
            "2     2021/09/17  005930  ...  1,250,677,861,383  460,867,212,860,000\n",
            "3     2021/09/16  005930  ...  1,000,180,664,750  454,300,452,055,000\n",
            "4     2021/09/15  005930  ...    987,846,688,544  459,673,256,350,000\n",
            "...          ...     ...  ...                ...                  ...\n",
            "6683  1995/05/08  005930  ...     11,127,115,000    6,578,606,045,000\n",
            "6684  1995/05/06  005930  ...      5,810,535,000    6,632,974,690,000\n",
            "6685  1995/05/04  005930  ...     21,609,210,000    6,660,159,012,500\n",
            "6686  1995/05/03  005930  ...     47,649,710,000    6,714,527,657,500\n",
            "6687  1995/05/02  005930  ...     16,676,735,000    6,497,053,077,500\n",
            "\n",
            "[6688 rows x 15 columns]\n"
          ]
        }
      ]
    },
    {
      "cell_type": "code",
      "metadata": {
        "colab": {
          "base_uri": "https://localhost:8080/"
        },
        "id": "6BRZoN4nTGJM",
        "outputId": "ce2df11d-5c98-4723-952a-ddbe1aece711"
      },
      "source": [
        "# 매일 pickle 데이터 불러와서 읽은 후 0행, 0열의 날짜 확인\n",
        "# 초기 데이터가 없는 데이터? -> if문 or try~except 예외처리\n",
        "import re\n",
        "\n",
        "date = df2.iloc[0,0]\n",
        "yesterday = int(re.sub('/','',date))\n",
        "print(yesterday)"
      ],
      "execution_count": null,
      "outputs": [
        {
          "output_type": "stream",
          "name": "stdout",
          "text": [
            "20210924\n"
          ]
        }
      ]
    },
    {
      "cell_type": "code",
      "metadata": {
        "colab": {
          "base_uri": "https://localhost:8080/",
          "height": 131
        },
        "id": "qscreJsnUP-p",
        "outputId": "5a41f6ca-8a21-450e-f0d1-69105bf56b76"
      },
      "source": [
        "strtDd = yesterday+1 #20210925\n",
        "endDd = today #20210928\n",
        "\n",
        "\n",
        "data2 = { 'bld': 'dbms/MDC/STAT/issue/MDCSTAT23902',\n",
        "  'isuCd': full_code,\n",
        "  'isuCd2': '',\n",
        "  'strtDd': strtDd,\n",
        "  'endDd': endDd,\n",
        "  'share': '1',\n",
        "  'money': '1',\n",
        "  'csvxls_isNo': 'false',}\n",
        "\n",
        "url2 = 'http://data.krx.co.kr/comm/bldAttendant/getJsonData.cmd'\n",
        "\n",
        "r2 = requests.post(url2, data2, headers)\n",
        "# print(r2)\n",
        "j2 = json.loads(r2.text)\n",
        "df3 = pd.DataFrame(j2['output'])\n",
        "df3"
      ],
      "execution_count": null,
      "outputs": [
        {
          "output_type": "execute_result",
          "data": {
            "text/html": [
              "<div>\n",
              "<style scoped>\n",
              "    .dataframe tbody tr th:only-of-type {\n",
              "        vertical-align: middle;\n",
              "    }\n",
              "\n",
              "    .dataframe tbody tr th {\n",
              "        vertical-align: top;\n",
              "    }\n",
              "\n",
              "    .dataframe thead th {\n",
              "        text-align: right;\n",
              "    }\n",
              "</style>\n",
              "<table border=\"1\" class=\"dataframe\">\n",
              "  <thead>\n",
              "    <tr style=\"text-align: right;\">\n",
              "      <th></th>\n",
              "      <th>TRD_DD</th>\n",
              "      <th>ISU_CD</th>\n",
              "      <th>ISU_NM</th>\n",
              "      <th>MKT_NM</th>\n",
              "      <th>SECUGRP_NM</th>\n",
              "      <th>TDD_CLSPRC</th>\n",
              "      <th>FLUC_TP_CD</th>\n",
              "      <th>CMPPRVDD_PRC</th>\n",
              "      <th>FLUC_RT</th>\n",
              "      <th>TDD_OPNPRC</th>\n",
              "      <th>TDD_HGPRC</th>\n",
              "      <th>TDD_LWPRC</th>\n",
              "      <th>ACC_TRDVOL</th>\n",
              "      <th>ACC_TRDVAL</th>\n",
              "      <th>MKTCAP</th>\n",
              "    </tr>\n",
              "  </thead>\n",
              "  <tbody>\n",
              "    <tr>\n",
              "      <th>0</th>\n",
              "      <td>2021/09/28</td>\n",
              "      <td>005930</td>\n",
              "      <td>삼성전자</td>\n",
              "      <td>KOSPI</td>\n",
              "      <td>주권</td>\n",
              "      <td>76,900</td>\n",
              "      <td>2</td>\n",
              "      <td>-800</td>\n",
              "      <td>-1.03</td>\n",
              "      <td>77,700</td>\n",
              "      <td>77,800</td>\n",
              "      <td>76,700</td>\n",
              "      <td>6,822,878</td>\n",
              "      <td>526,210,928,900</td>\n",
              "      <td>459,076,278,095,000</td>\n",
              "    </tr>\n",
              "    <tr>\n",
              "      <th>1</th>\n",
              "      <td>2021/09/27</td>\n",
              "      <td>005930</td>\n",
              "      <td>삼성전자</td>\n",
              "      <td>KOSPI</td>\n",
              "      <td>주권</td>\n",
              "      <td>77,700</td>\n",
              "      <td>1</td>\n",
              "      <td>400</td>\n",
              "      <td>0.52</td>\n",
              "      <td>77,300</td>\n",
              "      <td>77,700</td>\n",
              "      <td>77,000</td>\n",
              "      <td>11,699,798</td>\n",
              "      <td>906,520,162,508</td>\n",
              "      <td>463,852,104,135,000</td>\n",
              "    </tr>\n",
              "  </tbody>\n",
              "</table>\n",
              "</div>"
            ],
            "text/plain": [
              "       TRD_DD  ISU_CD ISU_NM  ...  ACC_TRDVOL       ACC_TRDVAL               MKTCAP\n",
              "0  2021/09/28  005930   삼성전자  ...   6,822,878  526,210,928,900  459,076,278,095,000\n",
              "1  2021/09/27  005930   삼성전자  ...  11,699,798  906,520,162,508  463,852,104,135,000\n",
              "\n",
              "[2 rows x 15 columns]"
            ]
          },
          "metadata": {},
          "execution_count": 8
        }
      ]
    },
    {
      "cell_type": "code",
      "metadata": {
        "colab": {
          "base_uri": "https://localhost:8080/"
        },
        "id": "7S0zBmzJYChF",
        "outputId": "911f5f40-96e5-4161-cc59-6fce8940da46"
      },
      "source": [
        "result = pd.concat([df3, df2], ignore_index = True)\n",
        "print(result)"
      ],
      "execution_count": null,
      "outputs": [
        {
          "output_type": "stream",
          "name": "stdout",
          "text": [
            "          TRD_DD  ISU_CD  ...         ACC_TRDVAL               MKTCAP\n",
            "0     2021/09/28  005930  ...    526,210,928,900  459,076,278,095,000\n",
            "1     2021/09/27  005930  ...    906,520,162,508  463,852,104,135,000\n",
            "2     2021/09/24  005930  ...    947,054,144,957  461,464,191,115,000\n",
            "3     2021/09/23  005930  ...  1,318,209,157,168  462,061,169,370,000\n",
            "4     2021/09/17  005930  ...  1,250,677,861,383  460,867,212,860,000\n",
            "...          ...     ...  ...                ...                  ...\n",
            "6685  1995/05/08  005930  ...     11,127,115,000    6,578,606,045,000\n",
            "6686  1995/05/06  005930  ...      5,810,535,000    6,632,974,690,000\n",
            "6687  1995/05/04  005930  ...     21,609,210,000    6,660,159,012,500\n",
            "6688  1995/05/03  005930  ...     47,649,710,000    6,714,527,657,500\n",
            "6689  1995/05/02  005930  ...     16,676,735,000    6,497,053,077,500\n",
            "\n",
            "[6690 rows x 15 columns]\n"
          ]
        }
      ]
    },
    {
      "cell_type": "code",
      "metadata": {
        "id": "Rmf2ERbwF62f"
      },
      "source": [
        "## Save pickle (업데이트된 데이터프레임 다시 저장)\n",
        "with open(res_path + \"df2.pickle\",\"wb\") as fw:\n",
        "    pickle.dump(result, fw)"
      ],
      "execution_count": null,
      "outputs": []
    },
    {
      "cell_type": "code",
      "metadata": {
        "id": "t6HV2FxQZA6U"
      },
      "source": [
        "# schedule 라이브러리: 정해진 시간에 파이썬(Python) 스크립트 자동 실행\n",
        "# 다른 종목 수집?\n",
        "# 최종 산출물에 필요한 컬럼?\n",
        "# 파일 저장 형태 : json ?"
      ],
      "execution_count": null,
      "outputs": []
    },
    {
      "cell_type": "code",
      "metadata": {
        "colab": {
          "base_uri": "https://localhost:8080/"
        },
        "id": "UP9cg9KkMpgD",
        "outputId": "f89668ec-0c2b-4862-f322-6c0af08b0ba8"
      },
      "source": [
        "!git clone https://github.com/baeksumin/k-project.git"
      ],
      "execution_count": 1,
      "outputs": [
        {
          "output_type": "stream",
          "name": "stdout",
          "text": [
            "Cloning into 'k-project'...\n",
            "remote: Enumerating objects: 12, done.\u001b[K\n",
            "remote: Counting objects: 100% (12/12), done.\u001b[K\n",
            "remote: Compressing objects: 100% (10/10), done.\u001b[K\n",
            "remote: Total 12 (delta 3), reused 0 (delta 0), pack-reused 0\u001b[K\n",
            "Unpacking objects: 100% (12/12), done.\n"
          ]
        }
      ]
    },
    {
      "cell_type": "code",
      "metadata": {
        "colab": {
          "base_uri": "https://localhost:8080/"
        },
        "id": "Wvu1dRY5Mz_e",
        "outputId": "78e2be56-b541-47dd-cd4f-c79176b6d2b4"
      },
      "source": [
        "!git branch"
      ],
      "execution_count": 3,
      "outputs": [
        {
          "output_type": "stream",
          "name": "stdout",
          "text": [
            "fatal: not a git repository (or any of the parent directories): .git\n"
          ]
        }
      ]
    },
    {
      "cell_type": "code",
      "metadata": {
        "id": "dg4Dqk3uPkbu"
      },
      "source": [
        ""
      ],
      "execution_count": null,
      "outputs": []
    }
  ]
}