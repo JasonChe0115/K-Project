{
  "nbformat": 4,
  "nbformat_minor": 0,
  "metadata": {
    "colab": {
      "name": "datacollection_2.ipynb",
      "provenance": [],
      "collapsed_sections": [],
      "authorship_tag": "ABX9TyNkTRhjGPHm4UrCH9XenV2R",
      "include_colab_link": true
    },
    "kernelspec": {
      "name": "python3",
      "display_name": "Python 3"
    },
    "language_info": {
      "name": "python"
    }
  },
  "cells": [
    {
      "cell_type": "markdown",
      "metadata": {
        "id": "view-in-github",
        "colab_type": "text"
      },
      "source": [
        "<a href=\"https://colab.research.google.com/github/baeksumin/k-project/blob/main/datacollection_2.ipynb\" target=\"_parent\"><img src=\"https://colab.research.google.com/assets/colab-badge.svg\" alt=\"Open In Colab\"/></a>"
      ]
    },
    {
      "cell_type": "code",
      "metadata": {
        "id": "K4n9dcih5AXq",
        "colab": {
          "base_uri": "https://localhost:8080/"
        },
        "outputId": "aa834ee0-49d5-496e-f0f6-874bcce71429"
      },
      "source": [
        "import re\n",
        "import json\n",
        "import pytz\n",
        "import requests\n",
        "import pandas as pd\n",
        "from io import BytesIO\n",
        "from datetime import datetime \n",
        "from datetime import timedelta\n",
        "import pickle\n",
        "from google.colab import drive\n",
        "\n",
        "drive.mount('/content/drive')\n",
        "data_path = '/content/drive/MyDrive/[Shared]K-Project/data/'"
      ],
      "execution_count": 1,
      "outputs": [
        {
          "output_type": "stream",
          "name": "stdout",
          "text": [
            "Mounted at /content/drive\n"
          ]
        }
      ]
    },
    {
      "cell_type": "code",
      "metadata": {
        "id": "erbjUC2KR-EC",
        "colab": {
          "base_uri": "https://localhost:8080/"
        },
        "outputId": "87da6ce5-d3dc-47c9-c005-9d0e3bde8e27"
      },
      "source": [
        "## Load pickle - fullcode 목록\n",
        "with open(data_path + 'full_code.pkl',\"rb\") as f: \n",
        "    fullcode = pickle.load(f)\n",
        "    \n",
        "# 상장폐지 상태 제외시키기\n",
        "fullcode_filter = fullcode[fullcode['status'] != '상장폐지']\n",
        "\n",
        "# fullcode열을 list로 변경\n",
        "fullcode_list = list(fullcode_filter['full_code'])\n",
        "print(fullcode_list[:10])\n",
        "print(len(fullcode_list))"
      ],
      "execution_count": 2,
      "outputs": [
        {
          "output_type": "stream",
          "name": "stdout",
          "text": [
            "['KR7060310000', 'KR7095570008', 'KR7006840003', 'KR7054620000', 'KR7265520007', 'KR7211270004', 'KR7027410000', 'KR7282330000', 'KR7138930003', 'KR7001460005']\n",
            "2585\n"
          ]
        }
      ]
    },
    {
      "cell_type": "code",
      "metadata": {
        "colab": {
          "base_uri": "https://localhost:8080/"
        },
        "id": "BQOjhTNpXrMY",
        "outputId": "45cb05ef-d547-49bb-9089-7e674802dea8"
      },
      "source": [
        "# 한국날짜 설정\n",
        "def kor_date():\n",
        "    tz = pytz.timezone('Asia/Seoul')  \n",
        "    raw_dates = datetime.now(tz)\n",
        "    yes = raw_dates - timedelta(1) \n",
        "    yesterday =  yes.strftime(\"%Y%m%d\")  \n",
        "    return yesterday\n",
        "a = kor_date()\n",
        "print(a)"
      ],
      "execution_count": 8,
      "outputs": [
        {
          "output_type": "stream",
          "name": "stdout",
          "text": [
            "20211007\n"
          ]
        }
      ]
    },
    {
      "cell_type": "code",
      "metadata": {
        "id": "qscreJsnUP-p"
      },
      "source": [
        "# 데이터 가져와서 필요 컬럼 추출 후 데이터프레임 생성하여 json으로 저장하는 함수\n",
        "def make_initialdata(code):\n",
        "    global result\n",
        "    \n",
        "    data2 = { 'bld': 'dbms/MDC/STAT/issue/MDCSTAT23902',\n",
        "    'isuCd': code, \n",
        "    'isuCd2': '',\n",
        "    'strtDd': strtDd,\n",
        "    'endDd': endDd,\n",
        "    'share': '1',\n",
        "    'money': '1',\n",
        "    'csvxls_isNo': 'false',}\n",
        "\n",
        "    r2 = requests.post(url2, data2, headers)\n",
        "    j2 = json.loads(r2.text)\n",
        "    df2 = pd.DataFrame(j2['output'])\n",
        "    # print(df2)\n",
        "\n",
        "    data3 = { 'bld': 'dbms/MDC/STAT/standard/MDCSTAT03502',\n",
        "    'isuCd': code,\n",
        "    'isuCd2': code,\n",
        "    'strtDd': strtDd,\n",
        "    'endDd': endDd,\n",
        "    'searchType': '2',\n",
        "    'mktId': 'ALL',\n",
        "    'csvxls_isNo': 'false',}\n",
        "\n",
        "    r2 = requests.post(url2, data3, headers)\n",
        "    j2 = json.loads(r2.text)\n",
        "    df3 = pd.DataFrame(j2['output'])\n",
        "    # print(df3)\n",
        "\n",
        "    if len(df2.columns) > 0: # df2에 column이 존재하면 (df가 비어서 에러나는 경우 방지)\n",
        "        df2_ = df2[['TRD_DD', 'ISU_CD', 'ISU_NM', 'TDD_CLSPRC', 'TDD_OPNPRC', 'TDD_HGPRC', 'TDD_LWPRC', 'MKTCAP']]\n",
        "    else: # df가 비었을때 column 생성해줌\n",
        "        df2_ = pd.DataFrame(index = range(0,len(df3)),\n",
        "                           columns = ['TRD_DD', 'ISU_CD', 'ISU_NM', 'TDD_CLSPRC', 'TDD_OPNPRC', 'TDD_HGPRC', 'TDD_LWPRC', 'MKTCAP'])\n",
        "\n",
        "    if len(df3.columns) > 0:\n",
        "        df3_ = df3[['EPS', 'PER', 'BPS', 'PBR', 'DPS', 'DVD_YLD']]\n",
        "    else:\n",
        "        df3_ = pd.DataFrame(index = range(0,len(df2)),\n",
        "                           columns = ['EPS', 'PER', 'BPS', 'PBR', 'DPS', 'DVD_YLD'])\n",
        " \n",
        "    result = pd.concat([df2_, df3_], axis = 1)\n",
        "    print(result)\n",
        "\n",
        "    # result_js = result.to_json(orient = 'columns') # 데이터프레임을 json 형태로 변환\n",
        "    # result_dict[i] = result_js # fullcode가 key값이 되고 json이 value값이 됨\n",
        "    # print(len(result_dict)) # 현재 상황을 알기위해 몇개의 종목이 저장되었는지 갯수 확인"
      ],
      "execution_count": 14,
      "outputs": []
    },
    {
      "cell_type": "code",
      "metadata": {
        "colab": {
          "base_uri": "https://localhost:8080/"
        },
        "id": "T5_Nhw7tqCFg",
        "outputId": "d3001f67-96f3-4622-8d91-c18aef1282ed"
      },
      "source": [
        "url2 = 'http://data.krx.co.kr/comm/bldAttendant/getJsonData.cmd'\n",
        "headers = {'User-Agent': 'Chrome/78.0.3904.87 Safari/537.36',}\n",
        "\n",
        "result_dict = {}\n",
        "for i in fullcode_list[:1]: # 테스트를 위해 1개만 실행\n",
        "    print('fullcode:',i)\n",
        "    with open(data_path + 'initial_data1.json',\"r\") as json_file:\n",
        "        json_data = json.load(json_file) # json file open\n",
        "\n",
        "    df = pd.read_json(json_data[i], orient ='index') # 첫번째 키값으로 데이터프레임 변환\n",
        "    json_df = df.transpose()\n",
        "    print('원래있던 데이터--------------------------------------------------------')\n",
        "    print(json_df)\n",
        "\n",
        "    date = json_df.iloc[0,0] # 수집된 데이터의 마지막 날짜 확인\n",
        "    yesterday = re.sub('/','-',date)\n",
        "    yesterday = datetime.strptime(yesterday, '%Y-%m-%d') + timedelta(days = 1)\n",
        "    yesterday = yesterday.strftime(\"%Y%m%d\")\n",
        "\n",
        "    strtDd = yesterday # 수집된 데이터의 마지막 날짜\n",
        "    endDd = kor_date() # 10월 8일 00:30 코드실행이라면 10월 7일까지의 데이터 가져와야 함\n",
        "    print('strtDd: ', strtDd)\n",
        "    print('endDd: ', endDd)\n",
        "\n",
        "    print('새로 수집된 데이터------------------------------------------------------')\n",
        "    make_initialdata(i)\n",
        "    \n",
        "    a = pd.concat([result, json_df], axis = 0)\n",
        "    print('최종데이터 -----------------------------------------------------------')\n",
        "    print(a)\n",
        "    \n",
        "# # 최종 결과물 저장   \n",
        "# with open('/content/drive/MyDrive/k-project/output/initial_data.json', 'w') as f:\n",
        "#     json.dump(result_dict, f)"
      ],
      "execution_count": 17,
      "outputs": [
        {
          "output_type": "stream",
          "name": "stdout",
          "text": [
            "fullcode: KR7060310000\n",
            "원래있던 데이터--------------------------------------------------------\n",
            "          TRD_DD  ISU_CD  ISU_NM TDD_CLSPRC  ...  BPS   PBR DPS DVD_YLD\n",
            "0     2021/10/06  060310      3S      3,615  ...  792  4.56   0    0.00\n",
            "1     2021/10/05  060310      3S      3,870  ...  792  4.89   0    0.00\n",
            "2     2021/10/01  060310      3S      3,960  ...  792  5.00   0    0.00\n",
            "3     2021/09/30  060310      3S      4,105  ...  792  5.18   0    0.00\n",
            "4     2021/09/29  060310      3S      4,160  ...  792  5.25   0    0.00\n",
            "...          ...     ...     ...        ...  ...  ...   ...  ..     ...\n",
            "4806  2002/04/29  060310  삼에스코리아      6,780  ...    -     -   -       -\n",
            "4807  2002/04/26  060310  삼에스코리아      7,700  ...    -     -   -       -\n",
            "4808  2002/04/25  060310  삼에스코리아      8,750  ...    -     -   -       -\n",
            "4809  2002/04/24  060310  삼에스코리아      8,510  ...    -     -   -       -\n",
            "4810  2002/04/23  060310  삼에스코리아      7,600  ...    -     -   -       -\n",
            "\n",
            "[4811 rows x 14 columns]\n",
            "strtDd:  20211007\n",
            "endDd:  20211007\n",
            "새로 수집된 데이터------------------------------------------------------\n",
            "       TRD_DD  ISU_CD ISU_NM TDD_CLSPRC  ...  BPS   PBR DPS DVD_YLD\n",
            "0  2021/10/07  060310     3S      3,715  ...  792  4.69   0    0.00\n",
            "\n",
            "[1 rows x 14 columns]\n",
            "최종데이터 -----------------------------------------------------------\n",
            "          TRD_DD  ISU_CD  ISU_NM TDD_CLSPRC  ...  BPS   PBR DPS DVD_YLD\n",
            "0     2021/10/07  060310      3S      3,715  ...  792  4.69   0    0.00\n",
            "0     2021/10/06  060310      3S      3,615  ...  792  4.56   0    0.00\n",
            "1     2021/10/05  060310      3S      3,870  ...  792  4.89   0    0.00\n",
            "2     2021/10/01  060310      3S      3,960  ...  792  5.00   0    0.00\n",
            "3     2021/09/30  060310      3S      4,105  ...  792  5.18   0    0.00\n",
            "...          ...     ...     ...        ...  ...  ...   ...  ..     ...\n",
            "4806  2002/04/29  060310  삼에스코리아      6,780  ...    -     -   -       -\n",
            "4807  2002/04/26  060310  삼에스코리아      7,700  ...    -     -   -       -\n",
            "4808  2002/04/25  060310  삼에스코리아      8,750  ...    -     -   -       -\n",
            "4809  2002/04/24  060310  삼에스코리아      8,510  ...    -     -   -       -\n",
            "4810  2002/04/23  060310  삼에스코리아      7,600  ...    -     -   -       -\n",
            "\n",
            "[4812 rows x 14 columns]\n"
          ]
        }
      ]
    },
    {
      "cell_type": "code",
      "metadata": {
        "id": "AJO5J06Xo61h"
      },
      "source": [
        ""
      ],
      "execution_count": null,
      "outputs": []
    }
  ]
}