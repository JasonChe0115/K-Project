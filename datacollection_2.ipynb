{
  "nbformat": 4,
  "nbformat_minor": 0,
  "metadata": {
    "colab": {
      "name": "datacollection_2.ipynb",
      "provenance": [],
      "collapsed_sections": [],
      "authorship_tag": "ABX9TyOaMaqmLftutsq7id8eXkiC",
      "include_colab_link": true
    },
    "kernelspec": {
      "name": "python3",
      "display_name": "Python 3"
    },
    "language_info": {
      "name": "python"
    }
  },
  "cells": [
    {
      "cell_type": "markdown",
      "metadata": {
        "id": "view-in-github",
        "colab_type": "text"
      },
      "source": [
        "<a href=\"https://colab.research.google.com/github/baeksumin/k-project/blob/main/datacollection_2.ipynb\" target=\"_parent\"><img src=\"https://colab.research.google.com/assets/colab-badge.svg\" alt=\"Open In Colab\"/></a>"
      ]
    },
    {
      "cell_type": "code",
      "metadata": {
        "id": "8WBXRjRJGuVk"
      },
      "source": [
        "'''\n",
        "1. pickle 로드\n",
        "2. 로드된 df에서 마지막 수집날짜 확인\n",
        "3. (마지막 수집날짜+1 ~ 오늘) 데이터 수집 (웹에서 불러옴)\n",
        "4. 기존 df와 3.의 df 병합 (concat)\n",
        "5. 새로운 df 다시 pickle 저장\n",
        "\n",
        "(매일 실행)\n",
        "'''"
      ],
      "execution_count": null,
      "outputs": []
    },
    {
      "cell_type": "code",
      "metadata": {
        "id": "K4n9dcih5AXq",
        "colab": {
          "base_uri": "https://localhost:8080/"
        },
        "outputId": "5dab6d93-98dc-4872-b4e2-134cb225022c"
      },
      "source": [
        "import re\n",
        "import json\n",
        "import requests\n",
        "import pandas as pd\n",
        "from io import BytesIO\n",
        "from datetime import datetime \n",
        "from datetime import timedelta\n",
        "import pickle\n",
        "from google.colab import drive\n",
        "\n",
        "drive.mount('/content/drive')\n",
        "data_path = '/content/drive/MyDrive/[Shared]K-Project/'\n",
        "output_path = '/content/drive/MyDrive/k-project/output/'\n",
        "# pickle 경로를 설정하기 위해"
      ],
      "execution_count": 1,
      "outputs": [
        {
          "output_type": "stream",
          "name": "stdout",
          "text": [
            "Mounted at /content/drive\n"
          ]
        }
      ]
    },
    {
      "cell_type": "code",
      "metadata": {
        "colab": {
          "base_uri": "https://localhost:8080/"
        },
        "id": "BQOjhTNpXrMY",
        "outputId": "88d969ae-c75e-414e-8252-bc4dc077e14a"
      },
      "source": [
        "# 한국시간 설정\n",
        "import pytz\n",
        "\n",
        "KST = pytz.timezone('Asia/Seoul')\n",
        "today = str(datetime.now(KST).strftime(\"%Y%m%d\"))\n",
        "print(today)"
      ],
      "execution_count": 2,
      "outputs": [
        {
          "output_type": "stream",
          "name": "stdout",
          "text": [
            "20211003\n"
          ]
        }
      ]
    },
    {
      "cell_type": "code",
      "metadata": {
        "id": "erbjUC2KR-EC",
        "colab": {
          "base_uri": "https://localhost:8080/",
          "height": 424
        },
        "outputId": "fbb948db-5e97-4d38-8812-350cd6d71313"
      },
      "source": [
        "## Load pickle - fullcode 목록\n",
        "with open(data_path + 'full_code.pkl',\"rb\") as f: \n",
        "    fullcode = pickle.load(f)\n",
        "fullcode"
      ],
      "execution_count": 3,
      "outputs": [
        {
          "output_type": "execute_result",
          "data": {
            "text/html": [
              "<div>\n",
              "<style scoped>\n",
              "    .dataframe tbody tr th:only-of-type {\n",
              "        vertical-align: middle;\n",
              "    }\n",
              "\n",
              "    .dataframe tbody tr th {\n",
              "        vertical-align: top;\n",
              "    }\n",
              "\n",
              "    .dataframe thead th {\n",
              "        text-align: right;\n",
              "    }\n",
              "</style>\n",
              "<table border=\"1\" class=\"dataframe\">\n",
              "  <thead>\n",
              "    <tr style=\"text-align: right;\">\n",
              "      <th></th>\n",
              "      <th>full_code</th>\n",
              "      <th>short_code</th>\n",
              "      <th>codeName</th>\n",
              "      <th>marketEngName</th>\n",
              "      <th>status</th>\n",
              "    </tr>\n",
              "  </thead>\n",
              "  <tbody>\n",
              "    <tr>\n",
              "      <th>0</th>\n",
              "      <td>KR7060310000</td>\n",
              "      <td>060310</td>\n",
              "      <td>3S</td>\n",
              "      <td>KOSDAQ</td>\n",
              "      <td>상장</td>\n",
              "    </tr>\n",
              "    <tr>\n",
              "      <th>1</th>\n",
              "      <td>KR7095570008</td>\n",
              "      <td>095570</td>\n",
              "      <td>AJ네트웍스</td>\n",
              "      <td>KOSPI</td>\n",
              "      <td>상장</td>\n",
              "    </tr>\n",
              "    <tr>\n",
              "      <th>2</th>\n",
              "      <td>KR7006840003</td>\n",
              "      <td>006840</td>\n",
              "      <td>AK홀딩스</td>\n",
              "      <td>KOSPI</td>\n",
              "      <td>상장</td>\n",
              "    </tr>\n",
              "    <tr>\n",
              "      <th>3</th>\n",
              "      <td>KR7054620000</td>\n",
              "      <td>054620</td>\n",
              "      <td>APS홀딩스</td>\n",
              "      <td>KOSDAQ</td>\n",
              "      <td>상장</td>\n",
              "    </tr>\n",
              "    <tr>\n",
              "      <th>4</th>\n",
              "      <td>KR7265520007</td>\n",
              "      <td>265520</td>\n",
              "      <td>AP시스템</td>\n",
              "      <td>KOSDAQ</td>\n",
              "      <td>상장</td>\n",
              "    </tr>\n",
              "    <tr>\n",
              "      <th>...</th>\n",
              "      <td>...</td>\n",
              "      <td>...</td>\n",
              "      <td>...</td>\n",
              "      <td>...</td>\n",
              "      <td>...</td>\n",
              "    </tr>\n",
              "    <tr>\n",
              "      <th>2580</th>\n",
              "      <td>KR7000542001</td>\n",
              "      <td>000547</td>\n",
              "      <td>흥국화재2우B</td>\n",
              "      <td>KOSPI</td>\n",
              "      <td>상장</td>\n",
              "    </tr>\n",
              "    <tr>\n",
              "      <th>2581</th>\n",
              "      <td>KR7000541003</td>\n",
              "      <td>000545</td>\n",
              "      <td>흥국화재우</td>\n",
              "      <td>KOSPI</td>\n",
              "      <td>상장</td>\n",
              "    </tr>\n",
              "    <tr>\n",
              "      <th>2582</th>\n",
              "      <td>KR7003280005</td>\n",
              "      <td>003280</td>\n",
              "      <td>흥아해운</td>\n",
              "      <td>KOSPI</td>\n",
              "      <td>상장</td>\n",
              "    </tr>\n",
              "    <tr>\n",
              "      <th>2583</th>\n",
              "      <td>KR7037440005</td>\n",
              "      <td>037440</td>\n",
              "      <td>희림</td>\n",
              "      <td>KOSDAQ</td>\n",
              "      <td>상장</td>\n",
              "    </tr>\n",
              "    <tr>\n",
              "      <th>2584</th>\n",
              "      <td>KR7238490007</td>\n",
              "      <td>238490</td>\n",
              "      <td>힘스</td>\n",
              "      <td>KOSDAQ</td>\n",
              "      <td>상장</td>\n",
              "    </tr>\n",
              "  </tbody>\n",
              "</table>\n",
              "<p>2585 rows × 5 columns</p>\n",
              "</div>"
            ],
            "text/plain": [
              "         full_code short_code codeName marketEngName status\n",
              "0     KR7060310000     060310       3S        KOSDAQ     상장\n",
              "1     KR7095570008     095570   AJ네트웍스         KOSPI     상장\n",
              "2     KR7006840003     006840    AK홀딩스         KOSPI     상장\n",
              "3     KR7054620000     054620   APS홀딩스        KOSDAQ     상장\n",
              "4     KR7265520007     265520    AP시스템        KOSDAQ     상장\n",
              "...            ...        ...      ...           ...    ...\n",
              "2580  KR7000542001     000547  흥국화재2우B         KOSPI     상장\n",
              "2581  KR7000541003     000545    흥국화재우         KOSPI     상장\n",
              "2582  KR7003280005     003280     흥아해운         KOSPI     상장\n",
              "2583  KR7037440005     037440       희림        KOSDAQ     상장\n",
              "2584  KR7238490007     238490       힘스        KOSDAQ     상장\n",
              "\n",
              "[2585 rows x 5 columns]"
            ]
          },
          "metadata": {},
          "execution_count": 3
        }
      ]
    },
    {
      "cell_type": "code",
      "metadata": {
        "id": "sEoS7feDNYOI",
        "colab": {
          "base_uri": "https://localhost:8080/",
          "height": 424
        },
        "outputId": "a90d965f-e82a-4b33-9df8-c79eef4e54f2"
      },
      "source": [
        "# 상장폐지 상태 제외시키기\n",
        "fullcode_filter = fullcode[fullcode['status'] != '상장폐지']\n",
        "fullcode_filter"
      ],
      "execution_count": 4,
      "outputs": [
        {
          "output_type": "execute_result",
          "data": {
            "text/html": [
              "<div>\n",
              "<style scoped>\n",
              "    .dataframe tbody tr th:only-of-type {\n",
              "        vertical-align: middle;\n",
              "    }\n",
              "\n",
              "    .dataframe tbody tr th {\n",
              "        vertical-align: top;\n",
              "    }\n",
              "\n",
              "    .dataframe thead th {\n",
              "        text-align: right;\n",
              "    }\n",
              "</style>\n",
              "<table border=\"1\" class=\"dataframe\">\n",
              "  <thead>\n",
              "    <tr style=\"text-align: right;\">\n",
              "      <th></th>\n",
              "      <th>full_code</th>\n",
              "      <th>short_code</th>\n",
              "      <th>codeName</th>\n",
              "      <th>marketEngName</th>\n",
              "      <th>status</th>\n",
              "    </tr>\n",
              "  </thead>\n",
              "  <tbody>\n",
              "    <tr>\n",
              "      <th>0</th>\n",
              "      <td>KR7060310000</td>\n",
              "      <td>060310</td>\n",
              "      <td>3S</td>\n",
              "      <td>KOSDAQ</td>\n",
              "      <td>상장</td>\n",
              "    </tr>\n",
              "    <tr>\n",
              "      <th>1</th>\n",
              "      <td>KR7095570008</td>\n",
              "      <td>095570</td>\n",
              "      <td>AJ네트웍스</td>\n",
              "      <td>KOSPI</td>\n",
              "      <td>상장</td>\n",
              "    </tr>\n",
              "    <tr>\n",
              "      <th>2</th>\n",
              "      <td>KR7006840003</td>\n",
              "      <td>006840</td>\n",
              "      <td>AK홀딩스</td>\n",
              "      <td>KOSPI</td>\n",
              "      <td>상장</td>\n",
              "    </tr>\n",
              "    <tr>\n",
              "      <th>3</th>\n",
              "      <td>KR7054620000</td>\n",
              "      <td>054620</td>\n",
              "      <td>APS홀딩스</td>\n",
              "      <td>KOSDAQ</td>\n",
              "      <td>상장</td>\n",
              "    </tr>\n",
              "    <tr>\n",
              "      <th>4</th>\n",
              "      <td>KR7265520007</td>\n",
              "      <td>265520</td>\n",
              "      <td>AP시스템</td>\n",
              "      <td>KOSDAQ</td>\n",
              "      <td>상장</td>\n",
              "    </tr>\n",
              "    <tr>\n",
              "      <th>...</th>\n",
              "      <td>...</td>\n",
              "      <td>...</td>\n",
              "      <td>...</td>\n",
              "      <td>...</td>\n",
              "      <td>...</td>\n",
              "    </tr>\n",
              "    <tr>\n",
              "      <th>2580</th>\n",
              "      <td>KR7000542001</td>\n",
              "      <td>000547</td>\n",
              "      <td>흥국화재2우B</td>\n",
              "      <td>KOSPI</td>\n",
              "      <td>상장</td>\n",
              "    </tr>\n",
              "    <tr>\n",
              "      <th>2581</th>\n",
              "      <td>KR7000541003</td>\n",
              "      <td>000545</td>\n",
              "      <td>흥국화재우</td>\n",
              "      <td>KOSPI</td>\n",
              "      <td>상장</td>\n",
              "    </tr>\n",
              "    <tr>\n",
              "      <th>2582</th>\n",
              "      <td>KR7003280005</td>\n",
              "      <td>003280</td>\n",
              "      <td>흥아해운</td>\n",
              "      <td>KOSPI</td>\n",
              "      <td>상장</td>\n",
              "    </tr>\n",
              "    <tr>\n",
              "      <th>2583</th>\n",
              "      <td>KR7037440005</td>\n",
              "      <td>037440</td>\n",
              "      <td>희림</td>\n",
              "      <td>KOSDAQ</td>\n",
              "      <td>상장</td>\n",
              "    </tr>\n",
              "    <tr>\n",
              "      <th>2584</th>\n",
              "      <td>KR7238490007</td>\n",
              "      <td>238490</td>\n",
              "      <td>힘스</td>\n",
              "      <td>KOSDAQ</td>\n",
              "      <td>상장</td>\n",
              "    </tr>\n",
              "  </tbody>\n",
              "</table>\n",
              "<p>2584 rows × 5 columns</p>\n",
              "</div>"
            ],
            "text/plain": [
              "         full_code short_code codeName marketEngName status\n",
              "0     KR7060310000     060310       3S        KOSDAQ     상장\n",
              "1     KR7095570008     095570   AJ네트웍스         KOSPI     상장\n",
              "2     KR7006840003     006840    AK홀딩스         KOSPI     상장\n",
              "3     KR7054620000     054620   APS홀딩스        KOSDAQ     상장\n",
              "4     KR7265520007     265520    AP시스템        KOSDAQ     상장\n",
              "...            ...        ...      ...           ...    ...\n",
              "2580  KR7000542001     000547  흥국화재2우B         KOSPI     상장\n",
              "2581  KR7000541003     000545    흥국화재우         KOSPI     상장\n",
              "2582  KR7003280005     003280     흥아해운         KOSPI     상장\n",
              "2583  KR7037440005     037440       희림        KOSDAQ     상장\n",
              "2584  KR7238490007     238490       힘스        KOSDAQ     상장\n",
              "\n",
              "[2584 rows x 5 columns]"
            ]
          },
          "metadata": {},
          "execution_count": 4
        }
      ]
    },
    {
      "cell_type": "code",
      "metadata": {
        "colab": {
          "base_uri": "https://localhost:8080/"
        },
        "id": "knaJZWjtZW_A",
        "outputId": "de6aae73-0779-492d-c6f9-92cb0c6582bd"
      },
      "source": [
        "fullcode_list = list(fullcode_filter['full_code'])\n",
        "print(fullcode_list[:10])\n",
        "# fullcode열을 list로 변경 후 확인"
      ],
      "execution_count": 10,
      "outputs": [
        {
          "output_type": "stream",
          "name": "stdout",
          "text": [
            "['KR7060310000', 'KR7095570008', 'KR7006840003', 'KR7054620000', 'KR7265520007', 'KR7211270004', 'KR7027410000', 'KR7282330000', 'KR7138930003', 'KR7001460005']\n"
          ]
        }
      ]
    },
    {
      "cell_type": "code",
      "metadata": {
        "colab": {
          "base_uri": "https://localhost:8080/"
        },
        "id": "a-nu1mpTUrcJ",
        "outputId": "9050a5d8-34b4-4e28-e346-4e3e46110337"
      },
      "source": [
        "## Load pickle\n",
        "# pickle로 저장되었던 데이터 출력 (어제까지의 데이터)\n",
        "with open(output_path + \"3S.pickle\",\"rb\") as fr:\n",
        "    s3 = pickle.load(fr)\n",
        "print(s3)"
      ],
      "execution_count": 6,
      "outputs": [
        {
          "output_type": "stream",
          "name": "stdout",
          "text": [
            "          TRD_DD  ISU_CD  ISU_NM TDD_CLSPRC  ...  BPS   PBR DPS DVD_YLD\n",
            "0     2021/10/01  060310      3S      3,960  ...  792  5.00   0    0.00\n",
            "1     2021/09/30  060310      3S      4,105  ...  792  5.18   0    0.00\n",
            "2     2021/09/29  060310      3S      4,160  ...  792  5.25   0    0.00\n",
            "3     2021/09/28  060310      3S      3,985  ...  792  5.03   0    0.00\n",
            "4     2021/09/27  060310      3S      4,115  ...  792  5.20   0    0.00\n",
            "...          ...     ...     ...        ...  ...  ...   ...  ..     ...\n",
            "4804  2002/04/29  060310  삼에스코리아      6,780  ...    -     -   -       -\n",
            "4805  2002/04/26  060310  삼에스코리아      7,700  ...    -     -   -       -\n",
            "4806  2002/04/25  060310  삼에스코리아      8,750  ...    -     -   -       -\n",
            "4807  2002/04/24  060310  삼에스코리아      8,510  ...    -     -   -       -\n",
            "4808  2002/04/23  060310  삼에스코리아      7,600  ...    -     -   -       -\n",
            "\n",
            "[4809 rows x 14 columns]\n"
          ]
        }
      ]
    },
    {
      "cell_type": "code",
      "metadata": {
        "colab": {
          "base_uri": "https://localhost:8080/"
        },
        "id": "6BRZoN4nTGJM",
        "outputId": "494bedde-b721-45df-ada5-65994f9045f7"
      },
      "source": [
        "# 매일 pickle 데이터 불러와서 읽은 후 0행, 0열의 날짜 확인\n",
        "# 초기 데이터가 없는 데이터? -> if문 or try~except 예외처리\n",
        "\n",
        "date = s3.iloc[0,0]\n",
        "yesterday = re.sub('/','-',date)\n",
        "yesterday = datetime.strptime(yesterday, '%Y-%m-%d') + timedelta(days = 1)\n",
        "yesterday = yesterday.strftime(\"%Y%m%d\")\n",
        "print(yesterday)"
      ],
      "execution_count": 8,
      "outputs": [
        {
          "output_type": "stream",
          "name": "stdout",
          "text": [
            "20211002\n"
          ]
        }
      ]
    },
    {
      "cell_type": "code",
      "metadata": {
        "colab": {
          "base_uri": "https://localhost:8080/"
        },
        "id": "qscreJsnUP-p",
        "outputId": "cbea9317-ecab-4ada-9af9-324102784089"
      },
      "source": [
        "strtDd = '20211001' #yesterday\n",
        "endDd = today #20211003\n",
        "\n",
        "url2 = 'http://data.krx.co.kr/comm/bldAttendant/getJsonData.cmd'\n",
        "headers = {'User-Agent': 'Chrome/78.0.3904.87 Safari/537.36',}\n",
        "\n",
        "data2 = { 'bld': 'dbms/MDC/STAT/issue/MDCSTAT23902',\n",
        "    'isuCd': fullcode_list[0],\n",
        "    'isuCd2': '',\n",
        "    'strtDd': strtDd,\n",
        "    'endDd': endDd,\n",
        "    'share': '1',\n",
        "    'money': '1',\n",
        "    'csvxls_isNo': 'false',}\n",
        "\n",
        "r2 = requests.post(url2, data2, headers)\n",
        "j2 = json.loads(r2.text)\n",
        "df2=pd.DataFrame(j2['output'])\n",
        "# print(df2)\n",
        "# print('------------------------------------------------')\n",
        "\n",
        "data3 = { 'bld': 'dbms/MDC/STAT/standard/MDCSTAT03502',\n",
        "    'isuCd': fullcode_list[0],\n",
        "    'isuCd2': fullcode_list[0],\n",
        "    'strtDd': strtDd,\n",
        "    'endDd': endDd,\n",
        "    'searchType': '2',\n",
        "    'mktId': 'ALL',\n",
        "    'csvxls_isNo': 'false',}\n",
        "\n",
        "r2 = requests.post(url2, data3, headers)\n",
        "j2 = json.loads(r2.text)\n",
        "df3=pd.DataFrame(j2['output'])\n",
        "# print(df3)\n",
        "# print('------------------------------------------------')\n",
        "\n",
        "df2_ = df2[['TRD_DD', 'ISU_CD', 'ISU_NM', 'TDD_CLSPRC', 'TDD_OPNPRC', 'TDD_HGPRC', 'TDD_LWPRC', 'MKTCAP']]\n",
        "df3_ = df3[['TRD_DD', 'EPS', 'PER', 'BPS', 'PBR', 'DPS', 'DVD_YLD']]\n",
        "\n",
        "result = pd.merge(df2_, df3_)\n",
        "print(result)\n",
        "print('------------------------------------------------')"
      ],
      "execution_count": 15,
      "outputs": [
        {
          "output_type": "stream",
          "name": "stdout",
          "text": [
            "       TRD_DD  ISU_CD ISU_NM TDD_CLSPRC  ...  BPS   PBR DPS DVD_YLD\n",
            "0  2021/10/01  060310     3S      3,960  ...  792  5.00   0    0.00\n",
            "\n",
            "[1 rows x 14 columns]\n",
            "------------------------------------------------\n"
          ]
        }
      ]
    },
    {
      "cell_type": "code",
      "metadata": {
        "colab": {
          "base_uri": "https://localhost:8080/"
        },
        "id": "7S0zBmzJYChF",
        "outputId": "f52bfea7-7413-41ff-e542-95d9a02b2ddb"
      },
      "source": [
        "output = pd.concat([result, s3], ignore_index = True)\n",
        "print(output)"
      ],
      "execution_count": 17,
      "outputs": [
        {
          "output_type": "stream",
          "name": "stdout",
          "text": [
            "          TRD_DD  ISU_CD  ISU_NM TDD_CLSPRC  ...  BPS   PBR DPS DVD_YLD\n",
            "0     2021/10/01  060310      3S      3,960  ...  792  5.00   0    0.00\n",
            "1     2021/10/01  060310      3S      3,960  ...  792  5.00   0    0.00\n",
            "2     2021/09/30  060310      3S      4,105  ...  792  5.18   0    0.00\n",
            "3     2021/09/29  060310      3S      4,160  ...  792  5.25   0    0.00\n",
            "4     2021/09/28  060310      3S      3,985  ...  792  5.03   0    0.00\n",
            "...          ...     ...     ...        ...  ...  ...   ...  ..     ...\n",
            "4805  2002/04/29  060310  삼에스코리아      6,780  ...    -     -   -       -\n",
            "4806  2002/04/26  060310  삼에스코리아      7,700  ...    -     -   -       -\n",
            "4807  2002/04/25  060310  삼에스코리아      8,750  ...    -     -   -       -\n",
            "4808  2002/04/24  060310  삼에스코리아      8,510  ...    -     -   -       -\n",
            "4809  2002/04/23  060310  삼에스코리아      7,600  ...    -     -   -       -\n",
            "\n",
            "[4810 rows x 14 columns]\n"
          ]
        }
      ]
    },
    {
      "cell_type": "code",
      "metadata": {
        "id": "Rmf2ERbwF62f"
      },
      "source": [
        "## Save pickle (업데이트된 데이터프레임 다시 저장)\n",
        "with open(output_path + \"3S.pickle\",\"w+b\") as fw:\n",
        "    pickle.dump(output, fw)"
      ],
      "execution_count": 18,
      "outputs": []
    },
    {
      "cell_type": "code",
      "metadata": {
        "colab": {
          "base_uri": "https://localhost:8080/"
        },
        "id": "iIlZZbxKaidz",
        "outputId": "5ab60ab7-37ac-4d93-9502-f98bdb81d01d"
      },
      "source": [
        "## Load pickle\n",
        "# pickle로 저장되었던 데이터 출력 (어제까지의 데이터)\n",
        "with open(output_path + \"3S.pickle\",\"rb\") as fr:\n",
        "    s3 = pickle.load(fr)\n",
        "print(s3)"
      ],
      "execution_count": 19,
      "outputs": [
        {
          "output_type": "stream",
          "name": "stdout",
          "text": [
            "          TRD_DD  ISU_CD  ISU_NM TDD_CLSPRC  ...  BPS   PBR DPS DVD_YLD\n",
            "0     2021/10/01  060310      3S      3,960  ...  792  5.00   0    0.00\n",
            "1     2021/10/01  060310      3S      3,960  ...  792  5.00   0    0.00\n",
            "2     2021/09/30  060310      3S      4,105  ...  792  5.18   0    0.00\n",
            "3     2021/09/29  060310      3S      4,160  ...  792  5.25   0    0.00\n",
            "4     2021/09/28  060310      3S      3,985  ...  792  5.03   0    0.00\n",
            "...          ...     ...     ...        ...  ...  ...   ...  ..     ...\n",
            "4805  2002/04/29  060310  삼에스코리아      6,780  ...    -     -   -       -\n",
            "4806  2002/04/26  060310  삼에스코리아      7,700  ...    -     -   -       -\n",
            "4807  2002/04/25  060310  삼에스코리아      8,750  ...    -     -   -       -\n",
            "4808  2002/04/24  060310  삼에스코리아      8,510  ...    -     -   -       -\n",
            "4809  2002/04/23  060310  삼에스코리아      7,600  ...    -     -   -       -\n",
            "\n",
            "[4810 rows x 14 columns]\n"
          ]
        }
      ]
    },
    {
      "cell_type": "code",
      "metadata": {
        "id": "t6HV2FxQZA6U"
      },
      "source": [
        "# 수집 자동화 -> schedule 라이브러리 (실현가능성?), 윈도우 작업 스케쥴러/crontab (운영체제 제한), github actions\n",
        "# 다른 종목 수집?\n",
        "# 최종 산출물에 필요한 컬럼?"
      ],
      "execution_count": null,
      "outputs": []
    }
  ]
}