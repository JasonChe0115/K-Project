{
  "nbformat": 4,
  "nbformat_minor": 0,
  "metadata": {
    "colab": {
      "name": "datacollection_2.ipynb",
      "provenance": [],
      "collapsed_sections": [],
      "authorship_tag": "ABX9TyMrwlka48QxY8RfnbSo3YW6",
      "include_colab_link": true
    },
    "kernelspec": {
      "name": "python3",
      "display_name": "Python 3"
    },
    "language_info": {
      "name": "python"
    }
  },
  "cells": [
    {
      "cell_type": "markdown",
      "metadata": {
        "id": "view-in-github",
        "colab_type": "text"
      },
      "source": [
        "<a href=\"https://colab.research.google.com/github/baeksumin/k-project/blob/main/datacollection_2.ipynb\" target=\"_parent\"><img src=\"https://colab.research.google.com/assets/colab-badge.svg\" alt=\"Open In Colab\"/></a>"
      ]
    },
    {
      "cell_type": "code",
      "metadata": {
        "id": "8WBXRjRJGuVk"
      },
      "source": [
        "'''\n",
        "1. pickle 로드\n",
        "2. 로드된 df에서 마지막 수집날짜 확인\n",
        "3. (마지막 수집날짜+1 ~ 오늘) 데이터 수집 (웹에서 불러옴)\n",
        "4. 기존 df와 3.의 df 병합 (concat)\n",
        "5. 새로운 df 다시 pickle 저장\n",
        "\n",
        "(매일 실행)\n",
        "'''"
      ],
      "execution_count": null,
      "outputs": []
    },
    {
      "cell_type": "code",
      "metadata": {
        "id": "K4n9dcih5AXq",
        "colab": {
          "base_uri": "https://localhost:8080/"
        },
        "outputId": "b48b161d-57ce-48e5-cedd-7f609e4aa51d"
      },
      "source": [
        "import re\n",
        "import json\n",
        "import requests\n",
        "import pandas as pd\n",
        "from io import BytesIO\n",
        "from datetime import datetime \n",
        "from datetime import timedelta\n",
        "import pickle\n",
        "from google.colab import drive\n",
        "\n",
        "drive.mount('/content/drive')\n",
        "res_path = '/content/drive/MyDrive/k-project/output/'\n",
        "# pickle 경로를 설정하기 위해"
      ],
      "execution_count": null,
      "outputs": [
        {
          "output_type": "stream",
          "name": "stdout",
          "text": [
            "Drive already mounted at /content/drive; to attempt to forcibly remount, call drive.mount(\"/content/drive\", force_remount=True).\n"
          ]
        }
      ]
    },
    {
      "cell_type": "code",
      "metadata": {
        "colab": {
          "base_uri": "https://localhost:8080/"
        },
        "id": "BQOjhTNpXrMY",
        "outputId": "a1ace849-bf5c-4f08-d0ec-a1c8279e3416"
      },
      "source": [
        "# 한국시간 설정\n",
        "import pytz\n",
        "\n",
        "KST = pytz.timezone('Asia/Seoul')\n",
        "today = str(datetime.now(KST).strftime(\"%Y%m%d\"))\n",
        "print(today)"
      ],
      "execution_count": null,
      "outputs": [
        {
          "output_type": "stream",
          "name": "stdout",
          "text": [
            "20210930\n"
          ]
        }
      ]
    },
    {
      "cell_type": "code",
      "metadata": {
        "id": "erbjUC2KR-EC",
        "colab": {
          "base_uri": "https://localhost:8080/",
          "height": 436
        },
        "outputId": "656121c3-55bc-4986-b671-35f470562249"
      },
      "source": [
        "headers = {'User-Agent': 'Chrome/93.0.4577.63'}\n",
        "\n",
        "data = {\n",
        "    'mktsel': 'ALL',\n",
        "    'typeNo': '0',\n",
        "    'searchText':'',\n",
        "    'bld': 'dbms/comm/finder/finder_stkisu'\n",
        "}\n",
        "\n",
        "url = 'http://data.krx.co.kr/comm/bldAttendant/getJsonData.cmd'\n",
        "\n",
        "r = requests.post(url, data, headers = headers)\n",
        "j = json.loads(r.text)\n",
        "\n",
        "df = pd.json_normalize(j['block1'])\n",
        "print(len(df))\n",
        "# print(df.info())\n",
        "# print(df.iloc[1]['full_code'])\n",
        "df"
      ],
      "execution_count": null,
      "outputs": [
        {
          "output_type": "stream",
          "name": "stdout",
          "text": [
            "2584\n"
          ]
        },
        {
          "output_type": "execute_result",
          "data": {
            "text/html": [
              "<div>\n",
              "<style scoped>\n",
              "    .dataframe tbody tr th:only-of-type {\n",
              "        vertical-align: middle;\n",
              "    }\n",
              "\n",
              "    .dataframe tbody tr th {\n",
              "        vertical-align: top;\n",
              "    }\n",
              "\n",
              "    .dataframe thead th {\n",
              "        text-align: right;\n",
              "    }\n",
              "</style>\n",
              "<table border=\"1\" class=\"dataframe\">\n",
              "  <thead>\n",
              "    <tr style=\"text-align: right;\">\n",
              "      <th></th>\n",
              "      <th>full_code</th>\n",
              "      <th>short_code</th>\n",
              "      <th>codeName</th>\n",
              "      <th>marketCode</th>\n",
              "      <th>marketName</th>\n",
              "      <th>marketEngName</th>\n",
              "      <th>ord1</th>\n",
              "      <th>ord2</th>\n",
              "    </tr>\n",
              "  </thead>\n",
              "  <tbody>\n",
              "    <tr>\n",
              "      <th>0</th>\n",
              "      <td>KR7060310000</td>\n",
              "      <td>060310</td>\n",
              "      <td>3S</td>\n",
              "      <td>KSQ</td>\n",
              "      <td>코스닥</td>\n",
              "      <td>KOSDAQ</td>\n",
              "      <td></td>\n",
              "      <td>16</td>\n",
              "    </tr>\n",
              "    <tr>\n",
              "      <th>1</th>\n",
              "      <td>KR7095570008</td>\n",
              "      <td>095570</td>\n",
              "      <td>AJ네트웍스</td>\n",
              "      <td>STK</td>\n",
              "      <td>유가증권</td>\n",
              "      <td>KOSPI</td>\n",
              "      <td></td>\n",
              "      <td>16</td>\n",
              "    </tr>\n",
              "    <tr>\n",
              "      <th>2</th>\n",
              "      <td>KR7006840003</td>\n",
              "      <td>006840</td>\n",
              "      <td>AK홀딩스</td>\n",
              "      <td>STK</td>\n",
              "      <td>유가증권</td>\n",
              "      <td>KOSPI</td>\n",
              "      <td></td>\n",
              "      <td>16</td>\n",
              "    </tr>\n",
              "    <tr>\n",
              "      <th>3</th>\n",
              "      <td>KR7054620000</td>\n",
              "      <td>054620</td>\n",
              "      <td>APS홀딩스</td>\n",
              "      <td>KSQ</td>\n",
              "      <td>코스닥</td>\n",
              "      <td>KOSDAQ</td>\n",
              "      <td></td>\n",
              "      <td>16</td>\n",
              "    </tr>\n",
              "    <tr>\n",
              "      <th>4</th>\n",
              "      <td>KR7265520007</td>\n",
              "      <td>265520</td>\n",
              "      <td>AP시스템</td>\n",
              "      <td>KSQ</td>\n",
              "      <td>코스닥</td>\n",
              "      <td>KOSDAQ</td>\n",
              "      <td></td>\n",
              "      <td>16</td>\n",
              "    </tr>\n",
              "    <tr>\n",
              "      <th>...</th>\n",
              "      <td>...</td>\n",
              "      <td>...</td>\n",
              "      <td>...</td>\n",
              "      <td>...</td>\n",
              "      <td>...</td>\n",
              "      <td>...</td>\n",
              "      <td>...</td>\n",
              "      <td>...</td>\n",
              "    </tr>\n",
              "    <tr>\n",
              "      <th>2579</th>\n",
              "      <td>KR7000542001</td>\n",
              "      <td>000547</td>\n",
              "      <td>흥국화재2우B</td>\n",
              "      <td>STK</td>\n",
              "      <td>유가증권</td>\n",
              "      <td>KOSPI</td>\n",
              "      <td></td>\n",
              "      <td>16</td>\n",
              "    </tr>\n",
              "    <tr>\n",
              "      <th>2580</th>\n",
              "      <td>KR7000541003</td>\n",
              "      <td>000545</td>\n",
              "      <td>흥국화재우</td>\n",
              "      <td>STK</td>\n",
              "      <td>유가증권</td>\n",
              "      <td>KOSPI</td>\n",
              "      <td></td>\n",
              "      <td>16</td>\n",
              "    </tr>\n",
              "    <tr>\n",
              "      <th>2581</th>\n",
              "      <td>KR7003280005</td>\n",
              "      <td>003280</td>\n",
              "      <td>흥아해운</td>\n",
              "      <td>STK</td>\n",
              "      <td>유가증권</td>\n",
              "      <td>KOSPI</td>\n",
              "      <td></td>\n",
              "      <td>16</td>\n",
              "    </tr>\n",
              "    <tr>\n",
              "      <th>2582</th>\n",
              "      <td>KR7037440005</td>\n",
              "      <td>037440</td>\n",
              "      <td>희림</td>\n",
              "      <td>KSQ</td>\n",
              "      <td>코스닥</td>\n",
              "      <td>KOSDAQ</td>\n",
              "      <td></td>\n",
              "      <td>16</td>\n",
              "    </tr>\n",
              "    <tr>\n",
              "      <th>2583</th>\n",
              "      <td>KR7238490007</td>\n",
              "      <td>238490</td>\n",
              "      <td>힘스</td>\n",
              "      <td>KSQ</td>\n",
              "      <td>코스닥</td>\n",
              "      <td>KOSDAQ</td>\n",
              "      <td></td>\n",
              "      <td>16</td>\n",
              "    </tr>\n",
              "  </tbody>\n",
              "</table>\n",
              "<p>2584 rows × 8 columns</p>\n",
              "</div>"
            ],
            "text/plain": [
              "         full_code short_code codeName marketCode marketName marketEngName  \\\n",
              "0     KR7060310000     060310       3S        KSQ        코스닥        KOSDAQ   \n",
              "1     KR7095570008     095570   AJ네트웍스        STK       유가증권         KOSPI   \n",
              "2     KR7006840003     006840    AK홀딩스        STK       유가증권         KOSPI   \n",
              "3     KR7054620000     054620   APS홀딩스        KSQ        코스닥        KOSDAQ   \n",
              "4     KR7265520007     265520    AP시스템        KSQ        코스닥        KOSDAQ   \n",
              "...            ...        ...      ...        ...        ...           ...   \n",
              "2579  KR7000542001     000547  흥국화재2우B        STK       유가증권         KOSPI   \n",
              "2580  KR7000541003     000545    흥국화재우        STK       유가증권         KOSPI   \n",
              "2581  KR7003280005     003280     흥아해운        STK       유가증권         KOSPI   \n",
              "2582  KR7037440005     037440       희림        KSQ        코스닥        KOSDAQ   \n",
              "2583  KR7238490007     238490       힘스        KSQ        코스닥        KOSDAQ   \n",
              "\n",
              "     ord1 ord2  \n",
              "0           16  \n",
              "1           16  \n",
              "2           16  \n",
              "3           16  \n",
              "4           16  \n",
              "...   ...  ...  \n",
              "2579        16  \n",
              "2580        16  \n",
              "2581        16  \n",
              "2582        16  \n",
              "2583        16  \n",
              "\n",
              "[2584 rows x 8 columns]"
            ]
          },
          "metadata": {},
          "execution_count": 38
        }
      ]
    },
    {
      "cell_type": "code",
      "metadata": {
        "id": "sEoS7feDNYOI"
      },
      "source": [
        "df = df.set_index('short_code')\n",
        "full_code = df.loc['005930']['full_code']\n",
        "# full_code = 'KR7005930003'"
      ],
      "execution_count": null,
      "outputs": []
    },
    {
      "cell_type": "code",
      "metadata": {
        "colab": {
          "base_uri": "https://localhost:8080/"
        },
        "id": "a-nu1mpTUrcJ",
        "outputId": "24a89bb1-cd56-42dc-9d8c-febe9f97b303"
      },
      "source": [
        "## Load pickle\n",
        "# pickle로 저장되었던 데이터 출력 (어제까지의 데이터)\n",
        "with open(res_path + \"df2.pickle\",\"rb\") as fr:\n",
        "    df2 = pickle.load(fr)\n",
        "print(df2)"
      ],
      "execution_count": null,
      "outputs": [
        {
          "output_type": "stream",
          "name": "stdout",
          "text": [
            "          TRD_DD  ISU_CD ISU_NM MKT_NM SECUGRP_NM TDD_CLSPRC FLUC_TP_CD  \\\n",
            "0     2021/09/30  005930   삼성전자  KOSPI         주권     74,200          1   \n",
            "1     2021/09/29  005930   삼성전자  KOSPI         주권     74,100          2   \n",
            "2     2021/09/28  005930   삼성전자  KOSPI         주권     76,300          2   \n",
            "3     2021/09/27  005930   삼성전자  KOSPI         주권     77,700          1   \n",
            "4     2021/09/24  005930   삼성전자  KOSPI         주권     77,300          2   \n",
            "...          ...     ...    ...    ...        ...        ...        ...   \n",
            "6687  1995/05/08  005930   삼성전자  KOSPI         주권    121,000          2   \n",
            "6688  1995/05/06  005930   삼성전자  KOSPI         주권    122,000          2   \n",
            "6689  1995/05/04  005930   삼성전자  KOSPI         주권    122,500          2   \n",
            "6690  1995/05/03  005930   삼성전자  KOSPI         주권    123,500          1   \n",
            "6691  1995/05/02  005930   삼성전자  KOSPI         주권    119,500          2   \n",
            "\n",
            "     CMPPRVDD_PRC FLUC_RT TDD_OPNPRC TDD_HGPRC TDD_LWPRC  ACC_TRDVOL  \\\n",
            "0             100    0.13     74,300    74,400    73,700   3,321,990   \n",
            "1          -2,200   -2.88     74,800    75,300    73,800  23,992,458   \n",
            "2          -1,400   -1.80     77,700    77,800    76,200  15,406,382   \n",
            "3             400    0.52     77,300    77,700    77,000  11,699,798   \n",
            "4            -100   -0.13     77,600    77,700    77,100  12,247,274   \n",
            "...           ...     ...        ...       ...       ...         ...   \n",
            "6687       -1,000   -0.82    122,000   122,000   120,500      91,810   \n",
            "6688         -500   -0.41    122,000   123,500   122,000      47,440   \n",
            "6689       -1,000   -0.81    124,000   124,500   122,000     175,590   \n",
            "6690        4,000    3.35    119,500   126,500   119,500     382,980   \n",
            "6691       -1,000   -0.83    121,000   121,000   118,500     139,560   \n",
            "\n",
            "             ACC_TRDVAL               MKTCAP  \n",
            "0       246,120,821,400  442,957,865,210,000  \n",
            "1     1,783,148,126,490  442,360,886,955,000  \n",
            "2     1,182,788,461,030  455,494,408,565,000  \n",
            "3       906,520,162,508  463,852,104,135,000  \n",
            "4       947,458,981,757  461,464,191,115,000  \n",
            "...                 ...                  ...  \n",
            "6687     11,127,115,000    6,578,606,045,000  \n",
            "6688      5,810,535,000    6,632,974,690,000  \n",
            "6689     21,609,210,000    6,660,159,012,500  \n",
            "6690     47,649,710,000    6,714,527,657,500  \n",
            "6691     16,676,735,000    6,497,053,077,500  \n",
            "\n",
            "[6692 rows x 15 columns]\n"
          ]
        }
      ]
    },
    {
      "cell_type": "code",
      "metadata": {
        "colab": {
          "base_uri": "https://localhost:8080/"
        },
        "id": "6BRZoN4nTGJM",
        "outputId": "671102dd-00e5-47fe-826a-baeaef80dd6f"
      },
      "source": [
        "# 매일 pickle 데이터 불러와서 읽은 후 0행, 0열의 날짜 확인\n",
        "# 초기 데이터가 없는 데이터? -> if문 or try~except 예외처리\n",
        "\n",
        "date = df2.iloc[0,0]\n",
        "yesterday = re.sub('/','-',date)\n",
        "yesterday = datetime.strptime(yesterday, '%Y-%m-%d') + timedelta(days = 1)\n",
        "yesterday = yesterday.strftime(\"%Y%m%d\")\n",
        "print(yesterday)"
      ],
      "execution_count": null,
      "outputs": [
        {
          "output_type": "stream",
          "name": "stdout",
          "text": [
            "20211001\n"
          ]
        }
      ]
    },
    {
      "cell_type": "code",
      "metadata": {
        "colab": {
          "base_uri": "https://localhost:8080/",
          "height": 131
        },
        "id": "qscreJsnUP-p",
        "outputId": "5a41f6ca-8a21-450e-f0d1-69105bf56b76"
      },
      "source": [
        "strtDd = yesterday #20211010\n",
        "endDd = today #20211010\n",
        "\n",
        "\n",
        "data2 = { 'bld': 'dbms/MDC/STAT/issue/MDCSTAT23902',\n",
        "  'isuCd': full_code,\n",
        "  'isuCd2': '',\n",
        "  'strtDd': strtDd,\n",
        "  'endDd': endDd,\n",
        "  'share': '1',\n",
        "  'money': '1',\n",
        "  'csvxls_isNo': 'false',}\n",
        "\n",
        "url2 = 'http://data.krx.co.kr/comm/bldAttendant/getJsonData.cmd'\n",
        "\n",
        "r2 = requests.post(url2, data2, headers)\n",
        "# print(r2)\n",
        "j2 = json.loads(r2.text)\n",
        "df3 = pd.DataFrame(j2['output'])\n",
        "df3"
      ],
      "execution_count": null,
      "outputs": [
        {
          "output_type": "execute_result",
          "data": {
            "text/html": [
              "<div>\n",
              "<style scoped>\n",
              "    .dataframe tbody tr th:only-of-type {\n",
              "        vertical-align: middle;\n",
              "    }\n",
              "\n",
              "    .dataframe tbody tr th {\n",
              "        vertical-align: top;\n",
              "    }\n",
              "\n",
              "    .dataframe thead th {\n",
              "        text-align: right;\n",
              "    }\n",
              "</style>\n",
              "<table border=\"1\" class=\"dataframe\">\n",
              "  <thead>\n",
              "    <tr style=\"text-align: right;\">\n",
              "      <th></th>\n",
              "      <th>TRD_DD</th>\n",
              "      <th>ISU_CD</th>\n",
              "      <th>ISU_NM</th>\n",
              "      <th>MKT_NM</th>\n",
              "      <th>SECUGRP_NM</th>\n",
              "      <th>TDD_CLSPRC</th>\n",
              "      <th>FLUC_TP_CD</th>\n",
              "      <th>CMPPRVDD_PRC</th>\n",
              "      <th>FLUC_RT</th>\n",
              "      <th>TDD_OPNPRC</th>\n",
              "      <th>TDD_HGPRC</th>\n",
              "      <th>TDD_LWPRC</th>\n",
              "      <th>ACC_TRDVOL</th>\n",
              "      <th>ACC_TRDVAL</th>\n",
              "      <th>MKTCAP</th>\n",
              "    </tr>\n",
              "  </thead>\n",
              "  <tbody>\n",
              "    <tr>\n",
              "      <th>0</th>\n",
              "      <td>2021/09/28</td>\n",
              "      <td>005930</td>\n",
              "      <td>삼성전자</td>\n",
              "      <td>KOSPI</td>\n",
              "      <td>주권</td>\n",
              "      <td>76,900</td>\n",
              "      <td>2</td>\n",
              "      <td>-800</td>\n",
              "      <td>-1.03</td>\n",
              "      <td>77,700</td>\n",
              "      <td>77,800</td>\n",
              "      <td>76,700</td>\n",
              "      <td>6,822,878</td>\n",
              "      <td>526,210,928,900</td>\n",
              "      <td>459,076,278,095,000</td>\n",
              "    </tr>\n",
              "    <tr>\n",
              "      <th>1</th>\n",
              "      <td>2021/09/27</td>\n",
              "      <td>005930</td>\n",
              "      <td>삼성전자</td>\n",
              "      <td>KOSPI</td>\n",
              "      <td>주권</td>\n",
              "      <td>77,700</td>\n",
              "      <td>1</td>\n",
              "      <td>400</td>\n",
              "      <td>0.52</td>\n",
              "      <td>77,300</td>\n",
              "      <td>77,700</td>\n",
              "      <td>77,000</td>\n",
              "      <td>11,699,798</td>\n",
              "      <td>906,520,162,508</td>\n",
              "      <td>463,852,104,135,000</td>\n",
              "    </tr>\n",
              "  </tbody>\n",
              "</table>\n",
              "</div>"
            ],
            "text/plain": [
              "       TRD_DD  ISU_CD ISU_NM  ...  ACC_TRDVOL       ACC_TRDVAL               MKTCAP\n",
              "0  2021/09/28  005930   삼성전자  ...   6,822,878  526,210,928,900  459,076,278,095,000\n",
              "1  2021/09/27  005930   삼성전자  ...  11,699,798  906,520,162,508  463,852,104,135,000\n",
              "\n",
              "[2 rows x 15 columns]"
            ]
          },
          "metadata": {},
          "execution_count": 8
        }
      ]
    },
    {
      "cell_type": "code",
      "metadata": {
        "colab": {
          "base_uri": "https://localhost:8080/"
        },
        "id": "7S0zBmzJYChF",
        "outputId": "911f5f40-96e5-4161-cc59-6fce8940da46"
      },
      "source": [
        "result = pd.concat([df3, df2], ignore_index = True)\n",
        "print(result)"
      ],
      "execution_count": null,
      "outputs": [
        {
          "output_type": "stream",
          "name": "stdout",
          "text": [
            "          TRD_DD  ISU_CD  ...         ACC_TRDVAL               MKTCAP\n",
            "0     2021/09/28  005930  ...    526,210,928,900  459,076,278,095,000\n",
            "1     2021/09/27  005930  ...    906,520,162,508  463,852,104,135,000\n",
            "2     2021/09/24  005930  ...    947,054,144,957  461,464,191,115,000\n",
            "3     2021/09/23  005930  ...  1,318,209,157,168  462,061,169,370,000\n",
            "4     2021/09/17  005930  ...  1,250,677,861,383  460,867,212,860,000\n",
            "...          ...     ...  ...                ...                  ...\n",
            "6685  1995/05/08  005930  ...     11,127,115,000    6,578,606,045,000\n",
            "6686  1995/05/06  005930  ...      5,810,535,000    6,632,974,690,000\n",
            "6687  1995/05/04  005930  ...     21,609,210,000    6,660,159,012,500\n",
            "6688  1995/05/03  005930  ...     47,649,710,000    6,714,527,657,500\n",
            "6689  1995/05/02  005930  ...     16,676,735,000    6,497,053,077,500\n",
            "\n",
            "[6690 rows x 15 columns]\n"
          ]
        }
      ]
    },
    {
      "cell_type": "code",
      "metadata": {
        "id": "Rmf2ERbwF62f"
      },
      "source": [
        "## Save pickle (업데이트된 데이터프레임 다시 저장)\n",
        "with open(res_path + \"df2.pickle\",\"w+b\") as fw:\n",
        "    pickle.dump(result, fw)\n",
        "\n",
        "# EOFError: Ran out of input\n",
        "# 파일 접근옵션 - 덮어쓰기? / pickle 파일 삭제하고 다시 저장?"
      ],
      "execution_count": null,
      "outputs": []
    },
    {
      "cell_type": "code",
      "metadata": {
        "id": "t6HV2FxQZA6U"
      },
      "source": [
        "# 수집 자동화 -> schedule 라이브러리 (실현가능성?), 윈도우 작업 스케쥴러/crontab (운영체제 제한), github actions\n",
        "# 다른 종목 수집?\n",
        "# 최종 산출물에 필요한 컬럼?"
      ],
      "execution_count": null,
      "outputs": []
    }
  ]
}