{
  "nbformat": 4,
  "nbformat_minor": 0,
  "metadata": {
    "colab": {
      "name": "test_copy1.ipynb",
      "provenance": [],
      "collapsed_sections": [],
      "authorship_tag": "ABX9TyP+xQcsW098UAdGbwB3/I+j",
      "include_colab_link": true
    },
    "kernelspec": {
      "name": "python3",
      "display_name": "Python 3"
    },
    "language_info": {
      "name": "python"
    }
  },
  "cells": [
    {
      "cell_type": "markdown",
      "metadata": {
        "id": "view-in-github",
        "colab_type": "text"
      },
      "source": [
        "<a href=\"https://colab.research.google.com/github/baeksumin/k-project/blob/main/test_copy1.ipynb\" target=\"_parent\"><img src=\"https://colab.research.google.com/assets/colab-badge.svg\" alt=\"Open In Colab\"/></a>"
      ]
    },
    {
      "cell_type": "code",
      "metadata": {
        "colab": {
          "base_uri": "https://localhost:8080/"
        },
        "id": "nwpvCiRtPsw9",
        "outputId": "52ecab80-80e1-489b-bcc6-6581804a2185"
      },
      "source": [
        "#1-1\n",
        "import json\n",
        "import requests\n",
        "import pandas as pd\n",
        "from io import BytesIO\n",
        "from datetime import datetime\n",
        "\n",
        "headers={'User-Agent': 'Chrome/93.0.4577.82 Safari/537.36',}\n",
        "\n",
        "data={'mktsel': 'ALL',\n",
        "      'typeNO': '0',\n",
        "      'searchText':'',\n",
        "      'bld':'dbms/comm/finder/finder_stkisu',\n",
        "    \n",
        "}\n",
        "\n",
        "url=\"http://data.krx.co.kr/comm/bldAttendant/getJsonData.cmd\"\n",
        "\n",
        "r= requests.post(url, data, headers=headers)\n",
        "j= json.loads(r.text)\n",
        "\n",
        "df =pd.json_normalize(j['block1'])\n",
        "print(len(df))\n",
        "print(df.iloc[1]['full_code'])"
      ],
      "execution_count": null,
      "outputs": [
        {
          "output_type": "stream",
          "name": "stdout",
          "text": [
            "2585\n",
            "KR7095570008\n"
          ]
        }
      ]
    },
    {
      "cell_type": "code",
      "metadata": {
        "id": "qMslNW2KNAkk"
      },
      "source": [
        "\n"
      ],
      "execution_count": null,
      "outputs": []
    },
    {
      "cell_type": "code",
      "metadata": {
        "id": "WGH3Y-wpQC5B"
      },
      "source": [
        "import pandas as pd\n",
        "pd.set_option('display.max_rows',None)\n",
        "pd.set_option('display.max_columns',None)\n",
        "df"
      ],
      "execution_count": null,
      "outputs": []
    },
    {
      "cell_type": "code",
      "metadata": {
        "id": "Zxm23xqeQQvm"
      },
      "source": [
        "import pickle\n",
        "my_list = df\n",
        " \n",
        "## Save pickle\n",
        "with open(\"fullcode.pickle\",\"wb\") as fw:\n",
        "    pickle.dump(my_list, fw)\n"
      ],
      "execution_count": null,
      "outputs": []
    },
    {
      "cell_type": "code",
      "metadata": {
        "colab": {
          "base_uri": "https://localhost:8080/"
        },
        "id": "gSGhw1d-Tlk5",
        "outputId": "f9cd9518-e735-4315-fcf2-c25d1bb1c04f"
      },
      "source": [
        "## Load pickle\n",
        "with open(\"fullcode.pickle\",\"rb\") as fr:\n",
        "    data = pickle.load(fr)\n",
        "print(data)"
      ],
      "execution_count": null,
      "outputs": [
        {
          "output_type": "stream",
          "name": "stdout",
          "text": [
            "               full_code codeName marketCode marketName marketEngName ord1 ord2\n",
            "short_code                                                                     \n",
            "060310      KR7060310000       3S        KSQ        코스닥        KOSDAQ        16\n",
            "095570      KR7095570008   AJ네트웍스        STK       유가증권         KOSPI        16\n",
            "006840      KR7006840003    AK홀딩스        STK       유가증권         KOSPI        16\n",
            "054620      KR7054620000   APS홀딩스        KSQ        코스닥        KOSDAQ        16\n",
            "265520      KR7265520007    AP시스템        KSQ        코스닥        KOSDAQ        16\n",
            "...                  ...      ...        ...        ...           ...  ...  ...\n",
            "000547      KR7000542001  흥국화재2우B        STK       유가증권         KOSPI        16\n",
            "000545      KR7000541003    흥국화재우        STK       유가증권         KOSPI        16\n",
            "003280      KR7003280005     흥아해운        STK       유가증권         KOSPI        16\n",
            "037440      KR7037440005       희림        KSQ        코스닥        KOSDAQ        16\n",
            "238490      KR7238490007       힘스        KSQ        코스닥        KOSDAQ        16\n",
            "\n",
            "[2584 rows x 7 columns]\n"
          ]
        }
      ]
    },
    {
      "cell_type": "code",
      "metadata": {
        "id": "ClcKpGeTT6w-"
      },
      "source": [
        "#\n",
        "#\n",
        "#"
      ],
      "execution_count": null,
      "outputs": []
    },
    {
      "cell_type": "code",
      "metadata": {
        "colab": {
          "base_uri": "https://localhost:8080/",
          "height": 423
        },
        "id": "EJeE6FTyT64Y",
        "outputId": "4ec4e074-c0a3-467d-f796-2a6bb1042858"
      },
      "source": [
        "#2-1\n",
        "df=df.set_index('short_code')\n",
        "\n",
        "full_code = df.loc['005930']['full_code']\n",
        "\n",
        "strtDd = '19000101'\n",
        "endDd = '20210113'\n",
        "\n",
        "data2 = {'bld': 'dbms/MDC/STAT/standard/MDCSTAT03501',\n",
        "'searchType': '1',\n",
        "'mktId': 'ALL',\n",
        "'trdDd': '20210928',\n",
        "'tboxisuCd_finder_stkisu0_0': '005930/삼성전자',\n",
        "'isuCd': 'KR7005930003',\n",
        "'isuCd2': 'KR7005930003',\n",
        "'codeNmisuCd_finder_stkisu0_0': '삼성전자',\n",
        "'param1isuCd_finder_stkisu0_0': 'ALL',\n",
        "'strtDd': '20210917',\n",
        "'endDd': '20210928',\n",
        "'csvxls_isNo': 'false',}\n",
        "url2 = \"http://data.krx.co.kr/comm/bldAttendant/getJsonData.cmd\"\n",
        "\n",
        "r2 = requests.post(url2, data2, headers)\n",
        "j2 = json.loads(r2.text)\n",
        "df3= pd.DataFrame(j2['output'])\n",
        "df3"
      ],
      "execution_count": null,
      "outputs": [
        {
          "output_type": "execute_result",
          "data": {
            "text/html": [
              "<div>\n",
              "<style scoped>\n",
              "    .dataframe tbody tr th:only-of-type {\n",
              "        vertical-align: middle;\n",
              "    }\n",
              "\n",
              "    .dataframe tbody tr th {\n",
              "        vertical-align: top;\n",
              "    }\n",
              "\n",
              "    .dataframe thead th {\n",
              "        text-align: right;\n",
              "    }\n",
              "</style>\n",
              "<table border=\"1\" class=\"dataframe\">\n",
              "  <thead>\n",
              "    <tr style=\"text-align: right;\">\n",
              "      <th></th>\n",
              "      <th>ISU_SRT_CD</th>\n",
              "      <th>ISU_ABBRV</th>\n",
              "      <th>ISU_ABBRV_STR</th>\n",
              "      <th>TDD_CLSPRC</th>\n",
              "      <th>FLUC_TP_CD</th>\n",
              "      <th>CMPPREVDD_PRC</th>\n",
              "      <th>FLUC_RT</th>\n",
              "      <th>EPS</th>\n",
              "      <th>PER</th>\n",
              "      <th>BPS</th>\n",
              "      <th>PBR</th>\n",
              "      <th>DPS</th>\n",
              "      <th>DVD_YLD</th>\n",
              "    </tr>\n",
              "  </thead>\n",
              "  <tbody>\n",
              "    <tr>\n",
              "      <th>0</th>\n",
              "      <td>060310</td>\n",
              "      <td>3S</td>\n",
              "      <td>3S &lt;em class =\"up\"&gt;&lt;/em&gt;</td>\n",
              "      <td>3,985</td>\n",
              "      <td>2</td>\n",
              "      <td>-130</td>\n",
              "      <td>-3.16</td>\n",
              "      <td>16</td>\n",
              "      <td>249.06</td>\n",
              "      <td>792</td>\n",
              "      <td>5.03</td>\n",
              "      <td>0</td>\n",
              "      <td>0.00</td>\n",
              "    </tr>\n",
              "    <tr>\n",
              "      <th>1</th>\n",
              "      <td>095570</td>\n",
              "      <td>AJ네트웍스</td>\n",
              "      <td>AJ네트웍스 &lt;em class =\"up\"&gt;&lt;/em&gt;</td>\n",
              "      <td>5,900</td>\n",
              "      <td>2</td>\n",
              "      <td>-80</td>\n",
              "      <td>-1.34</td>\n",
              "      <td>-</td>\n",
              "      <td>-</td>\n",
              "      <td>6,089</td>\n",
              "      <td>0.97</td>\n",
              "      <td>210</td>\n",
              "      <td>3.56</td>\n",
              "    </tr>\n",
              "    <tr>\n",
              "      <th>2</th>\n",
              "      <td>006840</td>\n",
              "      <td>AK홀딩스</td>\n",
              "      <td>AK홀딩스 &lt;em class =\"up\"&gt;&lt;/em&gt;</td>\n",
              "      <td>27,050</td>\n",
              "      <td>2</td>\n",
              "      <td>-250</td>\n",
              "      <td>-0.92</td>\n",
              "      <td>-</td>\n",
              "      <td>-</td>\n",
              "      <td>50,471</td>\n",
              "      <td>0.54</td>\n",
              "      <td>400</td>\n",
              "      <td>1.48</td>\n",
              "    </tr>\n",
              "    <tr>\n",
              "      <th>3</th>\n",
              "      <td>054620</td>\n",
              "      <td>APS홀딩스</td>\n",
              "      <td>APS홀딩스 &lt;em class =\"up\"&gt;&lt;/em&gt;</td>\n",
              "      <td>15,700</td>\n",
              "      <td>2</td>\n",
              "      <td>-1,700</td>\n",
              "      <td>-9.77</td>\n",
              "      <td>-</td>\n",
              "      <td>-</td>\n",
              "      <td>8,135</td>\n",
              "      <td>1.93</td>\n",
              "      <td>0</td>\n",
              "      <td>0.00</td>\n",
              "    </tr>\n",
              "    <tr>\n",
              "      <th>4</th>\n",
              "      <td>265520</td>\n",
              "      <td>AP시스템</td>\n",
              "      <td>AP시스템 &lt;em class =\"up\"&gt;&lt;/em&gt;</td>\n",
              "      <td>26,050</td>\n",
              "      <td>2</td>\n",
              "      <td>-900</td>\n",
              "      <td>-3.34</td>\n",
              "      <td>1,736</td>\n",
              "      <td>15.01</td>\n",
              "      <td>9,041</td>\n",
              "      <td>2.88</td>\n",
              "      <td>120</td>\n",
              "      <td>0.46</td>\n",
              "    </tr>\n",
              "    <tr>\n",
              "      <th>...</th>\n",
              "      <td>...</td>\n",
              "      <td>...</td>\n",
              "      <td>...</td>\n",
              "      <td>...</td>\n",
              "      <td>...</td>\n",
              "      <td>...</td>\n",
              "      <td>...</td>\n",
              "      <td>...</td>\n",
              "      <td>...</td>\n",
              "      <td>...</td>\n",
              "      <td>...</td>\n",
              "      <td>...</td>\n",
              "      <td>...</td>\n",
              "    </tr>\n",
              "    <tr>\n",
              "      <th>2401</th>\n",
              "      <td>000547</td>\n",
              "      <td>흥국화재2우B</td>\n",
              "      <td>흥국화재2우B &lt;em class =\"up\"&gt;&lt;/em&gt;</td>\n",
              "      <td>29,500</td>\n",
              "      <td>2</td>\n",
              "      <td>-150</td>\n",
              "      <td>-0.51</td>\n",
              "      <td>-</td>\n",
              "      <td>-</td>\n",
              "      <td>-</td>\n",
              "      <td>-</td>\n",
              "      <td>0</td>\n",
              "      <td>0.00</td>\n",
              "    </tr>\n",
              "    <tr>\n",
              "      <th>2402</th>\n",
              "      <td>000545</td>\n",
              "      <td>흥국화재우</td>\n",
              "      <td>흥국화재우 &lt;em class =\"up\"&gt;&lt;/em&gt;</td>\n",
              "      <td>9,470</td>\n",
              "      <td>1</td>\n",
              "      <td>30</td>\n",
              "      <td>0.32</td>\n",
              "      <td>-</td>\n",
              "      <td>-</td>\n",
              "      <td>-</td>\n",
              "      <td>-</td>\n",
              "      <td>0</td>\n",
              "      <td>0.00</td>\n",
              "    </tr>\n",
              "    <tr>\n",
              "      <th>2403</th>\n",
              "      <td>003280</td>\n",
              "      <td>흥아해운</td>\n",
              "      <td>흥아해운 &lt;em class =\"up\"&gt;&lt;/em&gt;</td>\n",
              "      <td>4,390</td>\n",
              "      <td>2</td>\n",
              "      <td>-440</td>\n",
              "      <td>-9.11</td>\n",
              "      <td>-</td>\n",
              "      <td>-</td>\n",
              "      <td>-</td>\n",
              "      <td>-</td>\n",
              "      <td>0</td>\n",
              "      <td>0.00</td>\n",
              "    </tr>\n",
              "    <tr>\n",
              "      <th>2404</th>\n",
              "      <td>037440</td>\n",
              "      <td>희림</td>\n",
              "      <td>희림 &lt;em class =\"up\"&gt;&lt;/em&gt;</td>\n",
              "      <td>6,860</td>\n",
              "      <td>2</td>\n",
              "      <td>-230</td>\n",
              "      <td>-3.24</td>\n",
              "      <td>389</td>\n",
              "      <td>17.63</td>\n",
              "      <td>4,034</td>\n",
              "      <td>1.70</td>\n",
              "      <td>150</td>\n",
              "      <td>2.19</td>\n",
              "    </tr>\n",
              "    <tr>\n",
              "      <th>2405</th>\n",
              "      <td>238490</td>\n",
              "      <td>힘스</td>\n",
              "      <td>힘스 &lt;em class =\"up\"&gt;&lt;/em&gt;</td>\n",
              "      <td>9,080</td>\n",
              "      <td>2</td>\n",
              "      <td>-290</td>\n",
              "      <td>-3.09</td>\n",
              "      <td>1,522</td>\n",
              "      <td>5.97</td>\n",
              "      <td>6,872</td>\n",
              "      <td>1.32</td>\n",
              "      <td>150</td>\n",
              "      <td>1.65</td>\n",
              "    </tr>\n",
              "  </tbody>\n",
              "</table>\n",
              "<p>2406 rows × 13 columns</p>\n",
              "</div>"
            ],
            "text/plain": [
              "     ISU_SRT_CD ISU_ABBRV                  ISU_ABBRV_STR  ...   PBR  DPS DVD_YLD\n",
              "0        060310       3S        3S <em class =\"up\"></em>  ...  5.03    0    0.00\n",
              "1        095570   AJ네트웍스    AJ네트웍스 <em class =\"up\"></em>  ...  0.97  210    3.56\n",
              "2        006840    AK홀딩스     AK홀딩스 <em class =\"up\"></em>  ...  0.54  400    1.48\n",
              "3        054620   APS홀딩스    APS홀딩스 <em class =\"up\"></em>  ...  1.93    0    0.00\n",
              "4        265520    AP시스템     AP시스템 <em class =\"up\"></em>  ...  2.88  120    0.46\n",
              "...         ...       ...                            ...  ...   ...  ...     ...\n",
              "2401     000547  흥국화재2우B   흥국화재2우B <em class =\"up\"></em>  ...     -    0    0.00\n",
              "2402     000545    흥국화재우     흥국화재우 <em class =\"up\"></em>  ...     -    0    0.00\n",
              "2403     003280     흥아해운      흥아해운 <em class =\"up\"></em>  ...     -    0    0.00\n",
              "2404     037440       희림        희림 <em class =\"up\"></em>  ...  1.70  150    2.19\n",
              "2405     238490       힘스        힘스 <em class =\"up\"></em>  ...  1.32  150    1.65\n",
              "\n",
              "[2406 rows x 13 columns]"
            ]
          },
          "metadata": {},
          "execution_count": 20
        }
      ]
    },
    {
      "cell_type": "code",
      "metadata": {
        "colab": {
          "base_uri": "https://localhost:8080/",
          "height": 237
        },
        "id": "mUrf0VrWY86W",
        "outputId": "1c021119-34e6-4b07-faa5-82cc9d8573d9"
      },
      "source": [
        "#2-2\n",
        "df=df.set_index('short_code')\n",
        "\n",
        "full_code = df.loc['005930']['full_code']\n",
        "\n",
        "strtDd = '19000101'\n",
        "endDd = '20210113'\n",
        "\n",
        "data2 = {'bld': 'dbms/MDC/STAT/standard/MDCSTAT03502',\n",
        "'searchType': '2',\n",
        "'mktId': 'ALL',\n",
        "'trdDd': '20210928',\n",
        "'tboxisuCd_finder_stkisu0_0': '005930/삼성전자',\n",
        "'isuCd': 'KR7005930003',\n",
        "'isuCd2': 'KR7005930003',\n",
        "'codeNmisuCd_finder_stkisu0_0': '삼성전자',\n",
        "'param1isuCd_finder_stkisu0_0': 'ALL',\n",
        "'strtDd': '20210917',\n",
        "'endDd': '20210929',\n",
        "'csvxls_isNo': 'false',}\n",
        "url2 = \"http://data.krx.co.kr/comm/bldAttendant/getJsonData.cmd\"\n",
        "\n",
        "r2 = requests.post(url2, data2, headers)\n",
        "j2 = json.loads(r2.text)\n",
        "df3= pd.DataFrame(j2['output'])\n",
        "df3\n"
      ],
      "execution_count": null,
      "outputs": [
        {
          "output_type": "execute_result",
          "data": {
            "text/html": [
              "<div>\n",
              "<style scoped>\n",
              "    .dataframe tbody tr th:only-of-type {\n",
              "        vertical-align: middle;\n",
              "    }\n",
              "\n",
              "    .dataframe tbody tr th {\n",
              "        vertical-align: top;\n",
              "    }\n",
              "\n",
              "    .dataframe thead th {\n",
              "        text-align: right;\n",
              "    }\n",
              "</style>\n",
              "<table border=\"1\" class=\"dataframe\">\n",
              "  <thead>\n",
              "    <tr style=\"text-align: right;\">\n",
              "      <th></th>\n",
              "      <th>TRD_DD</th>\n",
              "      <th>TDD_CLSPRC</th>\n",
              "      <th>FLUC_TP_CD</th>\n",
              "      <th>CMPPREVDD_PRC</th>\n",
              "      <th>FLUC_RT</th>\n",
              "      <th>EPS</th>\n",
              "      <th>PER</th>\n",
              "      <th>BPS</th>\n",
              "      <th>PBR</th>\n",
              "      <th>DPS</th>\n",
              "      <th>DVD_YLD</th>\n",
              "    </tr>\n",
              "  </thead>\n",
              "  <tbody>\n",
              "    <tr>\n",
              "      <th>0</th>\n",
              "      <td>2021/09/29</td>\n",
              "      <td>74,100</td>\n",
              "      <td>2</td>\n",
              "      <td>-2,200</td>\n",
              "      <td>-2.88</td>\n",
              "      <td>3,841</td>\n",
              "      <td>19.29</td>\n",
              "      <td>39,406</td>\n",
              "      <td>1.88</td>\n",
              "      <td>2,994</td>\n",
              "      <td>4.04</td>\n",
              "    </tr>\n",
              "    <tr>\n",
              "      <th>1</th>\n",
              "      <td>2021/09/28</td>\n",
              "      <td>76,300</td>\n",
              "      <td>2</td>\n",
              "      <td>-1,400</td>\n",
              "      <td>-1.80</td>\n",
              "      <td>3,841</td>\n",
              "      <td>19.86</td>\n",
              "      <td>39,406</td>\n",
              "      <td>1.94</td>\n",
              "      <td>2,994</td>\n",
              "      <td>3.92</td>\n",
              "    </tr>\n",
              "    <tr>\n",
              "      <th>2</th>\n",
              "      <td>2021/09/27</td>\n",
              "      <td>77,700</td>\n",
              "      <td>1</td>\n",
              "      <td>400</td>\n",
              "      <td>0.52</td>\n",
              "      <td>3,841</td>\n",
              "      <td>20.23</td>\n",
              "      <td>39,406</td>\n",
              "      <td>1.97</td>\n",
              "      <td>2,994</td>\n",
              "      <td>3.85</td>\n",
              "    </tr>\n",
              "    <tr>\n",
              "      <th>3</th>\n",
              "      <td>2021/09/24</td>\n",
              "      <td>77,300</td>\n",
              "      <td>2</td>\n",
              "      <td>-100</td>\n",
              "      <td>-0.13</td>\n",
              "      <td>3,841</td>\n",
              "      <td>20.12</td>\n",
              "      <td>39,406</td>\n",
              "      <td>1.96</td>\n",
              "      <td>2,994</td>\n",
              "      <td>3.87</td>\n",
              "    </tr>\n",
              "    <tr>\n",
              "      <th>4</th>\n",
              "      <td>2021/09/23</td>\n",
              "      <td>77,400</td>\n",
              "      <td>1</td>\n",
              "      <td>200</td>\n",
              "      <td>0.26</td>\n",
              "      <td>3,841</td>\n",
              "      <td>20.15</td>\n",
              "      <td>39,406</td>\n",
              "      <td>1.96</td>\n",
              "      <td>2,994</td>\n",
              "      <td>3.87</td>\n",
              "    </tr>\n",
              "    <tr>\n",
              "      <th>5</th>\n",
              "      <td>2021/09/17</td>\n",
              "      <td>77,200</td>\n",
              "      <td>1</td>\n",
              "      <td>1,100</td>\n",
              "      <td>1.45</td>\n",
              "      <td>3,841</td>\n",
              "      <td>20.10</td>\n",
              "      <td>39,406</td>\n",
              "      <td>1.96</td>\n",
              "      <td>2,994</td>\n",
              "      <td>3.88</td>\n",
              "    </tr>\n",
              "  </tbody>\n",
              "</table>\n",
              "</div>"
            ],
            "text/plain": [
              "       TRD_DD TDD_CLSPRC FLUC_TP_CD CMPPREVDD_PRC  ...     BPS   PBR    DPS DVD_YLD\n",
              "0  2021/09/29     74,100          2        -2,200  ...  39,406  1.88  2,994    4.04\n",
              "1  2021/09/28     76,300          2        -1,400  ...  39,406  1.94  2,994    3.92\n",
              "2  2021/09/27     77,700          1           400  ...  39,406  1.97  2,994    3.85\n",
              "3  2021/09/24     77,300          2          -100  ...  39,406  1.96  2,994    3.87\n",
              "4  2021/09/23     77,400          1           200  ...  39,406  1.96  2,994    3.87\n",
              "5  2021/09/17     77,200          1         1,100  ...  39,406  1.96  2,994    3.88\n",
              "\n",
              "[6 rows x 11 columns]"
            ]
          },
          "metadata": {},
          "execution_count": 2
        }
      ]
    },
    {
      "cell_type": "code",
      "metadata": {
        "id": "Uv_RBQCua3Et"
      },
      "source": [
        "import pickle\n",
        "my_list = df3\n",
        " \n",
        "## Save pickle\n",
        "with open(\"df3searchtype2.pickle\",\"wb\") as fw:\n",
        "    pickle.dump(my_list, fw)"
      ],
      "execution_count": null,
      "outputs": []
    },
    {
      "cell_type": "code",
      "metadata": {
        "colab": {
          "base_uri": "https://localhost:8080/"
        },
        "id": "vgln9Z-hbXMO",
        "outputId": "b5d92f41-b13b-4632-8b99-16dba09ab3c7"
      },
      "source": [
        "## Load pickle\n",
        "with open(\"df3searchtype2.pickle\",\"rb\") as fr:\n",
        "    data = pickle.load(fr)\n",
        "print(data)"
      ],
      "execution_count": null,
      "outputs": [
        {
          "output_type": "stream",
          "name": "stdout",
          "text": [
            "       TRD_DD TDD_CLSPRC FLUC_TP_CD CMPPREVDD_PRC  ...     BPS   PBR    DPS DVD_YLD\n",
            "0  2021/09/28     76,300          2        -1,400  ...  39,406  1.94  2,994    3.92\n",
            "1  2021/09/27     77,700          1           400  ...  39,406  1.97  2,994    3.85\n",
            "2  2021/09/24     77,300          2          -100  ...  39,406  1.96  2,994    3.87\n",
            "3  2021/09/23     77,400          1           200  ...  39,406  1.96  2,994    3.87\n",
            "4  2021/09/17     77,200          1         1,100  ...  39,406  1.96  2,994    3.88\n",
            "\n",
            "[5 rows x 11 columns]\n"
          ]
        }
      ]
    },
    {
      "cell_type": "code",
      "metadata": {
        "colab": {
          "base_uri": "https://localhost:8080/",
          "height": 81
        },
        "id": "JirIMMnUbpJF",
        "outputId": "82244cc9-73b8-4e86-d6a3-6d5af8494715"
      },
      "source": [
        "#2-2-1\n",
        "df=df.set_index('short_code')\n",
        "\n",
        "full_code = df.loc['005930']['full_code']\n",
        "\n",
        "strtDd = '19000101'\n",
        "endDd = '20210113'\n",
        "\n",
        "data2 = {'bld': 'dbms/MDC/STAT/standard/MDCSTAT03502',\n",
        "'searchType': '2',\n",
        "'mktId': 'ALL',\n",
        "'trdDd': '20210928',\n",
        "'tboxisuCd_finder_stkisu0_0': '005930/삼성전자',\n",
        "'isuCd': 'KR7005930003',\n",
        "'isuCd2': 'KR7005930003',\n",
        "'codeNmisuCd_finder_stkisu0_0': '삼성전자',\n",
        "'param1isuCd_finder_stkisu0_0': 'ALL',\n",
        "'strtDd': '20210917',\n",
        "'endDd': '20210929',\n",
        "'csvxls_isNo': 'false',}\n",
        "url2 = \"http://data.krx.co.kr/comm/bldAttendant/getJsonData.cmd\"\n",
        "\n",
        "r2 = requests.post(url2, data2, headers)\n",
        "j2 = json.loads(r2.text)\n",
        "df3= pd.DataFrame(j2['output'])\n",
        "df3\n",
        "\n",
        "df3_sample=df3.loc[[0],:]   #첫번째 행 뽑아냄\n",
        "df3_sample.head()"
      ],
      "execution_count": null,
      "outputs": [
        {
          "output_type": "execute_result",
          "data": {
            "text/html": [
              "<div>\n",
              "<style scoped>\n",
              "    .dataframe tbody tr th:only-of-type {\n",
              "        vertical-align: middle;\n",
              "    }\n",
              "\n",
              "    .dataframe tbody tr th {\n",
              "        vertical-align: top;\n",
              "    }\n",
              "\n",
              "    .dataframe thead th {\n",
              "        text-align: right;\n",
              "    }\n",
              "</style>\n",
              "<table border=\"1\" class=\"dataframe\">\n",
              "  <thead>\n",
              "    <tr style=\"text-align: right;\">\n",
              "      <th></th>\n",
              "      <th>TRD_DD</th>\n",
              "      <th>TDD_CLSPRC</th>\n",
              "      <th>FLUC_TP_CD</th>\n",
              "      <th>CMPPREVDD_PRC</th>\n",
              "      <th>FLUC_RT</th>\n",
              "      <th>EPS</th>\n",
              "      <th>PER</th>\n",
              "      <th>BPS</th>\n",
              "      <th>PBR</th>\n",
              "      <th>DPS</th>\n",
              "      <th>DVD_YLD</th>\n",
              "    </tr>\n",
              "  </thead>\n",
              "  <tbody>\n",
              "    <tr>\n",
              "      <th>0</th>\n",
              "      <td>2021/09/29</td>\n",
              "      <td>74,000</td>\n",
              "      <td>2</td>\n",
              "      <td>-2,300</td>\n",
              "      <td>-3.01</td>\n",
              "      <td>3,841</td>\n",
              "      <td>19.27</td>\n",
              "      <td>39,406</td>\n",
              "      <td>1.88</td>\n",
              "      <td>2,994</td>\n",
              "      <td>4.05</td>\n",
              "    </tr>\n",
              "  </tbody>\n",
              "</table>\n",
              "</div>"
            ],
            "text/plain": [
              "       TRD_DD TDD_CLSPRC FLUC_TP_CD CMPPREVDD_PRC  ...     BPS   PBR    DPS DVD_YLD\n",
              "0  2021/09/29     74,000          2        -2,300  ...  39,406  1.88  2,994    4.05\n",
              "\n",
              "[1 rows x 11 columns]"
            ]
          },
          "metadata": {},
          "execution_count": 5
        }
      ]
    },
    {
      "cell_type": "code",
      "metadata": {
        "colab": {
          "base_uri": "https://localhost:8080/"
        },
        "id": "5pxHql-cbpRH",
        "outputId": "2de70a34-5945-4076-95ab-bcc4c459e26a"
      },
      "source": [
        "result1= pd.concat([df3_sample,df3],ignore_index=True)\n",
        "print(result1)"
      ],
      "execution_count": null,
      "outputs": [
        {
          "output_type": "stream",
          "name": "stdout",
          "text": [
            "       TRD_DD TDD_CLSPRC FLUC_TP_CD CMPPREVDD_PRC  ...     BPS   PBR    DPS DVD_YLD\n",
            "0  2021/09/29     74,000          2        -2,300  ...  39,406  1.88  2,994    4.05\n",
            "1  2021/09/29     74,000          2        -2,300  ...  39,406  1.88  2,994    4.05\n",
            "2  2021/09/28     76,300          2        -1,400  ...  39,406  1.94  2,994    3.92\n",
            "3  2021/09/27     77,700          1           400  ...  39,406  1.97  2,994    3.85\n",
            "4  2021/09/24     77,300          2          -100  ...  39,406  1.96  2,994    3.87\n",
            "5  2021/09/23     77,400          1           200  ...  39,406  1.96  2,994    3.87\n",
            "6  2021/09/17     77,200          1         1,100  ...  39,406  1.96  2,994    3.88\n",
            "\n",
            "[7 rows x 11 columns]\n"
          ]
        }
      ]
    },
    {
      "cell_type": "code",
      "metadata": {
        "id": "li4v0NLQRjNM"
      },
      "source": [
        "import pickle        #피클로 저장\n",
        "my_list = result1\n",
        " \n",
        "## Save pickle\n",
        "with open(\"df3searchtype2.pickle\",\"wb\") as fw:\n",
        "    pickle.dump(my_list, fw)"
      ],
      "execution_count": null,
      "outputs": []
    },
    {
      "cell_type": "code",
      "metadata": {
        "colab": {
          "base_uri": "https://localhost:8080/"
        },
        "id": "GNenvERqQlWG",
        "outputId": "c7e5e31a-5602-4fa3-8164-832bfa13d253"
      },
      "source": [
        "## Load pickle\n",
        "with open(\"df3searchtype2.pickle\",\"rb\") as fr:\n",
        "    data = pickle.load(fr)\n",
        "print(data)"
      ],
      "execution_count": null,
      "outputs": [
        {
          "output_type": "stream",
          "name": "stdout",
          "text": [
            "       TRD_DD TDD_CLSPRC FLUC_TP_CD CMPPREVDD_PRC FLUC_RT    EPS    PER  \\\n",
            "0  2021/09/29     74,000          2        -2,300   -3.01  3,841  19.27   \n",
            "1  2021/09/29     74,000          2        -2,300   -3.01  3,841  19.27   \n",
            "2  2021/09/28     76,300          2        -1,400   -1.80  3,841  19.86   \n",
            "3  2021/09/27     77,700          1           400    0.52  3,841  20.23   \n",
            "4  2021/09/24     77,300          2          -100   -0.13  3,841  20.12   \n",
            "5  2021/09/23     77,400          1           200    0.26  3,841  20.15   \n",
            "6  2021/09/17     77,200          1         1,100    1.45  3,841  20.10   \n",
            "\n",
            "      BPS   PBR    DPS DVD_YLD  \n",
            "0  39,406  1.88  2,994    4.05  \n",
            "1  39,406  1.88  2,994    4.05  \n",
            "2  39,406  1.94  2,994    3.92  \n",
            "3  39,406  1.97  2,994    3.85  \n",
            "4  39,406  1.96  2,994    3.87  \n",
            "5  39,406  1.96  2,994    3.87  \n",
            "6  39,406  1.96  2,994    3.88  \n"
          ]
        }
      ]
    },
    {
      "cell_type": "code",
      "metadata": {
        "id": "Dnbh__iLQlm-"
      },
      "source": [
        ""
      ],
      "execution_count": null,
      "outputs": []
    },
    {
      "cell_type": "code",
      "metadata": {
        "id": "_lf2tO1-bqrU"
      },
      "source": [
        "#\n",
        "#\n",
        "#"
      ],
      "execution_count": null,
      "outputs": []
    },
    {
      "cell_type": "code",
      "metadata": {
        "colab": {
          "base_uri": "https://localhost:8080/",
          "height": 237
        },
        "id": "m1lRanGPbq0i",
        "outputId": "4c35d91f-b7b2-4315-a8b9-ce9d5e09b6b4"
      },
      "source": [
        "#3-1\n",
        "full_code = ['KR7005930003']\n",
        "strtDd= '19000101'\n",
        "endDd= '20210113'\n",
        "\n",
        "data2={'bld': 'dbms/MDC/STAT/standard/MDCSTAT01701',\n",
        "'tboxisuCd_finder_stkisu0_0': '005930/삼성전자',\n",
        "'isuCd': 'KR7005930003',\n",
        "'isuCd2': 'KR7005930003',\n",
        "'codeNmisuCd_finder_stkisu0_0': '삼성전자',\n",
        "'param1isuCd_finder_stkisu0_0': 'ALL',\n",
        "'strtDd': '20210917',\n",
        "'endDd': '20210929',\n",
        "'share': '1',\n",
        "'money': '1',\n",
        "'csvxls_isNo': 'false',}\n",
        "\n",
        "url2= 'http://data.krx.co.kr/comm/bldAttendant/getJsonData.cmd'\n",
        "\n",
        "r2=requests.post(url2,data2,headers)\n",
        "j2=json.loads(r2.text)\n",
        "df2=pd.DataFrame(j2['output'])\n",
        "df2 "
      ],
      "execution_count": null,
      "outputs": [
        {
          "output_type": "execute_result",
          "data": {
            "text/html": [
              "<div>\n",
              "<style scoped>\n",
              "    .dataframe tbody tr th:only-of-type {\n",
              "        vertical-align: middle;\n",
              "    }\n",
              "\n",
              "    .dataframe tbody tr th {\n",
              "        vertical-align: top;\n",
              "    }\n",
              "\n",
              "    .dataframe thead th {\n",
              "        text-align: right;\n",
              "    }\n",
              "</style>\n",
              "<table border=\"1\" class=\"dataframe\">\n",
              "  <thead>\n",
              "    <tr style=\"text-align: right;\">\n",
              "      <th></th>\n",
              "      <th>TRD_DD</th>\n",
              "      <th>TDD_CLSPRC</th>\n",
              "      <th>FLUC_TP_CD</th>\n",
              "      <th>CMPPREVDD_PRC</th>\n",
              "      <th>FLUC_RT</th>\n",
              "      <th>TDD_OPNPRC</th>\n",
              "      <th>TDD_HGPRC</th>\n",
              "      <th>TDD_LWPRC</th>\n",
              "      <th>ACC_TRDVOL</th>\n",
              "      <th>ACC_TRDVAL</th>\n",
              "      <th>MKTCAP</th>\n",
              "      <th>LIST_SHRS</th>\n",
              "    </tr>\n",
              "  </thead>\n",
              "  <tbody>\n",
              "    <tr>\n",
              "      <th>0</th>\n",
              "      <td>2021/09/29</td>\n",
              "      <td>74,000</td>\n",
              "      <td>2</td>\n",
              "      <td>-2,300</td>\n",
              "      <td>-3.01</td>\n",
              "      <td>74,800</td>\n",
              "      <td>75,300</td>\n",
              "      <td>73,800</td>\n",
              "      <td>22,364,597</td>\n",
              "      <td>1,662,530,470,400</td>\n",
              "      <td>441,763,908,700,000</td>\n",
              "      <td>5,969,782,550</td>\n",
              "    </tr>\n",
              "    <tr>\n",
              "      <th>1</th>\n",
              "      <td>2021/09/28</td>\n",
              "      <td>76,300</td>\n",
              "      <td>2</td>\n",
              "      <td>-1,400</td>\n",
              "      <td>-1.80</td>\n",
              "      <td>77,700</td>\n",
              "      <td>77,800</td>\n",
              "      <td>76,200</td>\n",
              "      <td>15,406,382</td>\n",
              "      <td>1,182,788,461,030</td>\n",
              "      <td>455,494,408,565,000</td>\n",
              "      <td>5,969,782,550</td>\n",
              "    </tr>\n",
              "    <tr>\n",
              "      <th>2</th>\n",
              "      <td>2021/09/27</td>\n",
              "      <td>77,700</td>\n",
              "      <td>1</td>\n",
              "      <td>400</td>\n",
              "      <td>0.52</td>\n",
              "      <td>77,300</td>\n",
              "      <td>77,700</td>\n",
              "      <td>77,000</td>\n",
              "      <td>11,699,798</td>\n",
              "      <td>906,520,162,508</td>\n",
              "      <td>463,852,104,135,000</td>\n",
              "      <td>5,969,782,550</td>\n",
              "    </tr>\n",
              "    <tr>\n",
              "      <th>3</th>\n",
              "      <td>2021/09/24</td>\n",
              "      <td>77,300</td>\n",
              "      <td>2</td>\n",
              "      <td>-100</td>\n",
              "      <td>-0.13</td>\n",
              "      <td>77,600</td>\n",
              "      <td>77,700</td>\n",
              "      <td>77,100</td>\n",
              "      <td>12,247,274</td>\n",
              "      <td>947,458,981,757</td>\n",
              "      <td>461,464,191,115,000</td>\n",
              "      <td>5,969,782,550</td>\n",
              "    </tr>\n",
              "    <tr>\n",
              "      <th>4</th>\n",
              "      <td>2021/09/23</td>\n",
              "      <td>77,400</td>\n",
              "      <td>1</td>\n",
              "      <td>200</td>\n",
              "      <td>0.26</td>\n",
              "      <td>77,500</td>\n",
              "      <td>77,600</td>\n",
              "      <td>76,800</td>\n",
              "      <td>17,055,590</td>\n",
              "      <td>1,318,209,157,168</td>\n",
              "      <td>462,061,169,370,000</td>\n",
              "      <td>5,969,782,550</td>\n",
              "    </tr>\n",
              "    <tr>\n",
              "      <th>5</th>\n",
              "      <td>2021/09/17</td>\n",
              "      <td>77,200</td>\n",
              "      <td>1</td>\n",
              "      <td>1,100</td>\n",
              "      <td>1.45</td>\n",
              "      <td>76,300</td>\n",
              "      <td>77,200</td>\n",
              "      <td>75,900</td>\n",
              "      <td>16,289,502</td>\n",
              "      <td>1,250,677,861,383</td>\n",
              "      <td>460,867,212,860,000</td>\n",
              "      <td>5,969,782,550</td>\n",
              "    </tr>\n",
              "  </tbody>\n",
              "</table>\n",
              "</div>"
            ],
            "text/plain": [
              "       TRD_DD TDD_CLSPRC FLUC_TP_CD CMPPREVDD_PRC FLUC_RT TDD_OPNPRC  \\\n",
              "0  2021/09/29     74,000          2        -2,300   -3.01     74,800   \n",
              "1  2021/09/28     76,300          2        -1,400   -1.80     77,700   \n",
              "2  2021/09/27     77,700          1           400    0.52     77,300   \n",
              "3  2021/09/24     77,300          2          -100   -0.13     77,600   \n",
              "4  2021/09/23     77,400          1           200    0.26     77,500   \n",
              "5  2021/09/17     77,200          1         1,100    1.45     76,300   \n",
              "\n",
              "  TDD_HGPRC TDD_LWPRC  ACC_TRDVOL         ACC_TRDVAL               MKTCAP  \\\n",
              "0    75,300    73,800  22,364,597  1,662,530,470,400  441,763,908,700,000   \n",
              "1    77,800    76,200  15,406,382  1,182,788,461,030  455,494,408,565,000   \n",
              "2    77,700    77,000  11,699,798    906,520,162,508  463,852,104,135,000   \n",
              "3    77,700    77,100  12,247,274    947,458,981,757  461,464,191,115,000   \n",
              "4    77,600    76,800  17,055,590  1,318,209,157,168  462,061,169,370,000   \n",
              "5    77,200    75,900  16,289,502  1,250,677,861,383  460,867,212,860,000   \n",
              "\n",
              "       LIST_SHRS  \n",
              "0  5,969,782,550  \n",
              "1  5,969,782,550  \n",
              "2  5,969,782,550  \n",
              "3  5,969,782,550  \n",
              "4  5,969,782,550  \n",
              "5  5,969,782,550  "
            ]
          },
          "metadata": {},
          "execution_count": 22
        }
      ]
    },
    {
      "cell_type": "code",
      "metadata": {
        "id": "7o8mTV2bd0qx"
      },
      "source": [
        "import pickle\n",
        "my_list = df2\n",
        " \n",
        "## Save pickle\n",
        "with open(\"df2.pickle\",\"wb\") as fw:\n",
        "    pickle.dump(my_list, fw)"
      ],
      "execution_count": null,
      "outputs": []
    },
    {
      "cell_type": "code",
      "metadata": {
        "id": "cQKIia2veDz5"
      },
      "source": [
        "## Load pickle\n",
        "with open(\"df2.pickle\",\"rb\") as fr:\n",
        "    data = pickle.load(fr)\n",
        "print(data)"
      ],
      "execution_count": null,
      "outputs": []
    },
    {
      "cell_type": "code",
      "metadata": {
        "id": "pSJB_nO3eUdB"
      },
      "source": [
        ""
      ],
      "execution_count": null,
      "outputs": []
    },
    {
      "cell_type": "code",
      "metadata": {
        "colab": {
          "base_uri": "https://localhost:8080/",
          "height": 81
        },
        "id": "rVUWeTjoeUoe",
        "outputId": "e12f381f-5de7-4fed-bb28-f95fd914ac2c"
      },
      "source": [
        "#3-1-1\n",
        "#full_code = df.loc['005930']['full_code']\n",
        "\n",
        "full_code = ['KR7005930003']\n",
        "\n",
        "strtDd= '19000101'\n",
        "endDd= '20210113'\n",
        "\n",
        "data2={'bld': 'dbms/MDC/STAT/standard/MDCSTAT01701',\n",
        "'tboxisuCd_finder_stkisu0_0': '005930/삼성전자',\n",
        "'isuCd': 'KR7005930003',\n",
        "'isuCd2': 'KR7005930003',\n",
        "'codeNmisuCd_finder_stkisu0_0': '삼성전자',\n",
        "'param1isuCd_finder_stkisu0_0': 'ALL',\n",
        "'strtDd': '20210917',\n",
        "'endDd': '20210929',\n",
        "'share': '1',\n",
        "'money': '1',\n",
        "'csvxls_isNo': 'false',}\n",
        "\n",
        "url2= 'http://data.krx.co.kr/comm/bldAttendant/getJsonData.cmd'\n",
        "\n",
        "r2=requests.post(url2,data2,headers)\n",
        "j2=json.loads(r2.text)\n",
        "df2=pd.DataFrame(j2['output'])\n",
        "\n",
        "df2_sample=df2.loc[[0],:]\n",
        "df2_sample.head()\n",
        "\n"
      ],
      "execution_count": null,
      "outputs": [
        {
          "output_type": "execute_result",
          "data": {
            "text/html": [
              "<div>\n",
              "<style scoped>\n",
              "    .dataframe tbody tr th:only-of-type {\n",
              "        vertical-align: middle;\n",
              "    }\n",
              "\n",
              "    .dataframe tbody tr th {\n",
              "        vertical-align: top;\n",
              "    }\n",
              "\n",
              "    .dataframe thead th {\n",
              "        text-align: right;\n",
              "    }\n",
              "</style>\n",
              "<table border=\"1\" class=\"dataframe\">\n",
              "  <thead>\n",
              "    <tr style=\"text-align: right;\">\n",
              "      <th></th>\n",
              "      <th>TRD_DD</th>\n",
              "      <th>TDD_CLSPRC</th>\n",
              "      <th>FLUC_TP_CD</th>\n",
              "      <th>CMPPREVDD_PRC</th>\n",
              "      <th>FLUC_RT</th>\n",
              "      <th>TDD_OPNPRC</th>\n",
              "      <th>TDD_HGPRC</th>\n",
              "      <th>TDD_LWPRC</th>\n",
              "      <th>ACC_TRDVOL</th>\n",
              "      <th>ACC_TRDVAL</th>\n",
              "      <th>MKTCAP</th>\n",
              "      <th>LIST_SHRS</th>\n",
              "    </tr>\n",
              "  </thead>\n",
              "  <tbody>\n",
              "    <tr>\n",
              "      <th>0</th>\n",
              "      <td>2021/09/29</td>\n",
              "      <td>74,100</td>\n",
              "      <td>2</td>\n",
              "      <td>-2,200</td>\n",
              "      <td>-2.88</td>\n",
              "      <td>74,800</td>\n",
              "      <td>75,300</td>\n",
              "      <td>73,800</td>\n",
              "      <td>22,895,449</td>\n",
              "      <td>1,701,842,913,100</td>\n",
              "      <td>441,763,908,700,000</td>\n",
              "      <td>5,969,782,550</td>\n",
              "    </tr>\n",
              "  </tbody>\n",
              "</table>\n",
              "</div>"
            ],
            "text/plain": [
              "       TRD_DD TDD_CLSPRC FLUC_TP_CD CMPPREVDD_PRC FLUC_RT TDD_OPNPRC  \\\n",
              "0  2021/09/29     74,100          2        -2,200   -2.88     74,800   \n",
              "\n",
              "  TDD_HGPRC TDD_LWPRC  ACC_TRDVOL         ACC_TRDVAL               MKTCAP  \\\n",
              "0    75,300    73,800  22,895,449  1,701,842,913,100  441,763,908,700,000   \n",
              "\n",
              "       LIST_SHRS  \n",
              "0  5,969,782,550  "
            ]
          },
          "metadata": {},
          "execution_count": 24
        }
      ]
    },
    {
      "cell_type": "code",
      "metadata": {
        "colab": {
          "base_uri": "https://localhost:8080/"
        },
        "id": "8oFCQJlQZ4gK",
        "outputId": "6903a81a-5613-4423-bac5-e402b0e608b8"
      },
      "source": [
        "result= pd.concat([df2_sample,df2],ignore_index=True)\n",
        "print(result)"
      ],
      "execution_count": null,
      "outputs": [
        {
          "output_type": "stream",
          "name": "stdout",
          "text": [
            "       TRD_DD TDD_CLSPRC FLUC_TP_CD CMPPREVDD_PRC FLUC_RT TDD_OPNPRC  \\\n",
            "0  2021/09/29     74,100          2        -2,200   -2.88     74,800   \n",
            "1  2021/09/29     74,100          2        -2,200   -2.88     74,800   \n",
            "2  2021/09/28     76,300          2        -1,400   -1.80     77,700   \n",
            "3  2021/09/27     77,700          1           400    0.52     77,300   \n",
            "4  2021/09/24     77,300          2          -100   -0.13     77,600   \n",
            "5  2021/09/23     77,400          1           200    0.26     77,500   \n",
            "6  2021/09/17     77,200          1         1,100    1.45     76,300   \n",
            "\n",
            "  TDD_HGPRC TDD_LWPRC  ACC_TRDVOL         ACC_TRDVAL               MKTCAP  \\\n",
            "0    75,300    73,800  22,895,449  1,701,842,913,100  441,763,908,700,000   \n",
            "1    75,300    73,800  22,895,449  1,701,842,913,100  441,763,908,700,000   \n",
            "2    77,800    76,200  15,406,382  1,182,788,461,030  455,494,408,565,000   \n",
            "3    77,700    77,000  11,699,798    906,520,162,508  463,852,104,135,000   \n",
            "4    77,700    77,100  12,247,274    947,458,981,757  461,464,191,115,000   \n",
            "5    77,600    76,800  17,055,590  1,318,209,157,168  462,061,169,370,000   \n",
            "6    77,200    75,900  16,289,502  1,250,677,861,383  460,867,212,860,000   \n",
            "\n",
            "       LIST_SHRS  \n",
            "0  5,969,782,550  \n",
            "1  5,969,782,550  \n",
            "2  5,969,782,550  \n",
            "3  5,969,782,550  \n",
            "4  5,969,782,550  \n",
            "5  5,969,782,550  \n",
            "6  5,969,782,550  \n"
          ]
        }
      ]
    },
    {
      "cell_type": "code",
      "metadata": {
        "id": "PYw4lefRSMag"
      },
      "source": [
        "import pickle        #피클로 저장\n",
        "my_list = result\n",
        " \n",
        "## Save pickle\n",
        "with open(\"df2.pickle\",\"wb\") as fw:\n",
        "    pickle.dump(my_list, fw)"
      ],
      "execution_count": null,
      "outputs": []
    },
    {
      "cell_type": "code",
      "metadata": {
        "colab": {
          "base_uri": "https://localhost:8080/"
        },
        "id": "Gl_Y7sTbSMuu",
        "outputId": "f3c5a2fd-5484-49e4-b824-1ef1ce3b2e48"
      },
      "source": [
        "## Load pickle\n",
        "with open(\"df2.pickle\",\"rb\") as fr:\n",
        "    data = pickle.load(fr)\n",
        "print(data)"
      ],
      "execution_count": null,
      "outputs": [
        {
          "output_type": "stream",
          "name": "stdout",
          "text": [
            "       TRD_DD TDD_CLSPRC FLUC_TP_CD CMPPREVDD_PRC FLUC_RT TDD_OPNPRC  \\\n",
            "0  2021/09/29     74,100          2        -2,200   -2.88     74,800   \n",
            "1  2021/09/29     74,100          2        -2,200   -2.88     74,800   \n",
            "2  2021/09/28     76,300          2        -1,400   -1.80     77,700   \n",
            "3  2021/09/27     77,700          1           400    0.52     77,300   \n",
            "4  2021/09/24     77,300          2          -100   -0.13     77,600   \n",
            "5  2021/09/23     77,400          1           200    0.26     77,500   \n",
            "6  2021/09/17     77,200          1         1,100    1.45     76,300   \n",
            "\n",
            "  TDD_HGPRC TDD_LWPRC  ACC_TRDVOL         ACC_TRDVAL               MKTCAP  \\\n",
            "0    75,300    73,800  22,895,449  1,701,842,913,100  441,763,908,700,000   \n",
            "1    75,300    73,800  22,895,449  1,701,842,913,100  441,763,908,700,000   \n",
            "2    77,800    76,200  15,406,382  1,182,788,461,030  455,494,408,565,000   \n",
            "3    77,700    77,000  11,699,798    906,520,162,508  463,852,104,135,000   \n",
            "4    77,700    77,100  12,247,274    947,458,981,757  461,464,191,115,000   \n",
            "5    77,600    76,800  17,055,590  1,318,209,157,168  462,061,169,370,000   \n",
            "6    77,200    75,900  16,289,502  1,250,677,861,383  460,867,212,860,000   \n",
            "\n",
            "       LIST_SHRS  \n",
            "0  5,969,782,550  \n",
            "1  5,969,782,550  \n",
            "2  5,969,782,550  \n",
            "3  5,969,782,550  \n",
            "4  5,969,782,550  \n",
            "5  5,969,782,550  \n",
            "6  5,969,782,550  \n"
          ]
        }
      ]
    },
    {
      "cell_type": "code",
      "metadata": {
        "id": "DNyUZWZeApGg"
      },
      "source": [
        ""
      ],
      "execution_count": null,
      "outputs": []
    },
    {
      "cell_type": "code",
      "metadata": {
        "id": "nsLFhNxZApQa"
      },
      "source": [
        ""
      ],
      "execution_count": null,
      "outputs": []
    },
    {
      "cell_type": "code",
      "metadata": {
        "id": "X9c0EEMwQw0I"
      },
      "source": [
        "import pickle\n",
        "my_list = df2_sample\n",
        " \n",
        "## Save pickle\n",
        "with open(\"df2.pickle\",\"wb\") as fw:\n",
        "    pickle.dump(my_list, fw)"
      ],
      "execution_count": null,
      "outputs": []
    },
    {
      "cell_type": "code",
      "metadata": {
        "colab": {
          "base_uri": "https://localhost:8080/"
        },
        "id": "GHgov6w_T0Gt",
        "outputId": "b8fae049-e706-42f4-defa-60fcd6cb8645"
      },
      "source": [
        "## Load pickle\n",
        "with open(\"df2.pickle\",\"rb\") as fr:\n",
        "    data = pickle.load(fr)\n",
        "print(data)"
      ],
      "execution_count": null,
      "outputs": [
        {
          "output_type": "stream",
          "name": "stdout",
          "text": [
            "       TRD_DD TDD_CLSPRC FLUC_TP_CD CMPPREVDD_PRC FLUC_RT TDD_OPNPRC  \\\n",
            "0  2021/09/28     76,300          2        -1,400   -1.80     77,700   \n",
            "\n",
            "  TDD_HGPRC TDD_LWPRC  ACC_TRDVOL         ACC_TRDVAL               MKTCAP  \\\n",
            "0    77,800    76,200  15,406,382  1,182,788,461,030  455,494,408,565,000   \n",
            "\n",
            "       LIST_SHRS  \n",
            "0  5,969,782,550  \n"
          ]
        }
      ]
    },
    {
      "cell_type": "code",
      "metadata": {
        "id": "QqeXIDM9VONh"
      },
      "source": [
        "###새로 업로드한 코드 저장??"
      ],
      "execution_count": null,
      "outputs": []
    },
    {
      "cell_type": "code",
      "metadata": {
        "colab": {
          "base_uri": "https://localhost:8080/"
        },
        "id": "Wt6Q58A0ND6g",
        "outputId": "1b1c15c1-bbbb-4a1b-ccbd-cb457fc8a048"
      },
      "source": [
        "!git clone https://github.com/baeksumin/k-project.git\n"
      ],
      "execution_count": 2,
      "outputs": [
        {
          "output_type": "stream",
          "name": "stdout",
          "text": [
            "fatal: destination path 'k-project' already exists and is not an empty directory.\n"
          ]
        }
      ]
    }
  ]
}