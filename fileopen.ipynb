{
  "nbformat": 4,
  "nbformat_minor": 0,
  "metadata": {
    "colab": {
      "name": "fileopen.ipynb",
      "provenance": [],
      "collapsed_sections": [],
      "authorship_tag": "ABX9TyNs0NloqbloDYv0WNepIs0k",
      "include_colab_link": true
    },
    "kernelspec": {
      "name": "python3",
      "display_name": "Python 3"
    },
    "language_info": {
      "name": "python"
    }
  },
  "cells": [
    {
      "cell_type": "markdown",
      "metadata": {
        "id": "view-in-github",
        "colab_type": "text"
      },
      "source": [
        "<a href=\"https://colab.research.google.com/github/baeksumin/k-project/blob/main/fileopen.ipynb\" target=\"_parent\"><img src=\"https://colab.research.google.com/assets/colab-badge.svg\" alt=\"Open In Colab\"/></a>"
      ]
    },
    {
      "cell_type": "code",
      "metadata": {
        "id": "nQBj-Oj2_Ujg",
        "colab": {
          "base_uri": "https://localhost:8080/"
        },
        "outputId": "7089aab3-81ba-4bf1-88ad-aca452a62887"
      },
      "source": [
        "from google.colab import drive\n",
        "drive.mount('/content/drive')"
      ],
      "execution_count": 1,
      "outputs": [
        {
          "output_type": "stream",
          "name": "stdout",
          "text": [
            "Mounted at /content/drive\n"
          ]
        }
      ]
    },
    {
      "cell_type": "code",
      "metadata": {
        "id": "-lcgjPA9fk4v"
      },
      "source": [
        "import json\n",
        "import requests\n",
        "import pandas as pd\n",
        "from io import BytesIO\n",
        "from datetime import datetime"
      ],
      "execution_count": 2,
      "outputs": []
    },
    {
      "cell_type": "code",
      "metadata": {
        "id": "p95NXDt_aUW5"
      },
      "source": [
        "import pandas as pd\n",
        "import json\n",
        "from pandas import json_normalize\n",
        "\n",
        "with open('/content/drive/MyDrive/k-project/output/initial_data.json',\"r\") as json_file:\n",
        "  json_data = json.load(json_file)\n",
        "\n",
        "json_data"
      ],
      "execution_count": null,
      "outputs": []
    },
    {
      "cell_type": "code",
      "metadata": {
        "colab": {
          "base_uri": "https://localhost:8080/"
        },
        "id": "2Zq9tsS8g0lY",
        "outputId": "cc0c42dd-18ae-488f-f2db-005151e8c4c8"
      },
      "source": [
        "df = pd.read_json(json_data['KR7060310000'], orient ='index') # 첫번째 키값으로 데이터프레임 변환\n",
        "print(df.transpose())"
      ],
      "execution_count": 17,
      "outputs": [
        {
          "output_type": "stream",
          "name": "stdout",
          "text": [
            "          TRD_DD  ISU_CD  ISU_NM TDD_CLSPRC  ...  BPS   PBR DPS DVD_YLD\n",
            "0     2021/10/06  060310      3S      3,670  ...  792  4.63   0    0.00\n",
            "1     2021/10/05  060310      3S      3,870  ...  792  4.89   0    0.00\n",
            "2     2021/10/01  060310      3S      3,960  ...  792  5.00   0    0.00\n",
            "3     2021/09/30  060310      3S      4,105  ...  792  5.18   0    0.00\n",
            "4     2021/09/29  060310      3S      4,160  ...  792  5.25   0    0.00\n",
            "...          ...     ...     ...        ...  ...  ...   ...  ..     ...\n",
            "4806  2002/04/29  060310  삼에스코리아      6,780  ...    -     -   -       -\n",
            "4807  2002/04/26  060310  삼에스코리아      7,700  ...    -     -   -       -\n",
            "4808  2002/04/25  060310  삼에스코리아      8,750  ...    -     -   -       -\n",
            "4809  2002/04/24  060310  삼에스코리아      8,510  ...    -     -   -       -\n",
            "4810  2002/04/23  060310  삼에스코리아      7,600  ...    -     -   -       -\n",
            "\n",
            "[4811 rows x 14 columns]\n"
          ]
        }
      ]
    }
  ]
}