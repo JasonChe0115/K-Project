{
  "nbformat": 4,
  "nbformat_minor": 0,
  "metadata": {
    "colab": {
      "name": "datacollection_1.ipynb",
      "provenance": [],
      "collapsed_sections": [],
      "authorship_tag": "ABX9TyNaIrjTuvI8WAlKCQm4zSCs",
      "include_colab_link": true
    },
    "kernelspec": {
      "name": "python3",
      "display_name": "Python 3"
    },
    "language_info": {
      "name": "python"
    }
  },
  "cells": [
    {
      "cell_type": "markdown",
      "metadata": {
        "id": "view-in-github",
        "colab_type": "text"
      },
      "source": [
        "<a href=\"https://colab.research.google.com/github/baeksumin/k-project/blob/main/datacollection_1.ipynb\" target=\"_parent\"><img src=\"https://colab.research.google.com/assets/colab-badge.svg\" alt=\"Open In Colab\"/></a>"
      ]
    },
    {
      "cell_type": "code",
      "metadata": {
        "id": "bBbPO-20KJ7v"
      },
      "source": [
        "'''\n",
        "1. 저장된 fullcode 목록을 불러와서 종목별 데이터 수집\n",
        "2. pickle 저장\n",
        "\n",
        "(프로젝트를 시작할 때 1번만 실행)\n",
        "'''"
      ],
      "execution_count": null,
      "outputs": []
    },
    {
      "cell_type": "code",
      "metadata": {
        "colab": {
          "base_uri": "https://localhost:8080/"
        },
        "id": "203n6ewOKPu-",
        "outputId": "a3c39b69-e0d2-4579-bf85-d123648bd1c0"
      },
      "source": [
        "import json\n",
        "import requests\n",
        "import pandas as pd\n",
        "from io import BytesIO\n",
        "from datetime import datetime \n",
        "from datetime import timedelta\n",
        "import pickle\n",
        "from google.colab import drive\n",
        "\n",
        "drive.mount('/content/drive')\n",
        "output_path = '/content/drive/MyDrive/k-project/output/'\n",
        "data_path = '/content/drive/MyDrive/[Shared]K-Project/'\n",
        "# pickle 경로를 설정하기 위해"
      ],
      "execution_count": 1,
      "outputs": [
        {
          "output_type": "stream",
          "name": "stdout",
          "text": [
            "Mounted at /content/drive\n"
          ]
        }
      ]
    },
    {
      "cell_type": "code",
      "metadata": {
        "colab": {
          "base_uri": "https://localhost:8080/"
        },
        "id": "RBc1hoNpKX4e",
        "outputId": "76b86eae-2719-4c4e-ed33-e93aba974290"
      },
      "source": [
        "# 한국시간 설정\n",
        "import pytz\n",
        "\n",
        "KST = pytz.timezone('Asia/Seoul')\n",
        "today = str(datetime.now(KST).strftime(\"%Y%m%d\"))\n",
        "print(today)"
      ],
      "execution_count": 2,
      "outputs": [
        {
          "output_type": "stream",
          "name": "stdout",
          "text": [
            "20211004\n"
          ]
        }
      ]
    },
    {
      "cell_type": "code",
      "metadata": {
        "colab": {
          "base_uri": "https://localhost:8080/",
          "height": 424
        },
        "id": "JrOQxIJ7QbSO",
        "outputId": "d6272f56-14e1-46ef-c349-505ba446593c"
      },
      "source": [
        "## Load pickle - fullcode 목록\n",
        "with open(data_path + 'full_code.pkl',\"rb\") as f: \n",
        "    fullcode = pickle.load(f)\n",
        "fullcode"
      ],
      "execution_count": 3,
      "outputs": [
        {
          "output_type": "execute_result",
          "data": {
            "text/html": [
              "<div>\n",
              "<style scoped>\n",
              "    .dataframe tbody tr th:only-of-type {\n",
              "        vertical-align: middle;\n",
              "    }\n",
              "\n",
              "    .dataframe tbody tr th {\n",
              "        vertical-align: top;\n",
              "    }\n",
              "\n",
              "    .dataframe thead th {\n",
              "        text-align: right;\n",
              "    }\n",
              "</style>\n",
              "<table border=\"1\" class=\"dataframe\">\n",
              "  <thead>\n",
              "    <tr style=\"text-align: right;\">\n",
              "      <th></th>\n",
              "      <th>full_code</th>\n",
              "      <th>short_code</th>\n",
              "      <th>codeName</th>\n",
              "      <th>marketEngName</th>\n",
              "      <th>status</th>\n",
              "    </tr>\n",
              "  </thead>\n",
              "  <tbody>\n",
              "    <tr>\n",
              "      <th>0</th>\n",
              "      <td>KR7060310000</td>\n",
              "      <td>060310</td>\n",
              "      <td>3S</td>\n",
              "      <td>KOSDAQ</td>\n",
              "      <td>상장</td>\n",
              "    </tr>\n",
              "    <tr>\n",
              "      <th>1</th>\n",
              "      <td>KR7095570008</td>\n",
              "      <td>095570</td>\n",
              "      <td>AJ네트웍스</td>\n",
              "      <td>KOSPI</td>\n",
              "      <td>상장</td>\n",
              "    </tr>\n",
              "    <tr>\n",
              "      <th>2</th>\n",
              "      <td>KR7006840003</td>\n",
              "      <td>006840</td>\n",
              "      <td>AK홀딩스</td>\n",
              "      <td>KOSPI</td>\n",
              "      <td>상장</td>\n",
              "    </tr>\n",
              "    <tr>\n",
              "      <th>3</th>\n",
              "      <td>KR7054620000</td>\n",
              "      <td>054620</td>\n",
              "      <td>APS홀딩스</td>\n",
              "      <td>KOSDAQ</td>\n",
              "      <td>상장</td>\n",
              "    </tr>\n",
              "    <tr>\n",
              "      <th>4</th>\n",
              "      <td>KR7265520007</td>\n",
              "      <td>265520</td>\n",
              "      <td>AP시스템</td>\n",
              "      <td>KOSDAQ</td>\n",
              "      <td>상장</td>\n",
              "    </tr>\n",
              "    <tr>\n",
              "      <th>...</th>\n",
              "      <td>...</td>\n",
              "      <td>...</td>\n",
              "      <td>...</td>\n",
              "      <td>...</td>\n",
              "      <td>...</td>\n",
              "    </tr>\n",
              "    <tr>\n",
              "      <th>2580</th>\n",
              "      <td>KR7000542001</td>\n",
              "      <td>000547</td>\n",
              "      <td>흥국화재2우B</td>\n",
              "      <td>KOSPI</td>\n",
              "      <td>상장</td>\n",
              "    </tr>\n",
              "    <tr>\n",
              "      <th>2581</th>\n",
              "      <td>KR7000541003</td>\n",
              "      <td>000545</td>\n",
              "      <td>흥국화재우</td>\n",
              "      <td>KOSPI</td>\n",
              "      <td>상장</td>\n",
              "    </tr>\n",
              "    <tr>\n",
              "      <th>2582</th>\n",
              "      <td>KR7003280005</td>\n",
              "      <td>003280</td>\n",
              "      <td>흥아해운</td>\n",
              "      <td>KOSPI</td>\n",
              "      <td>상장</td>\n",
              "    </tr>\n",
              "    <tr>\n",
              "      <th>2583</th>\n",
              "      <td>KR7037440005</td>\n",
              "      <td>037440</td>\n",
              "      <td>희림</td>\n",
              "      <td>KOSDAQ</td>\n",
              "      <td>상장</td>\n",
              "    </tr>\n",
              "    <tr>\n",
              "      <th>2584</th>\n",
              "      <td>KR7238490007</td>\n",
              "      <td>238490</td>\n",
              "      <td>힘스</td>\n",
              "      <td>KOSDAQ</td>\n",
              "      <td>상장</td>\n",
              "    </tr>\n",
              "  </tbody>\n",
              "</table>\n",
              "<p>2585 rows × 5 columns</p>\n",
              "</div>"
            ],
            "text/plain": [
              "         full_code short_code codeName marketEngName status\n",
              "0     KR7060310000     060310       3S        KOSDAQ     상장\n",
              "1     KR7095570008     095570   AJ네트웍스         KOSPI     상장\n",
              "2     KR7006840003     006840    AK홀딩스         KOSPI     상장\n",
              "3     KR7054620000     054620   APS홀딩스        KOSDAQ     상장\n",
              "4     KR7265520007     265520    AP시스템        KOSDAQ     상장\n",
              "...            ...        ...      ...           ...    ...\n",
              "2580  KR7000542001     000547  흥국화재2우B         KOSPI     상장\n",
              "2581  KR7000541003     000545    흥국화재우         KOSPI     상장\n",
              "2582  KR7003280005     003280     흥아해운         KOSPI     상장\n",
              "2583  KR7037440005     037440       희림        KOSDAQ     상장\n",
              "2584  KR7238490007     238490       힘스        KOSDAQ     상장\n",
              "\n",
              "[2585 rows x 5 columns]"
            ]
          },
          "metadata": {},
          "execution_count": 3
        }
      ]
    },
    {
      "cell_type": "code",
      "metadata": {
        "colab": {
          "base_uri": "https://localhost:8080/"
        },
        "id": "VxOt_Qp6Xi1u",
        "outputId": "09a17f91-66d8-4362-e31f-d28cfdae9241"
      },
      "source": [
        "# 상장폐지 상태 제외시키기\n",
        "fullcode_filter = fullcode[fullcode['status'] != '상장폐지']\n",
        "\n",
        "# fullcode열을 list로 변경\n",
        "fullcode_list = list(fullcode_filter['full_code'])\n",
        "print(fullcode_list[:10])"
      ],
      "execution_count": 4,
      "outputs": [
        {
          "output_type": "stream",
          "name": "stdout",
          "text": [
            "['KR7060310000', 'KR7095570008', 'KR7006840003', 'KR7054620000', 'KR7265520007', 'KR7211270004', 'KR7027410000', 'KR7282330000', 'KR7138930003', 'KR7001460005']\n"
          ]
        }
      ]
    },
    {
      "cell_type": "code",
      "metadata": {
        "id": "b_R7I0d0qoWK"
      },
      "source": [
        "'''\n",
        "종가 시가 저가 고가 시가총액 EPS PER BPS PBR 주당배당금 배당수익률\n",
        "(* 필요한 컬럼)\n",
        "\n",
        "df2\n",
        " 0   TRD_DD : 거래일자 *\n",
        " 1   ISU_CD : 종목코드 *      \n",
        " 2   ISU_NM : 종목명 *      \n",
        " 3   MKT_NM : 시장코드 (kospi)      \n",
        " 4   SECUGRP_NM : 증권구분 (주권)    \n",
        " 5   TDD_CLSPRC : 종가 *  \n",
        " 6   FLUC_TP_CD    \n",
        " 7   CMPPRVDD_PRC : 대비 \n",
        " 8   FLUC_RT : 등락률      \n",
        " 9   TDD_OPNPRC : 시가 *  \n",
        " 10  TDD_HGPRC  : 고가 *  \n",
        " 11  TDD_LWPRC  : 저가 *  \n",
        " 12  ACC_TRDVOL : 거래량   \n",
        " 13  ACC_TRDVAL : 거래대금   \n",
        " 14  MKTCAP : 시가총액 *\n",
        "\n",
        "df3\n",
        " 0   TRD_DD : 거래일자        \n",
        " 1   TDD_CLSPRC : 종가    \n",
        " 2   FLUC_TP_CD     \n",
        " 3   CMPPREVDD_PRC : 대비 \n",
        " 4   FLUC_RT : 등락률      \n",
        " 5   EPS *           \n",
        " 6   PER *           \n",
        " 7   BPS *           \n",
        " 8   PBR *           \n",
        " 9   DPS : 주당배당금 *          \n",
        " 10  DVD_YLD : 배당수익률 *\n",
        " '''"
      ],
      "execution_count": null,
      "outputs": []
    },
    {
      "cell_type": "code",
      "metadata": {
        "colab": {
          "base_uri": "https://localhost:8080/"
        },
        "id": "juaJ0OHhKfP2",
        "outputId": "94d678c2-ce1d-4a0e-ee53-b6c4c3ab15d4"
      },
      "source": [
        "url2 = 'http://data.krx.co.kr/comm/bldAttendant/getJsonData.cmd'\n",
        "headers = {'User-Agent': 'Chrome/78.0.3904.87 Safari/537.36',}\n",
        "\n",
        "strtDd = '19000101'\n",
        "endDd = today\n",
        "\n",
        "result_dict = {}\n",
        "for i in fullcode_list[:2]: # 테스트를 위해 2개만 실행 (두 종목만 출력됨)\n",
        "    data2 = { 'bld': 'dbms/MDC/STAT/issue/MDCSTAT23902',\n",
        "    'isuCd': i, # i는 KR7060310000\n",
        "    'isuCd2': '',\n",
        "    'strtDd': strtDd,\n",
        "    'endDd': endDd,\n",
        "    'share': '1',\n",
        "    'money': '1',\n",
        "    'csvxls_isNo': 'false',}\n",
        "\n",
        "    r2 = requests.post(url2, data2, headers)\n",
        "    j2 = json.loads(r2.text)\n",
        "    df2=pd.DataFrame(j2['output'])\n",
        "\n",
        "    data3 = { 'bld': 'dbms/MDC/STAT/standard/MDCSTAT03502',\n",
        "    'isuCd': i,\n",
        "    'isuCd2': i,\n",
        "    'strtDd': strtDd,\n",
        "    'endDd': endDd,\n",
        "    'searchType': '2',\n",
        "    'mktId': 'ALL',\n",
        "    'csvxls_isNo': 'false',}\n",
        "\n",
        "    r2 = requests.post(url2, data3, headers)\n",
        "    j2 = json.loads(r2.text)\n",
        "    df3=pd.DataFrame(j2['output'])\n",
        "\n",
        "    df2_ = df2[['TRD_DD', 'ISU_CD', 'ISU_NM', 'TDD_CLSPRC', 'TDD_OPNPRC', 'TDD_HGPRC', 'TDD_LWPRC', 'MKTCAP']]\n",
        "    df3_ = df3[['TRD_DD', 'EPS', 'PER', 'BPS', 'PBR', 'DPS', 'DVD_YLD']]\n",
        "    result = pd.merge(df2_, df3_)\n",
        "\n",
        "    result_js = result.to_json(orient = 'columns') # 데이터프레임을 json 형태로 변환\n",
        "    result_js_list = [result_js] # json 형태의 데이터를 list로 변환\n",
        "    result_dict[i] = result_js_list # fullcode가 key값이 되고 list 변환한 json이 value값이 됨\n",
        "    print(len(result_dict)) # 현재 상황을 알기위해 몇개의 종목이 저장되었는지 갯수 확인"
      ],
      "execution_count": 21,
      "outputs": [
        {
          "output_type": "stream",
          "name": "stdout",
          "text": [
            "1\n",
            "2\n"
          ]
        }
      ]
    },
    {
      "cell_type": "code",
      "metadata": {
        "id": "O9Srp-z_XWP_"
      },
      "source": [
        "with open('/content/drive/MyDrive/k-project/output/initial_data.json', 'w') as f:\n",
        "    json.dump(result_dict, f)"
      ],
      "execution_count": 23,
      "outputs": []
    },
    {
      "cell_type": "code",
      "metadata": {
        "id": "0wb7BvJ9Kj4e"
      },
      "source": [
        "# # Save pickle\n",
        "# with open(output_path + \"3S.pickle\",\"wb\") as fw:\n",
        "#     pickle.dump(result, fw)"
      ],
      "execution_count": 8,
      "outputs": []
    }
  ]
}