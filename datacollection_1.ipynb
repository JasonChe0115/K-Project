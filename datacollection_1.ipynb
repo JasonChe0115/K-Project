{
  "nbformat": 4,
  "nbformat_minor": 0,
  "metadata": {
    "colab": {
      "name": "datacollection_1.ipynb",
      "provenance": [],
      "collapsed_sections": [],
      "authorship_tag": "ABX9TyNDoPgmy1QfaRuKPVHK/qnD",
      "include_colab_link": true
    },
    "kernelspec": {
      "name": "python3",
      "display_name": "Python 3"
    },
    "language_info": {
      "name": "python"
    }
  },
  "cells": [
    {
      "cell_type": "markdown",
      "metadata": {
        "id": "view-in-github",
        "colab_type": "text"
      },
      "source": [
        "<a href=\"https://colab.research.google.com/github/baeksumin/k-project/blob/main/datacollection_1.ipynb\" target=\"_parent\"><img src=\"https://colab.research.google.com/assets/colab-badge.svg\" alt=\"Open In Colab\"/></a>"
      ]
    },
    {
      "cell_type": "code",
      "metadata": {
        "id": "bBbPO-20KJ7v"
      },
      "source": [
        "'''\n",
        "1. 저장된 fullcode 목록을 불러와서 종목별 데이터 수집\n",
        "2. pickle 저장\n",
        "\n",
        "(프로젝트를 시작할 때 1번만 실행)\n",
        "'''"
      ],
      "execution_count": null,
      "outputs": []
    },
    {
      "cell_type": "code",
      "metadata": {
        "colab": {
          "base_uri": "https://localhost:8080/"
        },
        "id": "203n6ewOKPu-",
        "outputId": "92f3f5d4-9328-42de-eee7-b7766131b1d0"
      },
      "source": [
        "import json\n",
        "import requests\n",
        "import pandas as pd\n",
        "from io import BytesIO\n",
        "from datetime import datetime \n",
        "from datetime import timedelta\n",
        "import pickle\n",
        "from google.colab import drive\n",
        "\n",
        "drive.mount('/content/drive')\n",
        "output_path = '/content/drive/MyDrive/k-project/output/'\n",
        "data_path = '/content/drive/MyDrive/[Shared]K-Project/'\n",
        "# pickle 경로를 설정하기 위해"
      ],
      "execution_count": 15,
      "outputs": [
        {
          "output_type": "stream",
          "name": "stdout",
          "text": [
            "Drive already mounted at /content/drive; to attempt to forcibly remount, call drive.mount(\"/content/drive\", force_remount=True).\n"
          ]
        }
      ]
    },
    {
      "cell_type": "code",
      "metadata": {
        "colab": {
          "base_uri": "https://localhost:8080/"
        },
        "id": "RBc1hoNpKX4e",
        "outputId": "78a83073-51a5-4bc0-b3c4-68f52d4c2203"
      },
      "source": [
        "# 한국시간 설정\n",
        "import pytz\n",
        "\n",
        "KST = pytz.timezone('Asia/Seoul')\n",
        "today = str(datetime.now(KST).strftime(\"%Y%m%d\"))\n",
        "print(today)"
      ],
      "execution_count": 3,
      "outputs": [
        {
          "output_type": "stream",
          "name": "stdout",
          "text": [
            "20211001\n"
          ]
        }
      ]
    },
    {
      "cell_type": "code",
      "metadata": {
        "colab": {
          "base_uri": "https://localhost:8080/",
          "height": 424
        },
        "id": "JrOQxIJ7QbSO",
        "outputId": "bed290e8-3b5e-4c07-f625-6e7d0f08f047"
      },
      "source": [
        "## Load pickle - fullcode 목록\n",
        "with open(data_path + 'full_code.pkl',\"rb\") as f: \n",
        "    fullcode = pickle.load(f)\n",
        "fullcode"
      ],
      "execution_count": 22,
      "outputs": [
        {
          "output_type": "execute_result",
          "data": {
            "text/html": [
              "<div>\n",
              "<style scoped>\n",
              "    .dataframe tbody tr th:only-of-type {\n",
              "        vertical-align: middle;\n",
              "    }\n",
              "\n",
              "    .dataframe tbody tr th {\n",
              "        vertical-align: top;\n",
              "    }\n",
              "\n",
              "    .dataframe thead th {\n",
              "        text-align: right;\n",
              "    }\n",
              "</style>\n",
              "<table border=\"1\" class=\"dataframe\">\n",
              "  <thead>\n",
              "    <tr style=\"text-align: right;\">\n",
              "      <th></th>\n",
              "      <th>full_code</th>\n",
              "      <th>short_code</th>\n",
              "      <th>codeName</th>\n",
              "      <th>marketEngName</th>\n",
              "      <th>status</th>\n",
              "    </tr>\n",
              "  </thead>\n",
              "  <tbody>\n",
              "    <tr>\n",
              "      <th>0</th>\n",
              "      <td>KR7060310000</td>\n",
              "      <td>060310</td>\n",
              "      <td>3S</td>\n",
              "      <td>KOSDAQ</td>\n",
              "      <td>상장</td>\n",
              "    </tr>\n",
              "    <tr>\n",
              "      <th>1</th>\n",
              "      <td>KR7095570008</td>\n",
              "      <td>095570</td>\n",
              "      <td>AJ네트웍스</td>\n",
              "      <td>KOSPI</td>\n",
              "      <td>상장</td>\n",
              "    </tr>\n",
              "    <tr>\n",
              "      <th>2</th>\n",
              "      <td>KR7006840003</td>\n",
              "      <td>006840</td>\n",
              "      <td>AK홀딩스</td>\n",
              "      <td>KOSPI</td>\n",
              "      <td>상장</td>\n",
              "    </tr>\n",
              "    <tr>\n",
              "      <th>3</th>\n",
              "      <td>KR7054620000</td>\n",
              "      <td>054620</td>\n",
              "      <td>APS홀딩스</td>\n",
              "      <td>KOSDAQ</td>\n",
              "      <td>상장</td>\n",
              "    </tr>\n",
              "    <tr>\n",
              "      <th>4</th>\n",
              "      <td>KR7265520007</td>\n",
              "      <td>265520</td>\n",
              "      <td>AP시스템</td>\n",
              "      <td>KOSDAQ</td>\n",
              "      <td>상장</td>\n",
              "    </tr>\n",
              "    <tr>\n",
              "      <th>...</th>\n",
              "      <td>...</td>\n",
              "      <td>...</td>\n",
              "      <td>...</td>\n",
              "      <td>...</td>\n",
              "      <td>...</td>\n",
              "    </tr>\n",
              "    <tr>\n",
              "      <th>2580</th>\n",
              "      <td>KR7000542001</td>\n",
              "      <td>000547</td>\n",
              "      <td>흥국화재2우B</td>\n",
              "      <td>KOSPI</td>\n",
              "      <td>상장</td>\n",
              "    </tr>\n",
              "    <tr>\n",
              "      <th>2581</th>\n",
              "      <td>KR7000541003</td>\n",
              "      <td>000545</td>\n",
              "      <td>흥국화재우</td>\n",
              "      <td>KOSPI</td>\n",
              "      <td>상장</td>\n",
              "    </tr>\n",
              "    <tr>\n",
              "      <th>2582</th>\n",
              "      <td>KR7003280005</td>\n",
              "      <td>003280</td>\n",
              "      <td>흥아해운</td>\n",
              "      <td>KOSPI</td>\n",
              "      <td>상장</td>\n",
              "    </tr>\n",
              "    <tr>\n",
              "      <th>2583</th>\n",
              "      <td>KR7037440005</td>\n",
              "      <td>037440</td>\n",
              "      <td>희림</td>\n",
              "      <td>KOSDAQ</td>\n",
              "      <td>상장</td>\n",
              "    </tr>\n",
              "    <tr>\n",
              "      <th>2584</th>\n",
              "      <td>KR7238490007</td>\n",
              "      <td>238490</td>\n",
              "      <td>힘스</td>\n",
              "      <td>KOSDAQ</td>\n",
              "      <td>상장</td>\n",
              "    </tr>\n",
              "  </tbody>\n",
              "</table>\n",
              "<p>2585 rows × 5 columns</p>\n",
              "</div>"
            ],
            "text/plain": [
              "         full_code short_code codeName marketEngName status\n",
              "0     KR7060310000     060310       3S        KOSDAQ     상장\n",
              "1     KR7095570008     095570   AJ네트웍스         KOSPI     상장\n",
              "2     KR7006840003     006840    AK홀딩스         KOSPI     상장\n",
              "3     KR7054620000     054620   APS홀딩스        KOSDAQ     상장\n",
              "4     KR7265520007     265520    AP시스템        KOSDAQ     상장\n",
              "...            ...        ...      ...           ...    ...\n",
              "2580  KR7000542001     000547  흥국화재2우B         KOSPI     상장\n",
              "2581  KR7000541003     000545    흥국화재우         KOSPI     상장\n",
              "2582  KR7003280005     003280     흥아해운         KOSPI     상장\n",
              "2583  KR7037440005     037440       희림        KOSDAQ     상장\n",
              "2584  KR7238490007     238490       힘스        KOSDAQ     상장\n",
              "\n",
              "[2585 rows x 5 columns]"
            ]
          },
          "metadata": {},
          "execution_count": 22
        }
      ]
    },
    {
      "cell_type": "code",
      "metadata": {
        "colab": {
          "base_uri": "https://localhost:8080/"
        },
        "id": "Yfvfsp-fSNqN",
        "outputId": "2ec99bbf-246b-47be-a1dd-5adaf2299cfa"
      },
      "source": [
        "fullcode_list = list(fullcode['full_code'])\n",
        "print(fullcode_list[:10])\n",
        "# fullcode열을 list로 변경 후 확인"
      ],
      "execution_count": 26,
      "outputs": [
        {
          "output_type": "stream",
          "name": "stdout",
          "text": [
            "['KR7060310000', 'KR7095570008', 'KR7006840003', 'KR7054620000', 'KR7265520007', 'KR7211270004', 'KR7027410000', 'KR7282330000', 'KR7138930003', 'KR7001460005']\n"
          ]
        }
      ]
    },
    {
      "cell_type": "code",
      "metadata": {
        "colab": {
          "base_uri": "https://localhost:8080/"
        },
        "id": "juaJ0OHhKfP2",
        "outputId": "766d000a-97c2-41c9-8d9f-4ba7f2b48ef7"
      },
      "source": [
        "headers = {'User-Agent': 'Chrome/93.0.4577.63'}\n",
        "\n",
        "strtDd = '19000101'\n",
        "endDd = today\n",
        "\n",
        "for i in fullcode_list[:3]: # 테스트를 위해 3개만 실행\n",
        "    data2 = { 'bld': 'dbms/MDC/STAT/issue/MDCSTAT23902',\n",
        "    'isuCd': i,\n",
        "    'isuCd2': '',\n",
        "    'strtDd': strtDd,\n",
        "    'endDd': endDd,\n",
        "    'share': '1',\n",
        "    'money': '1',\n",
        "    'csvxls_isNo': 'false',}\n",
        "\n",
        "    url2 = 'http://data.krx.co.kr/comm/bldAttendant/getJsonData.cmd'\n",
        "\n",
        "    r2 = requests.post(url2, data2, headers)\n",
        "    # print(r2)\n",
        "    j2 = json.loads(r2.text)\n",
        "    df2 = pd.DataFrame(j2['output'])\n",
        "    print(df2)\n",
        "    print('------------------------------------------------------------------')"
      ],
      "execution_count": 14,
      "outputs": [
        {
          "output_type": "stream",
          "name": "stdout",
          "text": [
            "          TRD_DD  ISU_CD  ISU_NM  ... ACC_TRDVOL     ACC_TRDVAL           MKTCAP\n",
            "0     2021/10/01  060310      3S  ...    345,587  1,376,085,525  183,003,833,915\n",
            "1     2021/09/30  060310      3S  ...    767,757  3,155,491,355  189,944,560,865\n",
            "2     2021/09/29  060310      3S  ...  1,190,538  4,863,389,585  192,489,494,080\n",
            "3     2021/09/28  060310      3S  ...    539,826  2,165,498,515  184,391,979,305\n",
            "4     2021/09/27  060310      3S  ...  1,911,019  7,709,403,420  190,407,275,995\n",
            "...          ...     ...     ...  ...        ...            ...              ...\n",
            "4804  2002/04/29  060310  삼에스코리아  ...    139,388    951,796,930   16,272,000,000\n",
            "4805  2002/04/26  060310  삼에스코리아  ...    176,111  1,405,023,020   18,480,000,000\n",
            "4806  2002/04/25  060310  삼에스코리아  ...    768,702  6,815,533,300   21,000,000,000\n",
            "4807  2002/04/24  060310  삼에스코리아  ...    140,723  1,169,025,100   20,424,000,000\n",
            "4808  2002/04/23  060310  삼에스코리아  ...    109,024    828,582,400   18,240,000,000\n",
            "\n",
            "[4809 rows x 15 columns]\n",
            "------------------------------------------------------------------\n",
            "          TRD_DD  ISU_CD  ISU_NM  ... ACC_TRDVOL      ACC_TRDVAL           MKTCAP\n",
            "0     2021/10/01  095570  AJ네트웍스  ...     78,982     453,394,960  268,759,973,300\n",
            "1     2021/09/30  095570  AJ네트웍스  ...     49,548     289,237,540  273,442,202,800\n",
            "2     2021/09/29  095570  AJ네트웍스  ...     92,877     538,632,680  273,910,425,750\n",
            "3     2021/09/28  095570  AJ네트웍스  ...     79,138     467,706,550  276,251,540,500\n",
            "4     2021/09/27  095570  AJ네트웍스  ...     85,036     502,661,120  279,997,324,100\n",
            "...          ...     ...     ...  ...        ...             ...              ...\n",
            "1498  2015/08/27  095570  AJ네트웍스  ...    499,913  18,764,860,300  354,444,773,150\n",
            "1499  2015/08/26  095570  AJ네트웍스  ...    703,721  25,144,972,800  331,970,071,550\n",
            "1500  2015/08/25  095570  AJ네트웍스  ...    242,730   7,808,534,250  291,234,674,900\n",
            "1501  2015/08/24  095570  AJ네트웍스  ...    392,831  12,926,256,800  303,408,471,600\n",
            "1502  2015/08/21  095570  AJ네트웍스  ...  1,994,022  64,841,739,950  332,438,294,500\n",
            "\n",
            "[1503 rows x 15 columns]\n",
            "------------------------------------------------------------------\n",
            "          TRD_DD  ISU_CD ISU_NM  ... ACC_TRDVOL      ACC_TRDVAL           MKTCAP\n",
            "0     2021/10/01  006840  AK홀딩스  ...     18,939     498,928,000  345,761,342,100\n",
            "1     2021/09/30  006840  AK홀딩스  ...     11,868     320,974,850  357,021,768,950\n",
            "2     2021/09/29  006840  AK홀딩스  ...     11,045     293,945,700  353,709,878,700\n",
            "3     2021/09/28  006840  AK홀딩스  ...     19,065     513,768,600  358,346,525,050\n",
            "4     2021/09/27  006840  AK홀딩스  ...     21,653     596,424,100  361,658,415,300\n",
            "...          ...     ...    ...  ...        ...             ...              ...\n",
            "5463  1999/08/17  006840   애경유화  ...     74,700   1,834,637,000  135,000,000,000\n",
            "5464  1999/08/16  006840   애경유화  ...     88,610   2,332,215,500  153,000,000,000\n",
            "5465  1999/08/13  006840   애경유화  ...    237,290   6,190,816,500  162,000,000,000\n",
            "5466  1999/08/12  006840   애경유화  ...    271,400   7,953,901,500  165,900,000,000\n",
            "5467  1999/08/11  006840   애경유화  ...    444,090  15,051,525,500  195,000,000,000\n",
            "\n",
            "[5468 rows x 15 columns]\n",
            "------------------------------------------------------------------\n"
          ]
        }
      ]
    },
    {
      "cell_type": "code",
      "metadata": {
        "id": "0wb7BvJ9Kj4e"
      },
      "source": [
        "## Save pickle\n",
        "with open(output_path + \"df2.pickle\",\"wb\") as fw:\n",
        "    pickle.dump(df2, fw)"
      ],
      "execution_count": null,
      "outputs": []
    },
    {
      "cell_type": "code",
      "metadata": {
        "id": "djeNZ6D4LLjF"
      },
      "source": [
        ""
      ],
      "execution_count": null,
      "outputs": []
    }
  ]
}