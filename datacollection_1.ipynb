{
  "nbformat": 4,
  "nbformat_minor": 0,
  "metadata": {
    "colab": {
      "name": "datacollection_1.ipynb",
      "provenance": [],
      "collapsed_sections": [],
      "include_colab_link": true
    },
    "kernelspec": {
      "name": "python3",
      "display_name": "Python 3"
    },
    "language_info": {
      "name": "python"
    }
  },
  "cells": [
    {
      "cell_type": "markdown",
      "metadata": {
        "id": "view-in-github",
        "colab_type": "text"
      },
      "source": [
        "<a href=\"https://colab.research.google.com/github/baeksumin/k-project/blob/main/datacollection_1.ipynb\" target=\"_parent\"><img src=\"https://colab.research.google.com/assets/colab-badge.svg\" alt=\"Open In Colab\"/></a>"
      ]
    },
    {
      "cell_type": "code",
      "metadata": {
        "id": "bBbPO-20KJ7v"
      },
      "source": [
        "'''\n",
        "1. 저장된 fullcode 목록을 불러와서 종목별 데이터 수집\n",
        "2. pickle 저장\n",
        "\n",
        "(프로젝트를 시작할 때 1번만 실행)\n",
        "'''"
      ],
      "execution_count": null,
      "outputs": []
    },
    {
      "cell_type": "code",
      "metadata": {
        "colab": {
          "base_uri": "https://localhost:8080/"
        },
        "id": "203n6ewOKPu-",
        "outputId": "1b80c9c0-201a-4a0d-85cb-067f8099a57e"
      },
      "source": [
        "import json\n",
        "import requests\n",
        "import pandas as pd\n",
        "from io import BytesIO\n",
        "from datetime import datetime \n",
        "from datetime import timedelta\n",
        "import pickle\n",
        "from google.colab import drive\n",
        "\n",
        "drive.mount('/content/drive')\n",
        "output_path = '/content/drive/MyDrive/k-project/output/'\n",
        "data_path = '/content/drive/MyDrive/[Shared]K-Project/'\n",
        "# pickle 경로를 설정하기 위해"
      ],
      "execution_count": 1,
      "outputs": [
        {
          "output_type": "stream",
          "name": "stdout",
          "text": [
            "Mounted at /content/drive\n"
          ]
        }
      ]
    },
    {
      "cell_type": "code",
      "metadata": {
        "colab": {
          "base_uri": "https://localhost:8080/"
        },
        "id": "RBc1hoNpKX4e",
        "outputId": "d4504803-1d47-4c6c-8ea0-579c9bab8ded"
      },
      "source": [
        "# 한국시간 설정\n",
        "import pytz\n",
        "\n",
        "KST = pytz.timezone('Asia/Seoul')\n",
        "today = str(datetime.now(KST).strftime(\"%Y%m%d\"))\n",
        "print(today)"
      ],
      "execution_count": 2,
      "outputs": [
        {
          "output_type": "stream",
          "name": "stdout",
          "text": [
            "20211001\n"
          ]
        }
      ]
    },
    {
      "cell_type": "code",
      "metadata": {
        "colab": {
          "base_uri": "https://localhost:8080/",
          "height": 424
        },
        "id": "JrOQxIJ7QbSO",
        "outputId": "5aa4e6d8-47a9-4027-b442-2aad8f62f52c"
      },
      "source": [
        "## Load pickle - fullcode 목록\n",
        "with open(data_path + 'full_code.pkl',\"rb\") as f: \n",
        "    fullcode = pickle.load(f)\n",
        "fullcode"
      ],
      "execution_count": 3,
      "outputs": [
        {
          "output_type": "execute_result",
          "data": {
            "text/html": [
              "<div>\n",
              "<style scoped>\n",
              "    .dataframe tbody tr th:only-of-type {\n",
              "        vertical-align: middle;\n",
              "    }\n",
              "\n",
              "    .dataframe tbody tr th {\n",
              "        vertical-align: top;\n",
              "    }\n",
              "\n",
              "    .dataframe thead th {\n",
              "        text-align: right;\n",
              "    }\n",
              "</style>\n",
              "<table border=\"1\" class=\"dataframe\">\n",
              "  <thead>\n",
              "    <tr style=\"text-align: right;\">\n",
              "      <th></th>\n",
              "      <th>full_code</th>\n",
              "      <th>short_code</th>\n",
              "      <th>codeName</th>\n",
              "      <th>marketEngName</th>\n",
              "      <th>status</th>\n",
              "    </tr>\n",
              "  </thead>\n",
              "  <tbody>\n",
              "    <tr>\n",
              "      <th>0</th>\n",
              "      <td>KR7060310000</td>\n",
              "      <td>060310</td>\n",
              "      <td>3S</td>\n",
              "      <td>KOSDAQ</td>\n",
              "      <td>상장</td>\n",
              "    </tr>\n",
              "    <tr>\n",
              "      <th>1</th>\n",
              "      <td>KR7095570008</td>\n",
              "      <td>095570</td>\n",
              "      <td>AJ네트웍스</td>\n",
              "      <td>KOSPI</td>\n",
              "      <td>상장</td>\n",
              "    </tr>\n",
              "    <tr>\n",
              "      <th>2</th>\n",
              "      <td>KR7006840003</td>\n",
              "      <td>006840</td>\n",
              "      <td>AK홀딩스</td>\n",
              "      <td>KOSPI</td>\n",
              "      <td>상장</td>\n",
              "    </tr>\n",
              "    <tr>\n",
              "      <th>3</th>\n",
              "      <td>KR7054620000</td>\n",
              "      <td>054620</td>\n",
              "      <td>APS홀딩스</td>\n",
              "      <td>KOSDAQ</td>\n",
              "      <td>상장</td>\n",
              "    </tr>\n",
              "    <tr>\n",
              "      <th>4</th>\n",
              "      <td>KR7265520007</td>\n",
              "      <td>265520</td>\n",
              "      <td>AP시스템</td>\n",
              "      <td>KOSDAQ</td>\n",
              "      <td>상장</td>\n",
              "    </tr>\n",
              "    <tr>\n",
              "      <th>...</th>\n",
              "      <td>...</td>\n",
              "      <td>...</td>\n",
              "      <td>...</td>\n",
              "      <td>...</td>\n",
              "      <td>...</td>\n",
              "    </tr>\n",
              "    <tr>\n",
              "      <th>2580</th>\n",
              "      <td>KR7000542001</td>\n",
              "      <td>000547</td>\n",
              "      <td>흥국화재2우B</td>\n",
              "      <td>KOSPI</td>\n",
              "      <td>상장</td>\n",
              "    </tr>\n",
              "    <tr>\n",
              "      <th>2581</th>\n",
              "      <td>KR7000541003</td>\n",
              "      <td>000545</td>\n",
              "      <td>흥국화재우</td>\n",
              "      <td>KOSPI</td>\n",
              "      <td>상장</td>\n",
              "    </tr>\n",
              "    <tr>\n",
              "      <th>2582</th>\n",
              "      <td>KR7003280005</td>\n",
              "      <td>003280</td>\n",
              "      <td>흥아해운</td>\n",
              "      <td>KOSPI</td>\n",
              "      <td>상장</td>\n",
              "    </tr>\n",
              "    <tr>\n",
              "      <th>2583</th>\n",
              "      <td>KR7037440005</td>\n",
              "      <td>037440</td>\n",
              "      <td>희림</td>\n",
              "      <td>KOSDAQ</td>\n",
              "      <td>상장</td>\n",
              "    </tr>\n",
              "    <tr>\n",
              "      <th>2584</th>\n",
              "      <td>KR7238490007</td>\n",
              "      <td>238490</td>\n",
              "      <td>힘스</td>\n",
              "      <td>KOSDAQ</td>\n",
              "      <td>상장</td>\n",
              "    </tr>\n",
              "  </tbody>\n",
              "</table>\n",
              "<p>2585 rows × 5 columns</p>\n",
              "</div>"
            ],
            "text/plain": [
              "         full_code short_code codeName marketEngName status\n",
              "0     KR7060310000     060310       3S        KOSDAQ     상장\n",
              "1     KR7095570008     095570   AJ네트웍스         KOSPI     상장\n",
              "2     KR7006840003     006840    AK홀딩스         KOSPI     상장\n",
              "3     KR7054620000     054620   APS홀딩스        KOSDAQ     상장\n",
              "4     KR7265520007     265520    AP시스템        KOSDAQ     상장\n",
              "...            ...        ...      ...           ...    ...\n",
              "2580  KR7000542001     000547  흥국화재2우B         KOSPI     상장\n",
              "2581  KR7000541003     000545    흥국화재우         KOSPI     상장\n",
              "2582  KR7003280005     003280     흥아해운         KOSPI     상장\n",
              "2583  KR7037440005     037440       희림        KOSDAQ     상장\n",
              "2584  KR7238490007     238490       힘스        KOSDAQ     상장\n",
              "\n",
              "[2585 rows x 5 columns]"
            ]
          },
          "metadata": {},
          "execution_count": 3
        }
      ]
    },
    {
      "cell_type": "code",
      "metadata": {
        "id": "jrgFubu8Jcox",
        "outputId": "91181c03-9e22-416a-d05c-de57ab1539f1",
        "colab": {
          "base_uri": "https://localhost:8080/",
          "height": 424
        }
      },
      "source": [
        "#상장폐지 상태 제외시키기.\n",
        "fullcode_filter = fullcode[fullcode['status'] != '상장폐지']\n",
        "fullcode_filter"
      ],
      "execution_count": 8,
      "outputs": [
        {
          "output_type": "execute_result",
          "data": {
            "text/html": [
              "<div>\n",
              "<style scoped>\n",
              "    .dataframe tbody tr th:only-of-type {\n",
              "        vertical-align: middle;\n",
              "    }\n",
              "\n",
              "    .dataframe tbody tr th {\n",
              "        vertical-align: top;\n",
              "    }\n",
              "\n",
              "    .dataframe thead th {\n",
              "        text-align: right;\n",
              "    }\n",
              "</style>\n",
              "<table border=\"1\" class=\"dataframe\">\n",
              "  <thead>\n",
              "    <tr style=\"text-align: right;\">\n",
              "      <th></th>\n",
              "      <th>full_code</th>\n",
              "      <th>short_code</th>\n",
              "      <th>codeName</th>\n",
              "      <th>marketEngName</th>\n",
              "      <th>status</th>\n",
              "    </tr>\n",
              "  </thead>\n",
              "  <tbody>\n",
              "    <tr>\n",
              "      <th>0</th>\n",
              "      <td>KR7060310000</td>\n",
              "      <td>060310</td>\n",
              "      <td>3S</td>\n",
              "      <td>KOSDAQ</td>\n",
              "      <td>상장</td>\n",
              "    </tr>\n",
              "    <tr>\n",
              "      <th>1</th>\n",
              "      <td>KR7095570008</td>\n",
              "      <td>095570</td>\n",
              "      <td>AJ네트웍스</td>\n",
              "      <td>KOSPI</td>\n",
              "      <td>상장</td>\n",
              "    </tr>\n",
              "    <tr>\n",
              "      <th>2</th>\n",
              "      <td>KR7006840003</td>\n",
              "      <td>006840</td>\n",
              "      <td>AK홀딩스</td>\n",
              "      <td>KOSPI</td>\n",
              "      <td>상장</td>\n",
              "    </tr>\n",
              "    <tr>\n",
              "      <th>3</th>\n",
              "      <td>KR7054620000</td>\n",
              "      <td>054620</td>\n",
              "      <td>APS홀딩스</td>\n",
              "      <td>KOSDAQ</td>\n",
              "      <td>상장</td>\n",
              "    </tr>\n",
              "    <tr>\n",
              "      <th>4</th>\n",
              "      <td>KR7265520007</td>\n",
              "      <td>265520</td>\n",
              "      <td>AP시스템</td>\n",
              "      <td>KOSDAQ</td>\n",
              "      <td>상장</td>\n",
              "    </tr>\n",
              "    <tr>\n",
              "      <th>...</th>\n",
              "      <td>...</td>\n",
              "      <td>...</td>\n",
              "      <td>...</td>\n",
              "      <td>...</td>\n",
              "      <td>...</td>\n",
              "    </tr>\n",
              "    <tr>\n",
              "      <th>2580</th>\n",
              "      <td>KR7000542001</td>\n",
              "      <td>000547</td>\n",
              "      <td>흥국화재2우B</td>\n",
              "      <td>KOSPI</td>\n",
              "      <td>상장</td>\n",
              "    </tr>\n",
              "    <tr>\n",
              "      <th>2581</th>\n",
              "      <td>KR7000541003</td>\n",
              "      <td>000545</td>\n",
              "      <td>흥국화재우</td>\n",
              "      <td>KOSPI</td>\n",
              "      <td>상장</td>\n",
              "    </tr>\n",
              "    <tr>\n",
              "      <th>2582</th>\n",
              "      <td>KR7003280005</td>\n",
              "      <td>003280</td>\n",
              "      <td>흥아해운</td>\n",
              "      <td>KOSPI</td>\n",
              "      <td>상장</td>\n",
              "    </tr>\n",
              "    <tr>\n",
              "      <th>2583</th>\n",
              "      <td>KR7037440005</td>\n",
              "      <td>037440</td>\n",
              "      <td>희림</td>\n",
              "      <td>KOSDAQ</td>\n",
              "      <td>상장</td>\n",
              "    </tr>\n",
              "    <tr>\n",
              "      <th>2584</th>\n",
              "      <td>KR7238490007</td>\n",
              "      <td>238490</td>\n",
              "      <td>힘스</td>\n",
              "      <td>KOSDAQ</td>\n",
              "      <td>상장</td>\n",
              "    </tr>\n",
              "  </tbody>\n",
              "</table>\n",
              "<p>2584 rows × 5 columns</p>\n",
              "</div>"
            ],
            "text/plain": [
              "         full_code short_code codeName marketEngName status\n",
              "0     KR7060310000     060310       3S        KOSDAQ     상장\n",
              "1     KR7095570008     095570   AJ네트웍스         KOSPI     상장\n",
              "2     KR7006840003     006840    AK홀딩스         KOSPI     상장\n",
              "3     KR7054620000     054620   APS홀딩스        KOSDAQ     상장\n",
              "4     KR7265520007     265520    AP시스템        KOSDAQ     상장\n",
              "...            ...        ...      ...           ...    ...\n",
              "2580  KR7000542001     000547  흥국화재2우B         KOSPI     상장\n",
              "2581  KR7000541003     000545    흥국화재우         KOSPI     상장\n",
              "2582  KR7003280005     003280     흥아해운         KOSPI     상장\n",
              "2583  KR7037440005     037440       희림        KOSDAQ     상장\n",
              "2584  KR7238490007     238490       힘스        KOSDAQ     상장\n",
              "\n",
              "[2584 rows x 5 columns]"
            ]
          },
          "metadata": {},
          "execution_count": 8
        }
      ]
    },
    {
      "cell_type": "code",
      "metadata": {
        "colab": {
          "base_uri": "https://localhost:8080/"
        },
        "id": "Yfvfsp-fSNqN",
        "outputId": "f9a96858-f335-4a95-9e7e-f3ea0fc221bd"
      },
      "source": [
        "fullcode_list = list(fullcode_filter['full_code'])\n",
        "print(fullcode_list[:10])\n",
        "# fullcode열을 list로 변경 후 확인"
      ],
      "execution_count": 9,
      "outputs": [
        {
          "output_type": "stream",
          "name": "stdout",
          "text": [
            "['KR7060310000', 'KR7095570008', 'KR7006840003', 'KR7054620000', 'KR7265520007', 'KR7211270004', 'KR7027410000', 'KR7282330000', 'KR7138930003', 'KR7001460005']\n"
          ]
        }
      ]
    },
    {
      "cell_type": "code",
      "metadata": {
        "id": "b_R7I0d0qoWK"
      },
      "source": [
        "'''\n",
        "종가 시가 저가 고가 시가총액 EPS PER BPS PBR 주당배당금 배당수익률\n",
        "(* 필요한 컬럼)\n",
        "\n",
        "df2\n",
        " 0   TRD_DD : 거래일자 *\n",
        " 1   ISU_CD : 종목코드 *      \n",
        " 2   ISU_NM : 종목명 *      \n",
        " 3   MKT_NM : 시장코드 (kospi)      \n",
        " 4   SECUGRP_NM : 증권구분 (주권)    \n",
        " 5   TDD_CLSPRC : 종가 *  \n",
        " 6   FLUC_TP_CD    \n",
        " 7   CMPPRVDD_PRC : 대비 \n",
        " 8   FLUC_RT : 등락률      \n",
        " 9   TDD_OPNPRC : 시가 *  \n",
        " 10  TDD_HGPRC  : 고가 *  \n",
        " 11  TDD_LWPRC  : 저가 *  \n",
        " 12  ACC_TRDVOL : 거래량   \n",
        " 13  ACC_TRDVAL : 거래대금   \n",
        " 14  MKTCAP : 시가총액 *\n",
        "\n",
        "df3\n",
        " 0   TRD_DD : 거래일자        \n",
        " 1   TDD_CLSPRC : 종가    \n",
        " 2   FLUC_TP_CD     \n",
        " 3   CMPPREVDD_PRC : 대비 \n",
        " 4   FLUC_RT : 등락률      \n",
        " 5   EPS *           \n",
        " 6   PER *           \n",
        " 7   BPS *           \n",
        " 8   PBR *           \n",
        " 9   DPS : 주당배당금 *          \n",
        " 10  DVD_YLD : 배당수익률 *\n",
        " '''"
      ],
      "execution_count": null,
      "outputs": []
    },
    {
      "cell_type": "code",
      "metadata": {
        "colab": {
          "base_uri": "https://localhost:8080/"
        },
        "id": "juaJ0OHhKfP2",
        "outputId": "e5459ba7-ab36-498a-9657-a807bb22b53e"
      },
      "source": [
        "url2 = 'http://data.krx.co.kr/comm/bldAttendant/getJsonData.cmd'\n",
        "headers = {'User-Agent': 'Chrome/78.0.3904.87 Safari/537.36',}\n",
        "\n",
        "strtDd = '19000101'\n",
        "endDd = today\n",
        "\n",
        "for i in fullcode_list[:2]: # 테스트를 위해 2개만 실행 (두 종목만 출력됨)\n",
        "    data2 = { 'bld': 'dbms/MDC/STAT/issue/MDCSTAT23902',\n",
        "    'isuCd': i,\n",
        "    'isuCd2': '',\n",
        "    'strtDd': strtDd,\n",
        "    'endDd': endDd,\n",
        "    'share': '1',\n",
        "    'money': '1',\n",
        "    'csvxls_isNo': 'false',}\n",
        "\n",
        "    r2 = requests.post(url2, data2, headers)\n",
        "    j2 = json.loads(r2.text)\n",
        "    df2=pd.DataFrame(j2['output'])\n",
        "    # print(df2)\n",
        "    # print('------------------------------------------------')\n",
        "\n",
        "    data3 = { 'bld': 'dbms/MDC/STAT/standard/MDCSTAT03502',\n",
        "    'isuCd': i,\n",
        "    'isuCd2': i,\n",
        "    'strtDd': strtDd,\n",
        "    'endDd': endDd,\n",
        "    'searchType': '2',\n",
        "    'mktId': 'ALL',\n",
        "    'csvxls_isNo': 'false',}\n",
        "\n",
        "    r2 = requests.post(url2, data3, headers)\n",
        "    j2 = json.loads(r2.text)\n",
        "    df3=pd.DataFrame(j2['output'])\n",
        "    # print(df3)\n",
        "    # print('------------------------------------------------')\n",
        "\n",
        "    df2_ = df2[['TRD_DD', 'ISU_CD', 'ISU_NM', 'TDD_CLSPRC', 'TDD_OPNPRC', 'TDD_HGPRC', 'TDD_LWPRC', 'MKTCAP']]\n",
        "    df3_ = df3[['TRD_DD', 'EPS', 'PER', 'BPS', 'PBR', 'DPS', 'DVD_YLD']]\n",
        "\n",
        "    result = pd.merge(df2_, df3_)\n",
        "    print(result)\n",
        "    print('------------------------------------------------')"
      ],
      "execution_count": null,
      "outputs": [
        {
          "output_type": "stream",
          "name": "stdout",
          "text": [
            "          TRD_DD  ISU_CD  ISU_NM TDD_CLSPRC TDD_OPNPRC TDD_HGPRC TDD_LWPRC  \\\n",
            "0     2021/10/01  060310      3S      3,960      4,080     4,080     3,925   \n",
            "1     2021/09/30  060310      3S      4,105      4,225     4,270     4,010   \n",
            "2     2021/09/29  060310      3S      4,160      3,865     4,180     3,805   \n",
            "3     2021/09/28  060310      3S      3,985      4,070     4,140     3,950   \n",
            "4     2021/09/27  060310      3S      4,115      3,840     4,140     3,750   \n",
            "...          ...     ...     ...        ...        ...       ...       ...   \n",
            "4804  2002/04/29  060310  삼에스코리아      6,780      6,800     7,200     6,780   \n",
            "4805  2002/04/26  060310  삼에스코리아      7,700      8,550     8,750     7,700   \n",
            "4806  2002/04/25  060310  삼에스코리아      8,750      9,530     9,530     7,490   \n",
            "4807  2002/04/24  060310  삼에스코리아      8,510      8,370     8,510     7,750   \n",
            "4808  2002/04/23  060310  삼에스코리아      7,600      7,600     7,600     7,600   \n",
            "\n",
            "               MKTCAP  EPS     PER  BPS   PBR DPS DVD_YLD  \n",
            "0     183,235,191,480   16  247.50  792  5.00   0    0.00  \n",
            "1     189,944,560,865   16  256.56  792  5.18   0    0.00  \n",
            "2     192,489,494,080   16  260.00  792  5.25   0    0.00  \n",
            "3     184,391,979,305   16  249.06  792  5.03   0    0.00  \n",
            "4     190,407,275,995   16  257.19  792  5.20   0    0.00  \n",
            "...               ...  ...     ...  ...   ...  ..     ...  \n",
            "4804   16,272,000,000  617   10.99    -     -   -       -  \n",
            "4805   18,480,000,000  617   12.48    -     -   -       -  \n",
            "4806   21,000,000,000  617   14.18    -     -   -       -  \n",
            "4807   20,424,000,000  617   13.79    -     -   -       -  \n",
            "4808   18,240,000,000  617   12.32    -     -   -       -  \n",
            "\n",
            "[4809 rows x 14 columns]\n",
            "------------------------------------------------\n",
            "          TRD_DD  ISU_CD  ISU_NM TDD_CLSPRC TDD_OPNPRC TDD_HGPRC TDD_LWPRC  \\\n",
            "0     2021/10/01  095570  AJ네트웍스      5,770      5,830     5,890     5,680   \n",
            "1     2021/09/30  095570  AJ네트웍스      5,840      5,850     5,890     5,810   \n",
            "2     2021/09/29  095570  AJ네트웍스      5,850      5,720     5,900     5,720   \n",
            "3     2021/09/28  095570  AJ네트웍스      5,900      5,890     5,990     5,880   \n",
            "4     2021/09/27  095570  AJ네트웍스      5,980      5,910     5,980     5,850   \n",
            "...          ...     ...     ...        ...        ...       ...       ...   \n",
            "1498  2015/08/27  095570  AJ네트웍스     37,850     36,200    40,300    34,800   \n",
            "1499  2015/08/26  095570  AJ네트웍스     35,450     31,300    38,800    31,300   \n",
            "1500  2015/08/25  095570  AJ네트웍스     31,100     33,050    33,650    30,950   \n",
            "1501  2015/08/24  095570  AJ네트웍스     32,400     33,500    34,700    31,200   \n",
            "1502  2015/08/21  095570  AJ네트웍스     35,500     30,900    36,500    28,000   \n",
            "\n",
            "               MKTCAP    EPS    PER     BPS   PBR  DPS DVD_YLD  \n",
            "0     270,164,642,150      -      -   6,089  0.95  210    3.64  \n",
            "1     273,442,202,800      -      -   6,089  0.96  210    3.60  \n",
            "2     273,910,425,750      -      -   6,089  0.96  210    3.59  \n",
            "3     276,251,540,500      -      -   6,089  0.97  210    3.56  \n",
            "4     279,997,324,100      -      -   6,089  0.98  210    3.51  \n",
            "...               ...    ...    ...     ...   ...  ...     ...  \n",
            "1498  354,444,773,150  2,732  13.85  23,715  1.60    0    0.00  \n",
            "1499  331,970,071,550  2,732  12.98  23,715  1.49    0    0.00  \n",
            "1500  291,234,674,900  2,732  11.38  23,715  1.31    0    0.00  \n",
            "1501  303,408,471,600  2,732  11.86  23,715  1.37    0    0.00  \n",
            "1502  332,438,294,500  2,732  12.99  23,715  1.50    0    0.00  \n",
            "\n",
            "[1503 rows x 14 columns]\n",
            "------------------------------------------------\n"
          ]
        }
      ]
    },
    {
      "cell_type": "code",
      "metadata": {
        "id": "0wb7BvJ9Kj4e"
      },
      "source": [
        "## Save pickle\n",
        "# with open(output_path + \"df2.pickle\",\"wb\") as fw:\n",
        "#     pickle.dump(df2, fw)"
      ],
      "execution_count": null,
      "outputs": []
    },
    {
      "cell_type": "code",
      "metadata": {
        "id": "Pgl_8FrsybCw"
      },
      "source": [
        ""
      ],
      "execution_count": null,
      "outputs": []
    }
  ]
}