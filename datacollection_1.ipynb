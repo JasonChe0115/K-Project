{
  "nbformat": 4,
  "nbformat_minor": 0,
  "metadata": {
    "colab": {
      "name": "datacollection_1.ipynb",
      "provenance": [],
      "collapsed_sections": [],
      "authorship_tag": "ABX9TyOxvoO5DSF51AL1jOEAWx5D",
      "include_colab_link": true
    },
    "kernelspec": {
      "name": "python3",
      "display_name": "Python 3"
    },
    "language_info": {
      "name": "python"
    }
  },
  "cells": [
    {
      "cell_type": "markdown",
      "metadata": {
        "id": "view-in-github",
        "colab_type": "text"
      },
      "source": [
        "<a href=\"https://colab.research.google.com/github/baeksumin/k-project/blob/main/datacollection_1.ipynb\" target=\"_parent\"><img src=\"https://colab.research.google.com/assets/colab-badge.svg\" alt=\"Open In Colab\"/></a>"
      ]
    },
    {
      "cell_type": "code",
      "metadata": {
        "id": "bBbPO-20KJ7v"
      },
      "source": [
        "'''\n",
        "1. 저장된 fullcode 목록을 불러와서 종목별 데이터 수집\n",
        "2. pickle 저장\n",
        "\n",
        "(프로젝트를 시작할 때 1번만 실행)\n",
        "'''"
      ],
      "execution_count": null,
      "outputs": []
    },
    {
      "cell_type": "code",
      "metadata": {
        "colab": {
          "base_uri": "https://localhost:8080/"
        },
        "id": "203n6ewOKPu-",
        "outputId": "3f79caac-abc9-4b1e-e87f-f995f30a864f"
      },
      "source": [
        "import json\n",
        "import pytz\n",
        "import requests\n",
        "import pandas as pd\n",
        "from io import BytesIO\n",
        "from datetime import datetime \n",
        "from datetime import timedelta\n",
        "import pickle\n",
        "from google.colab import drive\n",
        "\n",
        "drive.mount('/content/drive')\n",
        "output_path = '/content/drive/MyDrive/k-project/output/'\n",
        "data_path = '/content/drive/MyDrive/[Shared]K-Project/'\n",
        "# pickle 경로를 설정하기 위해"
      ],
      "execution_count": 1,
      "outputs": [
        {
          "output_type": "stream",
          "name": "stdout",
          "text": [
            "Mounted at /content/drive\n"
          ]
        }
      ]
    },
    {
      "cell_type": "code",
      "metadata": {
        "id": "RBc1hoNpKX4e"
      },
      "source": [
        "# 한국날짜 설정\n",
        "def kor_date():\n",
        "    KST = pytz.timezone('Asia/Seoul')\n",
        "    today = str(datetime.now(KST).strftime(\"%Y%m%d\"))\n",
        "    return today"
      ],
      "execution_count": 2,
      "outputs": []
    },
    {
      "cell_type": "code",
      "metadata": {
        "colab": {
          "base_uri": "https://localhost:8080/"
        },
        "id": "JrOQxIJ7QbSO",
        "outputId": "e9f5bd78-e914-44ff-c692-59daf4dc1e98"
      },
      "source": [
        "## Load pickle - fullcode 목록\n",
        "with open(data_path + 'full_code.pkl',\"rb\") as f: \n",
        "    fullcode = pickle.load(f)\n",
        "    \n",
        "# 상장폐지 상태 제외시키기\n",
        "fullcode_filter = fullcode[fullcode['status'] != '상장폐지']\n",
        "\n",
        "# fullcode열을 list로 변경\n",
        "fullcode_list = list(fullcode_filter['full_code'])\n",
        "print(fullcode_list[:10])"
      ],
      "execution_count": 5,
      "outputs": [
        {
          "output_type": "stream",
          "name": "stdout",
          "text": [
            "['KR7060310000', 'KR7095570008', 'KR7006840003', 'KR7054620000', 'KR7265520007', 'KR7211270004', 'KR7027410000', 'KR7282330000', 'KR7138930003', 'KR7001460005']\n"
          ]
        }
      ]
    },
    {
      "cell_type": "code",
      "metadata": {
        "id": "b_R7I0d0qoWK"
      },
      "source": [
        "'''\n",
        "종가 시가 저가 고가 시가총액 EPS PER BPS PBR 주당배당금 배당수익률\n",
        "(* 필요한 컬럼)\n",
        "\n",
        "df2\n",
        " 0   TRD_DD : 거래일자 *\n",
        " 1   ISU_CD : 종목코드 *      \n",
        " 2   ISU_NM : 종목명 *      \n",
        " 3   MKT_NM : 시장코드 (kospi)      \n",
        " 4   SECUGRP_NM : 증권구분 (주권)    \n",
        " 5   TDD_CLSPRC : 종가 *  \n",
        " 6   FLUC_TP_CD    \n",
        " 7   CMPPRVDD_PRC : 대비 \n",
        " 8   FLUC_RT : 등락률      \n",
        " 9   TDD_OPNPRC : 시가 *  \n",
        " 10  TDD_HGPRC  : 고가 *  \n",
        " 11  TDD_LWPRC  : 저가 *  \n",
        " 12  ACC_TRDVOL : 거래량   \n",
        " 13  ACC_TRDVAL : 거래대금   \n",
        " 14  MKTCAP : 시가총액 *\n",
        "\n",
        "df3\n",
        " 0   TRD_DD : 거래일자        \n",
        " 1   TDD_CLSPRC : 종가    \n",
        " 2   FLUC_TP_CD     \n",
        " 3   CMPPREVDD_PRC : 대비 \n",
        " 4   FLUC_RT : 등락률      \n",
        " 5   EPS *           \n",
        " 6   PER *           \n",
        " 7   BPS *           \n",
        " 8   PBR *           \n",
        " 9   DPS : 주당배당금 *          \n",
        " 10  DVD_YLD : 배당수익률 *\n",
        " '''"
      ],
      "execution_count": null,
      "outputs": []
    },
    {
      "cell_type": "code",
      "metadata": {
        "id": "OufLcmgCU-GX"
      },
      "source": [
        "# 데이터 가져와서 필요 컬럼 추출 후 데이터프레임 생성하여 json으로 저장하는 함수\n",
        "def make_initialdata():\n",
        "    data2 = { 'bld': 'dbms/MDC/STAT/issue/MDCSTAT23902',\n",
        "    'isuCd': i, # i는 KR7060310000\n",
        "    'isuCd2': '',\n",
        "    'strtDd': strtDd,\n",
        "    'endDd': endDd,\n",
        "    'share': '1',\n",
        "    'money': '1',\n",
        "    'csvxls_isNo': 'false',}\n",
        "\n",
        "    r2 = requests.post(url2, data2, headers)\n",
        "    j2 = json.loads(r2.text)\n",
        "    df2=pd.DataFrame(j2['output'])\n",
        "\n",
        "    data3 = { 'bld': 'dbms/MDC/STAT/standard/MDCSTAT03502',\n",
        "    'isuCd': i,\n",
        "    'isuCd2': i,\n",
        "    'strtDd': strtDd,\n",
        "    'endDd': endDd,\n",
        "    'searchType': '2',\n",
        "    'mktId': 'ALL',\n",
        "    'csvxls_isNo': 'false',}\n",
        "\n",
        "    r2 = requests.post(url2, data3, headers)\n",
        "    j2 = json.loads(r2.text)\n",
        "    df3=pd.DataFrame(j2['output'])\n",
        "\n",
        "    df2_ = df2[['TRD_DD', 'ISU_CD', 'ISU_NM', 'TDD_CLSPRC', 'TDD_OPNPRC', 'TDD_HGPRC', 'TDD_LWPRC', 'MKTCAP']]\n",
        "    df3_ = df3[['TRD_DD', 'EPS', 'PER', 'BPS', 'PBR', 'DPS', 'DVD_YLD']]\n",
        "    result = pd.merge(df2_, df3_)\n",
        "\n",
        "    result_js = result.to_json(orient = 'columns') # 데이터프레임을 json 형태로 변환\n",
        "    # print(result_js)\n",
        "    result_js_list = [result_js] # json 형태의 데이터를 list로 변환\n",
        "    # print(result_js_list)\n",
        "    # print(len(result_js_list))\n",
        "    result_dict[i] = result_js_list # fullcode가 key값이 되고 list 변환한 json이 value값이 됨\n",
        "    print(len(result_dict)) # 현재 상황을 알기위해 몇개의 종목이 저장되었는지 갯수 확인"
      ],
      "execution_count": 26,
      "outputs": []
    },
    {
      "cell_type": "code",
      "metadata": {
        "colab": {
          "base_uri": "https://localhost:8080/"
        },
        "id": "PY26lf9mVnjr",
        "outputId": "50aeeb20-4078-414e-eb50-a7b20e45e9dc"
      },
      "source": [
        "url2 = 'http://data.krx.co.kr/comm/bldAttendant/getJsonData.cmd'\n",
        "headers = {'User-Agent': 'Chrome/78.0.3904.87 Safari/537.36',}\n",
        "\n",
        "strtDd = '19000101'\n",
        "endDd = kor_date()\n",
        "\n",
        "result_dict = {}\n",
        "for i in fullcode_list[:2]: # 테스트를 위해 2개만 실행 (두 종목만 출력됨)\n",
        "    make_initialdata()\n",
        "\n",
        "# 최종 결과물 저장   \n",
        "with open('/content/drive/MyDrive/k-project/output/initial_data.json', 'w') as f:\n",
        "    json.dump(result_dict, f)"
      ],
      "execution_count": 27,
      "outputs": [
        {
          "output_type": "stream",
          "name": "stdout",
          "text": [
            "1\n",
            "2\n"
          ]
        }
      ]
    },
    {
      "cell_type": "code",
      "metadata": {
        "id": "0wb7BvJ9Kj4e"
      },
      "source": [
        "# # Save pickle\n",
        "# with open(output_path + \"3S.pickle\",\"wb\") as fw:\n",
        "#     pickle.dump(result, fw)"
      ],
      "execution_count": null,
      "outputs": []
    }
  ]
}