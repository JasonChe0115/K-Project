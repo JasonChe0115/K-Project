{
  "nbformat": 4,
  "nbformat_minor": 0,
  "metadata": {
    "colab": {
      "name": "Kcode.ipynb",
      "private_outputs": true,
      "provenance": [],
      "collapsed_sections": [],
      "authorship_tag": "ABX9TyPZcVvRN+bNfbTfxW6kEm4q",
      "include_colab_link": true
    },
    "kernelspec": {
      "name": "python3",
      "display_name": "Python 3"
    },
    "language_info": {
      "name": "python"
    }
  },
  "cells": [
    {
      "cell_type": "markdown",
      "metadata": {
        "id": "view-in-github",
        "colab_type": "text"
      },
      "source": [
        "<a href=\"https://colab.research.google.com/github/baeksumin/k-project/blob/main/Kcode.ipynb\" target=\"_parent\"><img src=\"https://colab.research.google.com/assets/colab-badge.svg\" alt=\"Open In Colab\"/></a>"
      ]
    },
    {
      "cell_type": "code",
      "metadata": {
        "id": "HU1_xrY-VYXi"
      },
      "source": [
        "import json\n",
        "import requests\n",
        "import pandas as pd\n",
        "from io import BytesIO\n",
        "from datetime import datetime \n",
        "from datetime import timedelta\n",
        "import pickle\n",
        "from google.colab import drive\n",
        "\n",
        "drive.mount('/content/drive')\n",
        "output_path = '/content/drive/MyDrive/K-project/output/'\n",
        "data_path = '/content/drive/MyDrive/K-project/'\n",
        "# pickle 경로를 설정하기 위해"
      ],
      "execution_count": null,
      "outputs": []
    },
    {
      "cell_type": "code",
      "metadata": {
        "id": "XyNAMJQ64HXx"
      },
      "source": [
        "# 한국시간 설정\n",
        "import pytz\n",
        "\n",
        "KST = pytz.timezone('Asia/Seoul')\n",
        "today = str(datetime.now(KST).strftime(\"%Y%m%d\"))\n",
        "print(today)"
      ],
      "execution_count": null,
      "outputs": []
    },
    {
      "cell_type": "code",
      "metadata": {
        "id": "oFb1Yx3w4K2X"
      },
      "source": [
        "## Load pickle - fullcode 목록\n",
        "with open(data_path + 'full_code.pkl',\"rb\") as f: \n",
        "    fullcode = pickle.load(f)\n",
        "fullcode"
      ],
      "execution_count": null,
      "outputs": []
    },
    {
      "cell_type": "code",
      "metadata": {
        "id": "W8MRhuHu4NhV"
      },
      "source": [
        "#상장폐지 상태 제외시키기.\n",
        "fullcode_filter = fullcode[fullcode['status'] != '상장폐지']\n",
        "fullcode_filter"
      ],
      "execution_count": null,
      "outputs": []
    },
    {
      "cell_type": "code",
      "metadata": {
        "id": "FtPn7Ild4PRk"
      },
      "source": [
        "fullcode_list = list(fullcode_filter['full_code'])\n",
        "print(fullcode_list[:10])\n",
        "# fullcode열을 list로 변경 후 확인"
      ],
      "execution_count": null,
      "outputs": []
    },
    {
      "cell_type": "code",
      "metadata": {
        "id": "ny_dCjRj4R10"
      },
      "source": [
        "url2 = 'http://data.krx.co.kr/comm/bldAttendant/getJsonData.cmd'\n",
        "headers = {'User-Agent': 'Chrome/78.0.3904.87 Safari/537.36',}\n",
        "\n",
        "strtDd = '19000101'\n",
        "endDd = today\n",
        "\n",
        "for i in fullcode_list[:2]: # 테스트를 위해 2개만 실행 (두 종목만 출력됨)\n",
        "    data2 = { 'bld': 'dbms/MDC/STAT/issue/MDCSTAT23902',\n",
        "    'isuCd': i,\n",
        "    'isuCd2': '',\n",
        "    'strtDd': strtDd,\n",
        "    'endDd': endDd,\n",
        "    'share': '1',\n",
        "    'money': '1',\n",
        "    'csvxls_isNo': 'false',}\n",
        "\n",
        "    r2 = requests.post(url2, data2, headers)\n",
        "    j2 = json.loads(r2.text)\n",
        "    df2=pd.DataFrame(j2['output'])\n",
        "    # print(df2)\n",
        "    # print('------------------------------------------------')\n",
        "\n",
        "    data3 = { 'bld': 'dbms/MDC/STAT/standard/MDCSTAT03502',\n",
        "    'isuCd': i,\n",
        "    'isuCd2': i,\n",
        "    'strtDd': strtDd,\n",
        "    'endDd': endDd,\n",
        "    'searchType': '2',\n",
        "    'mktId': 'ALL',\n",
        "    'csvxls_isNo': 'false',}\n",
        "\n",
        "    r2 = requests.post(url2, data3, headers)\n",
        "    j2 = json.loads(r2.text)\n",
        "    df3=pd.DataFrame(j2['output'])\n",
        "    # print(df3)\n",
        "    # print('------------------------------------------------')\n",
        "\n",
        "    df2_ = df2[['TRD_DD', 'ISU_CD', 'ISU_NM', 'TDD_CLSPRC', 'TDD_OPNPRC', 'TDD_HGPRC', 'TDD_LWPRC', 'MKTCAP']]\n",
        "    df3_ = df3[['TRD_DD', 'EPS', 'PER', 'BPS', 'PBR', 'DPS', 'DVD_YLD']]\n",
        "\n",
        "    result = pd.merge(df2_, df3_)\n",
        "    print(result)\n",
        "    print('------------------------------------------------')"
      ],
      "execution_count": null,
      "outputs": []
    },
    {
      "cell_type": "code",
      "metadata": {
        "id": "-CFg2EAkBuZv"
      },
      "source": [
        "import talib as ta"
      ],
      "execution_count": null,
      "outputs": []
    },
    {
      "cell_type": "code",
      "metadata": {
        "id": "sTXB85CtCYBO"
      },
      "source": [
        "result"
      ],
      "execution_count": null,
      "outputs": []
    },
    {
      "cell_type": "code",
      "metadata": {
        "id": "oLjc55hTO6jz"
      },
      "source": [
        "result['TDD_CLSPRC'] = result['TDD_CLSPRC'].str.replace(',','').astype('float')\n",
        "result['TDD_OPNPRC'] = result['TDD_OPNPRC'].str.replace(',','').astype('float')\n",
        "result['TDD_HGPRC'] = result['TDD_HGPRC'].str.replace(',','').astype('float')\n",
        "result['TDD_LWPRC'] = result['TDD_LWPRC'].str.replace(',','').astype('float')\n",
        "\n",
        "result.dtypes"
      ],
      "execution_count": null,
      "outputs": []
    },
    {
      "cell_type": "code",
      "metadata": {
        "id": "CfsQ2fPqFq8K"
      },
      "source": [
        "#1-GDC\n",
        "import pandas as pd\n",
        "import talib as ta\n",
        "import numpy as np\n",
        "\n",
        "#단순 이동평균-단기이평선(20일), 장기이평선(200일)\n",
        "short_ma = ta._ta_lib.MA('TDD_CLSPRC', timeperiod=20, matype=0)\n",
        "long_ma = ta._ta_lib.MA('TDD_CLSPRC', timeperiod=200, matype=0)"
      ],
      "execution_count": null,
      "outputs": []
    },
    {
      "cell_type": "code",
      "metadata": {
        "id": "r3IXTHhnMpkV"
      },
      "source": [
        "#2-RSI\n",
        "import talib as ta\n",
        "result['RSI'] = ta._ta_lib.RSI(result['TDD_CLSPRC'],timeperiod=14)\n",
        "result['RSI'] = result['RSI'].fillna(method='bfill')\n",
        "result"
      ],
      "execution_count": null,
      "outputs": []
    },
    {
      "cell_type": "code",
      "metadata": {
        "id": "VVTk6HRygTH3"
      },
      "source": [
        "import matplotlib.pyplot as plt\n",
        "result['RSI']=ta.RSI(result['RSI'],14)\n",
        "result['RSI'].plot(figsize=(12,10))\n",
        "plt.show()"
      ],
      "execution_count": null,
      "outputs": []
    },
    {
      "cell_type": "code",
      "metadata": {
        "id": "AmMHzi4tMrGt"
      },
      "source": [
        "#3-ROC\n",
        "result['ROC'] = ta._ta_lib.ROC(result['TDD_CLSPRC'],timeperiod=10)\n",
        "result['ROC'] = result['ROC'].fillna(method='bfill')\n",
        "result"
      ],
      "execution_count": null,
      "outputs": []
    },
    {
      "cell_type": "code",
      "metadata": {
        "id": "MoG_8ryKhF64"
      },
      "source": [
        "result['ROC']=ta.ROC(result['ROC'],14)\n",
        "result['ROC'].plot(figsize=(12,10))\n",
        "plt.show()"
      ],
      "execution_count": null,
      "outputs": []
    },
    {
      "cell_type": "code",
      "metadata": {
        "id": "I53BirInMtEQ"
      },
      "source": [
        "#4-STC\n",
        "import talib.abstract as ta\n",
        "result['STOCH'] = ta._ta_lib.STOCH('TDD_HGPRC','TDD_LWPRC','TDD_CLSPRC',fastk_period=5, slowk_period=3, slowk_matype=0, slowd_period=3, slowd_matype=0)"
      ],
      "execution_count": null,
      "outputs": []
    },
    {
      "cell_type": "code",
      "metadata": {
        "id": "9JCC25zZDtk6"
      },
      "source": [
        "#보기쉬운 행으로 바꾸기\n",
        "result.columns = ['거래일자', '종목코드','종목명','종가','시가','고가','저가',\n",
        "                  '시가총액','EPS','PER','BPS','PBR','주당배당금','배당수익률']\n",
        "result"
      ],
      "execution_count": null,
      "outputs": []
    }
  ]
}