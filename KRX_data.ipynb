{
  "nbformat": 4,
  "nbformat_minor": 0,
  "metadata": {
    "colab": {
      "name": "Untitled5.ipynb",
      "provenance": [],
      "collapsed_sections": [],
      "mount_file_id": "1zbml9fJrn_JAL1CIvYwuPmYg4NfnlA1x",
      "authorship_tag": "ABX9TyNSWWUr8tX+ftVB8XsXRvaQ",
      "include_colab_link": true
    },
    "kernelspec": {
      "name": "python3",
      "display_name": "Python 3"
    },
    "language_info": {
      "name": "python"
    }
  },
  "cells": [
    {
      "cell_type": "markdown",
      "metadata": {
        "id": "view-in-github",
        "colab_type": "text"
      },
      "source": [
        "<a href=\"https://colab.research.google.com/github/baeksumin/k-project/blob/main/KRX_data.ipynb\" target=\"_parent\"><img src=\"https://colab.research.google.com/assets/colab-badge.svg\" alt=\"Open In Colab\"/></a>"
      ]
    },
    {
      "cell_type": "code",
      "metadata": {
        "id": "0vmf9qBMgFP-"
      },
      "source": [
        "import pickle\n",
        "import json\n",
        "import requests\n",
        "import pandas as pd\n",
        "from io import BytesIO\n",
        "import pytz\n",
        "from datetime import datetime, date, timedelta"
      ],
      "execution_count": null,
      "outputs": []
    },
    {
      "cell_type": "code",
      "metadata": {
        "colab": {
          "base_uri": "https://localhost:8080/"
        },
        "id": "nOs_TImnUJzq",
        "outputId": "72a13d90-77d9-423a-c994-587e516c7665"
      },
      "source": [
        "from google.colab import drive\n",
        "drive.mount('/content/drive')"
      ],
      "execution_count": null,
      "outputs": [
        {
          "output_type": "stream",
          "name": "stdout",
          "text": [
            "Drive already mounted at /content/drive; to attempt to forcibly remount, call drive.mount(\"/content/drive\", force_remount=True).\n"
          ]
        }
      ]
    },
    {
      "cell_type": "code",
      "metadata": {
        "colab": {
          "base_uri": "https://localhost:8080/",
          "height": 424
        },
        "id": "B3TlWUGsl0nG",
        "outputId": "8e8eaa51-f881-448b-b58f-f58243f060c9"
      },
      "source": [
        "with open('/content/drive/MyDrive/[Shared]K-Project/full_code.pkl',\"rb\") as f:  # k-프로젝트 공유드라이브로 연결.\n",
        "    full_code = pickle.load(f)\n",
        "full_code"
      ],
      "execution_count": null,
      "outputs": [
        {
          "output_type": "execute_result",
          "data": {
            "text/html": [
              "<div>\n",
              "<style scoped>\n",
              "    .dataframe tbody tr th:only-of-type {\n",
              "        vertical-align: middle;\n",
              "    }\n",
              "\n",
              "    .dataframe tbody tr th {\n",
              "        vertical-align: top;\n",
              "    }\n",
              "\n",
              "    .dataframe thead th {\n",
              "        text-align: right;\n",
              "    }\n",
              "</style>\n",
              "<table border=\"1\" class=\"dataframe\">\n",
              "  <thead>\n",
              "    <tr style=\"text-align: right;\">\n",
              "      <th></th>\n",
              "      <th>full_code</th>\n",
              "      <th>short_code</th>\n",
              "      <th>codeName</th>\n",
              "      <th>marketEngName</th>\n",
              "      <th>status</th>\n",
              "    </tr>\n",
              "  </thead>\n",
              "  <tbody>\n",
              "    <tr>\n",
              "      <th>0</th>\n",
              "      <td>KR7060310000</td>\n",
              "      <td>060310</td>\n",
              "      <td>3S</td>\n",
              "      <td>KOSDAQ</td>\n",
              "      <td>상장</td>\n",
              "    </tr>\n",
              "    <tr>\n",
              "      <th>1</th>\n",
              "      <td>KR7095570008</td>\n",
              "      <td>095570</td>\n",
              "      <td>AJ네트웍스</td>\n",
              "      <td>KOSPI</td>\n",
              "      <td>상장</td>\n",
              "    </tr>\n",
              "    <tr>\n",
              "      <th>2</th>\n",
              "      <td>KR7006840003</td>\n",
              "      <td>006840</td>\n",
              "      <td>AK홀딩스</td>\n",
              "      <td>KOSPI</td>\n",
              "      <td>상장</td>\n",
              "    </tr>\n",
              "    <tr>\n",
              "      <th>3</th>\n",
              "      <td>KR7054620000</td>\n",
              "      <td>054620</td>\n",
              "      <td>APS홀딩스</td>\n",
              "      <td>KOSDAQ</td>\n",
              "      <td>상장</td>\n",
              "    </tr>\n",
              "    <tr>\n",
              "      <th>4</th>\n",
              "      <td>KR7265520007</td>\n",
              "      <td>265520</td>\n",
              "      <td>AP시스템</td>\n",
              "      <td>KOSDAQ</td>\n",
              "      <td>상장</td>\n",
              "    </tr>\n",
              "    <tr>\n",
              "      <th>...</th>\n",
              "      <td>...</td>\n",
              "      <td>...</td>\n",
              "      <td>...</td>\n",
              "      <td>...</td>\n",
              "      <td>...</td>\n",
              "    </tr>\n",
              "    <tr>\n",
              "      <th>2580</th>\n",
              "      <td>KR7000542001</td>\n",
              "      <td>000547</td>\n",
              "      <td>흥국화재2우B</td>\n",
              "      <td>KOSPI</td>\n",
              "      <td>상장</td>\n",
              "    </tr>\n",
              "    <tr>\n",
              "      <th>2581</th>\n",
              "      <td>KR7000541003</td>\n",
              "      <td>000545</td>\n",
              "      <td>흥국화재우</td>\n",
              "      <td>KOSPI</td>\n",
              "      <td>상장</td>\n",
              "    </tr>\n",
              "    <tr>\n",
              "      <th>2582</th>\n",
              "      <td>KR7003280005</td>\n",
              "      <td>003280</td>\n",
              "      <td>흥아해운</td>\n",
              "      <td>KOSPI</td>\n",
              "      <td>상장</td>\n",
              "    </tr>\n",
              "    <tr>\n",
              "      <th>2583</th>\n",
              "      <td>KR7037440005</td>\n",
              "      <td>037440</td>\n",
              "      <td>희림</td>\n",
              "      <td>KOSDAQ</td>\n",
              "      <td>상장</td>\n",
              "    </tr>\n",
              "    <tr>\n",
              "      <th>2584</th>\n",
              "      <td>KR7238490007</td>\n",
              "      <td>238490</td>\n",
              "      <td>힘스</td>\n",
              "      <td>KOSDAQ</td>\n",
              "      <td>상장</td>\n",
              "    </tr>\n",
              "  </tbody>\n",
              "</table>\n",
              "<p>2585 rows × 5 columns</p>\n",
              "</div>"
            ],
            "text/plain": [
              "         full_code short_code codeName marketEngName status\n",
              "0     KR7060310000     060310       3S        KOSDAQ     상장\n",
              "1     KR7095570008     095570   AJ네트웍스         KOSPI     상장\n",
              "2     KR7006840003     006840    AK홀딩스         KOSPI     상장\n",
              "3     KR7054620000     054620   APS홀딩스        KOSDAQ     상장\n",
              "4     KR7265520007     265520    AP시스템        KOSDAQ     상장\n",
              "...            ...        ...      ...           ...    ...\n",
              "2580  KR7000542001     000547  흥국화재2우B         KOSPI     상장\n",
              "2581  KR7000541003     000545    흥국화재우         KOSPI     상장\n",
              "2582  KR7003280005     003280     흥아해운         KOSPI     상장\n",
              "2583  KR7037440005     037440       희림        KOSDAQ     상장\n",
              "2584  KR7238490007     238490       힘스        KOSDAQ     상장\n",
              "\n",
              "[2585 rows x 5 columns]"
            ]
          },
          "metadata": {},
          "execution_count": 3
        }
      ]
    },
    {
      "cell_type": "code",
      "metadata": {
        "id": "62ZXwuvcJF3U"
      },
      "source": [
        "def today_date():   #일주일 날짜 구하기.\n",
        "  tz = pytz.timezone('Asia/Seoul')  #한국시간 맞추기.\n",
        "  raw_dates = datetime.now(tz)\n",
        "  day7_raw = raw_dates - timedelta(7) \n",
        "  day7 =  day7_raw.strftime(\"%Y%m%d\")  # 일주일전 문자열로 변환\n",
        "  today = raw_dates.strftime(\"%Y%m%d\")  # 오늘 날짜 문자열로 변환\n",
        "  return day7, today\n",
        "\n",
        "\n",
        "\n",
        "\n",
        "def week_delisting (day7,today):     #  상장 폐지 종목 불러오기 (KRX_상장폐지종목현황_화면번호(20037))\n",
        "\n",
        "  headers = {'User-Agent': 'Chrome/93.0.4577.82 Safari/537.36,'}  \n",
        "\n",
        "  url = \"http://data.krx.co.kr/comm/bldAttendant/getJsonData.cmd\"\n",
        "\n",
        "  data = {'bld': 'dbms/MDC/STAT/issue/MDCSTAT23801',\n",
        "        'mktId': 'ALL',\n",
        "        'tboxisuCd_finder_listdelisu0_0':'전체',\n",
        "        'isuCd': 'ALL',\n",
        "        'isuCd2': 'ALL',\n",
        "        'codeNmisuCd_finder_listdelisu0_1':'',\n",
        "        'param1isuCd_finder_listdelisu0_1':'',\n",
        "        'strtDd': day7,\n",
        "        'endDd': today, \n",
        "        'share': '1', \n",
        "        'csvxls_isNo': 'true',}\n",
        "\n",
        "  r = requests.post(url,data,headers=headers)\n",
        "  j = json.loads(r.text)\n",
        "\n",
        "  df = pd.json_normalize(j['output'])\n",
        "  return df[['ISU_CD','ISU_NM','MKT_NM','DELIST_DD','DELIST_RSN_DSC']] #종목코드, 종목명, 시장구분,증권구분, 폐지일, 폐지사유 열만 추출\n",
        " \n",
        "\n",
        "\n",
        "\n",
        "\n",
        "def issues_for_administration():  # 관리종목 현황 종목 (krx화면번호_ 20012)\n",
        "  headers = {'User-Agent': 'Chrome/93.0.4577.82 Safari/537.36,'} \n",
        "\n",
        "  data ={'bld': 'dbms/MDC/STAT/issue/MDCSTAT21401',\n",
        "        'mktId': 'ALL',\n",
        "        'csvxls_isNo': 'true',}\n",
        "\n",
        "  url = 'http://data.krx.co.kr/comm/bldAttendant/getJsonData.cmd'\n",
        "\n",
        "  r = requests.post(url,data,headers=headers)\n",
        "  j = json.loads(r.text)\n",
        "\n",
        "  df = pd.json_normalize(j['output'])\n",
        "  \n",
        "  return df[['ISU_CD','ISU_NM','MKT_NM','FST_DESIGN_DD','LIST_BZ_RSN_NM']] #종목코드,종목명, 시장구분, 최초지정일, 지정사유 열만 추출.\n",
        "\n",
        "\n",
        "\n",
        "def KRX_search_fullcode(new_code):   # 신규상장  full_code krx에서 가져오기.\n",
        "  headers = {'User-Agent': 'Chrome/93.0.4577.82 Safari/537.36,'}  \n",
        "\n",
        "  data = {'mktsel': 'ALL',\n",
        "        'typeNo': '0',\n",
        "        'searchText': new_code,\n",
        "        'bld': 'dbms/comm/finder/finder_stkisu',}\n",
        "\n",
        "  url = \"http://data.krx.co.kr/comm/bldAttendant/getJsonData.cmd\"\n",
        "\n",
        "  r = requests.post(url,data,headers=headers)\n",
        "  j = json.loads(r.text)\n",
        "\n",
        "  df = pd.json_normalize(j['block1'])\n",
        "  return df[['full_code','short_code','codeName','marketEngName']]\n",
        "\n",
        "\n",
        "\n",
        "def get_fullcode(df,short_code) :     # 구축된 데이터프레임에서 종목코드로 full_code 찾기\n",
        "  df= df.set_index('short_code') #종목코드 index 설정\n",
        "  full_code = df.loc[short_code]['full_code']\n",
        "  return full_code\n",
        "\n",
        "\n",
        "\n",
        "# 신규상장기업현황 ( https://kind.krx.co.kr/listinvstg/listingcompany.do?method=searchListingTypeMain) 가져오기.\n",
        "def new_listing(today): \n",
        "\n",
        "  headers = {'User-Agent': 'Chrome/93.0.4577.82 Safari/537.36,'} \n",
        "\n",
        "  data = {'method': 'searchListingTypeSub',\n",
        "        'currentPageSize': '15',\n",
        "        'pageIndex': '1',\n",
        "        'orderMode': '1',\n",
        "        'orderStat': 'D',\n",
        "        'repIsuSrtCd': '',\n",
        "        'isurCd': '',\n",
        "        'forward': 'listingtype_sub',\n",
        "        'listTypeArrStr': '01|02|03|04|05|',\n",
        "        'choicTypeArrStr':'' ,\n",
        "        'searchCodeType': '',\n",
        "        'searchCorpName': '',\n",
        "        'secuGrpArrStr': '0|ST|FS|MF|SC|RT|DR|',\n",
        "        'marketType': '',\n",
        "        'searchCorpNameTmp':'' ,\n",
        "        'country': '410',\n",
        "        'industry': '',\n",
        "        'repMajAgntDesignAdvserComp': '',\n",
        "        'repMajAgntComp': '',\n",
        "        'designAdvserComp': '',\n",
        "        'secuGrpArr': '0',\n",
        "        'secuGrpArr': 'ST|FS',\n",
        "        'secuGrpArr': 'MF|SC|RT',\n",
        "        'secuGrpArr': 'DR',\n",
        "        'listTypeArr': '01',\n",
        "        'listTypeArr': '02',\n",
        "        'listTypeArr': '03',\n",
        "        'listTypeArr': '04',\n",
        "        'listTypeArr': '05',\n",
        "        'fromDate': today,\n",
        "        'toDate': today,}\n",
        "\n",
        "  url = \"https://kind.krx.co.kr/listinvstg/listingcompany.do\"\n",
        "\n",
        "  r = requests.post(url,data,headers=headers)\n",
        "  f = BytesIO(r.content)\n",
        "  dfs = pd.read_html(f, encoding='UTF8' )\n",
        "  df = dfs[0].copy()\n",
        "  df = df.iloc[:,[0,1,2]]\n",
        "\n",
        "  df =df.rename(columns = {'Unnamed: 0':'회사명','Unnamed: 1':'상장일','Unnamed: 2':'상장유형'})\n",
        "  return df\n",
        "\n"
      ],
      "execution_count": null,
      "outputs": []
    },
    {
      "cell_type": "code",
      "metadata": {
        "id": "ZwGNIy7Q7xi-"
      },
      "source": [
        "# 당일 상장폐지항목 df에서 상장폐지 상태로 변경하기.\n",
        "def change_delisting(df, week_delisting,today): \n",
        "\n",
        "  for i in range (week_delisting.shape[0]) : \n",
        "\n",
        "    check = week_delisting.iloc[i,3] == today\n",
        "    if (check):   #상장폐지 항목들이 오늘일 때만.\n",
        "      len_shortcode = len(week_delisting.iloc[i,0])\n",
        "\n",
        "      if (len_shortcode == 6) :  #종목코드 숫자가 6개일때만 (수익증권 같은 상장폐지항목은 저장된 df에 없기 때문에)\n",
        "        index = df[df.codeName == week_delisting.iloc[i,1]].index\n",
        "        df.iloc[index,4] = '상장폐지' \n",
        "\n",
        "  return df"
      ],
      "execution_count": null,
      "outputs": []
    },
    {
      "cell_type": "code",
      "metadata": {
        "id": "5vfsmlX4k85h"
      },
      "source": [
        "# 최종 full_code 업데이트 함수.\n",
        "def update_fullcode(df):\n",
        "\n",
        "  day7, today = today_date()  #일주일 기간 날짜 구하기.\n",
        "\n",
        "  #임시 확인용.\n",
        "  print('일주일 전 : '+ day7)\n",
        "  print('오늘 : '+ today+'\\n') \n",
        "\n",
        "  print('한 주 상장폐지 종목 조회')\n",
        "  week_delisting01 = week_delisting(day7,today) #한 주동안 상장폐지된 항목 조회\n",
        "  week_delisting01['DELIST_DD'] = week_delisting01['DELIST_DD'].str.replace('/','')\n",
        "\n",
        "  #임시 확인용.\n",
        "  print(week_delisting01+ '\\n') \n",
        "  print(week_delisting01['DELIST_DD'])  \n",
        "\n",
        "  df = change_delisting(df, week_delisting01, today) # 상장폐지 항목 df에서 상장폐지 상태 변경. \n",
        "\n",
        "  # 신규상장 df에 추가하기.\n",
        "\n",
        "  return df"
      ],
      "execution_count": null,
      "outputs": []
    },
    {
      "cell_type": "code",
      "metadata": {
        "id": "JQ8iMZhDmNc4",
        "colab": {
          "base_uri": "https://localhost:8080/",
          "height": 424
        },
        "outputId": "1bd58997-56d5-4e00-c70e-97142878ffdd"
      },
      "source": [
        "fullcode_copy = full_code.copy()\n",
        "fullcode_copy"
      ],
      "execution_count": null,
      "outputs": [
        {
          "output_type": "execute_result",
          "data": {
            "text/html": [
              "<div>\n",
              "<style scoped>\n",
              "    .dataframe tbody tr th:only-of-type {\n",
              "        vertical-align: middle;\n",
              "    }\n",
              "\n",
              "    .dataframe tbody tr th {\n",
              "        vertical-align: top;\n",
              "    }\n",
              "\n",
              "    .dataframe thead th {\n",
              "        text-align: right;\n",
              "    }\n",
              "</style>\n",
              "<table border=\"1\" class=\"dataframe\">\n",
              "  <thead>\n",
              "    <tr style=\"text-align: right;\">\n",
              "      <th></th>\n",
              "      <th>full_code</th>\n",
              "      <th>short_code</th>\n",
              "      <th>codeName</th>\n",
              "      <th>marketEngName</th>\n",
              "      <th>status</th>\n",
              "    </tr>\n",
              "  </thead>\n",
              "  <tbody>\n",
              "    <tr>\n",
              "      <th>0</th>\n",
              "      <td>KR7060310000</td>\n",
              "      <td>060310</td>\n",
              "      <td>3S</td>\n",
              "      <td>KOSDAQ</td>\n",
              "      <td>상장</td>\n",
              "    </tr>\n",
              "    <tr>\n",
              "      <th>1</th>\n",
              "      <td>KR7095570008</td>\n",
              "      <td>095570</td>\n",
              "      <td>AJ네트웍스</td>\n",
              "      <td>KOSPI</td>\n",
              "      <td>상장</td>\n",
              "    </tr>\n",
              "    <tr>\n",
              "      <th>2</th>\n",
              "      <td>KR7006840003</td>\n",
              "      <td>006840</td>\n",
              "      <td>AK홀딩스</td>\n",
              "      <td>KOSPI</td>\n",
              "      <td>상장</td>\n",
              "    </tr>\n",
              "    <tr>\n",
              "      <th>3</th>\n",
              "      <td>KR7054620000</td>\n",
              "      <td>054620</td>\n",
              "      <td>APS홀딩스</td>\n",
              "      <td>KOSDAQ</td>\n",
              "      <td>상장</td>\n",
              "    </tr>\n",
              "    <tr>\n",
              "      <th>4</th>\n",
              "      <td>KR7265520007</td>\n",
              "      <td>265520</td>\n",
              "      <td>AP시스템</td>\n",
              "      <td>KOSDAQ</td>\n",
              "      <td>상장</td>\n",
              "    </tr>\n",
              "    <tr>\n",
              "      <th>...</th>\n",
              "      <td>...</td>\n",
              "      <td>...</td>\n",
              "      <td>...</td>\n",
              "      <td>...</td>\n",
              "      <td>...</td>\n",
              "    </tr>\n",
              "    <tr>\n",
              "      <th>2580</th>\n",
              "      <td>KR7000542001</td>\n",
              "      <td>000547</td>\n",
              "      <td>흥국화재2우B</td>\n",
              "      <td>KOSPI</td>\n",
              "      <td>상장</td>\n",
              "    </tr>\n",
              "    <tr>\n",
              "      <th>2581</th>\n",
              "      <td>KR7000541003</td>\n",
              "      <td>000545</td>\n",
              "      <td>흥국화재우</td>\n",
              "      <td>KOSPI</td>\n",
              "      <td>상장</td>\n",
              "    </tr>\n",
              "    <tr>\n",
              "      <th>2582</th>\n",
              "      <td>KR7003280005</td>\n",
              "      <td>003280</td>\n",
              "      <td>흥아해운</td>\n",
              "      <td>KOSPI</td>\n",
              "      <td>상장</td>\n",
              "    </tr>\n",
              "    <tr>\n",
              "      <th>2583</th>\n",
              "      <td>KR7037440005</td>\n",
              "      <td>037440</td>\n",
              "      <td>희림</td>\n",
              "      <td>KOSDAQ</td>\n",
              "      <td>상장</td>\n",
              "    </tr>\n",
              "    <tr>\n",
              "      <th>2584</th>\n",
              "      <td>KR7238490007</td>\n",
              "      <td>238490</td>\n",
              "      <td>힘스</td>\n",
              "      <td>KOSDAQ</td>\n",
              "      <td>상장</td>\n",
              "    </tr>\n",
              "  </tbody>\n",
              "</table>\n",
              "<p>2585 rows × 5 columns</p>\n",
              "</div>"
            ],
            "text/plain": [
              "         full_code short_code codeName marketEngName status\n",
              "0     KR7060310000     060310       3S        KOSDAQ     상장\n",
              "1     KR7095570008     095570   AJ네트웍스         KOSPI     상장\n",
              "2     KR7006840003     006840    AK홀딩스         KOSPI     상장\n",
              "3     KR7054620000     054620   APS홀딩스        KOSDAQ     상장\n",
              "4     KR7265520007     265520    AP시스템        KOSDAQ     상장\n",
              "...            ...        ...      ...           ...    ...\n",
              "2580  KR7000542001     000547  흥국화재2우B         KOSPI     상장\n",
              "2581  KR7000541003     000545    흥국화재우         KOSPI     상장\n",
              "2582  KR7003280005     003280     흥아해운         KOSPI     상장\n",
              "2583  KR7037440005     037440       희림        KOSDAQ     상장\n",
              "2584  KR7238490007     238490       힘스        KOSDAQ     상장\n",
              "\n",
              "[2585 rows x 5 columns]"
            ]
          },
          "metadata": {},
          "execution_count": 23
        }
      ]
    },
    {
      "cell_type": "code",
      "metadata": {
        "id": "y27fIWgkmTaM",
        "colab": {
          "base_uri": "https://localhost:8080/"
        },
        "outputId": "d446aa62-9570-4a98-b782-bce539584f8b"
      },
      "source": [
        "fullcode_copy = update_fullcode(fullcode_copy)\n",
        "check = fullcode_copy == full_code\n",
        "print('\\n <잘 작동되는 지 확인>')\n",
        "check.sum()"
      ],
      "execution_count": null,
      "outputs": [
        {
          "output_type": "stream",
          "name": "stdout",
          "text": [
            "일주일 전 : 20210926\n",
            "오늘 : 20211003\n",
            "\n",
            "한 주 상장폐지 종목 조회\n",
            "       ISU_CD  ...                                     DELIST_RSN_DSC\n",
            "0  2177301B\\n  ...                                                 \\n\n",
            "1    111820\\n  ...  기업의 계속성 및 경영의 투명성 등을 종합적으로 고려하여 상장폐지기준에 해당한다고 ...\n",
            "2  74701772\\n  ...                        수익증권 신탁기간의 만료 또는 전액 중도 환수\\n\n",
            "3  74702772\\n  ...                        수익증권 신탁기간의 만료 또는 전액 중도 환수\\n\n",
            "\n",
            "[4 rows x 5 columns]\n",
            "0    20211001\n",
            "1    20210930\n",
            "2    20210929\n",
            "3    20210929\n",
            "Name: DELIST_DD, dtype: object\n",
            "\n",
            " <잘 작동되는 지 확인>\n"
          ]
        },
        {
          "output_type": "execute_result",
          "data": {
            "text/plain": [
              "full_code        2585\n",
              "short_code       2585\n",
              "codeName         2585\n",
              "marketEngName    2585\n",
              "status           2585\n",
              "dtype: int64"
            ]
          },
          "metadata": {},
          "execution_count": 30
        }
      ]
    },
    {
      "cell_type": "markdown",
      "metadata": {
        "id": "eHGv89V5uaOB"
      },
      "source": [
        "<br><br>\n",
        "<hr>\n",
        "<h2>함수 작동 확인용</h2>"
      ]
    },
    {
      "cell_type": "code",
      "metadata": {
        "colab": {
          "base_uri": "https://localhost:8080/"
        },
        "id": "A-CLeSQEDyEa",
        "outputId": "9b6e7b40-c0b7-424b-cb04-375ec469e339"
      },
      "source": [
        "day7, today = today_date() #일주일 기간 날짜 구하기.\n",
        "print(day7, today)"
      ],
      "execution_count": null,
      "outputs": [
        {
          "output_type": "stream",
          "name": "stdout",
          "text": [
            "20210926 20211003\n"
          ]
        }
      ]
    },
    {
      "cell_type": "code",
      "metadata": {
        "colab": {
          "base_uri": "https://localhost:8080/",
          "height": 175
        },
        "id": "Pb45V_SxD8Kd",
        "outputId": "02ca7fb1-60e1-4cf1-b30e-85381b0cbb85"
      },
      "source": [
        "week_delisting = week_delisting(day7,today) #한 주동안 상장폐지된 항목 조회\n",
        "week_delisting"
      ],
      "execution_count": null,
      "outputs": [
        {
          "output_type": "execute_result",
          "data": {
            "text/html": [
              "<div>\n",
              "<style scoped>\n",
              "    .dataframe tbody tr th:only-of-type {\n",
              "        vertical-align: middle;\n",
              "    }\n",
              "\n",
              "    .dataframe tbody tr th {\n",
              "        vertical-align: top;\n",
              "    }\n",
              "\n",
              "    .dataframe thead th {\n",
              "        text-align: right;\n",
              "    }\n",
              "</style>\n",
              "<table border=\"1\" class=\"dataframe\">\n",
              "  <thead>\n",
              "    <tr style=\"text-align: right;\">\n",
              "      <th></th>\n",
              "      <th>ISU_CD</th>\n",
              "      <th>ISU_NM</th>\n",
              "      <th>MKT_NM</th>\n",
              "      <th>DELIST_DD</th>\n",
              "      <th>DELIST_RSN_DSC</th>\n",
              "    </tr>\n",
              "  </thead>\n",
              "  <tbody>\n",
              "    <tr>\n",
              "      <th>0</th>\n",
              "      <td>2177301B</td>\n",
              "      <td>강스템바이오텍 23R</td>\n",
              "      <td>KOSDAQ</td>\n",
              "      <td>2021/10/01</td>\n",
              "      <td></td>\n",
              "    </tr>\n",
              "    <tr>\n",
              "      <th>1</th>\n",
              "      <td>111820</td>\n",
              "      <td>지유온</td>\n",
              "      <td>KOSDAQ</td>\n",
              "      <td>2021/09/30</td>\n",
              "      <td>기업의 계속성 및 경영의 투명성 등을 종합적으로 고려하여 상장폐지기준에 해당한다고 결정</td>\n",
              "    </tr>\n",
              "    <tr>\n",
              "      <th>2</th>\n",
              "      <td>74701772</td>\n",
              "      <td>이지스코어부동산제117호A</td>\n",
              "      <td>KOSPI</td>\n",
              "      <td>2021/09/29</td>\n",
              "      <td>수익증권 신탁기간의 만료 또는 전액 중도 환수</td>\n",
              "    </tr>\n",
              "    <tr>\n",
              "      <th>3</th>\n",
              "      <td>74702772</td>\n",
              "      <td>이지스코어부동산제117호F</td>\n",
              "      <td>KOSPI</td>\n",
              "      <td>2021/09/29</td>\n",
              "      <td>수익증권 신탁기간의 만료 또는 전액 중도 환수</td>\n",
              "    </tr>\n",
              "  </tbody>\n",
              "</table>\n",
              "</div>"
            ],
            "text/plain": [
              "     ISU_CD  ...                                    DELIST_RSN_DSC\n",
              "0  2177301B  ...                                                  \n",
              "1    111820  ...  기업의 계속성 및 경영의 투명성 등을 종합적으로 고려하여 상장폐지기준에 해당한다고 결정\n",
              "2  74701772  ...                         수익증권 신탁기간의 만료 또는 전액 중도 환수\n",
              "3  74702772  ...                         수익증권 신탁기간의 만료 또는 전액 중도 환수\n",
              "\n",
              "[4 rows x 5 columns]"
            ]
          },
          "metadata": {},
          "execution_count": 6
        }
      ]
    },
    {
      "cell_type": "markdown",
      "metadata": {
        "id": "0PbHoxea1yCl"
      },
      "source": [
        "- 지금까지 당일 상장폐지 항목들만  추출 했었는데<br>  상장폐지가 없는 날에는 에러가 발생하여 일주일동안 상장폐지한 항목들을 추출하고<br>\n",
        " 당일 상장폐지 항목을 걸러내는 방식으로 바뀌었습니다. "
      ]
    },
    {
      "cell_type": "code",
      "metadata": {
        "colab": {
          "base_uri": "https://localhost:8080/",
          "height": 175
        },
        "id": "tsb3Pe-F3tUO",
        "outputId": "e6c31941-7c1a-414c-e438-ab2b6052d304"
      },
      "source": [
        "week_delisting['DELIST_DD'] = week_delisting['DELIST_DD'].str.replace('/','')\n",
        "week_delisting"
      ],
      "execution_count": null,
      "outputs": [
        {
          "output_type": "execute_result",
          "data": {
            "text/html": [
              "<div>\n",
              "<style scoped>\n",
              "    .dataframe tbody tr th:only-of-type {\n",
              "        vertical-align: middle;\n",
              "    }\n",
              "\n",
              "    .dataframe tbody tr th {\n",
              "        vertical-align: top;\n",
              "    }\n",
              "\n",
              "    .dataframe thead th {\n",
              "        text-align: right;\n",
              "    }\n",
              "</style>\n",
              "<table border=\"1\" class=\"dataframe\">\n",
              "  <thead>\n",
              "    <tr style=\"text-align: right;\">\n",
              "      <th></th>\n",
              "      <th>ISU_CD</th>\n",
              "      <th>ISU_NM</th>\n",
              "      <th>MKT_NM</th>\n",
              "      <th>DELIST_DD</th>\n",
              "      <th>DELIST_RSN_DSC</th>\n",
              "    </tr>\n",
              "  </thead>\n",
              "  <tbody>\n",
              "    <tr>\n",
              "      <th>0</th>\n",
              "      <td>2177301B</td>\n",
              "      <td>강스템바이오텍 23R</td>\n",
              "      <td>KOSDAQ</td>\n",
              "      <td>20211001</td>\n",
              "      <td></td>\n",
              "    </tr>\n",
              "    <tr>\n",
              "      <th>1</th>\n",
              "      <td>111820</td>\n",
              "      <td>지유온</td>\n",
              "      <td>KOSDAQ</td>\n",
              "      <td>20210930</td>\n",
              "      <td>기업의 계속성 및 경영의 투명성 등을 종합적으로 고려하여 상장폐지기준에 해당한다고 결정</td>\n",
              "    </tr>\n",
              "    <tr>\n",
              "      <th>2</th>\n",
              "      <td>74701772</td>\n",
              "      <td>이지스코어부동산제117호A</td>\n",
              "      <td>KOSPI</td>\n",
              "      <td>20210929</td>\n",
              "      <td>수익증권 신탁기간의 만료 또는 전액 중도 환수</td>\n",
              "    </tr>\n",
              "    <tr>\n",
              "      <th>3</th>\n",
              "      <td>74702772</td>\n",
              "      <td>이지스코어부동산제117호F</td>\n",
              "      <td>KOSPI</td>\n",
              "      <td>20210929</td>\n",
              "      <td>수익증권 신탁기간의 만료 또는 전액 중도 환수</td>\n",
              "    </tr>\n",
              "  </tbody>\n",
              "</table>\n",
              "</div>"
            ],
            "text/plain": [
              "     ISU_CD  ...                                    DELIST_RSN_DSC\n",
              "0  2177301B  ...                                                  \n",
              "1    111820  ...  기업의 계속성 및 경영의 투명성 등을 종합적으로 고려하여 상장폐지기준에 해당한다고 결정\n",
              "2  74701772  ...                         수익증권 신탁기간의 만료 또는 전액 중도 환수\n",
              "3  74702772  ...                         수익증권 신탁기간의 만료 또는 전액 중도 환수\n",
              "\n",
              "[4 rows x 5 columns]"
            ]
          },
          "metadata": {},
          "execution_count": 33
        }
      ]
    },
    {
      "cell_type": "code",
      "metadata": {
        "colab": {
          "base_uri": "https://localhost:8080/"
        },
        "id": "nIuJE84E4KgA",
        "outputId": "2091059d-958f-4241-8090-f72bec44d2c5"
      },
      "source": [
        "print(week_delisting.iloc[0,3] == '20211001')\n",
        "print(week_delisting.iloc[0,3] == today) #오늘 10월3일."
      ],
      "execution_count": null,
      "outputs": [
        {
          "output_type": "stream",
          "name": "stdout",
          "text": [
            "True\n",
            "False\n"
          ]
        }
      ]
    },
    {
      "cell_type": "code",
      "metadata": {
        "colab": {
          "base_uri": "https://localhost:8080/"
        },
        "id": "mnmKca6i5UGv",
        "outputId": "486db47a-8991-4314-81f0-9c7ee05bf2e6"
      },
      "source": [
        "week_delisting.shape[0]"
      ],
      "execution_count": null,
      "outputs": [
        {
          "output_type": "execute_result",
          "data": {
            "text/plain": [
              "4"
            ]
          },
          "metadata": {},
          "execution_count": 37
        }
      ]
    },
    {
      "cell_type": "code",
      "metadata": {
        "colab": {
          "base_uri": "https://localhost:8080/",
          "height": 424
        },
        "id": "W3lUGdVUEU5f",
        "outputId": "4a8cb19e-036e-4094-a1bc-0c7e8bdb6ef8"
      },
      "source": [
        "issues_for_administration() #관리종목 검색."
      ],
      "execution_count": null,
      "outputs": [
        {
          "output_type": "execute_result",
          "data": {
            "text/html": [
              "<div>\n",
              "<style scoped>\n",
              "    .dataframe tbody tr th:only-of-type {\n",
              "        vertical-align: middle;\n",
              "    }\n",
              "\n",
              "    .dataframe tbody tr th {\n",
              "        vertical-align: top;\n",
              "    }\n",
              "\n",
              "    .dataframe thead th {\n",
              "        text-align: right;\n",
              "    }\n",
              "</style>\n",
              "<table border=\"1\" class=\"dataframe\">\n",
              "  <thead>\n",
              "    <tr style=\"text-align: right;\">\n",
              "      <th></th>\n",
              "      <th>ISU_CD</th>\n",
              "      <th>ISU_NM</th>\n",
              "      <th>MKT_NM</th>\n",
              "      <th>FST_DESIGN_DD</th>\n",
              "      <th>LIST_BZ_RSN_NM</th>\n",
              "    </tr>\n",
              "  </thead>\n",
              "  <tbody>\n",
              "    <tr>\n",
              "      <th>0</th>\n",
              "      <td>131100</td>\n",
              "      <td>스카이이앤엠</td>\n",
              "      <td>KOSDAQ</td>\n",
              "      <td>2021/09/23</td>\n",
              "      <td>최근3사업연도중 2사업연도 자기자본 50%초과 법인세비용차감전계속사업손실 발생</td>\n",
              "    </tr>\n",
              "    <tr>\n",
              "      <th>1</th>\n",
              "      <td>317030</td>\n",
              "      <td>케이비17호스팩</td>\n",
              "      <td>KOSDAQ</td>\n",
              "      <td>2021/09/23</td>\n",
              "      <td>SPAC 상장예비심사청구서 미제출 등</td>\n",
              "    </tr>\n",
              "    <tr>\n",
              "      <th>2</th>\n",
              "      <td>148140</td>\n",
              "      <td>비디아이</td>\n",
              "      <td>KOSDAQ</td>\n",
              "      <td>2021/08/18</td>\n",
              "      <td>반기검토(감사)의견 부적정, 의견거절 또는 범위제한 한정</td>\n",
              "    </tr>\n",
              "    <tr>\n",
              "      <th>3</th>\n",
              "      <td>221610</td>\n",
              "      <td>자안바이오</td>\n",
              "      <td>KOSDAQ</td>\n",
              "      <td>2021/08/18</td>\n",
              "      <td>자기자본 10억원 미만,상장폐지사유 발생,자본잠식률 50% 이상,반기검토(감사)의견...</td>\n",
              "    </tr>\n",
              "    <tr>\n",
              "      <th>4</th>\n",
              "      <td>078650</td>\n",
              "      <td>지나인제약</td>\n",
              "      <td>KOSDAQ</td>\n",
              "      <td>2021/08/18</td>\n",
              "      <td>반기검토(감사)의견 부적정, 의견거절 또는 범위제한 한정,자본잠식률 50% 이상</td>\n",
              "    </tr>\n",
              "    <tr>\n",
              "      <th>...</th>\n",
              "      <td>...</td>\n",
              "      <td>...</td>\n",
              "      <td>...</td>\n",
              "      <td>...</td>\n",
              "      <td>...</td>\n",
              "    </tr>\n",
              "    <tr>\n",
              "      <th>108</th>\n",
              "      <td>079190</td>\n",
              "      <td>EMW</td>\n",
              "      <td>KOSDAQ</td>\n",
              "      <td>2018/10/17</td>\n",
              "      <td>상장적격성 실질심사 대상 결정</td>\n",
              "    </tr>\n",
              "    <tr>\n",
              "      <th>109</th>\n",
              "      <td>065150</td>\n",
              "      <td>엠피대산</td>\n",
              "      <td>KOSDAQ</td>\n",
              "      <td>2018/08/16</td>\n",
              "      <td>최근 4사업연도 연속 영업손실 발생</td>\n",
              "    </tr>\n",
              "    <tr>\n",
              "      <th>110</th>\n",
              "      <td>050320</td>\n",
              "      <td>아래스</td>\n",
              "      <td>KOSDAQ</td>\n",
              "      <td>2017/03/23</td>\n",
              "      <td>상장폐지사유 발생,반기검토(감사)의견 부적정, 의견거절 또는 범위제한 한정,최근 4...</td>\n",
              "    </tr>\n",
              "    <tr>\n",
              "      <th>111</th>\n",
              "      <td>115530</td>\n",
              "      <td>씨엔플러스</td>\n",
              "      <td>KOSDAQ</td>\n",
              "      <td>2017/03/16</td>\n",
              "      <td>상장적격성 실질심사 대상 결정,사업보고서 미제출,상장폐지사유 발생</td>\n",
              "    </tr>\n",
              "    <tr>\n",
              "      <th>112</th>\n",
              "      <td>101680</td>\n",
              "      <td>한국정밀기계</td>\n",
              "      <td>KOSDAQ</td>\n",
              "      <td>2017/03/16</td>\n",
              "      <td>최근 4사업연도 연속 영업손실 발생,상장적격성 실질심사 대상 결정</td>\n",
              "    </tr>\n",
              "  </tbody>\n",
              "</table>\n",
              "<p>113 rows × 5 columns</p>\n",
              "</div>"
            ],
            "text/plain": [
              "     ISU_CD  ...                                     LIST_BZ_RSN_NM\n",
              "0    131100  ...        최근3사업연도중 2사업연도 자기자본 50%초과 법인세비용차감전계속사업손실 발생\n",
              "1    317030  ...                               SPAC 상장예비심사청구서 미제출 등\n",
              "2    148140  ...                    반기검토(감사)의견 부적정, 의견거절 또는 범위제한 한정\n",
              "3    221610  ...  자기자본 10억원 미만,상장폐지사유 발생,자본잠식률 50% 이상,반기검토(감사)의견...\n",
              "4    078650  ...       반기검토(감사)의견 부적정, 의견거절 또는 범위제한 한정,자본잠식률 50% 이상\n",
              "..      ...  ...                                                ...\n",
              "108  079190  ...                                   상장적격성 실질심사 대상 결정\n",
              "109  065150  ...                                최근 4사업연도 연속 영업손실 발생\n",
              "110  050320  ...  상장폐지사유 발생,반기검토(감사)의견 부적정, 의견거절 또는 범위제한 한정,최근 4...\n",
              "111  115530  ...               상장적격성 실질심사 대상 결정,사업보고서 미제출,상장폐지사유 발생\n",
              "112  101680  ...               최근 4사업연도 연속 영업손실 발생,상장적격성 실질심사 대상 결정\n",
              "\n",
              "[113 rows x 5 columns]"
            ]
          },
          "metadata": {},
          "execution_count": 43
        }
      ]
    },
    {
      "cell_type": "code",
      "metadata": {
        "colab": {
          "base_uri": "https://localhost:8080/",
          "height": 81
        },
        "id": "kC9N-4ccTrDr",
        "outputId": "6262e975-63d1-4b11-bb3d-fa54db139ab2"
      },
      "source": [
        "new_listing = new_listing(today) #오늘은 새로 상장된 주식이 없음.\n",
        "new_listing"
      ],
      "execution_count": null,
      "outputs": [
        {
          "output_type": "execute_result",
          "data": {
            "text/html": [
              "<div>\n",
              "<style scoped>\n",
              "    .dataframe tbody tr th:only-of-type {\n",
              "        vertical-align: middle;\n",
              "    }\n",
              "\n",
              "    .dataframe tbody tr th {\n",
              "        vertical-align: top;\n",
              "    }\n",
              "\n",
              "    .dataframe thead th {\n",
              "        text-align: right;\n",
              "    }\n",
              "</style>\n",
              "<table border=\"1\" class=\"dataframe\">\n",
              "  <thead>\n",
              "    <tr style=\"text-align: right;\">\n",
              "      <th></th>\n",
              "      <th>회사명</th>\n",
              "      <th>상장일</th>\n",
              "      <th>상장유형</th>\n",
              "    </tr>\n",
              "  </thead>\n",
              "  <tbody>\n",
              "    <tr>\n",
              "      <th>0</th>\n",
              "      <td>조회된 결과값이 없습니다.</td>\n",
              "      <td>조회된 결과값이 없습니다.</td>\n",
              "      <td>조회된 결과값이 없습니다.</td>\n",
              "    </tr>\n",
              "  </tbody>\n",
              "</table>\n",
              "</div>"
            ],
            "text/plain": [
              "              회사명             상장일            상장유형\n",
              "0  조회된 결과값이 없습니다.  조회된 결과값이 없습니다.  조회된 결과값이 없습니다."
            ]
          },
          "metadata": {},
          "execution_count": 44
        }
      ]
    },
    {
      "cell_type": "code",
      "metadata": {
        "colab": {
          "base_uri": "https://localhost:8080/"
        },
        "id": "5PLsfcU-HsfQ",
        "outputId": "245da873-2314-4e85-b269-459d765973e8"
      },
      "source": [
        "new_listing.iloc[0,0] == '조회된 결과값이 없습니다.'"
      ],
      "execution_count": null,
      "outputs": [
        {
          "output_type": "execute_result",
          "data": {
            "text/plain": [
              "True"
            ]
          },
          "metadata": {},
          "execution_count": 45
        }
      ]
    },
    {
      "cell_type": "code",
      "metadata": {
        "id": "4HXBlj1dwKX9"
      },
      "source": [
        "def change_new_listing (df):  #새로 상장된 주식 full_code에 추가하기\n",
        "  result =  new_listing.iloc[0,0] != '조회된 결과값이 없습니다.'   \n",
        "  if (result):  #신규 상장이 있으면.\n",
        "    #\n",
        "  return df"
      ],
      "execution_count": null,
      "outputs": []
    },
    {
      "cell_type": "code",
      "metadata": {
        "id": "PbCtvxCTDXR9"
      },
      "source": [
        "#공유 드라이브에 데이터 저장.\n",
        "with open('/content/drive/MyDrive/[Shared]K-Project/full_code.pkl', 'wb') as f:\n",
        "\tpickle.dump(full_code, f)"
      ],
      "execution_count": null,
      "outputs": []
    }
  ]
}