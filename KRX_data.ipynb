{
  "nbformat": 4,
  "nbformat_minor": 0,
  "metadata": {
    "colab": {
      "name": "Untitled5.ipynb",
      "provenance": [],
      "collapsed_sections": [],
      "mount_file_id": "1zbml9fJrn_JAL1CIvYwuPmYg4NfnlA1x",
      "authorship_tag": "ABX9TyNS/88EZI2Khnu8HEe9tOIm",
      "include_colab_link": true
    },
    "kernelspec": {
      "name": "python3",
      "display_name": "Python 3"
    },
    "language_info": {
      "name": "python"
    }
  },
  "cells": [
    {
      "cell_type": "markdown",
      "metadata": {
        "id": "view-in-github",
        "colab_type": "text"
      },
      "source": [
        "<a href=\"https://colab.research.google.com/github/baeksumin/k-project/blob/main/KRX_data.ipynb\" target=\"_parent\"><img src=\"https://colab.research.google.com/assets/colab-badge.svg\" alt=\"Open In Colab\"/></a>"
      ]
    },
    {
      "cell_type": "code",
      "metadata": {
        "id": "0vmf9qBMgFP-"
      },
      "source": [
        "import pickle\n",
        "import json\n",
        "import requests\n",
        "import pandas as pd\n",
        "from io import BytesIO\n",
        "import pytz\n",
        "from datetime import datetime, date, timedelta"
      ],
      "execution_count": 4,
      "outputs": []
    },
    {
      "cell_type": "code",
      "metadata": {
        "colab": {
          "base_uri": "https://localhost:8080/"
        },
        "id": "nOs_TImnUJzq",
        "outputId": "8079b9ce-d1ad-4a0b-f154-f627884e6bf1"
      },
      "source": [
        "from google.colab import drive\n",
        "drive.mount('/content/drive')"
      ],
      "execution_count": null,
      "outputs": [
        {
          "output_type": "stream",
          "name": "stdout",
          "text": [
            "Mounted at /content/drive\n"
          ]
        }
      ]
    },
    {
      "cell_type": "code",
      "metadata": {
        "colab": {
          "base_uri": "https://localhost:8080/",
          "height": 424
        },
        "id": "B3TlWUGsl0nG",
        "outputId": "383c3b7f-17ab-48b8-d323-98c03a4fb655"
      },
      "source": [
        "with open(\"/content/drive/MyDrive/full_code.pkl\",\"rb\") as f:  \n",
        "    full_code = pickle.load(f)\n",
        "full_code"
      ],
      "execution_count": 100,
      "outputs": [
        {
          "output_type": "execute_result",
          "data": {
            "text/html": [
              "<div>\n",
              "<style scoped>\n",
              "    .dataframe tbody tr th:only-of-type {\n",
              "        vertical-align: middle;\n",
              "    }\n",
              "\n",
              "    .dataframe tbody tr th {\n",
              "        vertical-align: top;\n",
              "    }\n",
              "\n",
              "    .dataframe thead th {\n",
              "        text-align: right;\n",
              "    }\n",
              "</style>\n",
              "<table border=\"1\" class=\"dataframe\">\n",
              "  <thead>\n",
              "    <tr style=\"text-align: right;\">\n",
              "      <th></th>\n",
              "      <th>full_code</th>\n",
              "      <th>short_code</th>\n",
              "      <th>codeName</th>\n",
              "      <th>marketEngName</th>\n",
              "      <th>status</th>\n",
              "    </tr>\n",
              "  </thead>\n",
              "  <tbody>\n",
              "    <tr>\n",
              "      <th>0</th>\n",
              "      <td>KR7060310000</td>\n",
              "      <td>060310</td>\n",
              "      <td>3S</td>\n",
              "      <td>KOSDAQ</td>\n",
              "      <td>상장</td>\n",
              "    </tr>\n",
              "    <tr>\n",
              "      <th>1</th>\n",
              "      <td>KR7095570008</td>\n",
              "      <td>095570</td>\n",
              "      <td>AJ네트웍스</td>\n",
              "      <td>KOSPI</td>\n",
              "      <td>상장</td>\n",
              "    </tr>\n",
              "    <tr>\n",
              "      <th>2</th>\n",
              "      <td>KR7006840003</td>\n",
              "      <td>006840</td>\n",
              "      <td>AK홀딩스</td>\n",
              "      <td>KOSPI</td>\n",
              "      <td>상장</td>\n",
              "    </tr>\n",
              "    <tr>\n",
              "      <th>3</th>\n",
              "      <td>KR7054620000</td>\n",
              "      <td>054620</td>\n",
              "      <td>APS홀딩스</td>\n",
              "      <td>KOSDAQ</td>\n",
              "      <td>상장</td>\n",
              "    </tr>\n",
              "    <tr>\n",
              "      <th>4</th>\n",
              "      <td>KR7265520007</td>\n",
              "      <td>265520</td>\n",
              "      <td>AP시스템</td>\n",
              "      <td>KOSDAQ</td>\n",
              "      <td>상장</td>\n",
              "    </tr>\n",
              "    <tr>\n",
              "      <th>...</th>\n",
              "      <td>...</td>\n",
              "      <td>...</td>\n",
              "      <td>...</td>\n",
              "      <td>...</td>\n",
              "      <td>...</td>\n",
              "    </tr>\n",
              "    <tr>\n",
              "      <th>2580</th>\n",
              "      <td>KR7000542001</td>\n",
              "      <td>000547</td>\n",
              "      <td>흥국화재2우B</td>\n",
              "      <td>KOSPI</td>\n",
              "      <td>상장</td>\n",
              "    </tr>\n",
              "    <tr>\n",
              "      <th>2581</th>\n",
              "      <td>KR7000541003</td>\n",
              "      <td>000545</td>\n",
              "      <td>흥국화재우</td>\n",
              "      <td>KOSPI</td>\n",
              "      <td>상장</td>\n",
              "    </tr>\n",
              "    <tr>\n",
              "      <th>2582</th>\n",
              "      <td>KR7003280005</td>\n",
              "      <td>003280</td>\n",
              "      <td>흥아해운</td>\n",
              "      <td>KOSPI</td>\n",
              "      <td>상장</td>\n",
              "    </tr>\n",
              "    <tr>\n",
              "      <th>2583</th>\n",
              "      <td>KR7037440005</td>\n",
              "      <td>037440</td>\n",
              "      <td>희림</td>\n",
              "      <td>KOSDAQ</td>\n",
              "      <td>상장</td>\n",
              "    </tr>\n",
              "    <tr>\n",
              "      <th>2584</th>\n",
              "      <td>KR7238490007</td>\n",
              "      <td>238490</td>\n",
              "      <td>힘스</td>\n",
              "      <td>KOSDAQ</td>\n",
              "      <td>상장</td>\n",
              "    </tr>\n",
              "  </tbody>\n",
              "</table>\n",
              "<p>2585 rows × 5 columns</p>\n",
              "</div>"
            ],
            "text/plain": [
              "         full_code short_code codeName marketEngName status\n",
              "0     KR7060310000     060310       3S        KOSDAQ     상장\n",
              "1     KR7095570008     095570   AJ네트웍스         KOSPI     상장\n",
              "2     KR7006840003     006840    AK홀딩스         KOSPI     상장\n",
              "3     KR7054620000     054620   APS홀딩스        KOSDAQ     상장\n",
              "4     KR7265520007     265520    AP시스템        KOSDAQ     상장\n",
              "...            ...        ...      ...           ...    ...\n",
              "2580  KR7000542001     000547  흥국화재2우B         KOSPI     상장\n",
              "2581  KR7000541003     000545    흥국화재우         KOSPI     상장\n",
              "2582  KR7003280005     003280     흥아해운         KOSPI     상장\n",
              "2583  KR7037440005     037440       희림        KOSDAQ     상장\n",
              "2584  KR7238490007     238490       힘스        KOSDAQ     상장\n",
              "\n",
              "[2585 rows x 5 columns]"
            ]
          },
          "metadata": {},
          "execution_count": 100
        }
      ]
    },
    {
      "cell_type": "code",
      "metadata": {
        "id": "62ZXwuvcJF3U"
      },
      "source": [
        "#오늘, 어제 날짜 구하기.\n",
        "def today_date():\n",
        "  tz = pytz.timezone('Asia/Seoul')  #한국시간 맞추기.\n",
        "  raw_dates = datetime.now(tz)\n",
        "  yesterday_raw = raw_dates - timedelta(1) \n",
        "  yesterday =  yesterday_raw.strftime(\"%Y%m%d\")  # 어제 날짜 문자열로 변환\n",
        "  today = raw_dates.strftime(\"%Y%m%d\")  # 오늘 날짜 문자열로 변환\n",
        "  return yesterday, today"
      ],
      "execution_count": 5,
      "outputs": []
    },
    {
      "cell_type": "code",
      "metadata": {
        "colab": {
          "base_uri": "https://localhost:8080/"
        },
        "id": "93I3_dXjJXG9",
        "outputId": "411d2fb6-3e3f-46ff-abc6-9b97158134c9"
      },
      "source": [
        "yesterday,today = today_date()\n",
        "print('yesterday : '+ yesterday + '\\n'+ 'today : ' + today)"
      ],
      "execution_count": 22,
      "outputs": [
        {
          "output_type": "stream",
          "name": "stdout",
          "text": [
            "yesterday : 20210928\n",
            "today : 20210929\n"
          ]
        }
      ]
    },
    {
      "cell_type": "code",
      "metadata": {
        "id": "fnRG3QZOKaaZ"
      },
      "source": [
        "#  상장 폐지 종목 불러오기 (KRX_상장폐지종목현황_화면번호(20037))\n",
        "def stock_delisting (yesterday, today):\n",
        "\n",
        "  headers = {'User-Agent': 'Chrome/93.0.4577.82 Safari/537.36,'}  \n",
        "\n",
        "  url = \"http://data.krx.co.kr/comm/bldAttendant/getJsonData.cmd\"\n",
        "\n",
        "  data = {'bld': 'dbms/MDC/STAT/issue/MDCSTAT23801',\n",
        "        'mktId': 'ALL',\n",
        "        'tboxisuCd_finder_listdelisu0_0':'전체',\n",
        "        'isuCd': 'ALL',\n",
        "        'isuCd2': 'ALL',\n",
        "        'strtDd': yesterday,\n",
        "        'endDd': today,  \n",
        "        'csvxls_isNo': 'true',}\n",
        "\n",
        "  r = requests.post(url,data,headers=headers)\n",
        "  j = json.loads(r.text)\n",
        "\n",
        "  df = pd.json_normalize(j['output'])\n",
        "  return df[['ISU_CD','ISU_NM','MKT_NM','DELIST_DD','DELIST_RSN_DSC']] #종목코드, 종목명, 시장구분, 폐지일, 폐지사유 열만 추출"
      ],
      "execution_count": 17,
      "outputs": []
    },
    {
      "cell_type": "code",
      "metadata": {
        "colab": {
          "base_uri": "https://localhost:8080/",
          "height": 112
        },
        "id": "1MBvqWVWLOjP",
        "outputId": "d45bba47-66a2-40e9-cffd-2e20bcadcec6"
      },
      "source": [
        "yesterday,today = today_date() \n",
        "stock_delisting (yesterday, today) #오늘날짜 상장페지 종목 확인."
      ],
      "execution_count": 18,
      "outputs": [
        {
          "output_type": "execute_result",
          "data": {
            "text/html": [
              "<div>\n",
              "<style scoped>\n",
              "    .dataframe tbody tr th:only-of-type {\n",
              "        vertical-align: middle;\n",
              "    }\n",
              "\n",
              "    .dataframe tbody tr th {\n",
              "        vertical-align: top;\n",
              "    }\n",
              "\n",
              "    .dataframe thead th {\n",
              "        text-align: right;\n",
              "    }\n",
              "</style>\n",
              "<table border=\"1\" class=\"dataframe\">\n",
              "  <thead>\n",
              "    <tr style=\"text-align: right;\">\n",
              "      <th></th>\n",
              "      <th>ISU_CD</th>\n",
              "      <th>ISU_NM</th>\n",
              "      <th>MKT_NM</th>\n",
              "      <th>DELIST_DD</th>\n",
              "      <th>DELIST_RSN_DSC</th>\n",
              "    </tr>\n",
              "  </thead>\n",
              "  <tbody>\n",
              "    <tr>\n",
              "      <th>0</th>\n",
              "      <td>74701772</td>\n",
              "      <td>이지스코어부동산제117호A</td>\n",
              "      <td>KOSPI</td>\n",
              "      <td>2021/09/29</td>\n",
              "      <td>수익증권 신탁기간의 만료 또는 전액 중도 환수</td>\n",
              "    </tr>\n",
              "    <tr>\n",
              "      <th>1</th>\n",
              "      <td>74702772</td>\n",
              "      <td>이지스코어부동산제117호F</td>\n",
              "      <td>KOSPI</td>\n",
              "      <td>2021/09/29</td>\n",
              "      <td>수익증권 신탁기간의 만료 또는 전액 중도 환수</td>\n",
              "    </tr>\n",
              "  </tbody>\n",
              "</table>\n",
              "</div>"
            ],
            "text/plain": [
              "     ISU_CD          ISU_NM MKT_NM   DELIST_DD             DELIST_RSN_DSC\n",
              "0  74701772  이지스코어부동산제117호A  KOSPI  2021/09/29  수익증권 신탁기간의 만료 또는 전액 중도 환수\n",
              "1  74702772  이지스코어부동산제117호F  KOSPI  2021/09/29  수익증권 신탁기간의 만료 또는 전액 중도 환수"
            ]
          },
          "metadata": {},
          "execution_count": 18
        }
      ]
    },
    {
      "cell_type": "code",
      "metadata": {
        "id": "t0C86uWa9J4-"
      },
      "source": [
        "# 관리종목 현황 종목 (krx화면번호_ 20012)\n",
        "def issues_for_administration():\n",
        "  headers = {'User-Agent': 'Chrome/93.0.4577.82 Safari/537.36,'} \n",
        "\n",
        "  data ={'bld': 'dbms/MDC/STAT/issue/MDCSTAT21401',\n",
        "        'mktId': 'ALL',\n",
        "        'csvxls_isNo': 'true',}\n",
        "\n",
        "  url = 'http://data.krx.co.kr/comm/bldAttendant/getJsonData.cmd'\n",
        "\n",
        "  r = requests.post(url,data,headers=headers)\n",
        "  j = json.loads(r.text)\n",
        "\n",
        "  df = pd.json_normalize(j['output'])\n",
        "  \n",
        "  return df[['ISU_CD','ISU_NM','MKT_NM','FST_DESIGN_DD','LIST_BZ_RSN_NM']] #종목코드,종목명, 시장구분, 최초지정일, 지정사유 열만 추출."
      ],
      "execution_count": 15,
      "outputs": []
    },
    {
      "cell_type": "code",
      "metadata": {
        "colab": {
          "base_uri": "https://localhost:8080/",
          "height": 424
        },
        "id": "W3lUGdVUEU5f",
        "outputId": "a285fa2d-669d-4f44-f3f9-cb807e280887"
      },
      "source": [
        "issues_for_administration()"
      ],
      "execution_count": 37,
      "outputs": [
        {
          "output_type": "execute_result",
          "data": {
            "text/html": [
              "<div>\n",
              "<style scoped>\n",
              "    .dataframe tbody tr th:only-of-type {\n",
              "        vertical-align: middle;\n",
              "    }\n",
              "\n",
              "    .dataframe tbody tr th {\n",
              "        vertical-align: top;\n",
              "    }\n",
              "\n",
              "    .dataframe thead th {\n",
              "        text-align: right;\n",
              "    }\n",
              "</style>\n",
              "<table border=\"1\" class=\"dataframe\">\n",
              "  <thead>\n",
              "    <tr style=\"text-align: right;\">\n",
              "      <th></th>\n",
              "      <th>ISU_CD</th>\n",
              "      <th>ISU_NM</th>\n",
              "      <th>MKT_NM</th>\n",
              "      <th>FST_DESIGN_DD</th>\n",
              "      <th>LIST_BZ_RSN_NM</th>\n",
              "    </tr>\n",
              "  </thead>\n",
              "  <tbody>\n",
              "    <tr>\n",
              "      <th>0</th>\n",
              "      <td>131100</td>\n",
              "      <td>스카이이앤엠</td>\n",
              "      <td>KOSDAQ</td>\n",
              "      <td>2021/09/23</td>\n",
              "      <td>최근3사업연도중 2사업연도 자기자본 50%초과 법인세비용차감전계속사업손실 발생</td>\n",
              "    </tr>\n",
              "    <tr>\n",
              "      <th>1</th>\n",
              "      <td>317030</td>\n",
              "      <td>케이비17호스팩</td>\n",
              "      <td>KOSDAQ</td>\n",
              "      <td>2021/09/23</td>\n",
              "      <td>SPAC 상장예비심사청구서 미제출 등</td>\n",
              "    </tr>\n",
              "    <tr>\n",
              "      <th>2</th>\n",
              "      <td>148140</td>\n",
              "      <td>비디아이</td>\n",
              "      <td>KOSDAQ</td>\n",
              "      <td>2021/08/18</td>\n",
              "      <td>반기검토(감사)의견 부적정, 의견거절 또는 범위제한 한정</td>\n",
              "    </tr>\n",
              "    <tr>\n",
              "      <th>3</th>\n",
              "      <td>221610</td>\n",
              "      <td>자안바이오</td>\n",
              "      <td>KOSDAQ</td>\n",
              "      <td>2021/08/18</td>\n",
              "      <td>자기자본 10억원 미만,상장폐지사유 발생,자본잠식률 50% 이상,반기검토(감사)의견...</td>\n",
              "    </tr>\n",
              "    <tr>\n",
              "      <th>4</th>\n",
              "      <td>078650</td>\n",
              "      <td>지나인제약</td>\n",
              "      <td>KOSDAQ</td>\n",
              "      <td>2021/08/18</td>\n",
              "      <td>반기검토(감사)의견 부적정, 의견거절 또는 범위제한 한정,자본잠식률 50% 이상</td>\n",
              "    </tr>\n",
              "    <tr>\n",
              "      <th>...</th>\n",
              "      <td>...</td>\n",
              "      <td>...</td>\n",
              "      <td>...</td>\n",
              "      <td>...</td>\n",
              "      <td>...</td>\n",
              "    </tr>\n",
              "    <tr>\n",
              "      <th>109</th>\n",
              "      <td>079190</td>\n",
              "      <td>EMW</td>\n",
              "      <td>KOSDAQ</td>\n",
              "      <td>2018/10/17</td>\n",
              "      <td>상장적격성 실질심사 대상 결정</td>\n",
              "    </tr>\n",
              "    <tr>\n",
              "      <th>110</th>\n",
              "      <td>065150</td>\n",
              "      <td>엠피대산</td>\n",
              "      <td>KOSDAQ</td>\n",
              "      <td>2018/08/16</td>\n",
              "      <td>최근 4사업연도 연속 영업손실 발생</td>\n",
              "    </tr>\n",
              "    <tr>\n",
              "      <th>111</th>\n",
              "      <td>050320</td>\n",
              "      <td>아래스</td>\n",
              "      <td>KOSDAQ</td>\n",
              "      <td>2017/03/23</td>\n",
              "      <td>상장폐지사유 발생,반기검토(감사)의견 부적정, 의견거절 또는 범위제한 한정,최근 4...</td>\n",
              "    </tr>\n",
              "    <tr>\n",
              "      <th>112</th>\n",
              "      <td>115530</td>\n",
              "      <td>씨엔플러스</td>\n",
              "      <td>KOSDAQ</td>\n",
              "      <td>2017/03/16</td>\n",
              "      <td>상장적격성 실질심사 대상 결정,사업보고서 미제출,상장폐지사유 발생</td>\n",
              "    </tr>\n",
              "    <tr>\n",
              "      <th>113</th>\n",
              "      <td>101680</td>\n",
              "      <td>한국정밀기계</td>\n",
              "      <td>KOSDAQ</td>\n",
              "      <td>2017/03/16</td>\n",
              "      <td>최근 4사업연도 연속 영업손실 발생,상장적격성 실질심사 대상 결정</td>\n",
              "    </tr>\n",
              "  </tbody>\n",
              "</table>\n",
              "<p>114 rows × 5 columns</p>\n",
              "</div>"
            ],
            "text/plain": [
              "     ISU_CD  ...                                     LIST_BZ_RSN_NM\n",
              "0    131100  ...        최근3사업연도중 2사업연도 자기자본 50%초과 법인세비용차감전계속사업손실 발생\n",
              "1    317030  ...                               SPAC 상장예비심사청구서 미제출 등\n",
              "2    148140  ...                    반기검토(감사)의견 부적정, 의견거절 또는 범위제한 한정\n",
              "3    221610  ...  자기자본 10억원 미만,상장폐지사유 발생,자본잠식률 50% 이상,반기검토(감사)의견...\n",
              "4    078650  ...       반기검토(감사)의견 부적정, 의견거절 또는 범위제한 한정,자본잠식률 50% 이상\n",
              "..      ...  ...                                                ...\n",
              "109  079190  ...                                   상장적격성 실질심사 대상 결정\n",
              "110  065150  ...                                최근 4사업연도 연속 영업손실 발생\n",
              "111  050320  ...  상장폐지사유 발생,반기검토(감사)의견 부적정, 의견거절 또는 범위제한 한정,최근 4...\n",
              "112  115530  ...               상장적격성 실질심사 대상 결정,사업보고서 미제출,상장폐지사유 발생\n",
              "113  101680  ...               최근 4사업연도 연속 영업손실 발생,상장적격성 실질심사 대상 결정\n",
              "\n",
              "[114 rows x 5 columns]"
            ]
          },
          "metadata": {},
          "execution_count": 37
        }
      ]
    },
    {
      "cell_type": "code",
      "metadata": {
        "id": "ejdR3bpUGeHK"
      },
      "source": [
        "# 새로운 종목 full_code 가져오기.\n",
        "def KRX_search_fullcode(new_code):\n",
        "  headers = {'User-Agent': 'Chrome/93.0.4577.82 Safari/537.36,'}  \n",
        "\n",
        "  data = {'mktsel': 'ALL',\n",
        "        'typeNo': '0',\n",
        "        'searchText': new_code,\n",
        "        'bld': 'dbms/comm/finder/finder_stkisu',}\n",
        "\n",
        "  url = \"http://data.krx.co.kr/comm/bldAttendant/getJsonData.cmd\"\n",
        "\n",
        "  r = requests.post(url,data,headers=headers)\n",
        "  j = json.loads(r.text)\n",
        "\n",
        "  df = pd.json_normalize(j['block1'])\n",
        "  return df[['full_code','short_code','codeName','marketEngName']]"
      ],
      "execution_count": 103,
      "outputs": []
    },
    {
      "cell_type": "code",
      "metadata": {
        "id": "B-FuHzjznHCS"
      },
      "source": [
        "# 데이터프레임안에서 full_code 찾기\n",
        "def get_fullcode(df,short_code) :\n",
        "  df= df.set_index('short_code') #short code index 설정\n",
        "  full_code = df.loc[short_code]['full_code']\n",
        "  return full_code"
      ],
      "execution_count": 40,
      "outputs": []
    },
    {
      "cell_type": "code",
      "metadata": {
        "colab": {
          "base_uri": "https://localhost:8080/",
          "height": 112
        },
        "id": "5V6I_-0VlXlT",
        "outputId": "9eab4448-7d4e-434e-81b4-834ef8703c3e"
      },
      "source": [
        "KRX_search_fullcode('삼성전자')"
      ],
      "execution_count": 109,
      "outputs": [
        {
          "output_type": "execute_result",
          "data": {
            "text/html": [
              "<div>\n",
              "<style scoped>\n",
              "    .dataframe tbody tr th:only-of-type {\n",
              "        vertical-align: middle;\n",
              "    }\n",
              "\n",
              "    .dataframe tbody tr th {\n",
              "        vertical-align: top;\n",
              "    }\n",
              "\n",
              "    .dataframe thead th {\n",
              "        text-align: right;\n",
              "    }\n",
              "</style>\n",
              "<table border=\"1\" class=\"dataframe\">\n",
              "  <thead>\n",
              "    <tr style=\"text-align: right;\">\n",
              "      <th></th>\n",
              "      <th>full_code</th>\n",
              "      <th>short_code</th>\n",
              "      <th>codeName</th>\n",
              "      <th>marketEngName</th>\n",
              "    </tr>\n",
              "  </thead>\n",
              "  <tbody>\n",
              "    <tr>\n",
              "      <th>0</th>\n",
              "      <td>KR7005930003</td>\n",
              "      <td>005930</td>\n",
              "      <td>삼성전자</td>\n",
              "      <td>KOSPI</td>\n",
              "    </tr>\n",
              "    <tr>\n",
              "      <th>1</th>\n",
              "      <td>KR7005931001</td>\n",
              "      <td>005935</td>\n",
              "      <td>삼성전자우</td>\n",
              "      <td>KOSPI</td>\n",
              "    </tr>\n",
              "  </tbody>\n",
              "</table>\n",
              "</div>"
            ],
            "text/plain": [
              "      full_code short_code codeName marketEngName\n",
              "0  KR7005930003     005930     삼성전자         KOSPI\n",
              "1  KR7005931001     005935    삼성전자우         KOSPI"
            ]
          },
          "metadata": {},
          "execution_count": 109
        }
      ]
    },
    {
      "cell_type": "code",
      "metadata": {
        "colab": {
          "base_uri": "https://localhost:8080/",
          "height": 35
        },
        "id": "qeXXEdB1ncVP",
        "outputId": "f7da5ef7-a64d-431e-b38c-153b1c104eef"
      },
      "source": [
        "get_fullcode(df,'238490') #위의 표 힘스(238490) full_code 가져와보기."
      ],
      "execution_count": 43,
      "outputs": [
        {
          "output_type": "execute_result",
          "data": {
            "application/vnd.google.colaboratory.intrinsic+json": {
              "type": "string"
            },
            "text/plain": [
              "'KR7238490007'"
            ]
          },
          "metadata": {},
          "execution_count": 43
        }
      ]
    },
    {
      "cell_type": "code",
      "metadata": {
        "colab": {
          "base_uri": "https://localhost:8080/",
          "height": 35
        },
        "id": "CzRFCni3oXA1",
        "outputId": "8f61d516-5351-4d3f-e1bd-9f3353d7a596"
      },
      "source": [
        "get_fullcode(df,issues_for_administration().iloc[0,0]) #관리 종목 데이터프레임 첫번째 종목의 full_code 가져오기."
      ],
      "execution_count": 42,
      "outputs": [
        {
          "output_type": "execute_result",
          "data": {
            "application/vnd.google.colaboratory.intrinsic+json": {
              "type": "string"
            },
            "text/plain": [
              "'KR7131100000'"
            ]
          },
          "metadata": {},
          "execution_count": 42
        }
      ]
    },
    {
      "cell_type": "code",
      "metadata": {
        "id": "JirvvBnX_lsU"
      },
      "source": [
        "# 신규상장기업현황 ( https://kind.krx.co.kr/listinvstg/listingcompany.do?method=searchListingTypeMain)\n",
        "\n",
        "def new_listing(today): \n",
        "\n",
        "  headers = {'User-Agent': 'Chrome/93.0.4577.82 Safari/537.36,'} \n",
        "\n",
        "  data = {'method': 'searchListingTypeSub',\n",
        "        'currentPageSize': '15',\n",
        "        'pageIndex': '1',\n",
        "        'orderMode': '1',\n",
        "        'orderStat': 'D',\n",
        "        'repIsuSrtCd': '',\n",
        "        'isurCd': '',\n",
        "        'forward': 'listingtype_sub',\n",
        "        'listTypeArrStr': '01|02|03|04|05|',\n",
        "        'choicTypeArrStr':'' ,\n",
        "        'searchCodeType': '',\n",
        "        'searchCorpName': '',\n",
        "        'secuGrpArrStr': '0|ST|FS|MF|SC|RT|DR|',\n",
        "        'marketType': '',\n",
        "        'searchCorpNameTmp':'' ,\n",
        "        'country': '410',\n",
        "        'industry': '',\n",
        "        'repMajAgntDesignAdvserComp': '',\n",
        "        'repMajAgntComp': '',\n",
        "        'designAdvserComp': '',\n",
        "        'secuGrpArr': '0',\n",
        "        'secuGrpArr': 'ST|FS',\n",
        "        'secuGrpArr': 'MF|SC|RT',\n",
        "        'secuGrpArr': 'DR',\n",
        "        'listTypeArr': '01',\n",
        "        'listTypeArr': '02',\n",
        "        'listTypeArr': '03',\n",
        "        'listTypeArr': '04',\n",
        "        'listTypeArr': '05',\n",
        "        'fromDate': today,\n",
        "        'toDate': today,}\n",
        "\n",
        "  url = \"https://kind.krx.co.kr/listinvstg/listingcompany.do\"\n",
        "\n",
        "  r = requests.post(url,data,headers=headers)\n",
        "  f = BytesIO(r.content)\n",
        "  dfs = pd.read_html(f, encoding='UTF8' )\n",
        "  df = dfs[0].copy()\n",
        "  df = df.iloc[:,[0,1,2]]\n",
        "\n",
        "  df =df.rename(columns = {'Unnamed: 0':'회사명','Unnamed: 1':'상장일','Unnamed: 2':'상장유형'})\n",
        "  return df\n"
      ],
      "execution_count": 97,
      "outputs": []
    },
    {
      "cell_type": "code",
      "metadata": {
        "colab": {
          "base_uri": "https://localhost:8080/",
          "height": 112
        },
        "id": "PotR7gokSbfL",
        "outputId": "ff0e6668-5b6e-48b3-d6d6-97c071975aa8"
      },
      "source": [
        "new_stock = new_listing(today)\n",
        "new_stock"
      ],
      "execution_count": 108,
      "outputs": [
        {
          "output_type": "execute_result",
          "data": {
            "text/html": [
              "<div>\n",
              "<style scoped>\n",
              "    .dataframe tbody tr th:only-of-type {\n",
              "        vertical-align: middle;\n",
              "    }\n",
              "\n",
              "    .dataframe tbody tr th {\n",
              "        vertical-align: top;\n",
              "    }\n",
              "\n",
              "    .dataframe thead th {\n",
              "        text-align: right;\n",
              "    }\n",
              "</style>\n",
              "<table border=\"1\" class=\"dataframe\">\n",
              "  <thead>\n",
              "    <tr style=\"text-align: right;\">\n",
              "      <th></th>\n",
              "      <th>회사명</th>\n",
              "      <th>상장일</th>\n",
              "      <th>상장유형</th>\n",
              "    </tr>\n",
              "  </thead>\n",
              "  <tbody>\n",
              "    <tr>\n",
              "      <th>0</th>\n",
              "      <td>실리콘투</td>\n",
              "      <td>2021-09-29</td>\n",
              "      <td>신규상장</td>\n",
              "    </tr>\n",
              "    <tr>\n",
              "      <th>1</th>\n",
              "      <td>에스앤디</td>\n",
              "      <td>2021-09-29</td>\n",
              "      <td>이전상장</td>\n",
              "    </tr>\n",
              "  </tbody>\n",
              "</table>\n",
              "</div>"
            ],
            "text/plain": [
              "    회사명         상장일  상장유형\n",
              "0  실리콘투  2021-09-29  신규상장\n",
              "1  에스앤디  2021-09-29  이전상장"
            ]
          },
          "metadata": {},
          "execution_count": 108
        }
      ]
    },
    {
      "cell_type": "code",
      "metadata": {
        "colab": {
          "base_uri": "https://localhost:8080/"
        },
        "id": "EXjW7x_CsJM0",
        "outputId": "6ffd2b95-b20a-4444-e9f5-e13537e84597"
      },
      "source": [
        "new = KRX_search_fullcode(new_stock.iloc[1,0])\n",
        "new.loc[0,'codeName']== new_stock.iloc[1,0]"
      ],
      "execution_count": 122,
      "outputs": [
        {
          "output_type": "execute_result",
          "data": {
            "text/plain": [
              "True"
            ]
          },
          "metadata": {},
          "execution_count": 122
        }
      ]
    },
    {
      "cell_type": "code",
      "metadata": {
        "colab": {
          "base_uri": "https://localhost:8080/"
        },
        "id": "wMK2L4FX26jC",
        "outputId": "44b6d0b6-9bdf-4082-8d06-3948e5d09127"
      },
      "source": [
        "# 신규상장 full_code krx에서 가져오기\n",
        "if new_stock.shape[0] > 0:              #신규 상장이 1개라도 있으면\n",
        "  for i in range(new_stock.shape[0]):    \n",
        "    new_fullcode = KRX_search_fullcode(new_stock.iloc[i,0])\n",
        "    print(new_fullcode)"
      ],
      "execution_count": 132,
      "outputs": [
        {
          "output_type": "stream",
          "name": "stdout",
          "text": [
            "      full_code short_code codeName marketEngName\n",
            "0  KR7257720003     257720     실리콘투        KOSDAQ\n",
            "      full_code short_code codeName marketEngName\n",
            "0  KR7260970009     260970     에스앤디        KOSDAQ\n",
            "1  KR7317400000     317400   자이에스앤디         KOSPI\n"
          ]
        }
      ]
    }
  ]
}