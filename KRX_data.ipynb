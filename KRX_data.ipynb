{
  "nbformat": 4,
  "nbformat_minor": 0,
  "metadata": {
    "colab": {
      "name": "Untitled5.ipynb",
      "provenance": [],
      "collapsed_sections": [],
      "mount_file_id": "1zbml9fJrn_JAL1CIvYwuPmYg4NfnlA1x",
      "authorship_tag": "ABX9TyO3iH2vrTmlhJ+84b/MyITM",
      "include_colab_link": true
    },
    "kernelspec": {
      "name": "python3",
      "display_name": "Python 3"
    },
    "language_info": {
      "name": "python"
    }
  },
  "cells": [
    {
      "cell_type": "markdown",
      "metadata": {
        "id": "view-in-github",
        "colab_type": "text"
      },
      "source": [
        "<a href=\"https://colab.research.google.com/github/baeksumin/k-project/blob/main/KRX_data.ipynb\" target=\"_parent\"><img src=\"https://colab.research.google.com/assets/colab-badge.svg\" alt=\"Open In Colab\"/></a>"
      ]
    },
    {
      "cell_type": "code",
      "metadata": {
        "id": "0vmf9qBMgFP-"
      },
      "source": [
        "import pickle\n",
        "import json\n",
        "import requests\n",
        "import pandas as pd\n",
        "from io import BytesIO\n",
        "import pytz\n",
        "from datetime import datetime, date, timedelta"
      ],
      "execution_count": 1,
      "outputs": []
    },
    {
      "cell_type": "code",
      "metadata": {
        "colab": {
          "base_uri": "https://localhost:8080/"
        },
        "id": "nOs_TImnUJzq",
        "outputId": "8a89a89a-2d7c-4308-f835-62e7c8eaac54"
      },
      "source": [
        "from google.colab import drive\n",
        "drive.mount('/content/drive')"
      ],
      "execution_count": null,
      "outputs": [
        {
          "output_type": "stream",
          "name": "stdout",
          "text": [
            "Drive already mounted at /content/drive; to attempt to forcibly remount, call drive.mount(\"/content/drive\", force_remount=True).\n"
          ]
        }
      ]
    },
    {
      "cell_type": "code",
      "metadata": {
        "colab": {
          "base_uri": "https://localhost:8080/",
          "height": 424
        },
        "id": "B3TlWUGsl0nG",
        "outputId": "13844530-b1be-431b-f427-3f594ab5419b"
      },
      "source": [
        "with open('/content/drive/MyDrive/[Shared]K-Project/full_code.pkl',\"rb\") as f:  # k-프로젝트 공유드라이브로 연결.\n",
        "    full_code = pickle.load(f)\n",
        "full_code"
      ],
      "execution_count": 2,
      "outputs": [
        {
          "output_type": "execute_result",
          "data": {
            "text/html": [
              "<div>\n",
              "<style scoped>\n",
              "    .dataframe tbody tr th:only-of-type {\n",
              "        vertical-align: middle;\n",
              "    }\n",
              "\n",
              "    .dataframe tbody tr th {\n",
              "        vertical-align: top;\n",
              "    }\n",
              "\n",
              "    .dataframe thead th {\n",
              "        text-align: right;\n",
              "    }\n",
              "</style>\n",
              "<table border=\"1\" class=\"dataframe\">\n",
              "  <thead>\n",
              "    <tr style=\"text-align: right;\">\n",
              "      <th></th>\n",
              "      <th>full_code</th>\n",
              "      <th>short_code</th>\n",
              "      <th>codeName</th>\n",
              "      <th>marketEngName</th>\n",
              "      <th>status</th>\n",
              "    </tr>\n",
              "  </thead>\n",
              "  <tbody>\n",
              "    <tr>\n",
              "      <th>0</th>\n",
              "      <td>KR7060310000</td>\n",
              "      <td>060310</td>\n",
              "      <td>3S</td>\n",
              "      <td>KOSDAQ</td>\n",
              "      <td>상장</td>\n",
              "    </tr>\n",
              "    <tr>\n",
              "      <th>1</th>\n",
              "      <td>KR7095570008</td>\n",
              "      <td>095570</td>\n",
              "      <td>AJ네트웍스</td>\n",
              "      <td>KOSPI</td>\n",
              "      <td>상장</td>\n",
              "    </tr>\n",
              "    <tr>\n",
              "      <th>2</th>\n",
              "      <td>KR7006840003</td>\n",
              "      <td>006840</td>\n",
              "      <td>AK홀딩스</td>\n",
              "      <td>KOSPI</td>\n",
              "      <td>상장</td>\n",
              "    </tr>\n",
              "    <tr>\n",
              "      <th>3</th>\n",
              "      <td>KR7054620000</td>\n",
              "      <td>054620</td>\n",
              "      <td>APS홀딩스</td>\n",
              "      <td>KOSDAQ</td>\n",
              "      <td>상장</td>\n",
              "    </tr>\n",
              "    <tr>\n",
              "      <th>4</th>\n",
              "      <td>KR7265520007</td>\n",
              "      <td>265520</td>\n",
              "      <td>AP시스템</td>\n",
              "      <td>KOSDAQ</td>\n",
              "      <td>상장</td>\n",
              "    </tr>\n",
              "    <tr>\n",
              "      <th>...</th>\n",
              "      <td>...</td>\n",
              "      <td>...</td>\n",
              "      <td>...</td>\n",
              "      <td>...</td>\n",
              "      <td>...</td>\n",
              "    </tr>\n",
              "    <tr>\n",
              "      <th>2580</th>\n",
              "      <td>KR7000542001</td>\n",
              "      <td>000547</td>\n",
              "      <td>흥국화재2우B</td>\n",
              "      <td>KOSPI</td>\n",
              "      <td>상장</td>\n",
              "    </tr>\n",
              "    <tr>\n",
              "      <th>2581</th>\n",
              "      <td>KR7000541003</td>\n",
              "      <td>000545</td>\n",
              "      <td>흥국화재우</td>\n",
              "      <td>KOSPI</td>\n",
              "      <td>상장</td>\n",
              "    </tr>\n",
              "    <tr>\n",
              "      <th>2582</th>\n",
              "      <td>KR7003280005</td>\n",
              "      <td>003280</td>\n",
              "      <td>흥아해운</td>\n",
              "      <td>KOSPI</td>\n",
              "      <td>상장</td>\n",
              "    </tr>\n",
              "    <tr>\n",
              "      <th>2583</th>\n",
              "      <td>KR7037440005</td>\n",
              "      <td>037440</td>\n",
              "      <td>희림</td>\n",
              "      <td>KOSDAQ</td>\n",
              "      <td>상장</td>\n",
              "    </tr>\n",
              "    <tr>\n",
              "      <th>2584</th>\n",
              "      <td>KR7238490007</td>\n",
              "      <td>238490</td>\n",
              "      <td>힘스</td>\n",
              "      <td>KOSDAQ</td>\n",
              "      <td>상장</td>\n",
              "    </tr>\n",
              "  </tbody>\n",
              "</table>\n",
              "<p>2585 rows × 5 columns</p>\n",
              "</div>"
            ],
            "text/plain": [
              "         full_code short_code codeName marketEngName status\n",
              "0     KR7060310000     060310       3S        KOSDAQ     상장\n",
              "1     KR7095570008     095570   AJ네트웍스         KOSPI     상장\n",
              "2     KR7006840003     006840    AK홀딩스         KOSPI     상장\n",
              "3     KR7054620000     054620   APS홀딩스        KOSDAQ     상장\n",
              "4     KR7265520007     265520    AP시스템        KOSDAQ     상장\n",
              "...            ...        ...      ...           ...    ...\n",
              "2580  KR7000542001     000547  흥국화재2우B         KOSPI     상장\n",
              "2581  KR7000541003     000545    흥국화재우         KOSPI     상장\n",
              "2582  KR7003280005     003280     흥아해운         KOSPI     상장\n",
              "2583  KR7037440005     037440       희림        KOSDAQ     상장\n",
              "2584  KR7238490007     238490       힘스        KOSDAQ     상장\n",
              "\n",
              "[2585 rows x 5 columns]"
            ]
          },
          "metadata": {},
          "execution_count": 2
        }
      ]
    },
    {
      "cell_type": "code",
      "metadata": {
        "id": "62ZXwuvcJF3U"
      },
      "source": [
        "def today_date():   #오늘, 어제 날짜 구하기.\n",
        "  tz = pytz.timezone('Asia/Seoul')  #한국시간 맞추기.\n",
        "  raw_dates = datetime.now(tz)\n",
        "  yesterday_raw = raw_dates - timedelta(1) \n",
        "  yesterday =  yesterday_raw.strftime(\"%Y%m%d\")  # 어제 날짜 문자열로 변환\n",
        "  today = raw_dates.strftime(\"%Y%m%d\")  # 오늘 날짜 문자열로 변환\n",
        "  return yesterday, today\n",
        "\n",
        "\n",
        "\n",
        "\n",
        "def stock_delisting (today):     #  상장 폐지 종목 불러오기 (KRX_상장폐지종목현황_화면번호(20037))\n",
        "\n",
        "  headers = {'User-Agent': 'Chrome/93.0.4577.82 Safari/537.36,'}  \n",
        "\n",
        "  url = \"http://data.krx.co.kr/comm/bldAttendant/getJsonData.cmd\"\n",
        "\n",
        "  data = {'bld': 'dbms/MDC/STAT/issue/MDCSTAT23801',\n",
        "        'mktId': 'ALL',\n",
        "        'tboxisuCd_finder_listdelisu0_0':'전체',\n",
        "        'isuCd': 'ALL',\n",
        "        'isuCd2': 'ALL',\n",
        "        'codeNmisuCd_finder_listdelisu0_1':'',\n",
        "        'param1isuCd_finder_listdelisu0_1':'',\n",
        "        'strtDd': today,\n",
        "        'endDd': today, \n",
        "        'share': '1', \n",
        "        'csvxls_isNo': 'true',}\n",
        "\n",
        "  r = requests.post(url,data,headers=headers)\n",
        "  j = json.loads(r.text)\n",
        "\n",
        "  df = pd.json_normalize(j['output'])\n",
        "  return df[['ISU_CD','ISU_NM','MKT_NM','DELIST_DD','DELIST_RSN_DSC']] #종목코드, 종목명, 시장구분,증권구분, 폐지일, 폐지사유 열만 추출\n",
        " \n",
        "\n",
        "\n",
        "\n",
        "\n",
        "def issues_for_administration():  # 관리종목 현황 종목 (krx화면번호_ 20012)\n",
        "  headers = {'User-Agent': 'Chrome/93.0.4577.82 Safari/537.36,'} \n",
        "\n",
        "  data ={'bld': 'dbms/MDC/STAT/issue/MDCSTAT21401',\n",
        "        'mktId': 'ALL',\n",
        "        'csvxls_isNo': 'true',}\n",
        "\n",
        "  url = 'http://data.krx.co.kr/comm/bldAttendant/getJsonData.cmd'\n",
        "\n",
        "  r = requests.post(url,data,headers=headers)\n",
        "  j = json.loads(r.text)\n",
        "\n",
        "  df = pd.json_normalize(j['output'])\n",
        "  \n",
        "  return df[['ISU_CD','ISU_NM','MKT_NM','FST_DESIGN_DD','LIST_BZ_RSN_NM']] #종목코드,종목명, 시장구분, 최초지정일, 지정사유 열만 추출.\n",
        "\n",
        "\n",
        "\n",
        "def KRX_search_fullcode(new_code):   # 신규상장  full_code krx에서 가져오기.\n",
        "  headers = {'User-Agent': 'Chrome/93.0.4577.82 Safari/537.36,'}  \n",
        "\n",
        "  data = {'mktsel': 'ALL',\n",
        "        'typeNo': '0',\n",
        "        'searchText': new_code,\n",
        "        'bld': 'dbms/comm/finder/finder_stkisu',}\n",
        "\n",
        "  url = \"http://data.krx.co.kr/comm/bldAttendant/getJsonData.cmd\"\n",
        "\n",
        "  r = requests.post(url,data,headers=headers)\n",
        "  j = json.loads(r.text)\n",
        "\n",
        "  df = pd.json_normalize(j['block1'])\n",
        "  return df[['full_code','short_code','codeName','marketEngName']]\n",
        "\n",
        "\n",
        "\n",
        "def get_fullcode(df,short_code) :     # 구축된 데이터프레임에서 종목코드로 full_code 찾기\n",
        "  df= df.set_index('short_code') #종목코드 index 설정\n",
        "  full_code = df.loc[short_code]['full_code']\n",
        "  return full_code\n",
        "\n",
        "\n",
        "\n",
        "# 신규상장기업현황 ( https://kind.krx.co.kr/listinvstg/listingcompany.do?method=searchListingTypeMain) 가져오기.\n",
        "def new_listing(today): \n",
        "\n",
        "  headers = {'User-Agent': 'Chrome/93.0.4577.82 Safari/537.36,'} \n",
        "\n",
        "  data = {'method': 'searchListingTypeSub',\n",
        "        'currentPageSize': '15',\n",
        "        'pageIndex': '1',\n",
        "        'orderMode': '1',\n",
        "        'orderStat': 'D',\n",
        "        'repIsuSrtCd': '',\n",
        "        'isurCd': '',\n",
        "        'forward': 'listingtype_sub',\n",
        "        'listTypeArrStr': '01|02|03|04|05|',\n",
        "        'choicTypeArrStr':'' ,\n",
        "        'searchCodeType': '',\n",
        "        'searchCorpName': '',\n",
        "        'secuGrpArrStr': '0|ST|FS|MF|SC|RT|DR|',\n",
        "        'marketType': '',\n",
        "        'searchCorpNameTmp':'' ,\n",
        "        'country': '410',\n",
        "        'industry': '',\n",
        "        'repMajAgntDesignAdvserComp': '',\n",
        "        'repMajAgntComp': '',\n",
        "        'designAdvserComp': '',\n",
        "        'secuGrpArr': '0',\n",
        "        'secuGrpArr': 'ST|FS',\n",
        "        'secuGrpArr': 'MF|SC|RT',\n",
        "        'secuGrpArr': 'DR',\n",
        "        'listTypeArr': '01',\n",
        "        'listTypeArr': '02',\n",
        "        'listTypeArr': '03',\n",
        "        'listTypeArr': '04',\n",
        "        'listTypeArr': '05',\n",
        "        'fromDate': today,\n",
        "        'toDate': today,}\n",
        "\n",
        "  url = \"https://kind.krx.co.kr/listinvstg/listingcompany.do\"\n",
        "\n",
        "  r = requests.post(url,data,headers=headers)\n",
        "  f = BytesIO(r.content)\n",
        "  dfs = pd.read_html(f, encoding='UTF8' )\n",
        "  df = dfs[0].copy()\n",
        "  df = df.iloc[:,[0,1,2]]\n",
        "\n",
        "  df =df.rename(columns = {'Unnamed: 0':'회사명','Unnamed: 1':'상장일','Unnamed: 2':'상장유형'})\n",
        "  return df\n",
        "\n"
      ],
      "execution_count": 9,
      "outputs": []
    },
    {
      "cell_type": "code",
      "metadata": {
        "colab": {
          "base_uri": "https://localhost:8080/"
        },
        "id": "A-CLeSQEDyEa",
        "outputId": "89fd62de-9a6f-45ef-fe9e-4689dfcce465"
      },
      "source": [
        "yesterday, today = today_date() #어제, 오늘 날짜 구하기.\n",
        "print(yesterday, today)"
      ],
      "execution_count": 4,
      "outputs": [
        {
          "output_type": "stream",
          "name": "stdout",
          "text": [
            "20210930 20211001\n"
          ]
        }
      ]
    },
    {
      "cell_type": "code",
      "metadata": {
        "colab": {
          "base_uri": "https://localhost:8080/",
          "height": 81
        },
        "id": "Pb45V_SxD8Kd",
        "outputId": "f67a003c-ea71-46f3-f5d9-94c6d70af2c0"
      },
      "source": [
        "delisting = stock_delisting(today) #오늘 상장 폐지된 종목.\n",
        "delisting"
      ],
      "execution_count": 11,
      "outputs": [
        {
          "output_type": "execute_result",
          "data": {
            "text/html": [
              "<div>\n",
              "<style scoped>\n",
              "    .dataframe tbody tr th:only-of-type {\n",
              "        vertical-align: middle;\n",
              "    }\n",
              "\n",
              "    .dataframe tbody tr th {\n",
              "        vertical-align: top;\n",
              "    }\n",
              "\n",
              "    .dataframe thead th {\n",
              "        text-align: right;\n",
              "    }\n",
              "</style>\n",
              "<table border=\"1\" class=\"dataframe\">\n",
              "  <thead>\n",
              "    <tr style=\"text-align: right;\">\n",
              "      <th></th>\n",
              "      <th>ISU_CD</th>\n",
              "      <th>ISU_NM</th>\n",
              "      <th>MKT_NM</th>\n",
              "      <th>DELIST_DD</th>\n",
              "      <th>DELIST_RSN_DSC</th>\n",
              "    </tr>\n",
              "  </thead>\n",
              "  <tbody>\n",
              "    <tr>\n",
              "      <th>0</th>\n",
              "      <td>2177301B</td>\n",
              "      <td>강스템바이오텍 23R</td>\n",
              "      <td>KOSDAQ</td>\n",
              "      <td>2021/10/01</td>\n",
              "      <td></td>\n",
              "    </tr>\n",
              "  </tbody>\n",
              "</table>\n",
              "</div>"
            ],
            "text/plain": [
              "     ISU_CD       ISU_NM  MKT_NM   DELIST_DD DELIST_RSN_DSC\n",
              "0  2177301B  강스템바이오텍 23R  KOSDAQ  2021/10/01               "
            ]
          },
          "metadata": {},
          "execution_count": 11
        }
      ]
    },
    {
      "cell_type": "code",
      "metadata": {
        "colab": {
          "base_uri": "https://localhost:8080/",
          "height": 50
        },
        "id": "dZqxTuoVFmhP",
        "outputId": "3e458ed7-8282-4541-d2c2-a58e6079e88e"
      },
      "source": [
        "full_code[full_code.codeName == delisting.iloc[0,1]]  "
      ],
      "execution_count": 16,
      "outputs": [
        {
          "output_type": "execute_result",
          "data": {
            "text/html": [
              "<div>\n",
              "<style scoped>\n",
              "    .dataframe tbody tr th:only-of-type {\n",
              "        vertical-align: middle;\n",
              "    }\n",
              "\n",
              "    .dataframe tbody tr th {\n",
              "        vertical-align: top;\n",
              "    }\n",
              "\n",
              "    .dataframe thead th {\n",
              "        text-align: right;\n",
              "    }\n",
              "</style>\n",
              "<table border=\"1\" class=\"dataframe\">\n",
              "  <thead>\n",
              "    <tr style=\"text-align: right;\">\n",
              "      <th></th>\n",
              "      <th>full_code</th>\n",
              "      <th>short_code</th>\n",
              "      <th>codeName</th>\n",
              "      <th>marketEngName</th>\n",
              "      <th>status</th>\n",
              "    </tr>\n",
              "  </thead>\n",
              "  <tbody>\n",
              "  </tbody>\n",
              "</table>\n",
              "</div>"
            ],
            "text/plain": [
              "Empty DataFrame\n",
              "Columns: [full_code, short_code, codeName, marketEngName, status]\n",
              "Index: []"
            ]
          },
          "metadata": {},
          "execution_count": 16
        }
      ]
    },
    {
      "cell_type": "code",
      "metadata": {
        "id": "cdGk0eR4OJ-3"
      },
      "source": [
        " #상장폐지 항목 상장폐지 상태로 변경하기.\n",
        "def change_delisting(full_code_df, delisting_df): \n",
        "  len_short_code = len(delisting.iloc[0,0])\n",
        "  if (len_short_code == 6) :  #종목코드 숫자가 6개일때만 (수익증권 같은 상장폐지항목은 저장된 df에 없기 때문에)\n",
        "    index = df[df.codeName == delisting.iloc[0,1]].index\n",
        "    df.iloc[index,4] = '상장폐지' \n",
        "  return full_code_df"
      ],
      "execution_count": 22,
      "outputs": []
    },
    {
      "cell_type": "code",
      "metadata": {
        "id": "q-WOQLwos1FI"
      },
      "source": [
        " #종목코드 6개일때만 상장폐지 항목 변경되었는지 확인하기 위해 full_code 복사본 생성\n",
        "full_code_copy = full_code.copy() "
      ],
      "execution_count": 18,
      "outputs": []
    },
    {
      "cell_type": "code",
      "metadata": {
        "colab": {
          "base_uri": "https://localhost:8080/",
          "height": 424
        },
        "id": "qWV9B-Qos6Pf",
        "outputId": "7e951923-71c6-49b9-e771-f1f381681327"
      },
      "source": [
        "change_delisting(full_code_copy, delisting)"
      ],
      "execution_count": 23,
      "outputs": [
        {
          "output_type": "execute_result",
          "data": {
            "text/html": [
              "<div>\n",
              "<style scoped>\n",
              "    .dataframe tbody tr th:only-of-type {\n",
              "        vertical-align: middle;\n",
              "    }\n",
              "\n",
              "    .dataframe tbody tr th {\n",
              "        vertical-align: top;\n",
              "    }\n",
              "\n",
              "    .dataframe thead th {\n",
              "        text-align: right;\n",
              "    }\n",
              "</style>\n",
              "<table border=\"1\" class=\"dataframe\">\n",
              "  <thead>\n",
              "    <tr style=\"text-align: right;\">\n",
              "      <th></th>\n",
              "      <th>full_code</th>\n",
              "      <th>short_code</th>\n",
              "      <th>codeName</th>\n",
              "      <th>marketEngName</th>\n",
              "      <th>status</th>\n",
              "    </tr>\n",
              "  </thead>\n",
              "  <tbody>\n",
              "    <tr>\n",
              "      <th>0</th>\n",
              "      <td>KR7060310000</td>\n",
              "      <td>060310</td>\n",
              "      <td>3S</td>\n",
              "      <td>KOSDAQ</td>\n",
              "      <td>상장</td>\n",
              "    </tr>\n",
              "    <tr>\n",
              "      <th>1</th>\n",
              "      <td>KR7095570008</td>\n",
              "      <td>095570</td>\n",
              "      <td>AJ네트웍스</td>\n",
              "      <td>KOSPI</td>\n",
              "      <td>상장</td>\n",
              "    </tr>\n",
              "    <tr>\n",
              "      <th>2</th>\n",
              "      <td>KR7006840003</td>\n",
              "      <td>006840</td>\n",
              "      <td>AK홀딩스</td>\n",
              "      <td>KOSPI</td>\n",
              "      <td>상장</td>\n",
              "    </tr>\n",
              "    <tr>\n",
              "      <th>3</th>\n",
              "      <td>KR7054620000</td>\n",
              "      <td>054620</td>\n",
              "      <td>APS홀딩스</td>\n",
              "      <td>KOSDAQ</td>\n",
              "      <td>상장</td>\n",
              "    </tr>\n",
              "    <tr>\n",
              "      <th>4</th>\n",
              "      <td>KR7265520007</td>\n",
              "      <td>265520</td>\n",
              "      <td>AP시스템</td>\n",
              "      <td>KOSDAQ</td>\n",
              "      <td>상장</td>\n",
              "    </tr>\n",
              "    <tr>\n",
              "      <th>...</th>\n",
              "      <td>...</td>\n",
              "      <td>...</td>\n",
              "      <td>...</td>\n",
              "      <td>...</td>\n",
              "      <td>...</td>\n",
              "    </tr>\n",
              "    <tr>\n",
              "      <th>2580</th>\n",
              "      <td>KR7000542001</td>\n",
              "      <td>000547</td>\n",
              "      <td>흥국화재2우B</td>\n",
              "      <td>KOSPI</td>\n",
              "      <td>상장</td>\n",
              "    </tr>\n",
              "    <tr>\n",
              "      <th>2581</th>\n",
              "      <td>KR7000541003</td>\n",
              "      <td>000545</td>\n",
              "      <td>흥국화재우</td>\n",
              "      <td>KOSPI</td>\n",
              "      <td>상장</td>\n",
              "    </tr>\n",
              "    <tr>\n",
              "      <th>2582</th>\n",
              "      <td>KR7003280005</td>\n",
              "      <td>003280</td>\n",
              "      <td>흥아해운</td>\n",
              "      <td>KOSPI</td>\n",
              "      <td>상장</td>\n",
              "    </tr>\n",
              "    <tr>\n",
              "      <th>2583</th>\n",
              "      <td>KR7037440005</td>\n",
              "      <td>037440</td>\n",
              "      <td>희림</td>\n",
              "      <td>KOSDAQ</td>\n",
              "      <td>상장</td>\n",
              "    </tr>\n",
              "    <tr>\n",
              "      <th>2584</th>\n",
              "      <td>KR7238490007</td>\n",
              "      <td>238490</td>\n",
              "      <td>힘스</td>\n",
              "      <td>KOSDAQ</td>\n",
              "      <td>상장</td>\n",
              "    </tr>\n",
              "  </tbody>\n",
              "</table>\n",
              "<p>2585 rows × 5 columns</p>\n",
              "</div>"
            ],
            "text/plain": [
              "         full_code short_code codeName marketEngName status\n",
              "0     KR7060310000     060310       3S        KOSDAQ     상장\n",
              "1     KR7095570008     095570   AJ네트웍스         KOSPI     상장\n",
              "2     KR7006840003     006840    AK홀딩스         KOSPI     상장\n",
              "3     KR7054620000     054620   APS홀딩스        KOSDAQ     상장\n",
              "4     KR7265520007     265520    AP시스템        KOSDAQ     상장\n",
              "...            ...        ...      ...           ...    ...\n",
              "2580  KR7000542001     000547  흥국화재2우B         KOSPI     상장\n",
              "2581  KR7000541003     000545    흥국화재우         KOSPI     상장\n",
              "2582  KR7003280005     003280     흥아해운         KOSPI     상장\n",
              "2583  KR7037440005     037440       희림        KOSDAQ     상장\n",
              "2584  KR7238490007     238490       힘스        KOSDAQ     상장\n",
              "\n",
              "[2585 rows x 5 columns]"
            ]
          },
          "metadata": {},
          "execution_count": 23
        }
      ]
    },
    {
      "cell_type": "code",
      "metadata": {
        "colab": {
          "base_uri": "https://localhost:8080/",
          "height": 424
        },
        "id": "9N6XvYFitGHf",
        "outputId": "b87c869e-2d2c-4118-eef7-ddfc4a3d990d"
      },
      "source": [
        "full_code_copy == full_code"
      ],
      "execution_count": 24,
      "outputs": [
        {
          "output_type": "execute_result",
          "data": {
            "text/html": [
              "<div>\n",
              "<style scoped>\n",
              "    .dataframe tbody tr th:only-of-type {\n",
              "        vertical-align: middle;\n",
              "    }\n",
              "\n",
              "    .dataframe tbody tr th {\n",
              "        vertical-align: top;\n",
              "    }\n",
              "\n",
              "    .dataframe thead th {\n",
              "        text-align: right;\n",
              "    }\n",
              "</style>\n",
              "<table border=\"1\" class=\"dataframe\">\n",
              "  <thead>\n",
              "    <tr style=\"text-align: right;\">\n",
              "      <th></th>\n",
              "      <th>full_code</th>\n",
              "      <th>short_code</th>\n",
              "      <th>codeName</th>\n",
              "      <th>marketEngName</th>\n",
              "      <th>status</th>\n",
              "    </tr>\n",
              "  </thead>\n",
              "  <tbody>\n",
              "    <tr>\n",
              "      <th>0</th>\n",
              "      <td>True</td>\n",
              "      <td>True</td>\n",
              "      <td>True</td>\n",
              "      <td>True</td>\n",
              "      <td>True</td>\n",
              "    </tr>\n",
              "    <tr>\n",
              "      <th>1</th>\n",
              "      <td>True</td>\n",
              "      <td>True</td>\n",
              "      <td>True</td>\n",
              "      <td>True</td>\n",
              "      <td>True</td>\n",
              "    </tr>\n",
              "    <tr>\n",
              "      <th>2</th>\n",
              "      <td>True</td>\n",
              "      <td>True</td>\n",
              "      <td>True</td>\n",
              "      <td>True</td>\n",
              "      <td>True</td>\n",
              "    </tr>\n",
              "    <tr>\n",
              "      <th>3</th>\n",
              "      <td>True</td>\n",
              "      <td>True</td>\n",
              "      <td>True</td>\n",
              "      <td>True</td>\n",
              "      <td>True</td>\n",
              "    </tr>\n",
              "    <tr>\n",
              "      <th>4</th>\n",
              "      <td>True</td>\n",
              "      <td>True</td>\n",
              "      <td>True</td>\n",
              "      <td>True</td>\n",
              "      <td>True</td>\n",
              "    </tr>\n",
              "    <tr>\n",
              "      <th>...</th>\n",
              "      <td>...</td>\n",
              "      <td>...</td>\n",
              "      <td>...</td>\n",
              "      <td>...</td>\n",
              "      <td>...</td>\n",
              "    </tr>\n",
              "    <tr>\n",
              "      <th>2580</th>\n",
              "      <td>True</td>\n",
              "      <td>True</td>\n",
              "      <td>True</td>\n",
              "      <td>True</td>\n",
              "      <td>True</td>\n",
              "    </tr>\n",
              "    <tr>\n",
              "      <th>2581</th>\n",
              "      <td>True</td>\n",
              "      <td>True</td>\n",
              "      <td>True</td>\n",
              "      <td>True</td>\n",
              "      <td>True</td>\n",
              "    </tr>\n",
              "    <tr>\n",
              "      <th>2582</th>\n",
              "      <td>True</td>\n",
              "      <td>True</td>\n",
              "      <td>True</td>\n",
              "      <td>True</td>\n",
              "      <td>True</td>\n",
              "    </tr>\n",
              "    <tr>\n",
              "      <th>2583</th>\n",
              "      <td>True</td>\n",
              "      <td>True</td>\n",
              "      <td>True</td>\n",
              "      <td>True</td>\n",
              "      <td>True</td>\n",
              "    </tr>\n",
              "    <tr>\n",
              "      <th>2584</th>\n",
              "      <td>True</td>\n",
              "      <td>True</td>\n",
              "      <td>True</td>\n",
              "      <td>True</td>\n",
              "      <td>True</td>\n",
              "    </tr>\n",
              "  </tbody>\n",
              "</table>\n",
              "<p>2585 rows × 5 columns</p>\n",
              "</div>"
            ],
            "text/plain": [
              "      full_code  short_code  codeName  marketEngName  status\n",
              "0          True        True      True           True    True\n",
              "1          True        True      True           True    True\n",
              "2          True        True      True           True    True\n",
              "3          True        True      True           True    True\n",
              "4          True        True      True           True    True\n",
              "...         ...         ...       ...            ...     ...\n",
              "2580       True        True      True           True    True\n",
              "2581       True        True      True           True    True\n",
              "2582       True        True      True           True    True\n",
              "2583       True        True      True           True    True\n",
              "2584       True        True      True           True    True\n",
              "\n",
              "[2585 rows x 5 columns]"
            ]
          },
          "metadata": {},
          "execution_count": 24
        }
      ]
    },
    {
      "cell_type": "code",
      "metadata": {
        "colab": {
          "base_uri": "https://localhost:8080/"
        },
        "id": "TozunN9ft683",
        "outputId": "87394c12-66d7-477b-d81b-97a0c8912677"
      },
      "source": [
        "a = full_code_copy == full_code\n",
        "a.sum()   #모든 열 합계 2585로 완전 일치하는거 확인."
      ],
      "execution_count": 25,
      "outputs": [
        {
          "output_type": "execute_result",
          "data": {
            "text/plain": [
              "full_code        2585\n",
              "short_code       2585\n",
              "codeName         2585\n",
              "marketEngName    2585\n",
              "status           2585\n",
              "dtype: int64"
            ]
          },
          "metadata": {},
          "execution_count": 25
        }
      ]
    },
    {
      "cell_type": "code",
      "metadata": {
        "colab": {
          "base_uri": "https://localhost:8080/",
          "height": 424
        },
        "id": "W3lUGdVUEU5f",
        "outputId": "f183e518-01f9-42dc-a373-e247fbba5af9"
      },
      "source": [
        "issues_for_administration() #관리종목 검색."
      ],
      "execution_count": 26,
      "outputs": [
        {
          "output_type": "execute_result",
          "data": {
            "text/html": [
              "<div>\n",
              "<style scoped>\n",
              "    .dataframe tbody tr th:only-of-type {\n",
              "        vertical-align: middle;\n",
              "    }\n",
              "\n",
              "    .dataframe tbody tr th {\n",
              "        vertical-align: top;\n",
              "    }\n",
              "\n",
              "    .dataframe thead th {\n",
              "        text-align: right;\n",
              "    }\n",
              "</style>\n",
              "<table border=\"1\" class=\"dataframe\">\n",
              "  <thead>\n",
              "    <tr style=\"text-align: right;\">\n",
              "      <th></th>\n",
              "      <th>ISU_CD</th>\n",
              "      <th>ISU_NM</th>\n",
              "      <th>MKT_NM</th>\n",
              "      <th>FST_DESIGN_DD</th>\n",
              "      <th>LIST_BZ_RSN_NM</th>\n",
              "    </tr>\n",
              "  </thead>\n",
              "  <tbody>\n",
              "    <tr>\n",
              "      <th>0</th>\n",
              "      <td>131100</td>\n",
              "      <td>스카이이앤엠</td>\n",
              "      <td>KOSDAQ</td>\n",
              "      <td>2021/09/23</td>\n",
              "      <td>최근3사업연도중 2사업연도 자기자본 50%초과 법인세비용차감전계속사업손실 발생</td>\n",
              "    </tr>\n",
              "    <tr>\n",
              "      <th>1</th>\n",
              "      <td>317030</td>\n",
              "      <td>케이비17호스팩</td>\n",
              "      <td>KOSDAQ</td>\n",
              "      <td>2021/09/23</td>\n",
              "      <td>SPAC 상장예비심사청구서 미제출 등</td>\n",
              "    </tr>\n",
              "    <tr>\n",
              "      <th>2</th>\n",
              "      <td>148140</td>\n",
              "      <td>비디아이</td>\n",
              "      <td>KOSDAQ</td>\n",
              "      <td>2021/08/18</td>\n",
              "      <td>반기검토(감사)의견 부적정, 의견거절 또는 범위제한 한정</td>\n",
              "    </tr>\n",
              "    <tr>\n",
              "      <th>3</th>\n",
              "      <td>221610</td>\n",
              "      <td>자안바이오</td>\n",
              "      <td>KOSDAQ</td>\n",
              "      <td>2021/08/18</td>\n",
              "      <td>자기자본 10억원 미만,상장폐지사유 발생,자본잠식률 50% 이상,반기검토(감사)의견...</td>\n",
              "    </tr>\n",
              "    <tr>\n",
              "      <th>4</th>\n",
              "      <td>078650</td>\n",
              "      <td>지나인제약</td>\n",
              "      <td>KOSDAQ</td>\n",
              "      <td>2021/08/18</td>\n",
              "      <td>반기검토(감사)의견 부적정, 의견거절 또는 범위제한 한정,자본잠식률 50% 이상</td>\n",
              "    </tr>\n",
              "    <tr>\n",
              "      <th>...</th>\n",
              "      <td>...</td>\n",
              "      <td>...</td>\n",
              "      <td>...</td>\n",
              "      <td>...</td>\n",
              "      <td>...</td>\n",
              "    </tr>\n",
              "    <tr>\n",
              "      <th>108</th>\n",
              "      <td>079190</td>\n",
              "      <td>EMW</td>\n",
              "      <td>KOSDAQ</td>\n",
              "      <td>2018/10/17</td>\n",
              "      <td>상장적격성 실질심사 대상 결정</td>\n",
              "    </tr>\n",
              "    <tr>\n",
              "      <th>109</th>\n",
              "      <td>065150</td>\n",
              "      <td>엠피대산</td>\n",
              "      <td>KOSDAQ</td>\n",
              "      <td>2018/08/16</td>\n",
              "      <td>최근 4사업연도 연속 영업손실 발생</td>\n",
              "    </tr>\n",
              "    <tr>\n",
              "      <th>110</th>\n",
              "      <td>050320</td>\n",
              "      <td>아래스</td>\n",
              "      <td>KOSDAQ</td>\n",
              "      <td>2017/03/23</td>\n",
              "      <td>상장폐지사유 발생,반기검토(감사)의견 부적정, 의견거절 또는 범위제한 한정,최근 4...</td>\n",
              "    </tr>\n",
              "    <tr>\n",
              "      <th>111</th>\n",
              "      <td>115530</td>\n",
              "      <td>씨엔플러스</td>\n",
              "      <td>KOSDAQ</td>\n",
              "      <td>2017/03/16</td>\n",
              "      <td>상장적격성 실질심사 대상 결정,사업보고서 미제출,상장폐지사유 발생</td>\n",
              "    </tr>\n",
              "    <tr>\n",
              "      <th>112</th>\n",
              "      <td>101680</td>\n",
              "      <td>한국정밀기계</td>\n",
              "      <td>KOSDAQ</td>\n",
              "      <td>2017/03/16</td>\n",
              "      <td>최근 4사업연도 연속 영업손실 발생,상장적격성 실질심사 대상 결정</td>\n",
              "    </tr>\n",
              "  </tbody>\n",
              "</table>\n",
              "<p>113 rows × 5 columns</p>\n",
              "</div>"
            ],
            "text/plain": [
              "     ISU_CD  ...                                     LIST_BZ_RSN_NM\n",
              "0    131100  ...        최근3사업연도중 2사업연도 자기자본 50%초과 법인세비용차감전계속사업손실 발생\n",
              "1    317030  ...                               SPAC 상장예비심사청구서 미제출 등\n",
              "2    148140  ...                    반기검토(감사)의견 부적정, 의견거절 또는 범위제한 한정\n",
              "3    221610  ...  자기자본 10억원 미만,상장폐지사유 발생,자본잠식률 50% 이상,반기검토(감사)의견...\n",
              "4    078650  ...       반기검토(감사)의견 부적정, 의견거절 또는 범위제한 한정,자본잠식률 50% 이상\n",
              "..      ...  ...                                                ...\n",
              "108  079190  ...                                   상장적격성 실질심사 대상 결정\n",
              "109  065150  ...                                최근 4사업연도 연속 영업손실 발생\n",
              "110  050320  ...  상장폐지사유 발생,반기검토(감사)의견 부적정, 의견거절 또는 범위제한 한정,최근 4...\n",
              "111  115530  ...               상장적격성 실질심사 대상 결정,사업보고서 미제출,상장폐지사유 발생\n",
              "112  101680  ...               최근 4사업연도 연속 영업손실 발생,상장적격성 실질심사 대상 결정\n",
              "\n",
              "[113 rows x 5 columns]"
            ]
          },
          "metadata": {},
          "execution_count": 26
        }
      ]
    },
    {
      "cell_type": "code",
      "metadata": {
        "colab": {
          "base_uri": "https://localhost:8080/",
          "height": 81
        },
        "id": "kC9N-4ccTrDr",
        "outputId": "f7862c12-a354-4f12-940d-1954e41394bc"
      },
      "source": [
        "new_listing = new_listing(today) #오늘은 새로 상장된 주식이 없음.\n",
        "new_listing"
      ],
      "execution_count": 27,
      "outputs": [
        {
          "output_type": "execute_result",
          "data": {
            "text/html": [
              "<div>\n",
              "<style scoped>\n",
              "    .dataframe tbody tr th:only-of-type {\n",
              "        vertical-align: middle;\n",
              "    }\n",
              "\n",
              "    .dataframe tbody tr th {\n",
              "        vertical-align: top;\n",
              "    }\n",
              "\n",
              "    .dataframe thead th {\n",
              "        text-align: right;\n",
              "    }\n",
              "</style>\n",
              "<table border=\"1\" class=\"dataframe\">\n",
              "  <thead>\n",
              "    <tr style=\"text-align: right;\">\n",
              "      <th></th>\n",
              "      <th>회사명</th>\n",
              "      <th>상장일</th>\n",
              "      <th>상장유형</th>\n",
              "    </tr>\n",
              "  </thead>\n",
              "  <tbody>\n",
              "    <tr>\n",
              "      <th>0</th>\n",
              "      <td>조회된 결과값이 없습니다.</td>\n",
              "      <td>조회된 결과값이 없습니다.</td>\n",
              "      <td>조회된 결과값이 없습니다.</td>\n",
              "    </tr>\n",
              "  </tbody>\n",
              "</table>\n",
              "</div>"
            ],
            "text/plain": [
              "              회사명             상장일            상장유형\n",
              "0  조회된 결과값이 없습니다.  조회된 결과값이 없습니다.  조회된 결과값이 없습니다."
            ]
          },
          "metadata": {},
          "execution_count": 27
        }
      ]
    },
    {
      "cell_type": "code",
      "metadata": {
        "colab": {
          "base_uri": "https://localhost:8080/"
        },
        "id": "5PLsfcU-HsfQ",
        "outputId": "1b5049cd-3b9c-46c1-d07a-aef632fd49f4"
      },
      "source": [
        "new_listing.iloc[0,0] == '조회된 결과값이 없습니다.'"
      ],
      "execution_count": 28,
      "outputs": [
        {
          "output_type": "execute_result",
          "data": {
            "text/plain": [
              "True"
            ]
          },
          "metadata": {},
          "execution_count": 28
        }
      ]
    },
    {
      "cell_type": "code",
      "metadata": {
        "id": "4HXBlj1dwKX9"
      },
      "source": [
        "def change_new_listing (df):  #새로 상장된 주식 full_code에 추가하기\n",
        "  result =  new_listing.iloc[0,0] != '조회된 결과값이 없습니다.'   \n",
        "  if (result):  #신규 상장이 있으면.\n",
        "    \n",
        "  return df"
      ],
      "execution_count": null,
      "outputs": []
    },
    {
      "cell_type": "code",
      "metadata": {
        "id": "PbCtvxCTDXR9"
      },
      "source": [
        "#공유 드라이브에 데이터 저장.\n",
        "with open('/content/drive/MyDrive/[Shared]K-Project/full_code.pkl', 'wb') as f:\n",
        "\tpickle.dump(full_code, f)"
      ],
      "execution_count": 31,
      "outputs": []
    }
  ]
}