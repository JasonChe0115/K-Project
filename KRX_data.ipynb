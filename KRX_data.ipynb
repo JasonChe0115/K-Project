{
  "nbformat": 4,
  "nbformat_minor": 0,
  "metadata": {
    "colab": {
      "name": "Untitled5.ipynb",
      "provenance": [],
      "collapsed_sections": [],
      "mount_file_id": "1zbml9fJrn_JAL1CIvYwuPmYg4NfnlA1x",
      "authorship_tag": "ABX9TyM0eaBB2mxBfIQDzKSTA4Ux",
      "include_colab_link": true
    },
    "kernelspec": {
      "name": "python3",
      "display_name": "Python 3"
    },
    "language_info": {
      "name": "python"
    }
  },
  "cells": [
    {
      "cell_type": "markdown",
      "metadata": {
        "id": "view-in-github",
        "colab_type": "text"
      },
      "source": [
        "<a href=\"https://colab.research.google.com/github/baeksumin/k-project/blob/main/KRX_data.ipynb\" target=\"_parent\"><img src=\"https://colab.research.google.com/assets/colab-badge.svg\" alt=\"Open In Colab\"/></a>"
      ]
    },
    {
      "cell_type": "code",
      "metadata": {
        "id": "0vmf9qBMgFP-"
      },
      "source": [
        "import pickle\n",
        "import json\n",
        "import requests\n",
        "import pandas as pd\n",
        "from io import BytesIO\n",
        "import pytz\n",
        "from datetime import datetime, date, timedelta"
      ],
      "execution_count": 1,
      "outputs": []
    },
    {
      "cell_type": "code",
      "metadata": {
        "colab": {
          "base_uri": "https://localhost:8080/"
        },
        "id": "nOs_TImnUJzq",
        "outputId": "9262f3fa-78a7-4351-8386-22dc6fcee270"
      },
      "source": [
        "from google.colab import drive\n",
        "drive.mount('/content/drive')"
      ],
      "execution_count": 2,
      "outputs": [
        {
          "output_type": "stream",
          "name": "stdout",
          "text": [
            "Drive already mounted at /content/drive; to attempt to forcibly remount, call drive.mount(\"/content/drive\", force_remount=True).\n"
          ]
        }
      ]
    },
    {
      "cell_type": "code",
      "metadata": {
        "colab": {
          "base_uri": "https://localhost:8080/",
          "height": 424
        },
        "id": "B3TlWUGsl0nG",
        "outputId": "58cd2db7-e702-4893-898b-f32404b2bb25"
      },
      "source": [
        "with open(\"/content/drive/MyDrive/full_code.pkl\",\"rb\") as f:  \n",
        "    full_code = pickle.load(f)\n",
        "full_code"
      ],
      "execution_count": 3,
      "outputs": [
        {
          "output_type": "execute_result",
          "data": {
            "text/html": [
              "<div>\n",
              "<style scoped>\n",
              "    .dataframe tbody tr th:only-of-type {\n",
              "        vertical-align: middle;\n",
              "    }\n",
              "\n",
              "    .dataframe tbody tr th {\n",
              "        vertical-align: top;\n",
              "    }\n",
              "\n",
              "    .dataframe thead th {\n",
              "        text-align: right;\n",
              "    }\n",
              "</style>\n",
              "<table border=\"1\" class=\"dataframe\">\n",
              "  <thead>\n",
              "    <tr style=\"text-align: right;\">\n",
              "      <th></th>\n",
              "      <th>full_code</th>\n",
              "      <th>short_code</th>\n",
              "      <th>codeName</th>\n",
              "      <th>marketEngName</th>\n",
              "      <th>status</th>\n",
              "    </tr>\n",
              "  </thead>\n",
              "  <tbody>\n",
              "    <tr>\n",
              "      <th>0</th>\n",
              "      <td>KR7060310000</td>\n",
              "      <td>060310</td>\n",
              "      <td>3S</td>\n",
              "      <td>KOSDAQ</td>\n",
              "      <td>상장</td>\n",
              "    </tr>\n",
              "    <tr>\n",
              "      <th>1</th>\n",
              "      <td>KR7095570008</td>\n",
              "      <td>095570</td>\n",
              "      <td>AJ네트웍스</td>\n",
              "      <td>KOSPI</td>\n",
              "      <td>상장</td>\n",
              "    </tr>\n",
              "    <tr>\n",
              "      <th>2</th>\n",
              "      <td>KR7006840003</td>\n",
              "      <td>006840</td>\n",
              "      <td>AK홀딩스</td>\n",
              "      <td>KOSPI</td>\n",
              "      <td>상장</td>\n",
              "    </tr>\n",
              "    <tr>\n",
              "      <th>3</th>\n",
              "      <td>KR7054620000</td>\n",
              "      <td>054620</td>\n",
              "      <td>APS홀딩스</td>\n",
              "      <td>KOSDAQ</td>\n",
              "      <td>상장</td>\n",
              "    </tr>\n",
              "    <tr>\n",
              "      <th>4</th>\n",
              "      <td>KR7265520007</td>\n",
              "      <td>265520</td>\n",
              "      <td>AP시스템</td>\n",
              "      <td>KOSDAQ</td>\n",
              "      <td>상장</td>\n",
              "    </tr>\n",
              "    <tr>\n",
              "      <th>...</th>\n",
              "      <td>...</td>\n",
              "      <td>...</td>\n",
              "      <td>...</td>\n",
              "      <td>...</td>\n",
              "      <td>...</td>\n",
              "    </tr>\n",
              "    <tr>\n",
              "      <th>2580</th>\n",
              "      <td>KR7000542001</td>\n",
              "      <td>000547</td>\n",
              "      <td>흥국화재2우B</td>\n",
              "      <td>KOSPI</td>\n",
              "      <td>상장</td>\n",
              "    </tr>\n",
              "    <tr>\n",
              "      <th>2581</th>\n",
              "      <td>KR7000541003</td>\n",
              "      <td>000545</td>\n",
              "      <td>흥국화재우</td>\n",
              "      <td>KOSPI</td>\n",
              "      <td>상장</td>\n",
              "    </tr>\n",
              "    <tr>\n",
              "      <th>2582</th>\n",
              "      <td>KR7003280005</td>\n",
              "      <td>003280</td>\n",
              "      <td>흥아해운</td>\n",
              "      <td>KOSPI</td>\n",
              "      <td>상장</td>\n",
              "    </tr>\n",
              "    <tr>\n",
              "      <th>2583</th>\n",
              "      <td>KR7037440005</td>\n",
              "      <td>037440</td>\n",
              "      <td>희림</td>\n",
              "      <td>KOSDAQ</td>\n",
              "      <td>상장</td>\n",
              "    </tr>\n",
              "    <tr>\n",
              "      <th>2584</th>\n",
              "      <td>KR7238490007</td>\n",
              "      <td>238490</td>\n",
              "      <td>힘스</td>\n",
              "      <td>KOSDAQ</td>\n",
              "      <td>상장</td>\n",
              "    </tr>\n",
              "  </tbody>\n",
              "</table>\n",
              "<p>2585 rows × 5 columns</p>\n",
              "</div>"
            ],
            "text/plain": [
              "         full_code short_code codeName marketEngName status\n",
              "0     KR7060310000     060310       3S        KOSDAQ     상장\n",
              "1     KR7095570008     095570   AJ네트웍스         KOSPI     상장\n",
              "2     KR7006840003     006840    AK홀딩스         KOSPI     상장\n",
              "3     KR7054620000     054620   APS홀딩스        KOSDAQ     상장\n",
              "4     KR7265520007     265520    AP시스템        KOSDAQ     상장\n",
              "...            ...        ...      ...           ...    ...\n",
              "2580  KR7000542001     000547  흥국화재2우B         KOSPI     상장\n",
              "2581  KR7000541003     000545    흥국화재우         KOSPI     상장\n",
              "2582  KR7003280005     003280     흥아해운         KOSPI     상장\n",
              "2583  KR7037440005     037440       희림        KOSDAQ     상장\n",
              "2584  KR7238490007     238490       힘스        KOSDAQ     상장\n",
              "\n",
              "[2585 rows x 5 columns]"
            ]
          },
          "metadata": {},
          "execution_count": 3
        }
      ]
    },
    {
      "cell_type": "code",
      "metadata": {
        "id": "62ZXwuvcJF3U"
      },
      "source": [
        "def today_date():   #오늘, 어제 날짜 구하기.\n",
        "  tz = pytz.timezone('Asia/Seoul')  #한국시간 맞추기.\n",
        "  raw_dates = datetime.now(tz)\n",
        "  yesterday_raw = raw_dates - timedelta(1) \n",
        "  yesterday =  yesterday_raw.strftime(\"%Y%m%d\")  # 어제 날짜 문자열로 변환\n",
        "  today = raw_dates.strftime(\"%Y%m%d\")  # 오늘 날짜 문자열로 변환\n",
        "  return yesterday, today\n",
        "\n",
        "\n",
        "\n",
        "\n",
        "def stock_delisting (today):     #  상장 폐지 종목 불러오기 (KRX_상장폐지종목현황_화면번호(20037))\n",
        "\n",
        "  headers = {'User-Agent': 'Chrome/93.0.4577.82 Safari/537.36,'}  \n",
        "\n",
        "  url = \"http://data.krx.co.kr/comm/bldAttendant/getJsonData.cmd\"\n",
        "\n",
        "  data = {'bld': 'dbms/MDC/STAT/issue/MDCSTAT23801',\n",
        "        'mktId': 'ALL',\n",
        "        'tboxisuCd_finder_listdelisu0_0':'전체',\n",
        "        'isuCd': 'ALL',\n",
        "        'isuCd2': 'ALL',\n",
        "        'codeNmisuCd_finder_listdelisu0_1':'',\n",
        "        'param1isuCd_finder_listdelisu0_1':'',\n",
        "        'strtDd': today,\n",
        "        'endDd': today, \n",
        "        'share': '1', \n",
        "        'csvxls_isNo': 'true',}\n",
        "\n",
        "  r = requests.post(url,data,headers=headers)\n",
        "  j = json.loads(r.text)\n",
        "\n",
        "  df = pd.json_normalize(j['output'])\n",
        "  return df[['ISU_CD','ISU_NM','MKT_NM','DELIST_DD','DELIST_RSN_DSC']] #종목코드, 종목명, 시장구분, 폐지일, 폐지사유 열만 추출\n",
        "\n",
        "\n",
        "\n",
        "\n",
        "def issues_for_administration():  # 관리종목 현황 종목 (krx화면번호_ 20012)\n",
        "  headers = {'User-Agent': 'Chrome/93.0.4577.82 Safari/537.36,'} \n",
        "\n",
        "  data ={'bld': 'dbms/MDC/STAT/issue/MDCSTAT21401',\n",
        "        'mktId': 'ALL',\n",
        "        'csvxls_isNo': 'true',}\n",
        "\n",
        "  url = 'http://data.krx.co.kr/comm/bldAttendant/getJsonData.cmd'\n",
        "\n",
        "  r = requests.post(url,data,headers=headers)\n",
        "  j = json.loads(r.text)\n",
        "\n",
        "  df = pd.json_normalize(j['output'])\n",
        "  \n",
        "  return df[['ISU_CD','ISU_NM','MKT_NM','FST_DESIGN_DD','LIST_BZ_RSN_NM']] #종목코드,종목명, 시장구분, 최초지정일, 지정사유 열만 추출.\n",
        "\n",
        "\n",
        "\n",
        "def KRX_search_fullcode(new_code):   # 신규상장  full_code krx에서 가져오기.\n",
        "  headers = {'User-Agent': 'Chrome/93.0.4577.82 Safari/537.36,'}  \n",
        "\n",
        "  data = {'mktsel': 'ALL',\n",
        "        'typeNo': '0',\n",
        "        'searchText': new_code,\n",
        "        'bld': 'dbms/comm/finder/finder_stkisu',}\n",
        "\n",
        "  url = \"http://data.krx.co.kr/comm/bldAttendant/getJsonData.cmd\"\n",
        "\n",
        "  r = requests.post(url,data,headers=headers)\n",
        "  j = json.loads(r.text)\n",
        "\n",
        "  df = pd.json_normalize(j['block1'])\n",
        "  return df[['full_code','short_code','codeName','marketEngName']]\n",
        "\n",
        "\n",
        "\n",
        "def get_fullcode(df,short_code) :     # 구축된 데이터프레임에서 full_code 찾기\n",
        "  df= df.set_index('short_code') #short code index 설정\n",
        "  full_code = df.loc[short_code]['full_code']\n",
        "  return full_code\n",
        "\n",
        "\n",
        "\n",
        "# 신규상장기업현황 ( https://kind.krx.co.kr/listinvstg/listingcompany.do?method=searchListingTypeMain) 가져오기.\n",
        "def new_listing(today): \n",
        "\n",
        "  headers = {'User-Agent': 'Chrome/93.0.4577.82 Safari/537.36,'} \n",
        "\n",
        "  data = {'method': 'searchListingTypeSub',\n",
        "        'currentPageSize': '15',\n",
        "        'pageIndex': '1',\n",
        "        'orderMode': '1',\n",
        "        'orderStat': 'D',\n",
        "        'repIsuSrtCd': '',\n",
        "        'isurCd': '',\n",
        "        'forward': 'listingtype_sub',\n",
        "        'listTypeArrStr': '01|02|03|04|05|',\n",
        "        'choicTypeArrStr':'' ,\n",
        "        'searchCodeType': '',\n",
        "        'searchCorpName': '',\n",
        "        'secuGrpArrStr': '0|ST|FS|MF|SC|RT|DR|',\n",
        "        'marketType': '',\n",
        "        'searchCorpNameTmp':'' ,\n",
        "        'country': '410',\n",
        "        'industry': '',\n",
        "        'repMajAgntDesignAdvserComp': '',\n",
        "        'repMajAgntComp': '',\n",
        "        'designAdvserComp': '',\n",
        "        'secuGrpArr': '0',\n",
        "        'secuGrpArr': 'ST|FS',\n",
        "        'secuGrpArr': 'MF|SC|RT',\n",
        "        'secuGrpArr': 'DR',\n",
        "        'listTypeArr': '01',\n",
        "        'listTypeArr': '02',\n",
        "        'listTypeArr': '03',\n",
        "        'listTypeArr': '04',\n",
        "        'listTypeArr': '05',\n",
        "        'fromDate': today,\n",
        "        'toDate': today,}\n",
        "\n",
        "  url = \"https://kind.krx.co.kr/listinvstg/listingcompany.do\"\n",
        "\n",
        "  r = requests.post(url,data,headers=headers)\n",
        "  f = BytesIO(r.content)\n",
        "  dfs = pd.read_html(f, encoding='UTF8' )\n",
        "  df = dfs[0].copy()\n",
        "  df = df.iloc[:,[0,1,2]]\n",
        "\n",
        "  df =df.rename(columns = {'Unnamed: 0':'회사명','Unnamed: 1':'상장일','Unnamed: 2':'상장유형'})\n",
        "  return df\n",
        "\n",
        "\n",
        "\n",
        "\n",
        "\n"
      ],
      "execution_count": 27,
      "outputs": []
    },
    {
      "cell_type": "code",
      "metadata": {
        "colab": {
          "base_uri": "https://localhost:8080/"
        },
        "id": "A-CLeSQEDyEa",
        "outputId": "672d2cf5-5cc7-47da-b1f8-1ceea9082322"
      },
      "source": [
        "yesterday, today = today_date() #어제, 오늘 날짜 구하기.\n",
        "print(yesterday, today)"
      ],
      "execution_count": 6,
      "outputs": [
        {
          "output_type": "stream",
          "name": "stdout",
          "text": [
            "20210929 20210930\n"
          ]
        }
      ]
    },
    {
      "cell_type": "code",
      "metadata": {
        "colab": {
          "base_uri": "https://localhost:8080/",
          "height": 81
        },
        "id": "Pb45V_SxD8Kd",
        "outputId": "97d71a55-3744-4211-86a4-e3c40b21b099"
      },
      "source": [
        "delisting = stock_delisting(today) #오늘 상장 폐지된 종목.\n",
        "delisting"
      ],
      "execution_count": 28,
      "outputs": [
        {
          "output_type": "execute_result",
          "data": {
            "text/html": [
              "<div>\n",
              "<style scoped>\n",
              "    .dataframe tbody tr th:only-of-type {\n",
              "        vertical-align: middle;\n",
              "    }\n",
              "\n",
              "    .dataframe tbody tr th {\n",
              "        vertical-align: top;\n",
              "    }\n",
              "\n",
              "    .dataframe thead th {\n",
              "        text-align: right;\n",
              "    }\n",
              "</style>\n",
              "<table border=\"1\" class=\"dataframe\">\n",
              "  <thead>\n",
              "    <tr style=\"text-align: right;\">\n",
              "      <th></th>\n",
              "      <th>ISU_CD</th>\n",
              "      <th>ISU_NM</th>\n",
              "      <th>MKT_NM</th>\n",
              "      <th>DELIST_DD</th>\n",
              "      <th>DELIST_RSN_DSC</th>\n",
              "    </tr>\n",
              "  </thead>\n",
              "  <tbody>\n",
              "    <tr>\n",
              "      <th>0</th>\n",
              "      <td>111820</td>\n",
              "      <td>지유온</td>\n",
              "      <td>KOSDAQ</td>\n",
              "      <td>2021/09/30</td>\n",
              "      <td>기업의 계속성 및 경영의 투명성 등을 종합적으로 고려하여 상장폐지기준에 해당한다고 결정</td>\n",
              "    </tr>\n",
              "  </tbody>\n",
              "</table>\n",
              "</div>"
            ],
            "text/plain": [
              "   ISU_CD ISU_NM  ...   DELIST_DD                                    DELIST_RSN_DSC\n",
              "0  111820    지유온  ...  2021/09/30  기업의 계속성 및 경영의 투명성 등을 종합적으로 고려하여 상장폐지기준에 해당한다고 결정\n",
              "\n",
              "[1 rows x 5 columns]"
            ]
          },
          "metadata": {},
          "execution_count": 28
        }
      ]
    },
    {
      "cell_type": "code",
      "metadata": {
        "id": "8FtUnTB7KSiN"
      },
      "source": [
        "full_code_copy = full_code.copy()  "
      ],
      "execution_count": 44,
      "outputs": []
    },
    {
      "cell_type": "code",
      "metadata": {
        "colab": {
          "base_uri": "https://localhost:8080/",
          "height": 81
        },
        "id": "dZqxTuoVFmhP",
        "outputId": "b6b7dd7a-7773-4861-aad0-42b2a64bab5a"
      },
      "source": [
        "full_code_copy[full_code_copy.codeName == delisting.iloc[0,1]]  #df에서 상장폐지 항목 찾기."
      ],
      "execution_count": 45,
      "outputs": [
        {
          "output_type": "execute_result",
          "data": {
            "text/html": [
              "<div>\n",
              "<style scoped>\n",
              "    .dataframe tbody tr th:only-of-type {\n",
              "        vertical-align: middle;\n",
              "    }\n",
              "\n",
              "    .dataframe tbody tr th {\n",
              "        vertical-align: top;\n",
              "    }\n",
              "\n",
              "    .dataframe thead th {\n",
              "        text-align: right;\n",
              "    }\n",
              "</style>\n",
              "<table border=\"1\" class=\"dataframe\">\n",
              "  <thead>\n",
              "    <tr style=\"text-align: right;\">\n",
              "      <th></th>\n",
              "      <th>full_code</th>\n",
              "      <th>short_code</th>\n",
              "      <th>codeName</th>\n",
              "      <th>marketEngName</th>\n",
              "      <th>status</th>\n",
              "    </tr>\n",
              "  </thead>\n",
              "  <tbody>\n",
              "    <tr>\n",
              "      <th>1957</th>\n",
              "      <td>KR7111820007</td>\n",
              "      <td>111820</td>\n",
              "      <td>지유온</td>\n",
              "      <td>KOSDAQ</td>\n",
              "      <td>상장</td>\n",
              "    </tr>\n",
              "  </tbody>\n",
              "</table>\n",
              "</div>"
            ],
            "text/plain": [
              "         full_code short_code codeName marketEngName status\n",
              "1957  KR7111820007     111820      지유온        KOSDAQ     상장"
            ]
          },
          "metadata": {},
          "execution_count": 45
        }
      ]
    },
    {
      "cell_type": "code",
      "metadata": {
        "id": "cdGk0eR4OJ-3"
      },
      "source": [
        "def change_delisting(df, codeName):  #상장폐지 항목 상장폐지로 상태 변경하기.\n",
        "  index = df[df.codeName == delisting.iloc[0,1]].index\n",
        "  df.iloc[a,4] = '상장폐지'\n",
        "  return df"
      ],
      "execution_count": 57,
      "outputs": []
    },
    {
      "cell_type": "code",
      "metadata": {
        "colab": {
          "base_uri": "https://localhost:8080/",
          "height": 81
        },
        "id": "up1QYFnQSN5e",
        "outputId": "74a45c5f-6641-41bc-db50-40a64b03a26a"
      },
      "source": [
        "change_delisting(full_code_copy, delisting.iloc[0,1])  #상장폐지로 변경.\n",
        "full_code_copy[full_code_copy.codeName == delisting.iloc[0,1]]"
      ],
      "execution_count": 59,
      "outputs": [
        {
          "output_type": "execute_result",
          "data": {
            "text/html": [
              "<div>\n",
              "<style scoped>\n",
              "    .dataframe tbody tr th:only-of-type {\n",
              "        vertical-align: middle;\n",
              "    }\n",
              "\n",
              "    .dataframe tbody tr th {\n",
              "        vertical-align: top;\n",
              "    }\n",
              "\n",
              "    .dataframe thead th {\n",
              "        text-align: right;\n",
              "    }\n",
              "</style>\n",
              "<table border=\"1\" class=\"dataframe\">\n",
              "  <thead>\n",
              "    <tr style=\"text-align: right;\">\n",
              "      <th></th>\n",
              "      <th>full_code</th>\n",
              "      <th>short_code</th>\n",
              "      <th>codeName</th>\n",
              "      <th>marketEngName</th>\n",
              "      <th>status</th>\n",
              "    </tr>\n",
              "  </thead>\n",
              "  <tbody>\n",
              "    <tr>\n",
              "      <th>1957</th>\n",
              "      <td>KR7111820007</td>\n",
              "      <td>111820</td>\n",
              "      <td>지유온</td>\n",
              "      <td>KOSDAQ</td>\n",
              "      <td>상장폐지</td>\n",
              "    </tr>\n",
              "  </tbody>\n",
              "</table>\n",
              "</div>"
            ],
            "text/plain": [
              "         full_code short_code codeName marketEngName status\n",
              "1957  KR7111820007     111820      지유온        KOSDAQ   상장폐지"
            ]
          },
          "metadata": {},
          "execution_count": 59
        }
      ]
    },
    {
      "cell_type": "code",
      "metadata": {
        "colab": {
          "base_uri": "https://localhost:8080/",
          "height": 424
        },
        "id": "W3lUGdVUEU5f",
        "outputId": "a285fa2d-669d-4f44-f3f9-cb807e280887"
      },
      "source": [
        "issues_for_administration() #관리종목 검색."
      ],
      "execution_count": null,
      "outputs": [
        {
          "output_type": "execute_result",
          "data": {
            "text/html": [
              "<div>\n",
              "<style scoped>\n",
              "    .dataframe tbody tr th:only-of-type {\n",
              "        vertical-align: middle;\n",
              "    }\n",
              "\n",
              "    .dataframe tbody tr th {\n",
              "        vertical-align: top;\n",
              "    }\n",
              "\n",
              "    .dataframe thead th {\n",
              "        text-align: right;\n",
              "    }\n",
              "</style>\n",
              "<table border=\"1\" class=\"dataframe\">\n",
              "  <thead>\n",
              "    <tr style=\"text-align: right;\">\n",
              "      <th></th>\n",
              "      <th>ISU_CD</th>\n",
              "      <th>ISU_NM</th>\n",
              "      <th>MKT_NM</th>\n",
              "      <th>FST_DESIGN_DD</th>\n",
              "      <th>LIST_BZ_RSN_NM</th>\n",
              "    </tr>\n",
              "  </thead>\n",
              "  <tbody>\n",
              "    <tr>\n",
              "      <th>0</th>\n",
              "      <td>131100</td>\n",
              "      <td>스카이이앤엠</td>\n",
              "      <td>KOSDAQ</td>\n",
              "      <td>2021/09/23</td>\n",
              "      <td>최근3사업연도중 2사업연도 자기자본 50%초과 법인세비용차감전계속사업손실 발생</td>\n",
              "    </tr>\n",
              "    <tr>\n",
              "      <th>1</th>\n",
              "      <td>317030</td>\n",
              "      <td>케이비17호스팩</td>\n",
              "      <td>KOSDAQ</td>\n",
              "      <td>2021/09/23</td>\n",
              "      <td>SPAC 상장예비심사청구서 미제출 등</td>\n",
              "    </tr>\n",
              "    <tr>\n",
              "      <th>2</th>\n",
              "      <td>148140</td>\n",
              "      <td>비디아이</td>\n",
              "      <td>KOSDAQ</td>\n",
              "      <td>2021/08/18</td>\n",
              "      <td>반기검토(감사)의견 부적정, 의견거절 또는 범위제한 한정</td>\n",
              "    </tr>\n",
              "    <tr>\n",
              "      <th>3</th>\n",
              "      <td>221610</td>\n",
              "      <td>자안바이오</td>\n",
              "      <td>KOSDAQ</td>\n",
              "      <td>2021/08/18</td>\n",
              "      <td>자기자본 10억원 미만,상장폐지사유 발생,자본잠식률 50% 이상,반기검토(감사)의견...</td>\n",
              "    </tr>\n",
              "    <tr>\n",
              "      <th>4</th>\n",
              "      <td>078650</td>\n",
              "      <td>지나인제약</td>\n",
              "      <td>KOSDAQ</td>\n",
              "      <td>2021/08/18</td>\n",
              "      <td>반기검토(감사)의견 부적정, 의견거절 또는 범위제한 한정,자본잠식률 50% 이상</td>\n",
              "    </tr>\n",
              "    <tr>\n",
              "      <th>...</th>\n",
              "      <td>...</td>\n",
              "      <td>...</td>\n",
              "      <td>...</td>\n",
              "      <td>...</td>\n",
              "      <td>...</td>\n",
              "    </tr>\n",
              "    <tr>\n",
              "      <th>109</th>\n",
              "      <td>079190</td>\n",
              "      <td>EMW</td>\n",
              "      <td>KOSDAQ</td>\n",
              "      <td>2018/10/17</td>\n",
              "      <td>상장적격성 실질심사 대상 결정</td>\n",
              "    </tr>\n",
              "    <tr>\n",
              "      <th>110</th>\n",
              "      <td>065150</td>\n",
              "      <td>엠피대산</td>\n",
              "      <td>KOSDAQ</td>\n",
              "      <td>2018/08/16</td>\n",
              "      <td>최근 4사업연도 연속 영업손실 발생</td>\n",
              "    </tr>\n",
              "    <tr>\n",
              "      <th>111</th>\n",
              "      <td>050320</td>\n",
              "      <td>아래스</td>\n",
              "      <td>KOSDAQ</td>\n",
              "      <td>2017/03/23</td>\n",
              "      <td>상장폐지사유 발생,반기검토(감사)의견 부적정, 의견거절 또는 범위제한 한정,최근 4...</td>\n",
              "    </tr>\n",
              "    <tr>\n",
              "      <th>112</th>\n",
              "      <td>115530</td>\n",
              "      <td>씨엔플러스</td>\n",
              "      <td>KOSDAQ</td>\n",
              "      <td>2017/03/16</td>\n",
              "      <td>상장적격성 실질심사 대상 결정,사업보고서 미제출,상장폐지사유 발생</td>\n",
              "    </tr>\n",
              "    <tr>\n",
              "      <th>113</th>\n",
              "      <td>101680</td>\n",
              "      <td>한국정밀기계</td>\n",
              "      <td>KOSDAQ</td>\n",
              "      <td>2017/03/16</td>\n",
              "      <td>최근 4사업연도 연속 영업손실 발생,상장적격성 실질심사 대상 결정</td>\n",
              "    </tr>\n",
              "  </tbody>\n",
              "</table>\n",
              "<p>114 rows × 5 columns</p>\n",
              "</div>"
            ],
            "text/plain": [
              "     ISU_CD  ...                                     LIST_BZ_RSN_NM\n",
              "0    131100  ...        최근3사업연도중 2사업연도 자기자본 50%초과 법인세비용차감전계속사업손실 발생\n",
              "1    317030  ...                               SPAC 상장예비심사청구서 미제출 등\n",
              "2    148140  ...                    반기검토(감사)의견 부적정, 의견거절 또는 범위제한 한정\n",
              "3    221610  ...  자기자본 10억원 미만,상장폐지사유 발생,자본잠식률 50% 이상,반기검토(감사)의견...\n",
              "4    078650  ...       반기검토(감사)의견 부적정, 의견거절 또는 범위제한 한정,자본잠식률 50% 이상\n",
              "..      ...  ...                                                ...\n",
              "109  079190  ...                                   상장적격성 실질심사 대상 결정\n",
              "110  065150  ...                                최근 4사업연도 연속 영업손실 발생\n",
              "111  050320  ...  상장폐지사유 발생,반기검토(감사)의견 부적정, 의견거절 또는 범위제한 한정,최근 4...\n",
              "112  115530  ...               상장적격성 실질심사 대상 결정,사업보고서 미제출,상장폐지사유 발생\n",
              "113  101680  ...               최근 4사업연도 연속 영업손실 발생,상장적격성 실질심사 대상 결정\n",
              "\n",
              "[114 rows x 5 columns]"
            ]
          },
          "metadata": {},
          "execution_count": 37
        }
      ]
    },
    {
      "cell_type": "code",
      "metadata": {
        "colab": {
          "base_uri": "https://localhost:8080/",
          "height": 81
        },
        "id": "kC9N-4ccTrDr",
        "outputId": "6b52dd60-ab1f-4110-ba91-04838433bef8"
      },
      "source": [
        "new_listing(today) #오늘은 새로 상장된 주식이 없음."
      ],
      "execution_count": 60,
      "outputs": [
        {
          "output_type": "execute_result",
          "data": {
            "text/html": [
              "<div>\n",
              "<style scoped>\n",
              "    .dataframe tbody tr th:only-of-type {\n",
              "        vertical-align: middle;\n",
              "    }\n",
              "\n",
              "    .dataframe tbody tr th {\n",
              "        vertical-align: top;\n",
              "    }\n",
              "\n",
              "    .dataframe thead th {\n",
              "        text-align: right;\n",
              "    }\n",
              "</style>\n",
              "<table border=\"1\" class=\"dataframe\">\n",
              "  <thead>\n",
              "    <tr style=\"text-align: right;\">\n",
              "      <th></th>\n",
              "      <th>회사명</th>\n",
              "      <th>상장일</th>\n",
              "      <th>상장유형</th>\n",
              "    </tr>\n",
              "  </thead>\n",
              "  <tbody>\n",
              "    <tr>\n",
              "      <th>0</th>\n",
              "      <td>조회된 결과값이 없습니다.</td>\n",
              "      <td>조회된 결과값이 없습니다.</td>\n",
              "      <td>조회된 결과값이 없습니다.</td>\n",
              "    </tr>\n",
              "  </tbody>\n",
              "</table>\n",
              "</div>"
            ],
            "text/plain": [
              "              회사명             상장일            상장유형\n",
              "0  조회된 결과값이 없습니다.  조회된 결과값이 없습니다.  조회된 결과값이 없습니다."
            ]
          },
          "metadata": {},
          "execution_count": 60
        }
      ]
    }
  ]
}